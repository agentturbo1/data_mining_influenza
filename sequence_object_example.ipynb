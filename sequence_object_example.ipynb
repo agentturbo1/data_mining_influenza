{
 "cells": [
  {
   "cell_type": "code",
   "execution_count": 9,
   "metadata": {},
   "outputs": [],
   "source": [
    "import pickle\n",
    "import gzip\n",
    "import cProfile\n",
    "from FASTA_parse import sequence"
   ]
  },
  {
   "cell_type": "markdown",
   "metadata": {},
   "source": [
    "## Use pickle to unpickle the serialize sequence object"
   ]
  },
  {
   "cell_type": "code",
   "execution_count": 10,
   "metadata": {},
   "outputs": [],
   "source": [
    "with gzip.open('influenza.fna.pklz', 'rb') as fin:\n",
    "    fna = pickle.load(fin)"
   ]
  },
  {
   "cell_type": "markdown",
   "metadata": {},
   "source": [
    "## Get the data into a data frame"
   ]
  },
  {
   "cell_type": "code",
   "execution_count": 11,
   "metadata": {},
   "outputs": [],
   "source": [
    "fna_meta, fna_seq = fna.get_dataframe()"
   ]
  },
  {
   "cell_type": "code",
   "execution_count": 12,
   "metadata": {},
   "outputs": [
    {
     "data": {
      "text/html": [
       "<div>\n",
       "<style scoped>\n",
       "    .dataframe tbody tr th:only-of-type {\n",
       "        vertical-align: middle;\n",
       "    }\n",
       "\n",
       "    .dataframe tbody tr th {\n",
       "        vertical-align: top;\n",
       "    }\n",
       "\n",
       "    .dataframe thead th {\n",
       "        text-align: right;\n",
       "    }\n",
       "</style>\n",
       "<table border=\"1\" class=\"dataframe\">\n",
       "  <thead>\n",
       "    <tr style=\"text-align: right;\">\n",
       "      <th></th>\n",
       "      <th>Details</th>\n",
       "    </tr>\n",
       "  </thead>\n",
       "  <tbody>\n",
       "    <tr>\n",
       "      <th>58576</th>\n",
       "      <td>Influenza A virus (A/FPV/Rostock/34(H7N1)) gen...</td>\n",
       "    </tr>\n",
       "    <tr>\n",
       "      <th>59292</th>\n",
       "      <td>Influenza A virus (A/USSR/90/1977(H1N1)) genes...</td>\n",
       "    </tr>\n",
       "    <tr>\n",
       "      <th>59294</th>\n",
       "      <td>Influenza A virus (A/NIB/4/1988(H1N1)) gene fo...</td>\n",
       "    </tr>\n",
       "    <tr>\n",
       "      <th>59296</th>\n",
       "      <td>Influenza A virus (A/Chile/1/1983(H1N1)) gene ...</td>\n",
       "    </tr>\n",
       "    <tr>\n",
       "      <th>60457</th>\n",
       "      <td>Influenza A virus (A/WSN/33) ORF1 RNA for M1 p...</td>\n",
       "    </tr>\n",
       "  </tbody>\n",
       "</table>\n",
       "</div>"
      ],
      "text/plain": [
       "                                                 Details\n",
       "58576  Influenza A virus (A/FPV/Rostock/34(H7N1)) gen...\n",
       "59292  Influenza A virus (A/USSR/90/1977(H1N1)) genes...\n",
       "59294  Influenza A virus (A/NIB/4/1988(H1N1)) gene fo...\n",
       "59296  Influenza A virus (A/Chile/1/1983(H1N1)) gene ...\n",
       "60457  Influenza A virus (A/WSN/33) ORF1 RNA for M1 p..."
      ]
     },
     "execution_count": 12,
     "metadata": {},
     "output_type": "execute_result"
    }
   ],
   "source": [
    "fna_meta.head()"
   ]
  },
  {
   "cell_type": "code",
   "execution_count": 13,
   "metadata": {},
   "outputs": [
    {
     "data": {
      "text/html": [
       "<div>\n",
       "<style scoped>\n",
       "    .dataframe tbody tr th:only-of-type {\n",
       "        vertical-align: middle;\n",
       "    }\n",
       "\n",
       "    .dataframe tbody tr th {\n",
       "        vertical-align: top;\n",
       "    }\n",
       "\n",
       "    .dataframe thead th {\n",
       "        text-align: right;\n",
       "    }\n",
       "</style>\n",
       "<table border=\"1\" class=\"dataframe\">\n",
       "  <thead>\n",
       "    <tr style=\"text-align: right;\">\n",
       "      <th></th>\n",
       "      <th>Sequence</th>\n",
       "    </tr>\n",
       "  </thead>\n",
       "  <tbody>\n",
       "    <tr>\n",
       "      <th>58576</th>\n",
       "      <td>AGCAAAAGCAGGAGTTCAAAATGAATCCAAATCAGAAAATAATAAC...</td>\n",
       "    </tr>\n",
       "    <tr>\n",
       "      <th>59292</th>\n",
       "      <td>AGCAAAAGCAGGTAGATGTTGAAAGATGAGTCTTCTAACCGAGGTC...</td>\n",
       "    </tr>\n",
       "    <tr>\n",
       "      <th>59294</th>\n",
       "      <td>GGATCCTGTTATGTGCATTTACAGCTACAGATGCAGACACAATATG...</td>\n",
       "    </tr>\n",
       "    <tr>\n",
       "      <th>59296</th>\n",
       "      <td>ACACCAAATGGAACGAAAATCAGAACCCTAGAATGTTTTTGGCCAT...</td>\n",
       "    </tr>\n",
       "    <tr>\n",
       "      <th>60457</th>\n",
       "      <td>ATGAGTCTTCTAACCGAGGTCGAAACGTACGTTCTCTCTATCGTCC...</td>\n",
       "    </tr>\n",
       "  </tbody>\n",
       "</table>\n",
       "</div>"
      ],
      "text/plain": [
       "                                                Sequence\n",
       "58576  AGCAAAAGCAGGAGTTCAAAATGAATCCAAATCAGAAAATAATAAC...\n",
       "59292  AGCAAAAGCAGGTAGATGTTGAAAGATGAGTCTTCTAACCGAGGTC...\n",
       "59294  GGATCCTGTTATGTGCATTTACAGCTACAGATGCAGACACAATATG...\n",
       "59296  ACACCAAATGGAACGAAAATCAGAACCCTAGAATGTTTTTGGCCAT...\n",
       "60457  ATGAGTCTTCTAACCGAGGTCGAAACGTACGTTCTCTCTATCGTCC..."
      ]
     },
     "execution_count": 13,
     "metadata": {},
     "output_type": "execute_result"
    }
   ],
   "source": [
    "fna_seq.head()"
   ]
  },
  {
   "cell_type": "markdown",
   "metadata": {},
   "source": [
    "## Speed"
   ]
  },
  {
   "cell_type": "code",
   "execution_count": 14,
   "metadata": {},
   "outputs": [
    {
     "name": "stdout",
     "output_type": "stream",
     "text": [
      "         790693 function calls (755796 primitive calls) in 4.239 seconds\n",
      "\n",
      "   Ordered by: standard name\n",
      "\n",
      "   ncalls  tottime  percall  cumtime  percall filename:lineno(function)\n",
      "        1    0.000    0.000    3.989    3.989 <ipython-input-14-47ba2f1a6e1d>:1(test)\n",
      "        1    0.250    0.250    4.239    4.239 <string>:1(<module>)\n",
      "    67530    0.021    0.000    0.030    0.000 _compression.py:12(_check_not_closed)\n",
      "        1    0.000    0.000    0.000    0.000 _compression.py:150(tell)\n",
      "        1    0.000    0.000    0.000    0.000 _compression.py:36(readable)\n",
      "        1    0.000    0.000    0.000    0.000 _compression.py:39(__init__)\n",
      "        1    0.000    0.000    0.000    0.000 _compression.py:59(close)\n",
      "    34907    0.122    0.000    2.590    0.000 _compression.py:66(readinto)\n",
      "        1    0.000    0.000    0.000    0.000 gzip.py:123(__init__)\n",
      "        1    0.000    0.000    0.000    0.000 gzip.py:20(open)\n",
      "    33765    0.021    0.000    2.723    0.000 gzip.py:271(read)\n",
      "    33765    0.030    0.000    0.100    0.000 gzip.py:291(peek)\n",
      "    67532    0.010    0.000    0.010    0.000 gzip.py:298(closed)\n",
      "        1    0.000    0.000    0.000    0.000 gzip.py:302(close)\n",
      "        1    0.000    0.000    0.000    0.000 gzip.py:378(__init__)\n",
      "        1    0.000    0.000    0.000    0.000 gzip.py:385(_init_read)\n",
      "        1    0.000    0.000    0.000    0.000 gzip.py:389(_read_exact)\n",
      "        1    0.000    0.000    0.000    0.000 gzip.py:405(_read_gzip_header)\n",
      "    34907    0.094    0.000    2.446    0.000 gzip.py:438(read)\n",
      "    34907    0.028    0.000    0.940    0.000 gzip.py:489(_add_read_data)\n",
      "        1    0.000    0.000    0.000    0.000 gzip.py:74(__init__)\n",
      "    34928    0.071    0.000    0.207    0.000 gzip.py:80(read)\n",
      "    33354    0.029    0.000    0.034    0.000 gzip.py:93(prepend)\n",
      "        1    1.165    1.165    3.989    3.989 {built-in method _pickle.load}\n",
      "        1    0.000    0.000    0.000    0.000 {built-in method _struct.unpack}\n",
      "        1    0.000    0.000    4.239    4.239 {built-in method builtins.exec}\n",
      "        1    0.000    0.000    0.000    0.000 {built-in method builtins.isinstance}\n",
      "   207891    0.020    0.000    0.020    0.000 {built-in method builtins.len}\n",
      "        1    0.000    0.000    0.000    0.000 {built-in method io.open}\n",
      "        1    0.000    0.000    0.000    0.000 {built-in method nt.fspath}\n",
      "    34908    0.909    0.000    0.909    0.000 {built-in method zlib.crc32}\n",
      "        1    0.000    0.000    0.000    0.000 {built-in method zlib.decompressobj}\n",
      "        1    0.000    0.000    0.000    0.000 {function DecompressReader.close at 0x0000020377C1B0D0}\n",
      "    34907    0.012    0.000    0.012    0.000 {method 'cast' of 'memoryview' objects}\n",
      "        2    0.000    0.000    0.000    0.000 {method 'close' of '_io.BufferedReader' objects}\n",
      "    34907    1.168    0.000    1.168    0.000 {method 'decompress' of 'zlib.Decompress' objects}\n",
      "        1    0.000    0.000    0.000    0.000 {method 'disable' of '_lsprof.Profiler' objects}\n",
      "    33765    0.052    0.000    0.053    0.000 {method 'peek' of '_io.BufferedReader' objects}\n",
      "68693/33796    0.235    0.000    2.689    0.000 {method 'read' of '_io.BufferedReader' objects}\n",
      "        1    0.000    0.000    0.000    0.000 {method 'replace' of 'str' objects}\n",
      "        1    0.000    0.000    0.000    0.000 {method 'startswith' of 'str' objects}\n",
      "\n",
      "\n"
     ]
    }
   ],
   "source": [
    "def test():\n",
    "    with gzip.open('influenza.fna.pklz', 'rb') as fin:\n",
    "        fna = pickle.load(fin)\n",
    "\n",
    "cProfile.run('test()')"
   ]
  },
  {
   "cell_type": "code",
   "execution_count": 15,
   "metadata": {},
   "outputs": [
    {
     "name": "stdout",
     "output_type": "stream",
     "text": [
      "4.37 s ± 107 ms per loop (mean ± std. dev. of 7 runs, 1 loop each)\n"
     ]
    }
   ],
   "source": [
    "%%timeit\n",
    "test()"
   ]
  },
  {
   "cell_type": "markdown",
   "metadata": {},
   "source": [
    "Compressed versions are slower than uncompressed."
   ]
  },
  {
   "cell_type": "code",
   "execution_count": null,
   "metadata": {},
   "outputs": [],
   "source": []
  }
 ],
 "metadata": {
  "kernelspec": {
   "display_name": "Python 3",
   "language": "python",
   "name": "python3"
  },
  "language_info": {
   "codemirror_mode": {
    "name": "ipython",
    "version": 3
   },
   "file_extension": ".py",
   "mimetype": "text/x-python",
   "name": "python",
   "nbconvert_exporter": "python",
   "pygments_lexer": "ipython3",
   "version": "3.6.7"
  }
 },
 "nbformat": 4,
 "nbformat_minor": 2
}
