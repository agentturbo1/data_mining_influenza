{
 "cells": [
  {
   "cell_type": "code",
   "execution_count": 1,
   "metadata": {},
   "outputs": [],
   "source": [
    "import pickle\n",
    "import gzip\n",
    "import cProfile\n",
    "from FASTA_parse import sequence"
   ]
  },
  {
   "cell_type": "markdown",
   "metadata": {},
   "source": [
    "## Use pickle to unpickle the serialize sequence object"
   ]
  },
  {
   "cell_type": "code",
   "execution_count": 2,
   "metadata": {},
   "outputs": [],
   "source": [
    "with gzip.open('influenza.fna.pklz', 'rb') as fin:\n",
    "    fna = pickle.load(fin)"
   ]
  },
  {
   "cell_type": "markdown",
   "metadata": {},
   "source": [
    "## Get the data into a data frame"
   ]
  },
  {
   "cell_type": "code",
   "execution_count": 3,
   "metadata": {},
   "outputs": [],
   "source": [
    "fna_meta, fna_seq = fna.get_dataframe()"
   ]
  },
  {
   "cell_type": "code",
   "execution_count": 4,
   "metadata": {
    "scrolled": true
   },
   "outputs": [
    {
     "data": {
      "text/html": [
       "<div>\n",
       "<style scoped>\n",
       "    .dataframe tbody tr th:only-of-type {\n",
       "        vertical-align: middle;\n",
       "    }\n",
       "\n",
       "    .dataframe tbody tr th {\n",
       "        vertical-align: top;\n",
       "    }\n",
       "\n",
       "    .dataframe thead th {\n",
       "        text-align: right;\n",
       "    }\n",
       "</style>\n",
       "<table border=\"1\" class=\"dataframe\">\n",
       "  <thead>\n",
       "    <tr style=\"text-align: right;\">\n",
       "      <th></th>\n",
       "      <th>NCBI_1</th>\n",
       "      <th>Key_1</th>\n",
       "      <th>NCBI_2</th>\n",
       "      <th>Key_2</th>\n",
       "      <th>Details</th>\n",
       "    </tr>\n",
       "  </thead>\n",
       "  <tbody>\n",
       "    <tr>\n",
       "      <th>gi58576</th>\n",
       "      <td>gi</td>\n",
       "      <td>58576</td>\n",
       "      <td>gb</td>\n",
       "      <td>X52226</td>\n",
       "      <td>Influenza A virus (A/FPV/Rostock/34(H7N1)) gen...</td>\n",
       "    </tr>\n",
       "    <tr>\n",
       "      <th>gi59292</th>\n",
       "      <td>gi</td>\n",
       "      <td>59292</td>\n",
       "      <td>gb</td>\n",
       "      <td>X53029</td>\n",
       "      <td>Influenza A virus (A/USSR/90/1977(H1N1)) genes...</td>\n",
       "    </tr>\n",
       "    <tr>\n",
       "      <th>gi59294</th>\n",
       "      <td>gi</td>\n",
       "      <td>59294</td>\n",
       "      <td>gb</td>\n",
       "      <td>X59778</td>\n",
       "      <td>Influenza A virus (A/NIB/4/1988(H1N1)) gene fo...</td>\n",
       "    </tr>\n",
       "    <tr>\n",
       "      <th>gi59296</th>\n",
       "      <td>gi</td>\n",
       "      <td>59296</td>\n",
       "      <td>gb</td>\n",
       "      <td>X66320</td>\n",
       "      <td>Influenza A virus (A/Chile/1/1983(H1N1)) gene ...</td>\n",
       "    </tr>\n",
       "    <tr>\n",
       "      <th>gi60457</th>\n",
       "      <td>gi</td>\n",
       "      <td>60457</td>\n",
       "      <td>gb</td>\n",
       "      <td>X08088</td>\n",
       "      <td>Influenza A virus (A/WSN/33) ORF1 RNA for M1 p...</td>\n",
       "    </tr>\n",
       "  </tbody>\n",
       "</table>\n",
       "</div>"
      ],
      "text/plain": [
       "        NCBI_1  Key_1 NCBI_2   Key_2  \\\n",
       "gi58576     gi  58576     gb  X52226   \n",
       "gi59292     gi  59292     gb  X53029   \n",
       "gi59294     gi  59294     gb  X59778   \n",
       "gi59296     gi  59296     gb  X66320   \n",
       "gi60457     gi  60457     gb  X08088   \n",
       "\n",
       "                                                   Details  \n",
       "gi58576  Influenza A virus (A/FPV/Rostock/34(H7N1)) gen...  \n",
       "gi59292  Influenza A virus (A/USSR/90/1977(H1N1)) genes...  \n",
       "gi59294  Influenza A virus (A/NIB/4/1988(H1N1)) gene fo...  \n",
       "gi59296  Influenza A virus (A/Chile/1/1983(H1N1)) gene ...  \n",
       "gi60457  Influenza A virus (A/WSN/33) ORF1 RNA for M1 p...  "
      ]
     },
     "execution_count": 4,
     "metadata": {},
     "output_type": "execute_result"
    }
   ],
   "source": [
    "fna_meta.head()"
   ]
  },
  {
   "cell_type": "code",
   "execution_count": 5,
   "metadata": {},
   "outputs": [
    {
     "data": {
      "text/html": [
       "<div>\n",
       "<style scoped>\n",
       "    .dataframe tbody tr th:only-of-type {\n",
       "        vertical-align: middle;\n",
       "    }\n",
       "\n",
       "    .dataframe tbody tr th {\n",
       "        vertical-align: top;\n",
       "    }\n",
       "\n",
       "    .dataframe thead th {\n",
       "        text-align: right;\n",
       "    }\n",
       "</style>\n",
       "<table border=\"1\" class=\"dataframe\">\n",
       "  <thead>\n",
       "    <tr style=\"text-align: right;\">\n",
       "      <th></th>\n",
       "      <th>Sequence</th>\n",
       "    </tr>\n",
       "  </thead>\n",
       "  <tbody>\n",
       "    <tr>\n",
       "      <th>gi58576</th>\n",
       "      <td>AGCAAAAGCAGGAGTTCAAAATGAATCCAAATCAGAAAATAATAAC...</td>\n",
       "    </tr>\n",
       "    <tr>\n",
       "      <th>gi59292</th>\n",
       "      <td>AGCAAAAGCAGGTAGATGTTGAAAGATGAGTCTTCTAACCGAGGTC...</td>\n",
       "    </tr>\n",
       "    <tr>\n",
       "      <th>gi59294</th>\n",
       "      <td>GGATCCTGTTATGTGCATTTACAGCTACAGATGCAGACACAATATG...</td>\n",
       "    </tr>\n",
       "    <tr>\n",
       "      <th>gi59296</th>\n",
       "      <td>ACACCAAATGGAACGAAAATCAGAACCCTAGAATGTTTTTGGCCAT...</td>\n",
       "    </tr>\n",
       "    <tr>\n",
       "      <th>gi60457</th>\n",
       "      <td>ATGAGTCTTCTAACCGAGGTCGAAACGTACGTTCTCTCTATCGTCC...</td>\n",
       "    </tr>\n",
       "  </tbody>\n",
       "</table>\n",
       "</div>"
      ],
      "text/plain": [
       "                                                  Sequence\n",
       "gi58576  AGCAAAAGCAGGAGTTCAAAATGAATCCAAATCAGAAAATAATAAC...\n",
       "gi59292  AGCAAAAGCAGGTAGATGTTGAAAGATGAGTCTTCTAACCGAGGTC...\n",
       "gi59294  GGATCCTGTTATGTGCATTTACAGCTACAGATGCAGACACAATATG...\n",
       "gi59296  ACACCAAATGGAACGAAAATCAGAACCCTAGAATGTTTTTGGCCAT...\n",
       "gi60457  ATGAGTCTTCTAACCGAGGTCGAAACGTACGTTCTCTCTATCGTCC..."
      ]
     },
     "execution_count": 5,
     "metadata": {},
     "output_type": "execute_result"
    }
   ],
   "source": [
    "fna_seq.head()"
   ]
  },
  {
   "cell_type": "markdown",
   "metadata": {},
   "source": [
    "## Speed"
   ]
  },
  {
   "cell_type": "code",
   "execution_count": 6,
   "metadata": {},
   "outputs": [
    {
     "name": "stdout",
     "output_type": "stream",
     "text": [
      "         801073 function calls (765726 primitive calls) in 4.348 seconds\n",
      "\n",
      "   Ordered by: standard name\n",
      "\n",
      "   ncalls  tottime  percall  cumtime  percall filename:lineno(function)\n",
      "        1    0.000    0.000    4.098    4.098 <ipython-input-6-47ba2f1a6e1d>:1(test)\n",
      "        1    0.250    0.250    4.348    4.348 <string>:1(<module>)\n",
      "    68450    0.020    0.000    0.030    0.000 _compression.py:12(_check_not_closed)\n",
      "        1    0.000    0.000    0.000    0.000 _compression.py:150(tell)\n",
      "        1    0.000    0.000    0.000    0.000 _compression.py:36(readable)\n",
      "        1    0.000    0.000    0.000    0.000 _compression.py:39(__init__)\n",
      "        1    0.000    0.000    0.000    0.000 _compression.py:59(close)\n",
      "    35353    0.121    0.000    2.607    0.000 _compression.py:66(readinto)\n",
      "        1    0.000    0.000    0.000    0.000 gzip.py:123(__init__)\n",
      "        1    0.000    0.000    0.000    0.000 gzip.py:20(open)\n",
      "    34225    0.021    0.000    2.734    0.000 gzip.py:271(read)\n",
      "    34225    0.025    0.000    0.098    0.000 gzip.py:291(peek)\n",
      "    68452    0.010    0.000    0.010    0.000 gzip.py:298(closed)\n",
      "        1    0.000    0.000    0.000    0.000 gzip.py:302(close)\n",
      "        1    0.000    0.000    0.000    0.000 gzip.py:378(__init__)\n",
      "        1    0.000    0.000    0.000    0.000 gzip.py:385(_init_read)\n",
      "        1    0.000    0.000    0.000    0.000 gzip.py:389(_read_exact)\n",
      "        1    0.000    0.000    0.000    0.000 gzip.py:405(_read_gzip_header)\n",
      "    35353    0.092    0.000    2.466    0.000 gzip.py:438(read)\n",
      "    35353    0.027    0.000    0.946    0.000 gzip.py:489(_add_read_data)\n",
      "        1    0.000    0.000    0.000    0.000 gzip.py:74(__init__)\n",
      "    35374    0.063    0.000    0.208    0.000 gzip.py:80(read)\n",
      "    33805    0.029    0.000    0.033    0.000 gzip.py:93(prepend)\n",
      "        1    1.266    1.266    4.098    4.098 {built-in method _pickle.load}\n",
      "        1    0.000    0.000    0.000    0.000 {built-in method _struct.unpack}\n",
      "        1    0.000    0.000    4.348    4.348 {built-in method builtins.exec}\n",
      "        1    0.000    0.000    0.000    0.000 {built-in method builtins.isinstance}\n",
      "   210572    0.018    0.000    0.018    0.000 {built-in method builtins.len}\n",
      "        1    0.000    0.000    0.000    0.000 {built-in method io.open}\n",
      "        1    0.000    0.000    0.000    0.000 {built-in method nt.fspath}\n",
      "    35354    0.916    0.000    0.916    0.000 {built-in method zlib.crc32}\n",
      "        1    0.000    0.000    0.000    0.000 {built-in method zlib.decompressobj}\n",
      "        1    0.000    0.000    0.000    0.000 {function DecompressReader.close at 0x0000020CE800B0D0}\n",
      "    35353    0.012    0.000    0.012    0.000 {method 'cast' of 'memoryview' objects}\n",
      "        2    0.000    0.000    0.000    0.000 {method 'close' of '_io.BufferedReader' objects}\n",
      "    35353    1.184    0.000    1.184    0.000 {method 'decompress' of 'zlib.Decompress' objects}\n",
      "        1    0.000    0.000    0.000    0.000 {method 'disable' of '_lsprof.Profiler' objects}\n",
      "    34225    0.056    0.000    0.056    0.000 {method 'peek' of '_io.BufferedReader' objects}\n",
      "69599/34252    0.238    0.000    2.700    0.000 {method 'read' of '_io.BufferedReader' objects}\n",
      "        1    0.000    0.000    0.000    0.000 {method 'replace' of 'str' objects}\n",
      "        1    0.000    0.000    0.000    0.000 {method 'startswith' of 'str' objects}\n",
      "\n",
      "\n"
     ]
    }
   ],
   "source": [
    "def test():\n",
    "    with gzip.open('influenza.fna.pklz', 'rb') as fin:\n",
    "        fna = pickle.load(fin)\n",
    "\n",
    "cProfile.run('test()')"
   ]
  },
  {
   "cell_type": "code",
   "execution_count": 7,
   "metadata": {},
   "outputs": [
    {
     "name": "stdout",
     "output_type": "stream",
     "text": [
      "4.8 s ± 343 ms per loop (mean ± std. dev. of 7 runs, 1 loop each)\n"
     ]
    }
   ],
   "source": [
    "%%timeit\n",
    "test()"
   ]
  },
  {
   "cell_type": "markdown",
   "metadata": {},
   "source": [
    "Compressed versions are slower than uncompressed."
   ]
  }
 ],
 "metadata": {
  "kernelspec": {
   "display_name": "Python 3",
   "language": "python",
   "name": "python3"
  },
  "language_info": {
   "codemirror_mode": {
    "name": "ipython",
    "version": 3
   },
   "file_extension": ".py",
   "mimetype": "text/x-python",
   "name": "python",
   "nbconvert_exporter": "python",
   "pygments_lexer": "ipython3",
   "version": "3.6.6"
  }
 },
 "nbformat": 4,
 "nbformat_minor": 2
}
