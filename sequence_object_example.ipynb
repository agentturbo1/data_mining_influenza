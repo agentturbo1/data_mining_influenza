{
 "cells": [
  {
   "cell_type": "code",
   "execution_count": 28,
   "metadata": {},
   "outputs": [],
   "source": [
    "import pickle\n",
    "import gzip\n",
    "import cProfile"
   ]
  },
  {
   "cell_type": "markdown",
   "metadata": {},
   "source": [
    "## Use pickle to unpickle the serialize sequence object"
   ]
  },
  {
   "cell_type": "code",
   "execution_count": 29,
   "metadata": {},
   "outputs": [],
   "source": [
    "with gzip.open('influenza.fna.pklz', 'rb') as fin:\n",
    "    fna = pickle.load(fin)"
   ]
  },
  {
   "cell_type": "markdown",
   "metadata": {},
   "source": [
    "## Get the data into a data frame"
   ]
  },
  {
   "cell_type": "code",
   "execution_count": 30,
   "metadata": {},
   "outputs": [],
   "source": [
    "fna_meta, fna_seq = fna.get_dataframe()"
   ]
  },
  {
   "cell_type": "code",
   "execution_count": 31,
   "metadata": {},
   "outputs": [
    {
     "data": {
      "text/html": [
       "<div>\n",
       "<style scoped>\n",
       "    .dataframe tbody tr th:only-of-type {\n",
       "        vertical-align: middle;\n",
       "    }\n",
       "\n",
       "    .dataframe tbody tr th {\n",
       "        vertical-align: top;\n",
       "    }\n",
       "\n",
       "    .dataframe thead th {\n",
       "        text-align: right;\n",
       "    }\n",
       "</style>\n",
       "<table border=\"1\" class=\"dataframe\">\n",
       "  <thead>\n",
       "    <tr style=\"text-align: right;\">\n",
       "      <th></th>\n",
       "      <th>Details</th>\n",
       "    </tr>\n",
       "  </thead>\n",
       "  <tbody>\n",
       "    <tr>\n",
       "      <th>58576</th>\n",
       "      <td>gb|X52226|Influenza A virus (A/FPV/Rostock/34(...</td>\n",
       "    </tr>\n",
       "    <tr>\n",
       "      <th>59292</th>\n",
       "      <td>gb|X53029|Influenza A virus (A/USSR/90/1977(H1...</td>\n",
       "    </tr>\n",
       "    <tr>\n",
       "      <th>59294</th>\n",
       "      <td>gb|X59778|Influenza A virus (A/NIB/4/1988(H1N1...</td>\n",
       "    </tr>\n",
       "    <tr>\n",
       "      <th>59296</th>\n",
       "      <td>gb|X66320|Influenza A virus (A/Chile/1/1983(H1...</td>\n",
       "    </tr>\n",
       "    <tr>\n",
       "      <th>60457</th>\n",
       "      <td>gb|X08088|Influenza A virus (A/WSN/33) ORF1 RN...</td>\n",
       "    </tr>\n",
       "  </tbody>\n",
       "</table>\n",
       "</div>"
      ],
      "text/plain": [
       "                                                 Details\n",
       "58576  gb|X52226|Influenza A virus (A/FPV/Rostock/34(...\n",
       "59292  gb|X53029|Influenza A virus (A/USSR/90/1977(H1...\n",
       "59294  gb|X59778|Influenza A virus (A/NIB/4/1988(H1N1...\n",
       "59296  gb|X66320|Influenza A virus (A/Chile/1/1983(H1...\n",
       "60457  gb|X08088|Influenza A virus (A/WSN/33) ORF1 RN..."
      ]
     },
     "execution_count": 31,
     "metadata": {},
     "output_type": "execute_result"
    }
   ],
   "source": [
    "fna_meta.head()"
   ]
  },
  {
   "cell_type": "code",
   "execution_count": 32,
   "metadata": {},
   "outputs": [
    {
     "data": {
      "text/html": [
       "<div>\n",
       "<style scoped>\n",
       "    .dataframe tbody tr th:only-of-type {\n",
       "        vertical-align: middle;\n",
       "    }\n",
       "\n",
       "    .dataframe tbody tr th {\n",
       "        vertical-align: top;\n",
       "    }\n",
       "\n",
       "    .dataframe thead th {\n",
       "        text-align: right;\n",
       "    }\n",
       "</style>\n",
       "<table border=\"1\" class=\"dataframe\">\n",
       "  <thead>\n",
       "    <tr style=\"text-align: right;\">\n",
       "      <th></th>\n",
       "      <th>Sequence</th>\n",
       "    </tr>\n",
       "  </thead>\n",
       "  <tbody>\n",
       "    <tr>\n",
       "      <th>58576</th>\n",
       "      <td>AGCAAAAGCAGGAGTTCAAAATGAATCCAAATCAGAAAATAATAAC...</td>\n",
       "    </tr>\n",
       "    <tr>\n",
       "      <th>59292</th>\n",
       "      <td>AGCAAAAGCAGGTAGATGTTGAAAGATGAGTCTTCTAACCGAGGTC...</td>\n",
       "    </tr>\n",
       "    <tr>\n",
       "      <th>59294</th>\n",
       "      <td>GGATCCTGTTATGTGCATTTACAGCTACAGATGCAGACACAATATG...</td>\n",
       "    </tr>\n",
       "    <tr>\n",
       "      <th>59296</th>\n",
       "      <td>ACACCAAATGGAACGAAAATCAGAACCCTAGAATGTTTTTGGCCAT...</td>\n",
       "    </tr>\n",
       "    <tr>\n",
       "      <th>60457</th>\n",
       "      <td>ATGAGTCTTCTAACCGAGGTCGAAACGTACGTTCTCTCTATCGTCC...</td>\n",
       "    </tr>\n",
       "  </tbody>\n",
       "</table>\n",
       "</div>"
      ],
      "text/plain": [
       "                                                Sequence\n",
       "58576  AGCAAAAGCAGGAGTTCAAAATGAATCCAAATCAGAAAATAATAAC...\n",
       "59292  AGCAAAAGCAGGTAGATGTTGAAAGATGAGTCTTCTAACCGAGGTC...\n",
       "59294  GGATCCTGTTATGTGCATTTACAGCTACAGATGCAGACACAATATG...\n",
       "59296  ACACCAAATGGAACGAAAATCAGAACCCTAGAATGTTTTTGGCCAT...\n",
       "60457  ATGAGTCTTCTAACCGAGGTCGAAACGTACGTTCTCTCTATCGTCC..."
      ]
     },
     "execution_count": 32,
     "metadata": {},
     "output_type": "execute_result"
    }
   ],
   "source": [
    "fna_seq.head()"
   ]
  },
  {
   "cell_type": "markdown",
   "metadata": {},
   "source": [
    "## Speed"
   ]
  },
  {
   "cell_type": "code",
   "execution_count": 34,
   "metadata": {},
   "outputs": [
    {
     "name": "stdout",
     "output_type": "stream",
     "text": [
      "         790693 function calls (755796 primitive calls) in 5.054 seconds\n",
      "\n",
      "   Ordered by: standard name\n",
      "\n",
      "   ncalls  tottime  percall  cumtime  percall filename:lineno(function)\n",
      "        1    0.000    0.000    4.785    4.785 <ipython-input-34-47ba2f1a6e1d>:1(test)\n",
      "        1    0.269    0.269    5.054    5.054 <string>:1(<module>)\n",
      "    67530    0.021    0.000    0.031    0.000 _compression.py:12(_check_not_closed)\n",
      "        1    0.000    0.000    0.000    0.000 _compression.py:150(tell)\n",
      "        1    0.000    0.000    0.000    0.000 _compression.py:36(readable)\n",
      "        1    0.000    0.000    0.000    0.000 _compression.py:39(__init__)\n",
      "        1    0.000    0.000    0.000    0.000 _compression.py:59(close)\n",
      "    34907    0.124    0.000    2.830    0.000 _compression.py:66(readinto)\n",
      "        1    0.000    0.000    0.000    0.000 gzip.py:123(__init__)\n",
      "        1    0.000    0.000    0.000    0.000 gzip.py:20(open)\n",
      "    33765    0.023    0.000    3.277    0.000 gzip.py:271(read)\n",
      "    33765    0.025    0.000    0.101    0.000 gzip.py:291(peek)\n",
      "    67532    0.010    0.000    0.010    0.000 gzip.py:298(closed)\n",
      "        1    0.000    0.000    0.000    0.000 gzip.py:302(close)\n",
      "        1    0.000    0.000    0.000    0.000 gzip.py:378(__init__)\n",
      "        1    0.000    0.000    0.000    0.000 gzip.py:385(_init_read)\n",
      "        1    0.000    0.000    0.000    0.000 gzip.py:389(_read_exact)\n",
      "        1    0.000    0.000    0.000    0.000 gzip.py:405(_read_gzip_header)\n",
      "    34907    0.098    0.000    2.685    0.000 gzip.py:438(read)\n",
      "    34907    0.028    0.000    0.932    0.000 gzip.py:489(_add_read_data)\n",
      "        1    0.000    0.000    0.000    0.000 gzip.py:74(__init__)\n",
      "    34928    0.065    0.000    0.198    0.000 gzip.py:80(read)\n",
      "    33354    0.029    0.000    0.034    0.000 gzip.py:93(prepend)\n",
      "        1    1.406    1.406    4.784    4.784 {built-in method _pickle.load}\n",
      "        1    0.000    0.000    0.000    0.000 {built-in method _struct.unpack}\n",
      "        1    0.000    0.000    5.054    5.054 {built-in method builtins.exec}\n",
      "        1    0.000    0.000    0.000    0.000 {built-in method builtins.isinstance}\n",
      "   207891    0.020    0.000    0.020    0.000 {built-in method builtins.len}\n",
      "        1    0.000    0.000    0.000    0.000 {built-in method io.open}\n",
      "        1    0.000    0.000    0.000    0.000 {built-in method nt.fspath}\n",
      "    34908    0.901    0.000    0.901    0.000 {built-in method zlib.crc32}\n",
      "        1    0.000    0.000    0.000    0.000 {built-in method zlib.decompressobj}\n",
      "        1    0.000    0.000    0.000    0.000 {function DecompressReader.close at 0x000001A3A2D3B0D0}\n",
      "    34907    0.012    0.000    0.012    0.000 {method 'cast' of 'memoryview' objects}\n",
      "        2    0.000    0.000    0.000    0.000 {method 'close' of '_io.BufferedReader' objects}\n",
      "    34907    1.421    0.000    1.421    0.000 {method 'decompress' of 'zlib.Decompress' objects}\n",
      "        1    0.000    0.000    0.000    0.000 {method 'disable' of '_lsprof.Profiler' objects}\n",
      "    33765    0.058    0.000    0.058    0.000 {method 'peek' of '_io.BufferedReader' objects}\n",
      "68693/33796    0.545    0.000    3.241    0.000 {method 'read' of '_io.BufferedReader' objects}\n",
      "        1    0.000    0.000    0.000    0.000 {method 'replace' of 'str' objects}\n",
      "        1    0.000    0.000    0.000    0.000 {method 'startswith' of 'str' objects}\n",
      "\n",
      "\n"
     ]
    }
   ],
   "source": [
    "def test():\n",
    "    with gzip.open('influenza.fna.pklz', 'rb') as fin:\n",
    "        fna = pickle.load(fin)\n",
    "\n",
    "cProfile.run('test()')"
   ]
  },
  {
   "cell_type": "code",
   "execution_count": 35,
   "metadata": {},
   "outputs": [
    {
     "name": "stdout",
     "output_type": "stream",
     "text": [
      "5.49 s ± 198 ms per loop (mean ± std. dev. of 7 runs, 1 loop each)\n"
     ]
    }
   ],
   "source": [
    "%%timeit\n",
    "test()"
   ]
  },
  {
   "cell_type": "code",
   "execution_count": null,
   "metadata": {},
   "outputs": [],
   "source": []
  }
 ],
 "metadata": {
  "kernelspec": {
   "display_name": "Python 3",
   "language": "python",
   "name": "python3"
  },
  "language_info": {
   "codemirror_mode": {
    "name": "ipython",
    "version": 3
   },
   "file_extension": ".py",
   "mimetype": "text/x-python",
   "name": "python",
   "nbconvert_exporter": "python",
   "pygments_lexer": "ipython3",
   "version": "3.6.7"
  }
 },
 "nbformat": 4,
 "nbformat_minor": 2
}
