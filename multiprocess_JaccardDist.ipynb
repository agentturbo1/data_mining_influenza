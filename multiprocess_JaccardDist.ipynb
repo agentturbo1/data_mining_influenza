{
 "cells": [
  {
   "cell_type": "code",
   "execution_count": 3,
   "metadata": {},
   "outputs": [],
   "source": [
    "# imports\n",
    "from Bio.SeqIO.FastaIO import SimpleFastaParser\n",
    "import pandas as pd\n",
    "import numpy as np\n",
    "import itertools as it\n",
    "import matplotlib.pyplot as plt\n",
    "import multiprocessing\n",
    "import time\n",
    "plt.rcParams['figure.dpi'] = 150"
   ]
  },
  {
   "cell_type": "code",
   "execution_count": 4,
   "metadata": {},
   "outputs": [
    {
     "name": "stderr",
     "output_type": "stream",
     "text": [
      "/home/brian/anaconda3/lib/python3.7/site-packages/ipykernel_launcher.py:9: UserWarning: This pattern has match groups. To actually get the groups, use str.extract.\n",
      "  if __name__ == '__main__':\n"
     ]
    }
   ],
   "source": [
    "with open('influenza.fna') as fasta_file: \n",
    "    cgi_titles = []\n",
    "    cgi_sequences = []\n",
    "    for title, sequence in SimpleFastaParser(fasta_file):\n",
    "        cgi_titles.append(title)\n",
    "        cgi_sequences.append(sequence)\n",
    "influenza_na = pd.DataFrame(list(zip(cgi_titles, cgi_sequences)), columns=['titles','sequences'])\n",
    "uniflna = influenza_na.drop_duplicates('sequences')\n",
    "uniflna_HA = uniflna.loc[uniflna.iloc[:,0].str.contains(r'\\(HA\\) | hemagglutinin | (segment 4)')]"
   ]
  },
  {
   "cell_type": "code",
   "execution_count": 5,
   "metadata": {},
   "outputs": [
    {
     "data": {
      "text/plain": [
       "(102414, 2)"
      ]
     },
     "execution_count": 5,
     "metadata": {},
     "output_type": "execute_result"
    }
   ],
   "source": [
    "# correct size=(102414, 2)\n",
    "uniflna_HA.shape"
   ]
  },
  {
   "cell_type": "code",
   "execution_count": 6,
   "metadata": {},
   "outputs": [],
   "source": [
    "# character kgram function, out is set\n",
    "def charkgram(text, k):\n",
    "    results=set()\n",
    "    for i in range(len(text)-k+1):\n",
    "        if text[i:i+k] not in results:\n",
    "            results.add(text[i:i+k])\n",
    "    return(results)\n",
    "\n",
    "# Jaccard Distance\n",
    "def JacDist(a,b):\n",
    "    top = len(a & b)\n",
    "    bottom = len(a | b)\n",
    "    return(1-top/bottom)"
   ]
  },
  {
   "cell_type": "code",
   "execution_count": 7,
   "metadata": {},
   "outputs": [],
   "source": [
    "np.random.seed(12478)\n",
    "uniflna_HA_sub1 = uniflna_HA.sample(n=100)\n",
    "idl=list(it.combinations(list(uniflna_HA_sub1.index),2))"
   ]
  },
  {
   "cell_type": "code",
   "execution_count": 8,
   "metadata": {},
   "outputs": [
    {
     "data": {
      "text/plain": [
       "4950"
      ]
     },
     "execution_count": 8,
     "metadata": {},
     "output_type": "execute_result"
    }
   ],
   "source": [
    "len(idl)"
   ]
  },
  {
   "cell_type": "code",
   "execution_count": 9,
   "metadata": {},
   "outputs": [
    {
     "name": "stdout",
     "output_type": "stream",
     "text": [
      "total time: 10.238529920578003\n"
     ]
    }
   ],
   "source": [
    "# k=5\n",
    "JDresults5=[]\n",
    "start=time.time()\n",
    "for i in idl:\n",
    "    JDresults5.append(JacDist(charkgram(uniflna_HA_sub1.loc[[i[0]]].sequences.values[0],5),charkgram(uniflna_HA_sub1.loc[[i[1]]].sequences.values[0],5)))\n",
    "print(\"total time:\", time.time()-start)"
   ]
  },
  {
   "cell_type": "code",
   "execution_count": 10,
   "metadata": {
    "scrolled": false
   },
   "outputs": [
    {
     "data": {
      "image/png": "[encoded data removed]",
      "text/plain": [
       "<Figure size 900x600 with 1 Axes>"
      ]
     },
     "metadata": {
      "needs_background": "light"
     },
     "output_type": "display_data"
    }
   ],
   "source": [
    "plt.hist(JDresults5, 50, range=(0,1));"
   ]
  },
  {
   "cell_type": "code",
   "execution_count": null,
   "metadata": {},
   "outputs": [],
   "source": [
    "uniflna_HA_subtest = uniflna_HA.sample(n=10)"
   ]
  },
  {
   "cell_type": "code",
   "execution_count": null,
   "metadata": {},
   "outputs": [],
   "source": [
    "def JDpwl(file):\n",
    "    idl=list(it.combinations(list(file.index),2))\n",
    "    print(JacDist(charkgram(file.loc[[i[0]]].sequences.values[0],5),charkgram(file.loc[[i[1]]].sequences.values[0],5)))\n",
    "    #print(idl)"
   ]
  },
  {
   "cell_type": "code",
   "execution_count": null,
   "metadata": {},
   "outputs": [],
   "source": [
    "# JDpwl(uniflna_HA_subtest)"
   ]
  },
  {
   "cell_type": "code",
   "execution_count": null,
   "metadata": {
    "scrolled": true
   },
   "outputs": [],
   "source": [
    "uniflna_HA_sub1.loc[[i[0]]].sequences.values[0]"
   ]
  },
  {
   "cell_type": "code",
   "execution_count": null,
   "metadata": {},
   "outputs": [],
   "source": [
    "uniflna_HA_subtest = uniflna_HA.sample(n=10)"
   ]
  },
  {
   "cell_type": "code",
   "execution_count": null,
   "metadata": {},
   "outputs": [],
   "source": [
    "list(uniflna_HA_subtest.sequences)"
   ]
  },
  {
   "cell_type": "code",
   "execution_count": null,
   "metadata": {},
   "outputs": [],
   "source": [
    "def multi_charkgram(flist, k):\n",
    "    results = []\n",
    "    for i in range(len(flist)):\n",
    "        results.append(charkgram(flist[i], k))\n",
    "    return(results)"
   ]
  },
  {
   "cell_type": "code",
   "execution_count": null,
   "metadata": {},
   "outputs": [],
   "source": [
    "multi_charkgram(list(uniflna_HA_subtest.sequences), 5)"
   ]
  },
  {
   "cell_type": "code",
   "execution_count": null,
   "metadata": {},
   "outputs": [],
   "source": [
    "idl=list(it.combinations(list(uniflna_HA_sub1.index),2))"
   ]
  },
  {
   "cell_type": "code",
   "execution_count": null,
   "metadata": {},
   "outputs": [],
   "source": [
    "idl[0]"
   ]
  },
  {
   "cell_type": "code",
   "execution_count": null,
   "metadata": {},
   "outputs": [],
   "source": [
    "idl[0][0]"
   ]
  },
  {
   "cell_type": "code",
   "execution_count": null,
   "metadata": {},
   "outputs": [],
   "source": [
    "idl[0][1]"
   ]
  },
  {
   "cell_type": "code",
   "execution_count": null,
   "metadata": {
    "scrolled": true
   },
   "outputs": [],
   "source": [
    "uniflna_HA_sub1.loc[[idl[0][0]]].sequences.values[0]"
   ]
  },
  {
   "cell_type": "code",
   "execution_count": null,
   "metadata": {},
   "outputs": [],
   "source": [
    "uniflna_HA_sub1.loc[[idl[0][1]]].sequences.values[0]"
   ]
  },
  {
   "cell_type": "code",
   "execution_count": null,
   "metadata": {},
   "outputs": [],
   "source": [
    "def JDm(id_tup, file_name):\n",
    "    k = 5\n",
    "    a = charkgram(file_name.loc[[id_tup[0]]].sequences.values[0], k)\n",
    "    b = charkgram(file_name.loc[[id_tup[1]]].sequences.values[0], k)\n",
    "    return(JacDist(a,b))\n",
    "    \n",
    "    \n",
    "    "
   ]
  },
  {
   "cell_type": "code",
   "execution_count": null,
   "metadata": {},
   "outputs": [],
   "source": [
    "JDm(idl[0],uniflna_HA_sub1)"
   ]
  },
  {
   "cell_type": "code",
   "execution_count": 13,
   "metadata": {},
   "outputs": [
    {
     "data": {
      "text/plain": [
       "100"
      ]
     },
     "execution_count": 13,
     "metadata": {},
     "output_type": "execute_result"
    }
   ],
   "source": [
    "len(uniflna_HA_sub1)"
   ]
  },
  {
   "cell_type": "code",
   "execution_count": 11,
   "metadata": {
    "scrolled": false
   },
   "outputs": [
    {
     "name": "stdout",
     "output_type": "stream",
     "text": [
      "4950\n",
      "Pool took: 3.4170477390289307\n",
      "Serial took: 10.84888505935669\n"
     ]
    }
   ],
   "source": [
    "def JDm(id_tup, file_name):\n",
    "    k = 5\n",
    "    a = charkgram(file_name.loc[[id_tup[0]]].sequences.values[0], k)\n",
    "    b = charkgram(file_name.loc[[id_tup[1]]].sequences.values[0], k)\n",
    "    return(JacDist(a,b))\n",
    "\n",
    "current_file = uniflna_HA_sub1\n",
    "idl=list(it.combinations(list(current_file.index),2))\n",
    "print(len(idl))\n",
    "\n",
    "if __name__ == \"__main__\":\n",
    "    t1=time.time()\n",
    "    p = multiprocessing.Pool(processes=30)\n",
    "    result = [p.apply_async(JDm, args=(x, current_file)) for x in idl]\n",
    "    #print(result)\n",
    "    #p.close()\n",
    "    #p.join()\n",
    "    output = [p.get() for p in result]\n",
    "    \n",
    "    print(\"Pool took:\",time.time()-t1)\n",
    "    \n",
    "    JDresults5=[]\n",
    "    start=time.time()\n",
    "    for i in idl:\n",
    "        JDresults5.append(JacDist(charkgram(current_file.loc[[i[0]]].sequences.values[0],5),charkgram(current_file.loc[[i[1]]].sequences.values[0],5)))\n",
    "    print(\"Serial took:\", time.time()-start)"
   ]
  },
  {
   "cell_type": "code",
   "execution_count": 15,
   "metadata": {},
   "outputs": [
    {
     "name": "stdout",
     "output_type": "stream",
     "text": [
      "4950\n",
      "Pool took: 2.141103982925415\n",
      "Serial took: 10.39531660079956\n"
     ]
    }
   ],
   "source": [
    "# map version\n",
    "current_file = uniflna_HA_sub1\n",
    "\n",
    "def JDmfi(id_tup):\n",
    "    k = 5\n",
    "    a = charkgram(current_file.loc[[id_tup[0]]].sequences.values[0], k)\n",
    "    b = charkgram(current_file.loc[[id_tup[1]]].sequences.values[0], k)\n",
    "    return(JacDist(a,b))\n",
    "\n",
    "\n",
    "idl=list(it.combinations(list(current_file.index),2))\n",
    "print(len(idl))\n",
    "\n",
    "if __name__ == \"__main__\":\n",
    "    t1=time.time()\n",
    "    p = multiprocessing.Pool(processes=30)\n",
    "    result = p.map(JDmfi, idl)\n",
    "    #print(result)\n",
    "    p.close()\n",
    "    p.join()\n",
    "    \n",
    "    print(\"Pool took:\",time.time()-t1)\n",
    "    \n",
    "    JDresults5=[]\n",
    "    start=time.time()\n",
    "    for i in idl:\n",
    "        JDresults5.append(JacDist(charkgram(current_file.loc[[i[0]]].sequences.values[0],5),charkgram(current_file.loc[[i[1]]].sequences.values[0],5)))\n",
    "    print(\"Serial took:\", time.time()-start)"
   ]
  },
  {
   "cell_type": "code",
   "execution_count": 16,
   "metadata": {},
   "outputs": [
    {
     "data": {
      "text/plain": [
       "0.397926671723273"
      ]
     },
     "execution_count": 16,
     "metadata": {},
     "output_type": "execute_result"
    }
   ],
   "source": [
    "np.mean(result)"
   ]
  },
  {
   "cell_type": "code",
   "execution_count": 17,
   "metadata": {},
   "outputs": [
    {
     "data": {
      "text/plain": [
       "4950"
      ]
     },
     "execution_count": 17,
     "metadata": {},
     "output_type": "execute_result"
    }
   ],
   "source": [
    "len(result)"
   ]
  },
  {
   "cell_type": "code",
   "execution_count": 20,
   "metadata": {},
   "outputs": [
    {
     "data": {
      "text/plain": [
       "[0.43999999999999995,\n",
       " 0.43137254901960786,\n",
       " 0.42368742368742374,\n",
       " 0.4504830917874396,\n",
       " 0.4496969696969697,\n",
       " 0.4191542288557214,\n",
       " 0.5094850948509485,\n",
       " 0.424812030075188,\n",
       " 0.4627403846153846,\n",
       " 0.44061757719714967,\n",
       " 0.4448441247002398,\n",
       " 0.4312039312039312]"
      ]
     },
     "execution_count": 20,
     "metadata": {},
     "output_type": "execute_result"
    }
   ],
   "source": [
    "result[0:12]"
   ]
  },
  {
   "cell_type": "code",
   "execution_count": 21,
   "metadata": {},
   "outputs": [
    {
     "data": {
      "image/png": "[encoded data removed]",
      "text/plain": [
       "<Figure size 900x600 with 1 Axes>"
      ]
     },
     "metadata": {
      "needs_background": "light"
     },
     "output_type": "display_data"
    }
   ],
   "source": [
    "plt.hist(result, 50, range=(0,1));"
   ]
  },
  {
   "cell_type": "code",
   "execution_count": null,
   "metadata": {},
   "outputs": [],
   "source": [
    "uniflna_HA_sub2 = uniflna_HA.sample(n=50)"
   ]
  },
  {
   "cell_type": "code",
   "execution_count": null,
   "metadata": {},
   "outputs": [],
   "source": [
    "def JDm(id_tup, file_name):\n",
    "    k = 5\n",
    "    a = charkgram(file_name.loc[[id_tup[0]]].sequences.values[0], k)\n",
    "    b = charkgram(file_name.loc[[id_tup[1]]].sequences.values[0], k)\n",
    "    return(JacDist(a,b))\n",
    "\n",
    "current_file = uniflna_HA_sub2\n",
    "idl=list(it.combinations(list(current_file.index),2))\n",
    "print(\"number of comparisons\", len(idl))\n",
    "\n",
    "if __name__ == \"__main__\":\n",
    "    t1=time.time()\n",
    "    p = multiprocessing.Pool(processes=30)\n",
    "    result = [p.map(JDm, args=(x, current_file)) for x in idl]\n",
    "    #print(result)\n",
    "    p.close()\n",
    "    p.join()\n",
    "    output = [p.get() for p in result]\n",
    "    \n",
    "    print(\"Pool took:\",time.time()-t1)"
   ]
  },
  {
   "cell_type": "code",
   "execution_count": 22,
   "metadata": {},
   "outputs": [],
   "source": [
    "uniflna_HA_sub3 = uniflna_HA.sample(n=200)"
   ]
  },
  {
   "cell_type": "code",
   "execution_count": 23,
   "metadata": {},
   "outputs": [
    {
     "name": "stdout",
     "output_type": "stream",
     "text": [
      "19900\n",
      "Pool took: 4.41971492767334\n",
      "Serial took: 41.76889514923096\n"
     ]
    }
   ],
   "source": [
    "# map version\n",
    "current_file = uniflna_HA_sub3\n",
    "\n",
    "def JDmfi(id_tup):\n",
    "    k = 5\n",
    "    a = charkgram(current_file.loc[[id_tup[0]]].sequences.values[0], k)\n",
    "    b = charkgram(current_file.loc[[id_tup[1]]].sequences.values[0], k)\n",
    "    return(JacDist(a,b))\n",
    "\n",
    "\n",
    "idl=list(it.combinations(list(current_file.index),2))\n",
    "print(len(idl))\n",
    "\n",
    "if __name__ == \"__main__\":\n",
    "    t1=time.time()\n",
    "    p = multiprocessing.Pool(processes=30)\n",
    "    result = p.map(JDmfi, idl)\n",
    "    #print(result)\n",
    "    p.close()\n",
    "    p.join()\n",
    "    \n",
    "    print(\"Pool took:\",time.time()-t1)\n",
    "    \n",
    "    JDresults5=[]\n",
    "    start=time.time()\n",
    "    for i in idl:\n",
    "        JDresults5.append(JacDist(charkgram(current_file.loc[[i[0]]].sequences.values[0],5),charkgram(current_file.loc[[i[1]]].sequences.values[0],5)))\n",
    "    print(\"Serial took:\", time.time()-start)"
   ]
  },
  {
   "cell_type": "code",
   "execution_count": 24,
   "metadata": {},
   "outputs": [],
   "source": [
    "uniflna_HA_sub3 = uniflna_HA.sample(n=1000)"
   ]
  },
  {
   "cell_type": "code",
   "execution_count": 25,
   "metadata": {},
   "outputs": [
    {
     "name": "stdout",
     "output_type": "stream",
     "text": [
      "499500\n",
      "Pool took: 75.46571612358093\n"
     ]
    }
   ],
   "source": [
    "# map version\n",
    "current_file = uniflna_HA_sub3\n",
    "\n",
    "def JDmfi(id_tup):\n",
    "    k = 5\n",
    "    a = charkgram(current_file.loc[[id_tup[0]]].sequences.values[0], k)\n",
    "    b = charkgram(current_file.loc[[id_tup[1]]].sequences.values[0], k)\n",
    "    return(JacDist(a,b))\n",
    "\n",
    "\n",
    "idl=list(it.combinations(list(current_file.index),2))\n",
    "print(len(idl))\n",
    "\n",
    "if __name__ == \"__main__\":\n",
    "    t1=time.time()\n",
    "    p = multiprocessing.Pool(processes=30)\n",
    "    result = p.map(JDmfi, idl)\n",
    "    #print(result)\n",
    "    p.close()\n",
    "    p.join()\n",
    "    \n",
    "    print(\"Pool took:\",time.time()-t1)"
   ]
  },
  {
   "cell_type": "code",
   "execution_count": 26,
   "metadata": {},
   "outputs": [
    {
     "data": {
      "text/plain": [
       "(102414, 2)"
      ]
     },
     "execution_count": 26,
     "metadata": {},
     "output_type": "execute_result"
    }
   ],
   "source": [
    "uniflna_HA.shape"
   ]
  },
  {
   "cell_type": "code",
   "execution_count": 29,
   "metadata": {},
   "outputs": [],
   "source": [
    "uniflna_HA_sub4 = uniflna_HA.sample(n=10000)"
   ]
  },
  {
   "cell_type": "code",
   "execution_count": 30,
   "metadata": {},
   "outputs": [
    {
     "name": "stdout",
     "output_type": "stream",
     "text": [
      "49995000\n",
      "Pool took: 6548.655149459839\n"
     ]
    }
   ],
   "source": [
    "# map version\n",
    "current_file = uniflna_HA_sub4\n",
    "\n",
    "def JDmfi(id_tup):\n",
    "    k = 5\n",
    "    a = charkgram(current_file.loc[[id_tup[0]]].sequences.values[0], k)\n",
    "    b = charkgram(current_file.loc[[id_tup[1]]].sequences.values[0], k)\n",
    "    return(JacDist(a,b))\n",
    "\n",
    "\n",
    "idl=list(it.combinations(list(current_file.index),2))\n",
    "print(len(idl))\n",
    "\n",
    "if __name__ == \"__main__\":\n",
    "    t1=time.time()\n",
    "    p = multiprocessing.Pool(processes=30)\n",
    "    result = p.map(JDmfi, idl)\n",
    "    #print(result)\n",
    "    p.close()\n",
    "    p.join()\n",
    "    \n",
    "    print(\"Pool took:\",time.time()-t1)"
   ]
  },
  {
   "cell_type": "code",
   "execution_count": 31,
   "metadata": {},
   "outputs": [
    {
     "data": {
      "text/plain": [
       "[0.37357630979498857,\n",
       " 0.4689403166869671,\n",
       " 0.22613065326633164,\n",
       " 0.05006954102920724,\n",
       " 0.4727272727272728,\n",
       " 0.49093107617896015,\n",
       " 0.38646788990825687,\n",
       " 0.44688644688644685,\n",
       " 0.34149184149184153,\n",
       " 0.36073059360730597,\n",
       " 0.375,\n",
       " 0.3543123543123543]"
      ]
     },
     "execution_count": 31,
     "metadata": {},
     "output_type": "execute_result"
    }
   ],
   "source": [
    "result[0:12]"
   ]
  },
  {
   "cell_type": "code",
   "execution_count": 32,
   "metadata": {
    "scrolled": false
   },
   "outputs": [
    {
     "data": {
      "image/png": "[encoded data removed]",
      "text/plain": [
       "<Figure size 900x600 with 1 Axes>"
      ]
     },
     "metadata": {
      "needs_background": "light"
     },
     "output_type": "display_data"
    }
   ],
   "source": [
    "plt.hist(result, 50, range=(0,1));"
   ]
  },
  {
   "cell_type": "code",
   "execution_count": 36,
   "metadata": {},
   "outputs": [
    {
     "data": {
      "text/plain": [
       "[(254231, 484309),\n",
       " (254231, 196497),\n",
       " (254231, 609985),\n",
       " (254231, 285421),\n",
       " (254231, 4439),\n",
       " (254231, 24471),\n",
       " (254231, 411729),\n",
       " (254231, 241315),\n",
       " (254231, 399795),\n",
       " (254231, 377109)]"
      ]
     },
     "execution_count": 36,
     "metadata": {},
     "output_type": "execute_result"
    }
   ],
   "source": [
    "idl[0:10]"
   ]
  },
  {
   "cell_type": "code",
   "execution_count": 37,
   "metadata": {},
   "outputs": [],
   "source": [
    "uniflna_HA_sub4_JDresults = pd.DataFrame({'IDs':idl,\n",
    "                                          'Jdist':result})"
   ]
  },
  {
   "cell_type": "code",
   "execution_count": 38,
   "metadata": {},
   "outputs": [
    {
     "data": {
      "text/html": [
       "<div>\n",
       "<style scoped>\n",
       "    .dataframe tbody tr th:only-of-type {\n",
       "        vertical-align: middle;\n",
       "    }\n",
       "\n",
       "    .dataframe tbody tr th {\n",
       "        vertical-align: top;\n",
       "    }\n",
       "\n",
       "    .dataframe thead th {\n",
       "        text-align: right;\n",
       "    }\n",
       "</style>\n",
       "<table border=\"1\" class=\"dataframe\">\n",
       "  <thead>\n",
       "    <tr style=\"text-align: right;\">\n",
       "      <th></th>\n",
       "      <th>IDs</th>\n",
       "      <th>Jdist</th>\n",
       "    </tr>\n",
       "  </thead>\n",
       "  <tbody>\n",
       "    <tr>\n",
       "      <th>0</th>\n",
       "      <td>(254231, 484309)</td>\n",
       "      <td>0.373576</td>\n",
       "    </tr>\n",
       "    <tr>\n",
       "      <th>1</th>\n",
       "      <td>(254231, 196497)</td>\n",
       "      <td>0.468940</td>\n",
       "    </tr>\n",
       "    <tr>\n",
       "      <th>2</th>\n",
       "      <td>(254231, 609985)</td>\n",
       "      <td>0.226131</td>\n",
       "    </tr>\n",
       "    <tr>\n",
       "      <th>3</th>\n",
       "      <td>(254231, 285421)</td>\n",
       "      <td>0.050070</td>\n",
       "    </tr>\n",
       "    <tr>\n",
       "      <th>4</th>\n",
       "      <td>(254231, 4439)</td>\n",
       "      <td>0.472727</td>\n",
       "    </tr>\n",
       "    <tr>\n",
       "      <th>5</th>\n",
       "      <td>(254231, 24471)</td>\n",
       "      <td>0.490931</td>\n",
       "    </tr>\n",
       "    <tr>\n",
       "      <th>6</th>\n",
       "      <td>(254231, 411729)</td>\n",
       "      <td>0.386468</td>\n",
       "    </tr>\n",
       "    <tr>\n",
       "      <th>7</th>\n",
       "      <td>(254231, 241315)</td>\n",
       "      <td>0.446886</td>\n",
       "    </tr>\n",
       "    <tr>\n",
       "      <th>8</th>\n",
       "      <td>(254231, 399795)</td>\n",
       "      <td>0.341492</td>\n",
       "    </tr>\n",
       "    <tr>\n",
       "      <th>9</th>\n",
       "      <td>(254231, 377109)</td>\n",
       "      <td>0.360731</td>\n",
       "    </tr>\n",
       "  </tbody>\n",
       "</table>\n",
       "</div>"
      ],
      "text/plain": [
       "                IDs     Jdist\n",
       "0  (254231, 484309)  0.373576\n",
       "1  (254231, 196497)  0.468940\n",
       "2  (254231, 609985)  0.226131\n",
       "3  (254231, 285421)  0.050070\n",
       "4    (254231, 4439)  0.472727\n",
       "5   (254231, 24471)  0.490931\n",
       "6  (254231, 411729)  0.386468\n",
       "7  (254231, 241315)  0.446886\n",
       "8  (254231, 399795)  0.341492\n",
       "9  (254231, 377109)  0.360731"
      ]
     },
     "execution_count": 38,
     "metadata": {},
     "output_type": "execute_result"
    }
   ],
   "source": [
    "uniflna_HA_sub4_JDresults.head(10)"
   ]
  },
  {
   "cell_type": "code",
   "execution_count": 39,
   "metadata": {},
   "outputs": [],
   "source": [
    "uniflna_HA_sub4_JDresults.to_pickle('uniflna_HA_sub4_JDresults.pkl')"
   ]
  },
  {
   "cell_type": "code",
   "execution_count": null,
   "metadata": {},
   "outputs": [],
   "source": []
  },
  {
   "cell_type": "code",
   "execution_count": 40,
   "metadata": {},
   "outputs": [],
   "source": [
    "uniflna_HA_sub5 = uniflna_HA.sample(n=25000)"
   ]
  },
  {
   "cell_type": "code",
   "execution_count": 41,
   "metadata": {},
   "outputs": [
    {
     "name": "stdout",
     "output_type": "stream",
     "text": [
      "312487500\n",
      "Pool took: 38847.25140309334\n"
     ]
    }
   ],
   "source": [
    "# map version\n",
    "current_file = uniflna_HA_sub5\n",
    "\n",
    "def JDmfi(id_tup):\n",
    "    k = 5\n",
    "    a = charkgram(current_file.loc[[id_tup[0]]].sequences.values[0], k)\n",
    "    b = charkgram(current_file.loc[[id_tup[1]]].sequences.values[0], k)\n",
    "    return(JacDist(a,b))\n",
    "\n",
    "\n",
    "idl=list(it.combinations(list(current_file.index),2))\n",
    "print(len(idl))\n",
    "\n",
    "if __name__ == \"__main__\":\n",
    "    t1=time.time()\n",
    "    p = multiprocessing.Pool(processes=30)\n",
    "    result = p.map(JDmfi, idl)\n",
    "    #print(result)\n",
    "    p.close()\n",
    "    p.join()\n",
    "    \n",
    "    print(\"Pool took:\",time.time()-t1)"
   ]
  },
  {
   "cell_type": "code",
   "execution_count": 44,
   "metadata": {},
   "outputs": [],
   "source": [
    "uniflna_HA_sub5_JDresults = pd.DataFrame({'IDs':idl,\n",
    "                                          'Jdist':result})\n"
   ]
  },
  {
   "cell_type": "code",
   "execution_count": 45,
   "metadata": {},
   "outputs": [
    {
     "data": {
      "text/html": [
       "<div>\n",
       "<style scoped>\n",
       "    .dataframe tbody tr th:only-of-type {\n",
       "        vertical-align: middle;\n",
       "    }\n",
       "\n",
       "    .dataframe tbody tr th {\n",
       "        vertical-align: top;\n",
       "    }\n",
       "\n",
       "    .dataframe thead th {\n",
       "        text-align: right;\n",
       "    }\n",
       "</style>\n",
       "<table border=\"1\" class=\"dataframe\">\n",
       "  <thead>\n",
       "    <tr style=\"text-align: right;\">\n",
       "      <th></th>\n",
       "      <th>IDs</th>\n",
       "      <th>Jdist</th>\n",
       "    </tr>\n",
       "  </thead>\n",
       "  <tbody>\n",
       "    <tr>\n",
       "      <th>0</th>\n",
       "      <td>(378619, 36153)</td>\n",
       "      <td>0.352129</td>\n",
       "    </tr>\n",
       "    <tr>\n",
       "      <th>1</th>\n",
       "      <td>(378619, 543019)</td>\n",
       "      <td>0.348677</td>\n",
       "    </tr>\n",
       "    <tr>\n",
       "      <th>2</th>\n",
       "      <td>(378619, 387870)</td>\n",
       "      <td>0.353617</td>\n",
       "    </tr>\n",
       "    <tr>\n",
       "      <th>3</th>\n",
       "      <td>(378619, 469231)</td>\n",
       "      <td>0.336374</td>\n",
       "    </tr>\n",
       "    <tr>\n",
       "      <th>4</th>\n",
       "      <td>(378619, 65200)</td>\n",
       "      <td>0.453333</td>\n",
       "    </tr>\n",
       "    <tr>\n",
       "      <th>5</th>\n",
       "      <td>(378619, 212278)</td>\n",
       "      <td>0.354386</td>\n",
       "    </tr>\n",
       "    <tr>\n",
       "      <th>6</th>\n",
       "      <td>(378619, 640569)</td>\n",
       "      <td>0.334495</td>\n",
       "    </tr>\n",
       "    <tr>\n",
       "      <th>7</th>\n",
       "      <td>(378619, 650508)</td>\n",
       "      <td>0.344548</td>\n",
       "    </tr>\n",
       "    <tr>\n",
       "      <th>8</th>\n",
       "      <td>(378619, 55747)</td>\n",
       "      <td>0.586028</td>\n",
       "    </tr>\n",
       "    <tr>\n",
       "      <th>9</th>\n",
       "      <td>(378619, 65376)</td>\n",
       "      <td>0.445388</td>\n",
       "    </tr>\n",
       "  </tbody>\n",
       "</table>\n",
       "</div>"
      ],
      "text/plain": [
       "                IDs     Jdist\n",
       "0   (378619, 36153)  0.352129\n",
       "1  (378619, 543019)  0.348677\n",
       "2  (378619, 387870)  0.353617\n",
       "3  (378619, 469231)  0.336374\n",
       "4   (378619, 65200)  0.453333\n",
       "5  (378619, 212278)  0.354386\n",
       "6  (378619, 640569)  0.334495\n",
       "7  (378619, 650508)  0.344548\n",
       "8   (378619, 55747)  0.586028\n",
       "9   (378619, 65376)  0.445388"
      ]
     },
     "execution_count": 45,
     "metadata": {},
     "output_type": "execute_result"
    }
   ],
   "source": [
    "uniflna_HA_sub5_JDresults.head(10)"
   ]
  },
  {
   "cell_type": "code",
   "execution_count": 46,
   "metadata": {},
   "outputs": [],
   "source": [
    "uniflna_HA_sub5_JDresults.to_pickle('uniflna_HA_sub5_JDresults.pkl')"
   ]
  },
  {
   "cell_type": "code",
   "execution_count": null,
   "metadata": {},
   "outputs": [],
   "source": []
  },
  {
   "cell_type": "code",
   "execution_count": null,
   "metadata": {},
   "outputs": [],
   "source": []
  },
  {
   "cell_type": "code",
   "execution_count": null,
   "metadata": {},
   "outputs": [],
   "source": []
  },
  {
   "cell_type": "code",
   "execution_count": null,
   "metadata": {},
   "outputs": [],
   "source": []
  }
 ],
 "metadata": {
  "kernelspec": {
   "display_name": "Python 3",
   "language": "python",
   "name": "python3"
  },
  "language_info": {
   "codemirror_mode": {
    "name": "ipython",
    "version": 3
   },
   "file_extension": ".py",
   "mimetype": "text/x-python",
   "name": "python",
   "nbconvert_exporter": "python",
   "pygments_lexer": "ipython3",
   "version": "3.7.1"
  }
 },
 "nbformat": 4,
 "nbformat_minor": 2
}
