{
 "cells": [
  {
   "cell_type": "code",
   "execution_count": 1,
   "metadata": {},
   "outputs": [],
   "source": [
    "from Bio.SeqIO.FastaIO import SimpleFastaParser\n",
    "import pandas as pd\n",
    "import numpy as np\n",
    "import time\n",
    "import matplotlib.pyplot as plt"
   ]
  },
  {
   "cell_type": "code",
   "execution_count": 2,
   "metadata": {},
   "outputs": [],
   "source": [
    "with open('canine_flu_test.fa') as fasta_file: \n",
    "    ct_titles = []\n",
    "    ct_sequences = []\n",
    "    for title, sequence in SimpleFastaParser(fasta_file):\n",
    "        ct_titles.append(title)\n",
    "        ct_sequences.append(sequence)\n",
    "caninet = pd.DataFrame(list(zip(ct_titles, ct_sequences)), columns=['titles','sequences'])"
   ]
  },
  {
   "cell_type": "code",
   "execution_count": 3,
   "metadata": {},
   "outputs": [
    {
     "data": {
      "text/html": [
       "<div>\n",
       "<style scoped>\n",
       "    .dataframe tbody tr th:only-of-type {\n",
       "        vertical-align: middle;\n",
       "    }\n",
       "\n",
       "    .dataframe tbody tr th {\n",
       "        vertical-align: top;\n",
       "    }\n",
       "\n",
       "    .dataframe thead th {\n",
       "        text-align: right;\n",
       "    }\n",
       "</style>\n",
       "<table border=\"1\" class=\"dataframe\">\n",
       "  <thead>\n",
       "    <tr style=\"text-align: right;\">\n",
       "      <th></th>\n",
       "      <th>titles</th>\n",
       "      <th>sequences</th>\n",
       "    </tr>\n",
       "  </thead>\n",
       "  <tbody>\n",
       "    <tr>\n",
       "      <th>0</th>\n",
       "      <td>MH363660 A/canine/Georgia/20170606-19/2017 201...</td>\n",
       "      <td>AGCAAAAGCAGGGGATACTTTCATTAATCATGAAAACTGTTATTGC...</td>\n",
       "    </tr>\n",
       "    <tr>\n",
       "      <th>1</th>\n",
       "      <td>MH363665 A/canine/Georgia/20170606-19/2017 201...</td>\n",
       "      <td>AGCAAAAGCAGGGTGACAAAAACATAATGGACTCCAACACTGTGTC...</td>\n",
       "    </tr>\n",
       "    <tr>\n",
       "      <th>2</th>\n",
       "      <td>MH363670 A/canine/Georgia/20170606-19/2017 201...</td>\n",
       "      <td>AGCAAAAGCAGGAGTAAAAATGAACCCAAATCAAAAGATAATAGCA...</td>\n",
       "    </tr>\n",
       "    <tr>\n",
       "      <th>3</th>\n",
       "      <td>MH363671 A/canine/Georgia/20170606-19/2017 201...</td>\n",
       "      <td>AGCAAAAGCAGGTCAAATATATTCAATATGGAAAGAATAAAAGAAT...</td>\n",
       "    </tr>\n",
       "    <tr>\n",
       "      <th>4</th>\n",
       "      <td>MH363685 A/canine/Georgia/20170606-19/2017 201...</td>\n",
       "      <td>AGCAAAAGCAGGGTAGATAATCACTCACTGAGTGACATCAACGTCA...</td>\n",
       "    </tr>\n",
       "  </tbody>\n",
       "</table>\n",
       "</div>"
      ],
      "text/plain": [
       "                                              titles  \\\n",
       "0  MH363660 A/canine/Georgia/20170606-19/2017 201...   \n",
       "1  MH363665 A/canine/Georgia/20170606-19/2017 201...   \n",
       "2  MH363670 A/canine/Georgia/20170606-19/2017 201...   \n",
       "3  MH363671 A/canine/Georgia/20170606-19/2017 201...   \n",
       "4  MH363685 A/canine/Georgia/20170606-19/2017 201...   \n",
       "\n",
       "                                           sequences  \n",
       "0  AGCAAAAGCAGGGGATACTTTCATTAATCATGAAAACTGTTATTGC...  \n",
       "1  AGCAAAAGCAGGGTGACAAAAACATAATGGACTCCAACACTGTGTC...  \n",
       "2  AGCAAAAGCAGGAGTAAAAATGAACCCAAATCAAAAGATAATAGCA...  \n",
       "3  AGCAAAAGCAGGTCAAATATATTCAATATGGAAAGAATAAAAGAAT...  \n",
       "4  AGCAAAAGCAGGGTAGATAATCACTCACTGAGTGACATCAACGTCA...  "
      ]
     },
     "execution_count": 3,
     "metadata": {},
     "output_type": "execute_result"
    }
   ],
   "source": [
    "caninet.head()"
   ]
  },
  {
   "cell_type": "code",
   "execution_count": 4,
   "metadata": {},
   "outputs": [
    {
     "data": {
      "text/html": [
       "<div>\n",
       "<style scoped>\n",
       "    .dataframe tbody tr th:only-of-type {\n",
       "        vertical-align: middle;\n",
       "    }\n",
       "\n",
       "    .dataframe tbody tr th {\n",
       "        vertical-align: top;\n",
       "    }\n",
       "\n",
       "    .dataframe thead th {\n",
       "        text-align: right;\n",
       "    }\n",
       "</style>\n",
       "<table border=\"1\" class=\"dataframe\">\n",
       "  <thead>\n",
       "    <tr style=\"text-align: right;\">\n",
       "      <th></th>\n",
       "      <th>titles</th>\n",
       "      <th>sequences</th>\n",
       "    </tr>\n",
       "  </thead>\n",
       "  <tbody>\n",
       "    <tr>\n",
       "      <th>1235</th>\n",
       "      <td>MH266395 A/canine/South Carolina/132956/2017 2...</td>\n",
       "      <td>AGCAAAAGCAGGGTAGATAATCACTCACTGAGTGACATCAACGTCA...</td>\n",
       "    </tr>\n",
       "    <tr>\n",
       "      <th>1236</th>\n",
       "      <td>MH266396 A/canine/South Carolina/132956/2017 2...</td>\n",
       "      <td>AGCAAAAGCAGGGTGACAAAAACATAATGGACTCCAACACTGTGTC...</td>\n",
       "    </tr>\n",
       "    <tr>\n",
       "      <th>1237</th>\n",
       "      <td>MH266397 A/canine/South Carolina/132956/2017 2...</td>\n",
       "      <td>AGCAAAAGCAGGTACTGATCCAAAATGGAAGACTTTGTGAGACAAT...</td>\n",
       "    </tr>\n",
       "    <tr>\n",
       "      <th>1238</th>\n",
       "      <td>MH266398 A/canine/South Carolina/132956/2017 2...</td>\n",
       "      <td>AGCGAAAGCAGGCAAACCATTTGAATGGATGTCAATCCGACTTTAC...</td>\n",
       "    </tr>\n",
       "    <tr>\n",
       "      <th>1239</th>\n",
       "      <td>MH266399 A/canine/South Carolina/132956/2017 2...</td>\n",
       "      <td>AGCGAAAGCAGGTCAAATATATTCAATATGGAAAGAATAAAAGAAT...</td>\n",
       "    </tr>\n",
       "  </tbody>\n",
       "</table>\n",
       "</div>"
      ],
      "text/plain": [
       "                                                 titles  \\\n",
       "1235  MH266395 A/canine/South Carolina/132956/2017 2...   \n",
       "1236  MH266396 A/canine/South Carolina/132956/2017 2...   \n",
       "1237  MH266397 A/canine/South Carolina/132956/2017 2...   \n",
       "1238  MH266398 A/canine/South Carolina/132956/2017 2...   \n",
       "1239  MH266399 A/canine/South Carolina/132956/2017 2...   \n",
       "\n",
       "                                              sequences  \n",
       "1235  AGCAAAAGCAGGGTAGATAATCACTCACTGAGTGACATCAACGTCA...  \n",
       "1236  AGCAAAAGCAGGGTGACAAAAACATAATGGACTCCAACACTGTGTC...  \n",
       "1237  AGCAAAAGCAGGTACTGATCCAAAATGGAAGACTTTGTGAGACAAT...  \n",
       "1238  AGCGAAAGCAGGCAAACCATTTGAATGGATGTCAATCCGACTTTAC...  \n",
       "1239  AGCGAAAGCAGGTCAAATATATTCAATATGGAAAGAATAAAAGAAT...  "
      ]
     },
     "execution_count": 4,
     "metadata": {},
     "output_type": "execute_result"
    }
   ],
   "source": [
    "caninet.tail()"
   ]
  },
  {
   "cell_type": "code",
   "execution_count": 5,
   "metadata": {},
   "outputs": [],
   "source": [
    "# character kgram function, out is set\n",
    "def charkgram(text, k):\n",
    "    results=set()\n",
    "    for i in range(len(text)-k+1):\n",
    "        if text[i:i+k] not in results:\n",
    "            results.add(text[i:i+k])\n",
    "    return(results)"
   ]
  },
  {
   "cell_type": "code",
   "execution_count": 6,
   "metadata": {},
   "outputs": [],
   "source": [
    "def JacSim(a,b):\n",
    "    top = len(a & b)\n",
    "    bottom = len(a | b)\n",
    "    return(top/bottom)"
   ]
  },
  {
   "cell_type": "code",
   "execution_count": 7,
   "metadata": {},
   "outputs": [
    {
     "data": {
      "text/plain": [
       "'AGCAAAAGCAGGGGATACTTTCATTAATCATGAAAACTGTTATTGCTTTAAGCTATATTTTCTGCCTGGCTTTTGGTCAGAATCTTCTAGGAAATGAAAATAATGCTGCAACACTATGCCTGGGACATCATGCAGTGCCGAACGGGACAATGGTAAAAACTATCACAGACGATCAAATTGAGGTGACCAACGCCACTGAGCTAGTCCAAAACTCCTCAACAGGGAAAATATGCAACAATCCCCACAAGATTCTTGATGGGAGGGACTGCACGCTAATAGATGCCCTACTAGGGGACCCACACTGTGACGTCTTCCAAAATGAGACATGGGACCTTTTTGTGGAACGAAGCAATGCTTTTAGCAATTGTTACCCTTATGATGTACCAGACTATGCATCCCTCCGATCCATAGTTGCATCATCAGGCACATTGGAGTTCATCACTGAAGGTTTCACTTGGGCAGGAGTAACTCAAAATGGAGGAAGCGGTGCTTGTAAAAGGGGACCTGCTAATAGTTTCTTCAGTAGATTGAATTGGTTAACTAAATCAGGAAATACATATCCAGTGTTGAATGTGACTATGCCAAACAACAACAATTTCGACAAATTATACATCTGGGGAGTTCATCACCCAAGCACTGATCAAGAACAAACCAGCCTGTATATTCAGGCCTCAGGAAGAGTCACAGTCTCTACCAGGAGAAGCCAACAGACCATAATCCCAAACATTGGATCTAGACCCTTGGTAAGGGGCCAATCTGGCAGAATAAGCGTATATTGGACAATAGTCAAACCTGGAGACATACTGGTAATAAACAGTAATGGAAACCTAATCGCTCCTCGAGGATACTTCAAAATGCACATTGGGAAAAGCTCAATAATGAGATCAGATGCACCTATTGACACCTGCATTTCCGAATGTATCACCCCGAACGGGAGCATCCCCAATGAAAAGCCCTTCCAAAATGTAAACAAGATCACATACGGAGCATGTCCCAAATATGTTAAGCAAAACACCTTGAAACTGGCAACAGGAATGCGGAATGTCCCTGAAAGGCAAACCAGAGGCCTGTTCGGCGCAATAGCAGGCTTCATAGAAAATGGATGGGAAGGGATGGTAGACGGTTGGTATGGCTTCAGACACCAAAATTCCGAAGGTACAGGACAAGCAGCAGACCTTAAAAGCACTCAGGCAGCCATTGACCAGATTAATGGGAAATTGAACAGAGTGATTGAAAAAACGAATGAAAAGTTCCATCAAATTGAAAAGGAGTTTTCCGAAGTAGAAGGGAGGATTCAAGACCTTGAAAGATACGTTGAAGACACAAAAATAGATCTTTGGTCTTACAATGCCGAGCTTCTTGTTGCCTTAGAAAACCAGAACACAATTGATTTAACTGATTCAGAAATGAACAAATTGTTTGAAAAGACTAGGAGGCAATTGAGGGAAAATGCTGAAGACATGGGCAATGGCTGCTTCAAAATCTACCACAAGTGTGACAATGCTTGCATAGAATCGATTAGAAACGGAACTTATGACCATAACATATATAGAGATGAGGCAGTGAACAATCGGTTCCAGATCAAAGGTGTTGAGCTAAAGTCTGGATACAAAGACTGGATCTTGTGGATTTCCTTTGCCATATCATGCTTTTTGCTTTGTGTTGTCTTGCTGGGTTTCATTATGTGGGCCTGCCAGAGAGGCAACATTAGGTGCAACATTTGCATTTGAGTGTACTAATAATTAAAAACACCCTTGTTTCTACT'"
      ]
     },
     "execution_count": 7,
     "metadata": {},
     "output_type": "execute_result"
    }
   ],
   "source": [
    "ct_sequences[0]"
   ]
  },
  {
   "cell_type": "code",
   "execution_count": 8,
   "metadata": {
    "scrolled": true
   },
   "outputs": [
    {
     "data": {
      "text/plain": [
       "'AGCAAAAGCAGGGTGACAAAAACATAATGGACTCCAACACTGTGTCAAGCTTTCAGGTAGACTGCTTTCTTTGGCATGTCCGCAAACGATTTGCAGACCAAGAACTGGGTGATGCCCCATTCCTTGATCGGCTTCGCCGAGATCAGAAGTCCCTAAGAGGAAGAGGCAGCACCCTTGGTCTGGACATTGAAACAGCTACTCGTATAGGAAAACAGATAGTGGAGTGGATTCTGGAGGAAGAATCCGATAAGGCACTTAAAATGACCATTGCTTCAGTCCCAGTTTCATGCTACCTAACTGATATGACACTTGAAGAAATGTCAAGAGACTGGTTCATGCTCATGCCAAAGCAAAAAGTAGCAGGGTCCCTTTGCATCAAAATGGACCAGGCAATAATGGATAAAAACATCACATTGAAAGCAAACTTCAGTGTGATTTTTGAGCGACTGGAAACTCTAATACTACTTAGAGCTTTCACAAACGAAGGAGCAATTGTGGGAGAAATTTCACCATTACCTTCTCTTCCAGGACATACTGATAAGGATGTCAAAAATGCAATTGGGATCCTCATCGGAGGGCTTGAATGGAATGATAACACAGTTCGAGTCTCTGAAATTCTACAGAGATTCGCTTGGAGAAGCAGTGATGAGAATGGGAGATCTTCACTCCCTCCAAAGTAGAAACGGAAAATGGCGAGAACAATTAAGTCAGAAATTTGAGGAAATAAGGTGGCTAATCGAAGAAGTACGGCATAGATTAAAGATTACGGAAAACAGCTTTGAACAAATAACATTTATGCAAGCCTTACAACTATTGCTTGAGGTAGAGCAAGAGATAAGAACTTTCTCGTTTCAGCTTATTTAATGATAAAAAACACCCTTGTTTCTACT'"
      ]
     },
     "execution_count": 8,
     "metadata": {},
     "output_type": "execute_result"
    }
   ],
   "source": [
    "ct_sequences[1]"
   ]
  },
  {
   "cell_type": "markdown",
   "metadata": {},
   "source": [
    "comparing two different genes from the same genome."
   ]
  },
  {
   "cell_type": "code",
   "execution_count": 9,
   "metadata": {},
   "outputs": [
    {
     "data": {
      "text/plain": [
       "1.0"
      ]
     },
     "execution_count": 9,
     "metadata": {},
     "output_type": "execute_result"
    }
   ],
   "source": [
    "seq0_kg = charkgram(ct_sequences[0],3)\n",
    "seq1_kg = charkgram(ct_sequences[1],3)\n",
    "JacSim(seq0_kg,seq1_kg)"
   ]
  },
  {
   "cell_type": "code",
   "execution_count": 10,
   "metadata": {},
   "outputs": [
    {
     "data": {
      "text/plain": [
       "0.888"
      ]
     },
     "execution_count": 10,
     "metadata": {},
     "output_type": "execute_result"
    }
   ],
   "source": [
    "seq0_kg = charkgram(ct_sequences[0],4)\n",
    "seq1_kg = charkgram(ct_sequences[1],4)\n",
    "JacSim(seq0_kg,seq1_kg)"
   ]
  },
  {
   "cell_type": "code",
   "execution_count": 11,
   "metadata": {},
   "outputs": [
    {
     "data": {
      "text/plain": [
       "0.5344619105199516"
      ]
     },
     "execution_count": 11,
     "metadata": {},
     "output_type": "execute_result"
    }
   ],
   "source": [
    "seq0_kg = charkgram(ct_sequences[0],5)\n",
    "seq1_kg = charkgram(ct_sequences[1],5)\n",
    "JacSim(seq0_kg,seq1_kg)"
   ]
  },
  {
   "cell_type": "code",
   "execution_count": 12,
   "metadata": {},
   "outputs": [
    {
     "data": {
      "text/plain": [
       "0.20433255269320844"
      ]
     },
     "execution_count": 12,
     "metadata": {},
     "output_type": "execute_result"
    }
   ],
   "source": [
    "seq0_kg = charkgram(ct_sequences[0],6)\n",
    "seq1_kg = charkgram(ct_sequences[1],6)\n",
    "JacSim(seq0_kg,seq1_kg)"
   ]
  },
  {
   "cell_type": "code",
   "execution_count": 13,
   "metadata": {},
   "outputs": [
    {
     "data": {
      "text/plain": [
       "0.0663153271848924"
      ]
     },
     "execution_count": 13,
     "metadata": {},
     "output_type": "execute_result"
    }
   ],
   "source": [
    "seq0_kg = charkgram(ct_sequences[0],7)\n",
    "seq1_kg = charkgram(ct_sequences[1],7)\n",
    "JacSim(seq0_kg,seq1_kg)"
   ]
  },
  {
   "cell_type": "markdown",
   "metadata": {},
   "source": [
    "comparing 2 HA genes from different strains"
   ]
  },
  {
   "cell_type": "code",
   "execution_count": 14,
   "metadata": {},
   "outputs": [
    {
     "data": {
      "text/plain": [
       "['MH363660 A/canine/Georgia/20170606-19/2017 2017/05/25 4 (HA)',\n",
       " 'MH363665 A/canine/Georgia/20170606-19/2017 2017/05/25 8 (NS)',\n",
       " 'MH363670 A/canine/Georgia/20170606-19/2017 2017/05/25 6 (NA)',\n",
       " 'MH363671 A/canine/Georgia/20170606-19/2017 2017/05/25 1 (PB2)',\n",
       " 'MH363685 A/canine/Georgia/20170606-19/2017 2017/05/25 5 (NP)',\n",
       " 'MH363689 A/canine/Georgia/20170606-19/2017 2017/05/25 3 (PA)',\n",
       " 'MH363690 A/canine/Georgia/20170606-19/2017 2017/05/25 7 (MP)',\n",
       " 'MH363696 A/canine/Georgia/20170606-19/2017 2017/05/25 2 (PB1)',\n",
       " 'MH363666 A/canine/Georgia/89750.1/2017 2017/05/26 8 (NS)',\n",
       " 'MH363669 A/canine/Georgia/89750.1/2017 2017/05/26 4 (HA)',\n",
       " 'MH363676 A/canine/Georgia/89750.1/2017 2017/05/26 6 (NA)',\n",
       " 'MH363678 A/canine/Georgia/89750.1/2017 2017/05/26 1 (PB2)',\n",
       " 'MH363683 A/canine/Georgia/89750.1/2017 2017/05/26 7 (MP)',\n",
       " 'MH363686 A/canine/Georgia/89750.1/2017 2017/05/26 5 (NP)',\n",
       " 'MH363691 A/canine/Georgia/89750.1/2017 2017/05/26 3 (PA)',\n",
       " 'MH363699 A/canine/Georgia/89750.1/2017 2017/05/26 2 (PB1)',\n",
       " 'FJ560885 A/canine/Korea/GCVP01/2007 2007/05/ 7 (MP)',\n",
       " 'FJ560886 A/canine/Korea/GCVP01/2007 2007/05/ 8 (NS)',\n",
       " 'FJ560887 A/canine/Korea/GCVP01/2007 2007/05/ 5 (NP)',\n",
       " 'FJ560888 A/canine/Korea/GCVP01/2007 2007/05/ 3 (PA)',\n",
       " 'FJ560889 A/canine/Korea/GCVP01/2007 2007/05/ 2 (PB1)',\n",
       " 'FJ560890 A/canine/Korea/GCVP01/2007 2007/05/ 1 (PB2)',\n",
       " 'EU127500 A/canine/Korea/GCVP01/2007 2007/05/ 4 (HA)',\n",
       " 'EU127501 A/canine/Korea/GCVP01/2007 2007/05/ 6 (NA)']"
      ]
     },
     "execution_count": 14,
     "metadata": {},
     "output_type": "execute_result"
    }
   ],
   "source": [
    "ct_titles[0:24]"
   ]
  },
  {
   "cell_type": "code",
   "execution_count": 15,
   "metadata": {},
   "outputs": [
    {
     "data": {
      "text/plain": [
       "0.9186351706036745"
      ]
     },
     "execution_count": 15,
     "metadata": {},
     "output_type": "execute_result"
    }
   ],
   "source": [
    "seq0_kg = charkgram(ct_sequences[0],5)\n",
    "seq22_kg = charkgram(ct_sequences[22],5)\n",
    "JacSim(seq0_kg,seq22_kg)"
   ]
  },
  {
   "cell_type": "code",
   "execution_count": 16,
   "metadata": {},
   "outputs": [],
   "source": [
    "# character kgram function out is a list\n",
    "def charkgramL(text, k):\n",
    "    results=[]\n",
    "    for i in range(len(text)-k+1):\n",
    "        if text[i:i+k] not in results:\n",
    "            results.append(text[i:i+k])\n",
    "    return(results)"
   ]
  },
  {
   "cell_type": "code",
   "execution_count": 17,
   "metadata": {},
   "outputs": [
    {
     "data": {
      "text/plain": [
       "0.9186351706036745"
      ]
     },
     "execution_count": 17,
     "metadata": {},
     "output_type": "execute_result"
    }
   ],
   "source": [
    "seq0_kg = charkgramL(ct_sequences[0],5)\n",
    "seq22_kg = charkgramL(ct_sequences[22],5)\n",
    "JacSim(set(seq0_kg),set(seq22_kg))"
   ]
  },
  {
   "cell_type": "code",
   "execution_count": 18,
   "metadata": {},
   "outputs": [],
   "source": [
    "from datasketch import MinHash"
   ]
  },
  {
   "cell_type": "code",
   "execution_count": 19,
   "metadata": {},
   "outputs": [
    {
     "name": "stdout",
     "output_type": "stream",
     "text": [
      "Estimated Jaccard for data1 and data2 is 0.9296875\n",
      "Actual Jaccard for data1 and data2 is 0.9186351706036745\n",
      "error =  0.0110523293963255\n"
     ]
    }
   ],
   "source": [
    "data1 = seq0_kg\n",
    "data2 = seq22_kg\n",
    "m1, m2 = MinHash(num_perm=128), MinHash(num_perm=128)\n",
    "for d in data1:\n",
    "    m1.update(d.encode('utf8'))\n",
    "for d in data2:\n",
    "    m2.update(d.encode('utf8'))\n",
    "estimate=m1.jaccard(m2)\n",
    "print(\"Estimated Jaccard for data1 and data2 is\", estimate)\n",
    "\n",
    "s1 = set(data1)\n",
    "s2 = set(data2)\n",
    "actual_jaccard = float(len(s1.intersection(s2)))/float(len(s1.union(s2)))\n",
    "print(\"Actual Jaccard for data1 and data2 is\", actual_jaccard)\n",
    "print(\"error = \", estimate-actual_jaccard)"
   ]
  },
  {
   "cell_type": "markdown",
   "metadata": {},
   "source": [
    "not very similar"
   ]
  },
  {
   "cell_type": "code",
   "execution_count": 20,
   "metadata": {},
   "outputs": [
    {
     "data": {
      "text/plain": [
       "0.5344619105199516"
      ]
     },
     "execution_count": 20,
     "metadata": {},
     "output_type": "execute_result"
    }
   ],
   "source": [
    "seq0_kg = charkgramL(ct_sequences[0],5)\n",
    "seq1_kg = charkgramL(ct_sequences[1],5)\n",
    "JacSim(set(seq0_kg),set(seq1_kg))"
   ]
  },
  {
   "cell_type": "code",
   "execution_count": 21,
   "metadata": {
    "scrolled": true
   },
   "outputs": [
    {
     "name": "stdout",
     "output_type": "stream",
     "text": [
      "Estimated Jaccard for data1 and data2 is 0.53125\n",
      "Actual Jaccard for data1 and data2 is 0.5344619105199516\n",
      "error =  -0.003211910519951622\n"
     ]
    }
   ],
   "source": [
    "data1 = seq0_kg\n",
    "data2 = seq1_kg\n",
    "m1, m2 = MinHash(num_perm=128), MinHash(num_perm=128)\n",
    "for d in data1:\n",
    "    m1.update(d.encode('utf8'))\n",
    "for d in data2:\n",
    "    m2.update(d.encode('utf8'))\n",
    "estimate=m1.jaccard(m2)\n",
    "print(\"Estimated Jaccard for data1 and data2 is\", estimate)\n",
    "\n",
    "s1 = set(data1)\n",
    "s2 = set(data2)\n",
    "actual_jaccard = float(len(s1.intersection(s2)))/float(len(s1.union(s2)))\n",
    "print(\"Actual Jaccard for data1 and data2 is\", actual_jaccard)\n",
    "print(\"error = \", estimate-actual_jaccard)"
   ]
  },
  {
   "cell_type": "markdown",
   "metadata": {},
   "source": [
    "probably identical"
   ]
  },
  {
   "cell_type": "code",
   "execution_count": 22,
   "metadata": {},
   "outputs": [
    {
     "data": {
      "text/plain": [
       "1.0"
      ]
     },
     "execution_count": 22,
     "metadata": {},
     "output_type": "execute_result"
    }
   ],
   "source": [
    "seq0_kg = charkgramL(ct_sequences[0],5)\n",
    "seq9_kg = charkgramL(ct_sequences[9],5)\n",
    "JacSim(set(seq0_kg),set(seq9_kg))"
   ]
  },
  {
   "cell_type": "code",
   "execution_count": 23,
   "metadata": {},
   "outputs": [
    {
     "name": "stdout",
     "output_type": "stream",
     "text": [
      "Estimated Jaccard for data1 and data2 is 1.0\n",
      "Actual Jaccard for data1 and data2 is 1.0\n",
      "error =  0.0\n"
     ]
    }
   ],
   "source": [
    "data1 = seq0_kg\n",
    "data2 = seq9_kg\n",
    "m1, m2 = MinHash(num_perm=128), MinHash(num_perm=128)\n",
    "for d in data1:\n",
    "    m1.update(d.encode('utf8'))\n",
    "for d in data2:\n",
    "    m2.update(d.encode('utf8'))\n",
    "estimate=m1.jaccard(m2)\n",
    "print(\"Estimated Jaccard for data1 and data2 is\", estimate)\n",
    "\n",
    "s1 = set(data1)\n",
    "s2 = set(data2)\n",
    "actual_jaccard = float(len(s1.intersection(s2)))/float(len(s1.union(s2)))\n",
    "print(\"Actual Jaccard for data1 and data2 is\", actual_jaccard)\n",
    "print(\"error = \", estimate-actual_jaccard)"
   ]
  },
  {
   "cell_type": "code",
   "execution_count": 24,
   "metadata": {},
   "outputs": [
    {
     "data": {
      "text/plain": [
       "1.0"
      ]
     },
     "execution_count": 24,
     "metadata": {},
     "output_type": "execute_result"
    }
   ],
   "source": [
    "seq0_kg = charkgramL(ct_sequences[0],13)\n",
    "seq9_kg = charkgramL(ct_sequences[9],13)\n",
    "JacSim(set(seq0_kg),set(seq9_kg))"
   ]
  },
  {
   "cell_type": "code",
   "execution_count": 25,
   "metadata": {},
   "outputs": [
    {
     "name": "stdout",
     "output_type": "stream",
     "text": [
      "Estimated Jaccard for data1 and data2 is 1.0\n",
      "Actual Jaccard for data1 and data2 is 1.0\n",
      "error =  0.0\n"
     ]
    }
   ],
   "source": [
    "data1 = seq0_kg\n",
    "data2 = seq9_kg\n",
    "m1, m2 = MinHash(num_perm=128), MinHash(num_perm=128)\n",
    "for d in data1:\n",
    "    m1.update(d.encode('utf8'))\n",
    "for d in data2:\n",
    "    m2.update(d.encode('utf8'))\n",
    "estimate=m1.jaccard(m2)\n",
    "print(\"Estimated Jaccard for data1 and data2 is\", estimate)\n",
    "\n",
    "s1 = set(data1)\n",
    "s2 = set(data2)\n",
    "actual_jaccard = float(len(s1.intersection(s2)))/float(len(s1.union(s2)))\n",
    "print(\"Actual Jaccard for data1 and data2 is\", actual_jaccard)\n",
    "print(\"error = \", estimate-actual_jaccard)"
   ]
  },
  {
   "cell_type": "code",
   "execution_count": 26,
   "metadata": {},
   "outputs": [
    {
     "name": "stderr",
     "output_type": "stream",
     "text": [
      "/home/brian/anaconda3/lib/python3.7/site-packages/ipykernel_launcher.py:1: UserWarning: This pattern has match groups. To actually get the groups, use str.extract.\n",
      "  \"\"\"Entry point for launching an IPython kernel.\n"
     ]
    }
   ],
   "source": [
    "HA_only = caninet.loc[caninet.iloc[:,0].str.contains(r'(HA)')]"
   ]
  },
  {
   "cell_type": "code",
   "execution_count": 27,
   "metadata": {},
   "outputs": [
    {
     "data": {
      "text/plain": [
       "(155, 2)"
      ]
     },
     "execution_count": 27,
     "metadata": {},
     "output_type": "execute_result"
    }
   ],
   "source": [
    "HA_only.shape"
   ]
  },
  {
   "cell_type": "code",
   "execution_count": 28,
   "metadata": {},
   "outputs": [],
   "source": [
    "import itertools as it"
   ]
  },
  {
   "cell_type": "code",
   "execution_count": 29,
   "metadata": {},
   "outputs": [],
   "source": [
    "HA_seqs = list(HA_only.sequences)\n",
    "rcl=list(it.combinations(HA_seqs,2))"
   ]
  },
  {
   "cell_type": "code",
   "execution_count": 30,
   "metadata": {},
   "outputs": [
    {
     "data": {
      "text/plain": [
       "('AGCAAAAGCAGGGGATACTTTCATTAATCATGAAAACTGTTATTGCTTTAAGCTATATTTTCTGCCTGGCTTTTGGTCAGAATCTTCTAGGAAATGAAAATAATGCTGCAACACTATGCCTGGGACATCATGCAGTGCCGAACGGGACAATGGTAAAAACTATCACAGACGATCAAATTGAGGTGACCAACGCCACTGAGCTAGTCCAAAACTCCTCAACAGGGAAAATATGCAACAATCCCCACAAGATTCTTGATGGGAGGGACTGCACGCTAATAGATGCCCTACTAGGGGACCCACACTGTGACGTCTTCCAAAATGAGACATGGGACCTTTTTGTGGAACGAAGCAATGCTTTTAGCAATTGTTACCCTTATGATGTACCAGACTATGCATCCCTCCGATCCATAGTTGCATCATCAGGCACATTGGAGTTCATCACTGAAGGTTTCACTTGGGCAGGAGTAACTCAAAATGGAGGAAGCGGTGCTTGTAAAAGGGGACCTGCTAATAGTTTCTTCAGTAGATTGAATTGGTTAACTAAATCAGGAAATACATATCCAGTGTTGAATGTGACTATGCCAAACAACAACAATTTCGACAAATTATACATCTGGGGAGTTCATCACCCAAGCACTGATCAAGAACAAACCAGCCTGTATATTCAGGCCTCAGGAAGAGTCACAGTCTCTACCAGGAGAAGCCAACAGACCATAATCCCAAACATTGGATCTAGACCCTTGGTAAGGGGCCAATCTGGCAGAATAAGCGTATATTGGACAATAGTCAAACCTGGAGACATACTGGTAATAAACAGTAATGGAAACCTAATCGCTCCTCGAGGATACTTCAAAATGCACATTGGGAAAAGCTCAATAATGAGATCAGATGCACCTATTGACACCTGCATTTCCGAATGTATCACCCCGAACGGGAGCATCCCCAATGAAAAGCCCTTCCAAAATGTAAACAAGATCACATACGGAGCATGTCCCAAATATGTTAAGCAAAACACCTTGAAACTGGCAACAGGAATGCGGAATGTCCCTGAAAGGCAAACCAGAGGCCTGTTCGGCGCAATAGCAGGCTTCATAGAAAATGGATGGGAAGGGATGGTAGACGGTTGGTATGGCTTCAGACACCAAAATTCCGAAGGTACAGGACAAGCAGCAGACCTTAAAAGCACTCAGGCAGCCATTGACCAGATTAATGGGAAATTGAACAGAGTGATTGAAAAAACGAATGAAAAGTTCCATCAAATTGAAAAGGAGTTTTCCGAAGTAGAAGGGAGGATTCAAGACCTTGAAAGATACGTTGAAGACACAAAAATAGATCTTTGGTCTTACAATGCCGAGCTTCTTGTTGCCTTAGAAAACCAGAACACAATTGATTTAACTGATTCAGAAATGAACAAATTGTTTGAAAAGACTAGGAGGCAATTGAGGGAAAATGCTGAAGACATGGGCAATGGCTGCTTCAAAATCTACCACAAGTGTGACAATGCTTGCATAGAATCGATTAGAAACGGAACTTATGACCATAACATATATAGAGATGAGGCAGTGAACAATCGGTTCCAGATCAAAGGTGTTGAGCTAAAGTCTGGATACAAAGACTGGATCTTGTGGATTTCCTTTGCCATATCATGCTTTTTGCTTTGTGTTGTCTTGCTGGGTTTCATTATGTGGGCCTGCCAGAGAGGCAACATTAGGTGCAACATTTGCATTTGAGTGTACTAATAATTAAAAACACCCTTGTTTCTACT',\n",
       " 'ATGAAAACTGTTATTGCTTTAAGCTACATTTTCTGCCTGGCTTTTGGTCAGAATCTTCCAGGAAATGAAAATAATGCTGCAACACTATGCCTGGGACATCATGCAGTGCCGAACGGGACAATAGTGAAAACTATCACAGACGATCAAATTGAGGTGACCAACGCCACCGAGCTAGTCCAAAACTCCTCAACAGGGAAAATATGCAACAATCCCCACAAGATTCTTGATGGGAGGGACTGCACACTAATAGATGCCCTACTAGGGGACCCGCACTGTGACGTCTTCCAAAATGAGACATGGGACCTTTTTGTGGAACGAAGCAATGCTTTTAGCAATTGTTACCCTTATGATGTACCAGACTATGCATCCCTTCGATCCATAGTTGCATCATCAGGCACATTGGAGTTCATCACTGAAGGTTTCACTTGGGCAGGAGTAACTCAAAATGGAGGAAGCGGTGCTTGTAAAAGGGGACCTGCTAATGGTTTCTTCAGTAGATTGAATTGGTTAACTAAGTCAGGAAATACATATCCAGTGTTGAATGTGACTATGCCAAACAATAACAATTTCGACAAATTATACATTTGGGGAGTTCATCACCCAAGCACTAATCAAGAACAAACCAGCCTGTATATTCAGGCCTCAGGAAGAGTCACAGTCTCTACCGGGAGAAGCCAACAGACCATAATCCCAAACATTGGATCTAGACCCTTGGTAAGGGGCCAATCTGGCAGAATAAGCGTATATTGGACAACAGTCAAACCTGGAGACGTACTGGTAATAAACAGTAATGGAAACCTAATCGCTCCTCGAGGCTACTTCAAAATGCACATTGGGAAAAGCTCAATAATGAGATCAGATGCGCCTATTGACACCTGCATTTCCGAATGTATCACTCCGAACGGGAGCATCCCCAATGAAAAGCCCTTCCAAAATGTAAACAAGATCACATACGGAGCATGTCCCAAATATGTTAAGCAAAACACCTTGAAACTGGCAACAGGAATGCGGAATGTCCCTGAGAGGCAAACCAGAGGCCTGTTCGGCGCAATAGCAGGCTTCATAGAAAATGGATGGGAAGGGATGGTAGACGGTTGGTATGGCTTCAGGCACCAAAATTCCGAAGGTACAGGACAAGCAGCAGACCTTAAAAGCACTCAGGCAGCCATTGACCAGATTAATGGGAAATTGAACAGAGTGATTGAAAAAACGAATGAGAAGTTCCATCAAATCGAAAAGGAGTTTTCCGAAGTAGAAGGGAGGATTCAAGACCTTGAGAAATACGTTGAAGACACAAAAGTAGATCTTTGGTCTTACAATGCCGAGCTTCTTGTTGCTTTAGAAAACCAGAACACAATTGATTTAACTGATTCAGAAATGAACAAATTATTTGAAAAGACTAGGGGGCAATTGAGGGAAAATGCTGAAGACATGGGCAATGGCTGCTTCAAGATATACCACAAGTGTGACAATGCTTGCATAGAATCGATTAGAAACGGAACTTATGACCATAACATATATAGAGATGAGGCAGTGAACAATCGGTTCCAGATCAAAGGTGTTGAGCTAAAGTCTGGATACAAAGACTGGATCTTGTGGATTTCCTTTGCCATATCATGCTTTTTGCTTTGTGTTGTCTTGCTGGGTTTTATTATGTGGGCCTGCCAGAGAGGCAACATTAGGTGCAACATTTGCATTTGA')"
      ]
     },
     "execution_count": 30,
     "metadata": {},
     "output_type": "execute_result"
    }
   ],
   "source": [
    "rcl[12]"
   ]
  },
  {
   "cell_type": "code",
   "execution_count": 31,
   "metadata": {},
   "outputs": [],
   "source": [
    "idl=list(it.combinations(list(HA_only.index),2))"
   ]
  },
  {
   "cell_type": "code",
   "execution_count": 32,
   "metadata": {
    "scrolled": false
   },
   "outputs": [
    {
     "data": {
      "text/plain": [
       "('AGCAAAAGCAGGGGATACTTTCATTAATCATGAAAACTGTTATTGCTTTAAGCTATATTTTCTGCCTGGCTTTTGGTCAGAATCTTCTAGGAAATGAAAATAATGCTGCAACACTATGCCTGGGACATCATGCAGTGCCGAACGGGACAATGGTAAAAACTATCACAGACGATCAAATTGAGGTGACCAACGCCACTGAGCTAGTCCAAAACTCCTCAACAGGGAAAATATGCAACAATCCCCACAAGATTCTTGATGGGAGGGACTGCACGCTAATAGATGCCCTACTAGGGGACCCACACTGTGACGTCTTCCAAAATGAGACATGGGACCTTTTTGTGGAACGAAGCAATGCTTTTAGCAATTGTTACCCTTATGATGTACCAGACTATGCATCCCTCCGATCCATAGTTGCATCATCAGGCACATTGGAGTTCATCACTGAAGGTTTCACTTGGGCAGGAGTAACTCAAAATGGAGGAAGCGGTGCTTGTAAAAGGGGACCTGCTAATAGTTTCTTCAGTAGATTGAATTGGTTAACTAAATCAGGAAATACATATCCAGTGTTGAATGTGACTATGCCAAACAACAACAATTTCGACAAATTATACATCTGGGGAGTTCATCACCCAAGCACTGATCAAGAACAAACCAGCCTGTATATTCAGGCCTCAGGAAGAGTCACAGTCTCTACCAGGAGAAGCCAACAGACCATAATCCCAAACATTGGATCTAGACCCTTGGTAAGGGGCCAATCTGGCAGAATAAGCGTATATTGGACAATAGTCAAACCTGGAGACATACTGGTAATAAACAGTAATGGAAACCTAATCGCTCCTCGAGGATACTTCAAAATGCACATTGGGAAAAGCTCAATAATGAGATCAGATGCACCTATTGACACCTGCATTTCCGAATGTATCACCCCGAACGGGAGCATCCCCAATGAAAAGCCCTTCCAAAATGTAAACAAGATCACATACGGAGCATGTCCCAAATATGTTAAGCAAAACACCTTGAAACTGGCAACAGGAATGCGGAATGTCCCTGAAAGGCAAACCAGAGGCCTGTTCGGCGCAATAGCAGGCTTCATAGAAAATGGATGGGAAGGGATGGTAGACGGTTGGTATGGCTTCAGACACCAAAATTCCGAAGGTACAGGACAAGCAGCAGACCTTAAAAGCACTCAGGCAGCCATTGACCAGATTAATGGGAAATTGAACAGAGTGATTGAAAAAACGAATGAAAAGTTCCATCAAATTGAAAAGGAGTTTTCCGAAGTAGAAGGGAGGATTCAAGACCTTGAAAGATACGTTGAAGACACAAAAATAGATCTTTGGTCTTACAATGCCGAGCTTCTTGTTGCCTTAGAAAACCAGAACACAATTGATTTAACTGATTCAGAAATGAACAAATTGTTTGAAAAGACTAGGAGGCAATTGAGGGAAAATGCTGAAGACATGGGCAATGGCTGCTTCAAAATCTACCACAAGTGTGACAATGCTTGCATAGAATCGATTAGAAACGGAACTTATGACCATAACATATATAGAGATGAGGCAGTGAACAATCGGTTCCAGATCAAAGGTGTTGAGCTAAAGTCTGGATACAAAGACTGGATCTTGTGGATTTCCTTTGCCATATCATGCTTTTTGCTTTGTGTTGTCTTGCTGGGTTTCATTATGTGGGCCTGCCAGAGAGGCAACATTAGGTGCAACATTTGCATTTGAGTGTACTAATAATTAAAAACACCCTTGTTTCTACT',\n",
       " 'ATGAAAACTGTTATTGCTTTAAGCTACATTTTCTGCCTGGCTTTTGGTCAGAATCTTCCAGGAAGTGAAAATAATGCTGCAACACTATGCCTGGGACATCATGCAGTGCCGAACGGGACAATGGTGAAAACCATCACAGACGATCAAATTGAGGTGACCAACGCCACCGAGCTAGTCCAAAACTCATCAACAGGGAAAATATGCAACAATCCCCACAAGATTCTTGATGGGAGGGACTGCACACTAATAGATGCCCTACTAGGGGACCCACACTGTGACGTCTTCCAAAATGAGACATGGGACCTTTTTGTGGAACGAAGCAATGCTTTTAGCAATTGTTACCCTTATGATGTACCAGACTATGCATCCCTCCGATCCATAGTTGCATCATCAGGCACATTGGAGTTCATCACTGAAGGTTTCACTTGGGCAGGAGTAACTCAAAATGGAGGAAGCGGTGCTTGTAAAAAGGGACCTGCTAATGGTTTCTTCAGTAGATTGAATTGGTTAACTAAATCAGGAAATACATATCCAGTGTTGAATGTGACTATGCCAAACAATAACAATTTCGACAAATTATACATTTGGGGAGTTCATCACCCAAGCACCAATCAAGAACAAACCAGCCTGTATATTCAGGCCTCAGGAAGAGTCACAGTCTCTACCAGGAGAAGCCAACAGACCATAATCCCAAACATTGGCTCTAGACCCTTGGTAAGGGGCCAATCTGGCAGAATAAGCGTATATTGGACAATAGTCAAACCTGGAGACATACTGGTAATTAACAGTAATGGAAACCTAATCGCTCCTCGAGGATACTTCAAAATGCACATTGGGAAAAGCTCAATAATGAGATCAGATGCGCCCATTGACACCTGCATTTCCGAATGTATCACTCCGAACGGGAGCATCCCCAATGAAAAGCCCTTCCAAAATGTAAACAAAATCACATACGGAGCATGTCCCAAATATATTAAGCAAAACACCTTGAAACTGGCAACAGGAATGCGGAATGTCCCTGAGAGGCAAACCAGAGGCTTGTTCGGCGCAATAGCAGGCTTCATAGAAAATGGATGGGAAGGGATGGTAGACGGTTGGTATGGTTTCAGGCACCAAAATTCCGAAGGTACAGGACAAGCAGCAGACCTTAAAAGCACTCAGGCAGCCATTGACCAGATTAATGGGAAATTGAACAGAGTGATTGAAAAAACAACTGAGAAGTTCCATCAAATCCAGAAGGAGTTTTCCGAAGTAGAAGGGAGGATTCAAGACCTTGAGAGATACGTTGAAGACACAAAAGTAGATCTTTGGTCTTACAATGCCGAGCTTCTTGTTGCTTTAGAAAACCAGAACACAATTGATTTAACTGATTCAGAAATGAACAAATTGTTTGAAAAGACTAGGAGGCAATTGAGGGAAAATGCTGAAGACATGGGCAATGGCTGCTTCAAGATATACCACAAATGTGACAATGCTTGCATAGAATCGATTAGAAACGGAACTTATGACCATAACATATATAGAGATGAGGCAGTGAACAATCGGTTCCAGATCAAAGGTGTTGAGCTTAAGTCTGGATACAAAGACTGGATCTTGTGGATTTCCTTTGCCATATCATGCTTTTTGCTTTGTGTTGTCTTGCTGGGTTTCATTATGTGGGCCTGCCAGAGAGGCAACATTAGGTGCAACATTTGCATTTGA')"
      ]
     },
     "execution_count": 32,
     "metadata": {},
     "output_type": "execute_result"
    }
   ],
   "source": [
    "a=idl[12][0]\n",
    "b=idl[12][1]\n",
    "HA_seqs[idl[12][0]],HA_seqs[idl[12][1]]"
   ]
  },
  {
   "cell_type": "code",
   "execution_count": 51,
   "metadata": {},
   "outputs": [
    {
     "data": {
      "text/plain": [
       "(0, 107)"
      ]
     },
     "execution_count": 51,
     "metadata": {},
     "output_type": "execute_result"
    }
   ],
   "source": [
    "idl[12]"
   ]
  },
  {
   "cell_type": "code",
   "execution_count": 33,
   "metadata": {},
   "outputs": [
    {
     "data": {
      "text/plain": [
       "107"
      ]
     },
     "execution_count": 33,
     "metadata": {},
     "output_type": "execute_result"
    }
   ],
   "source": [
    "idl[12][1]"
   ]
  },
  {
   "cell_type": "code",
   "execution_count": 34,
   "metadata": {},
   "outputs": [
    {
     "data": {
      "text/plain": [
       "11935"
      ]
     },
     "execution_count": 34,
     "metadata": {},
     "output_type": "execute_result"
    }
   ],
   "source": [
    "len(idl)"
   ]
  },
  {
   "cell_type": "code",
   "execution_count": 53,
   "metadata": {},
   "outputs": [
    {
     "data": {
      "text/plain": [
       "155"
      ]
     },
     "execution_count": 53,
     "metadata": {},
     "output_type": "execute_result"
    }
   ],
   "source": [
    "len(HA_seqs)"
   ]
  },
  {
   "cell_type": "code",
   "execution_count": 48,
   "metadata": {
    "scrolled": true
   },
   "outputs": [
    {
     "data": {
      "text/plain": [
       "0.928476821192053"
      ]
     },
     "execution_count": 48,
     "metadata": {},
     "output_type": "execute_result"
    }
   ],
   "source": [
    "JacSim(charkgram(HA_seqs[idl[12][0]],5),charkgram(HA_seqs[idl[12][1]],5))"
   ]
  },
  {
   "cell_type": "markdown",
   "metadata": {},
   "source": [
    "above is actually incorrect since the index values from pandas DF don't transfer to list so get list out of range error..."
   ]
  },
  {
   "cell_type": "code",
   "execution_count": 69,
   "metadata": {},
   "outputs": [
    {
     "data": {
      "text/html": [
       "<div>\n",
       "<style scoped>\n",
       "    .dataframe tbody tr th:only-of-type {\n",
       "        vertical-align: middle;\n",
       "    }\n",
       "\n",
       "    .dataframe tbody tr th {\n",
       "        vertical-align: top;\n",
       "    }\n",
       "\n",
       "    .dataframe thead th {\n",
       "        text-align: right;\n",
       "    }\n",
       "</style>\n",
       "<table border=\"1\" class=\"dataframe\">\n",
       "  <thead>\n",
       "    <tr style=\"text-align: right;\">\n",
       "      <th></th>\n",
       "      <th>titles</th>\n",
       "      <th>sequences</th>\n",
       "    </tr>\n",
       "  </thead>\n",
       "  <tbody>\n",
       "    <tr>\n",
       "      <th>22</th>\n",
       "      <td>EU127500 A/canine/Korea/GCVP01/2007 2007/05/ 4...</td>\n",
       "      <td>ATGAAGACCGTTATTGCTTTAAGCTACATTTTCTGCCTGGCTTTTG...</td>\n",
       "    </tr>\n",
       "  </tbody>\n",
       "</table>\n",
       "</div>"
      ],
      "text/plain": [
       "                                               titles  \\\n",
       "22  EU127500 A/canine/Korea/GCVP01/2007 2007/05/ 4...   \n",
       "\n",
       "                                            sequences  \n",
       "22  ATGAAGACCGTTATTGCTTTAAGCTACATTTTCTGCCTGGCTTTTG...  "
      ]
     },
     "execution_count": 69,
     "metadata": {},
     "output_type": "execute_result"
    }
   ],
   "source": [
    "HA_only.loc[[22]]"
   ]
  },
  {
   "cell_type": "code",
   "execution_count": 70,
   "metadata": {
    "scrolled": true
   },
   "outputs": [
    {
     "data": {
      "text/plain": [
       "(59, 1152)"
      ]
     },
     "execution_count": 70,
     "metadata": {},
     "output_type": "execute_result"
    }
   ],
   "source": [
    "idl[1193]"
   ]
  },
  {
   "cell_type": "code",
   "execution_count": 72,
   "metadata": {
    "scrolled": true
   },
   "outputs": [
    {
     "data": {
      "text/html": [
       "<div>\n",
       "<style scoped>\n",
       "    .dataframe tbody tr th:only-of-type {\n",
       "        vertical-align: middle;\n",
       "    }\n",
       "\n",
       "    .dataframe tbody tr th {\n",
       "        vertical-align: top;\n",
       "    }\n",
       "\n",
       "    .dataframe thead th {\n",
       "        text-align: right;\n",
       "    }\n",
       "</style>\n",
       "<table border=\"1\" class=\"dataframe\">\n",
       "  <thead>\n",
       "    <tr style=\"text-align: right;\">\n",
       "      <th></th>\n",
       "      <th>titles</th>\n",
       "      <th>sequences</th>\n",
       "    </tr>\n",
       "  </thead>\n",
       "  <tbody>\n",
       "    <tr>\n",
       "      <th>59</th>\n",
       "      <td>CY090035 A/canine/Korea/1/2010 2010/02/05 4 (HA)</td>\n",
       "      <td>ATGAAAACTGTTATTGCTTTAAGCTACATTTTCTGCCTGGCTTTTG...</td>\n",
       "    </tr>\n",
       "  </tbody>\n",
       "</table>\n",
       "</div>"
      ],
      "text/plain": [
       "                                              titles  \\\n",
       "59  CY090035 A/canine/Korea/1/2010 2010/02/05 4 (HA)   \n",
       "\n",
       "                                            sequences  \n",
       "59  ATGAAAACTGTTATTGCTTTAAGCTACATTTTCTGCCTGGCTTTTG...  "
      ]
     },
     "execution_count": 72,
     "metadata": {},
     "output_type": "execute_result"
    }
   ],
   "source": [
    "i = idl[1193]\n",
    "HA_only.loc[[i[0]]]"
   ]
  },
  {
   "cell_type": "code",
   "execution_count": 92,
   "metadata": {
    "scrolled": true
   },
   "outputs": [
    {
     "data": {
      "text/plain": [
       "'AGCAAAAGCAGGGGATACTTTCATTAATCATGAAAACTGTTATTGCTTTAAGCTATATTTTCTGCCTGGCTTTTGGTCAGAATCTTCTAGGAAATGAAAATAATGCTGCAACACTATGCTTGGGACATCATGCAGTGCCGAACGGGACAATGGTAAAAACTATCACAGACGATCAAATTGAGGTGACCAACGCCACTGAGCTAGTCCAAAACTCCTCAACAGGGAAAATATGCAACAATCCCCACAAGATTCTTGATGGGAGGGACTGCACGCTAATAGATGCCCTACTAGGGGACCCACACTGTGACGTCTTCCAAAATGAGACATGGGACCTTTTTGTGGAACGAAGCAATGCTTTTAGCAATTGTTACCCTTATGATGTACCAGACTATGCATCCCTCCGATCCATAGTTGCATCATCAGGCACATTGGAGTTCATCACTGAAGGTTTCACTTGGGCAGGAGTAACTCAAAATGGAGGAAGCGGTGCTTGTAAAAGGGGACCTGCTAATAGTTTCTTCAGTAGATTGAATTGGTTAACTAAATCAGGAAATACATATCCAGTGTTGAATGTGACTATGCCAAACAACAACAATTTCGACAAATTATACATCTGGGGAGTTCATCACCCAAGCACTGATCAAGAACAAACCAGCCTGTATATTCAGGCCTCAGGAAGAGTCACAGTCTCTACCAGGAGAAGCCAACAGACCATAATCCCAAACATTGGATCTAGACCCTTGGTAAGGGGCCAATCTGGCAGAATAAGCGTATATTGGACAATAGTCAAACCTGGAGACATACTGGTAATAAACAGTAATGGAAACCTAATCGCTCCTCGAGGATACTTCAAAATGCACATTGGGAAAAGCTCAATAATGAGATCAGATGCACCTATTGACACCTGCATTTCCGAATGTATCACCCCGAACGGGAGCATCCCCAATGAAAAGCCCTTCCAAAATGTAAACAAGATCACATACGGAGCATGTCCCAAATATGTTAAGCAAAACACCTTGAAACTGGCAACAGGAATGCGGAATGTCCCTGAAAGGCAAACCAGAGGCCTGTTCGGCGCAATAGCAGGCTTCATAGAAAATGGATGGGAAGGGATGGTAGACGGTTGGTATGGCTTCAGACACCAAAATTCCGAAGGTACAGGACAAGCAGCAGACCTTAAAAGCACTCAGGCAGCCATTGACCAGATTAATGGGAAATTGAACAGAGTGATTGAAAAAACGAATGAAAAGTTCCATCAAATTGAAAAGGAATTTTCCGAAGTAGAAGGGAGGATTCAAGACCTTGAAAGATACGTTGAAGACACAAAAATAGATCTTTGGTCTTACAATGCCGAGCTTCTTGTTGCCTTAGAAAACCAGAACACAATTGATTTAACTGATTCAGAAATGAACAAATTGTTTGAAAAGACTAGGAGGCAATTGAGGGAAAATGCTGAAGACATGGGCAATGGCTGCTTCAAAATCTACCACAAGTGTGACAATGCTTGCATAGAATCGATTAGAAACGGAACTTATGACCATAACATATATAGAGATGAGGCAGTGAACAATCGGTTCCAGATCAAAGGTGTTGAGCTAAAGTCTGGATACAAAGACTGGATCTTGTGGATTTCCTTTGCCATATCATGCTTTTTGCTTTGTGTTGTCTTGCTGGGTTTCATTATGTGGGCCTGCCAGAGAGGCAACATTAGGTGCAACATTTGCATTTGAGTGTACTAATAATTAAAAACACCCTTGTTTCTACT'"
      ]
     },
     "execution_count": 92,
     "metadata": {},
     "output_type": "execute_result"
    }
   ],
   "source": [
    "HA_only.loc[[i[1]]].sequences.values[0]"
   ]
  },
  {
   "cell_type": "code",
   "execution_count": null,
   "metadata": {},
   "outputs": [],
   "source": []
  },
  {
   "cell_type": "code",
   "execution_count": 94,
   "metadata": {
    "scrolled": true
   },
   "outputs": [
    {
     "data": {
      "text/plain": [
       "0.918848167539267"
      ]
     },
     "execution_count": 94,
     "metadata": {},
     "output_type": "execute_result"
    }
   ],
   "source": [
    "i = idl[12]\n",
    "JacSim(charkgram(HA_only.loc[[i[0]]].sequences.values[0],5),charkgram(HA_only.loc[[i[1]]].sequences.values[0],5))"
   ]
  },
  {
   "cell_type": "code",
   "execution_count": 111,
   "metadata": {},
   "outputs": [],
   "source": [
    "JSresults=[]\n",
    "for i in idl:\n",
    "    JSresults.append(JacSim(charkgram(HA_only.loc[[i[0]]].sequences.values[0],5),charkgram(HA_only.loc[[i[1]]].sequences.values[0],5)))"
   ]
  },
  {
   "cell_type": "code",
   "execution_count": 96,
   "metadata": {},
   "outputs": [
    {
     "data": {
      "text/plain": [
       "[1.0,\n",
       " 0.9186351706036745,\n",
       " 0.8931788931788932,\n",
       " 0.90956749672346,\n",
       " 0.9015544041450777,\n",
       " 0.8989637305699482,\n",
       " 0.91688654353562,\n",
       " 0.9153645833333334,\n",
       " 0.9186351706036745,\n",
       " 0.9201570680628273,\n",
       " 0.9224704336399474,\n",
       " 0.9212598425196851,\n",
       " 0.918848167539267,\n",
       " 0.9340369393139841,\n",
       " 0.912303664921466,\n",
       " 0.9235836627140975,\n",
       " 0.9360852197070573,\n",
       " 0.9185282522996058,\n",
       " 0.9389920424403183,\n",
       " 0.9172141918528253,\n",
       " 0.9314888010540184,\n",
       " 0.9186351706036745,\n",
       " 0.9186351706036745,\n",
       " 0.7149532710280374,\n",
       " 0.9278215223097113,\n",
       " 0.9303547963206308,\n",
       " 0.9303547963206308,\n",
       " 0.6848837209302325,\n",
       " 0.6786961583236322,\n",
       " 0.6821885913853318,\n",
       " 0.6856810244470314,\n",
       " 0.9223684210526316,\n",
       " 0.9223684210526316,\n",
       " 0.9223684210526316,\n",
       " 0.9354413702239789,\n",
       " 0.9596774193548387,\n",
       " 0.671280276816609,\n",
       " 0.9193121693121693,\n",
       " 0.9730094466936572,\n",
       " 0.9610738255033557,\n",
       " 0.9770580296896086,\n",
       " 0.9783783783783784,\n",
       " 0.6872093023255814,\n",
       " 0.9783783783783784,\n",
       " 0.977027027027027,\n",
       " 0.9783783783783784,\n",
       " 0.9757738896366084,\n",
       " 0.9743935309973046,\n",
       " 0.9717741935483871,\n",
       " 0.9336870026525199,\n",
       " 0.9743589743589743,\n",
       " 0.963903743315508,\n",
       " 0.9770580296896086,\n",
       " 0.9743935309973046,\n",
       " 0.9783783783783784,\n",
       " 0.9015544041450777,\n",
       " 0.9037711313394018,\n",
       " 0.6594533029612756,\n",
       " 0.6594533029612756,\n",
       " 0.6590649942987458,\n",
       " 0.658703071672355,\n",
       " 0.6473265073947668,\n",
       " 0.658703071672355,\n",
       " 0.6572077185017026,\n",
       " 0.6572077185017026,\n",
       " 0.6572077185017026,\n",
       " 0.888745148771022,\n",
       " 0.6511891279728199,\n",
       " 0.658703071672355,\n",
       " 0.6564277588168373,\n",
       " 0.6537585421412301,\n",
       " 0.6949941792782305,\n",
       " 0.6932084309133489,\n",
       " 0.685614849187935,\n",
       " 0.6903376018626309,\n",
       " 0.6965116279069767,\n",
       " 0.6953488372093023,\n",
       " 0.6895348837209302,\n",
       " 0.8952134540750324,\n",
       " 0.8959687906371911,\n",
       " 0.977027027027027,\n",
       " 0.9783783783783784,\n",
       " 0.9210526315789473,\n",
       " 0.9151436031331592,\n",
       " 0.9149214659685864,\n",
       " 0.9171052631578948,\n",
       " 0.9159001314060446,\n",
       " 0.9113428943937418,\n",
       " 0.9757738896366084,\n",
       " 0.9691275167785235,\n",
       " 0.9757738896366084,\n",
       " 0.9756756756756757,\n",
       " 0.9691275167785235,\n",
       " 0.9598393574297188,\n",
       " 0.9650537634408602,\n",
       " 0.967741935483871,\n",
       " 0.9770580296896086,\n",
       " 0.9783783783783784,\n",
       " 0.9770580296896086,\n",
       " 0.967741935483871,\n",
       " 0.9690444145356663,\n",
       " 0.9783783783783784,\n",
       " 0.967741935483871,\n",
       " 0.9783783783783784,\n",
       " 0.7288941736028538,\n",
       " 0.9201570680628273,\n",
       " 0.928476821192053,\n",
       " 0.9271523178807947,\n",
       " 0.9516129032258065,\n",
       " 0.9360852197070573,\n",
       " 0.9555256064690026,\n",
       " 0.9502018842530283,\n",
       " 0.9231788079470199,\n",
       " 0.9271523178807947,\n",
       " 0.9271523178807947,\n",
       " 0.9076723016905072,\n",
       " 1.0,\n",
       " 1.0,\n",
       " 1.0,\n",
       " 1.0,\n",
       " 1.0,\n",
       " 1.0,\n",
       " 1.0,\n",
       " 0.967741935483871,\n",
       " 0.967741935483871,\n",
       " 0.9651006711409396,\n",
       " 0.9599465954606141,\n",
       " 0.9691275167785235,\n",
       " 0.967741935483871,\n",
       " 0.967741935483871,\n",
       " 0.9690444145356663,\n",
       " 0.967741935483871,\n",
       " 0.9546061415220294,\n",
       " 0.9546061415220294,\n",
       " 0.9546061415220294,\n",
       " 0.9546061415220294,\n",
       " 0.9546061415220294,\n",
       " 1.0,\n",
       " 1.0,\n",
       " 1.0,\n",
       " 0.9598393574297188,\n",
       " 0.9731182795698925,\n",
       " 1.0,\n",
       " 0.9986376021798365,\n",
       " 1.0,\n",
       " 1.0,\n",
       " 1.0,\n",
       " 0.9986376021798365,\n",
       " 1.0,\n",
       " 0.998639455782313,\n",
       " 1.0,\n",
       " 1.0,\n",
       " 1.0,\n",
       " 1.0,\n",
       " 0.9186351706036745,\n",
       " 0.8931788931788932,\n",
       " 0.90956749672346,\n",
       " 0.9015544041450777,\n",
       " 0.8989637305699482,\n",
       " 0.91688654353562,\n",
       " 0.9153645833333334,\n",
       " 0.9186351706036745,\n",
       " 0.9201570680628273,\n",
       " 0.9224704336399474,\n",
       " 0.9212598425196851,\n",
       " 0.918848167539267,\n",
       " 0.9340369393139841,\n",
       " 0.912303664921466,\n",
       " 0.9235836627140975,\n",
       " 0.9360852197070573,\n",
       " 0.9185282522996058,\n",
       " 0.9389920424403183,\n",
       " 0.9172141918528253,\n",
       " 0.9314888010540184,\n",
       " 0.9186351706036745,\n",
       " 0.9186351706036745,\n",
       " 0.7149532710280374,\n",
       " 0.9278215223097113,\n",
       " 0.9303547963206308,\n",
       " 0.9303547963206308,\n",
       " 0.6848837209302325,\n",
       " 0.6786961583236322,\n",
       " 0.6821885913853318,\n",
       " 0.6856810244470314,\n",
       " 0.9223684210526316,\n",
       " 0.9223684210526316,\n",
       " 0.9223684210526316,\n",
       " 0.9354413702239789,\n",
       " 0.9596774193548387,\n",
       " 0.671280276816609,\n",
       " 0.9193121693121693,\n",
       " 0.9730094466936572,\n",
       " 0.9610738255033557,\n",
       " 0.9770580296896086,\n",
       " 0.9783783783783784,\n",
       " 0.6872093023255814,\n",
       " 0.9783783783783784,\n",
       " 0.977027027027027,\n",
       " 0.9783783783783784,\n",
       " 0.9757738896366084,\n",
       " 0.9743935309973046,\n",
       " 0.9717741935483871,\n",
       " 0.9336870026525199,\n",
       " 0.9743589743589743,\n",
       " 0.963903743315508,\n",
       " 0.9770580296896086,\n",
       " 0.9743935309973046,\n",
       " 0.9783783783783784,\n",
       " 0.9015544041450777,\n",
       " 0.9037711313394018,\n",
       " 0.6594533029612756,\n",
       " 0.6594533029612756,\n",
       " 0.6590649942987458,\n",
       " 0.658703071672355,\n",
       " 0.6473265073947668,\n",
       " 0.658703071672355,\n",
       " 0.6572077185017026,\n",
       " 0.6572077185017026,\n",
       " 0.6572077185017026,\n",
       " 0.888745148771022,\n",
       " 0.6511891279728199,\n",
       " 0.658703071672355,\n",
       " 0.6564277588168373,\n",
       " 0.6537585421412301,\n",
       " 0.6949941792782305,\n",
       " 0.6932084309133489,\n",
       " 0.685614849187935,\n",
       " 0.6903376018626309,\n",
       " 0.6965116279069767,\n",
       " 0.6953488372093023,\n",
       " 0.6895348837209302,\n",
       " 0.8952134540750324,\n",
       " 0.8959687906371911,\n",
       " 0.977027027027027,\n",
       " 0.9783783783783784,\n",
       " 0.9210526315789473,\n",
       " 0.9151436031331592,\n",
       " 0.9149214659685864,\n",
       " 0.9171052631578948,\n",
       " 0.9159001314060446,\n",
       " 0.9113428943937418,\n",
       " 0.9757738896366084,\n",
       " 0.9691275167785235,\n",
       " 0.9757738896366084,\n",
       " 0.9756756756756757,\n",
       " 0.9691275167785235,\n",
       " 0.9598393574297188,\n",
       " 0.9650537634408602,\n",
       " 0.967741935483871,\n",
       " 0.9770580296896086,\n",
       " 0.9783783783783784,\n",
       " 0.9770580296896086,\n",
       " 0.967741935483871,\n",
       " 0.9690444145356663,\n",
       " 0.9783783783783784,\n",
       " 0.967741935483871,\n",
       " 0.9783783783783784,\n",
       " 0.7288941736028538,\n",
       " 0.9201570680628273,\n",
       " 0.928476821192053,\n",
       " 0.9271523178807947,\n",
       " 0.9516129032258065,\n",
       " 0.9360852197070573,\n",
       " 0.9555256064690026,\n",
       " 0.9502018842530283,\n",
       " 0.9231788079470199,\n",
       " 0.9271523178807947,\n",
       " 0.9271523178807947,\n",
       " 0.9076723016905072,\n",
       " 1.0,\n",
       " 1.0,\n",
       " 1.0,\n",
       " 1.0,\n",
       " 1.0,\n",
       " 1.0,\n",
       " 1.0,\n",
       " 0.967741935483871,\n",
       " 0.967741935483871,\n",
       " 0.9651006711409396,\n",
       " 0.9599465954606141,\n",
       " 0.9691275167785235,\n",
       " 0.967741935483871,\n",
       " 0.967741935483871,\n",
       " 0.9690444145356663,\n",
       " 0.967741935483871,\n",
       " 0.9546061415220294,\n",
       " 0.9546061415220294,\n",
       " 0.9546061415220294,\n",
       " 0.9546061415220294,\n",
       " 0.9546061415220294,\n",
       " 1.0,\n",
       " 1.0,\n",
       " 1.0,\n",
       " 0.9598393574297188,\n",
       " 0.9731182795698925,\n",
       " 1.0,\n",
       " 0.9986376021798365,\n",
       " 1.0,\n",
       " 1.0,\n",
       " 1.0,\n",
       " 0.9986376021798365,\n",
       " 1.0,\n",
       " 0.998639455782313,\n",
       " 1.0,\n",
       " 1.0,\n",
       " 1.0,\n",
       " 1.0,\n",
       " 0.9559412550066756,\n",
       " 0.9714673913043478,\n",
       " 0.951935914552737,\n",
       " 0.9623655913978495,\n",
       " 0.9849108367626886,\n",
       " 0.9611780455153949,\n",
       " 0.9702300405953992,\n",
       " 0.9637096774193549,\n",
       " 0.9689189189189189,\n",
       " 0.9649595687331537,\n",
       " 0.9650067294751009,\n",
       " 0.9836956521739131,\n",
       " 0.9504021447721179,\n",
       " 0.9755434782608695,\n",
       " 0.9436241610738255,\n",
       " 0.9675236806495264,\n",
       " 0.9517426273458445,\n",
       " 0.9608636977058029,\n",
       " 0.978319783197832,\n",
       " 0.9517426273458445,\n",
       " 0.9517426273458445,\n",
       " 0.7079439252336449,\n",
       " 0.9585006693440429,\n",
       " 0.9611260053619303,\n",
       " 0.9611260053619303,\n",
       " 0.6682080924855491,\n",
       " 0.6620370370370371,\n",
       " 0.6655092592592593,\n",
       " 0.6670520231213873,\n",
       " 0.9877049180327869,\n",
       " 0.9877049180327869,\n",
       " 0.9877049180327869,\n",
       " 0.9199475065616798,\n",
       " 0.933422103861518,\n",
       " 0.6548165137614679,\n",
       " 0.916445623342175,\n",
       " 0.9387483355525965,\n",
       " 0.9297082228116711,\n",
       " 0.9324503311258279,\n",
       " 0.9336870026525199,\n",
       " 0.6685912240184757,\n",
       " 0.9336870026525199,\n",
       " 0.9323607427055703,\n",
       " 0.9336870026525199,\n",
       " 0.9313077939233818,\n",
       " 0.9298941798941799,\n",
       " 0.9274406332453826,\n",
       " 0.9568733153638814,\n",
       " 0.9298013245033112,\n",
       " 0.9199475065616798,\n",
       " 0.9324503311258279,\n",
       " 0.9298941798941799,\n",
       " 0.9336870026525199,\n",
       " 0.9287598944591029,\n",
       " 0.9285714285714286,\n",
       " 0.656392694063927,\n",
       " 0.656392694063927,\n",
       " 0.6541095890410958,\n",
       " 0.6556442417331813,\n",
       " 0.6405005688282139,\n",
       " 0.6556442417331813,\n",
       " 0.6541524459613197,\n",
       " 0.6541524459613197,\n",
       " 0.6541524459613197,\n",
       " 0.9207397622192867,\n",
       " 0.6481271282633371,\n",
       " 0.6556442417331813,\n",
       " 0.6533637400228051,\n",
       " 0.6506849315068494,\n",
       " 0.6763005780346821,\n",
       " 0.6802800466744457,\n",
       " 0.6670506912442397,\n",
       " 0.6716763005780347,\n",
       " 0.6758938869665513,\n",
       " 0.6747404844290658,\n",
       " 0.6709006928406467,\n",
       " 0.924802110817942,\n",
       " 0.9231788079470199,\n",
       " 0.9323607427055703,\n",
       " 0.9336870026525199,\n",
       " 0.9438502673796791,\n",
       " 0.9454061251664447,\n",
       " 0.945260347129506,\n",
       " 0.9555256064690026,\n",
       " 0.9463806970509383,\n",
       " 0.9492656875834445,\n",
       " 0.9313077939233818,\n",
       " 0.924901185770751,\n",
       " 0.9313077939233818,\n",
       " 0.9361702127659575,\n",
       " 0.924901185770751,\n",
       " 0.9209486166007905,\n",
       " 0.9259259259259259,\n",
       " 0.9234828496042217,\n",
       " 0.9298941798941799,\n",
       " 0.9336870026525199,\n",
       " 0.9324503311258279,\n",
       " 0.9234828496042217,\n",
       " 0.9247027741083224,\n",
       " 0.9336870026525199,\n",
       " 0.9234828496042217,\n",
       " 0.9336870026525199,\n",
       " 0.7382953181272509,\n",
       " 0.9743243243243244,\n",
       " 0.9307589880159787,\n",
       " 0.932,\n",
       " 0.9487870619946092,\n",
       " 0.9384203480589023,\n",
       " 0.9474393530997305,\n",
       " 0.9473684210526315,\n",
       " 0.9254327563249002,\n",
       " 0.932,\n",
       " 0.932,\n",
       " 0.9198423127463863,\n",
       " 0.9186351706036745,\n",
       " 0.9186351706036745,\n",
       " 0.9186351706036745,\n",
       " 0.9186351706036745,\n",
       " 0.9186351706036745,\n",
       " 0.9186351706036745,\n",
       " 0.9186351706036745,\n",
       " 0.9234828496042217,\n",
       " 0.9234828496042217,\n",
       " 0.9209486166007905,\n",
       " 0.9186351706036745,\n",
       " 0.9274406332453826,\n",
       " 0.9234828496042217,\n",
       " 0.9234828496042217,\n",
       " 0.9247027741083224,\n",
       " 0.9234828496042217,\n",
       " 0.9159001314060446,\n",
       " 0.9159001314060446,\n",
       " 0.9159001314060446,\n",
       " 0.9159001314060446,\n",
       " 0.9159001314060446,\n",
       " 0.9186351706036745,\n",
       " 0.9186351706036745,\n",
       " 0.9186351706036745,\n",
       " 0.9209486166007905,\n",
       " 0.9287598944591029,\n",
       " 0.9186351706036745,\n",
       " 0.9173228346456693,\n",
       " 0.9186351706036745,\n",
       " 0.9186351706036745,\n",
       " 0.9186351706036745,\n",
       " 0.9173228346456693,\n",
       " 0.9186351706036745,\n",
       " 0.9174311926605505,\n",
       " 0.9186351706036745,\n",
       " 0.9186351706036745,\n",
       " 0.9186351706036745,\n",
       " 0.9186351706036745,\n",
       " 0.9571045576407506,\n",
       " 0.9824797843665768,\n",
       " 0.9932157394843962,\n",
       " 0.9543624161073826,\n",
       " 0.9497354497354498,\n",
       " 0.9403973509933775,\n",
       " 0.9367588932806324,\n",
       " 0.9417218543046357,\n",
       " 0.9379128137384413,\n",
       " 0.940554821664465,\n",
       " 0.950863213811421,\n",
       " 0.9263157894736842,\n",
       " 0.9454787234042553,\n",
       " 0.9145860709592641,\n",
       " 0.9403183023872679,\n",
       " 0.912532637075718,\n",
       " 0.9415670650730412,\n",
       " 0.9482758620689655,\n",
       " 0.9250985545335085,\n",
       " 0.9250985545335085,\n",
       " 0.7064965197215777,\n",
       " 0.9292267365661862,\n",
       " 0.931758530183727,\n",
       " 0.931758530183727,\n",
       " 0.6575342465753424,\n",
       " 0.6514285714285715,\n",
       " 0.6548571428571428,\n",
       " 0.656392694063927,\n",
       " 0.9572192513368984,\n",
       " 0.9572192513368984,\n",
       " 0.9572192513368984,\n",
       " 0.8920308483290489,\n",
       " 0.9048239895697523,\n",
       " 0.6518771331058021,\n",
       " 0.8907672301690507,\n",
       " 0.910039113428944,\n",
       " 0.9012987012987013,\n",
       " 0.9040207522697795,\n",
       " 0.9051948051948052,\n",
       " 0.6598173515981736,\n",
       " 0.9051948051948052,\n",
       " 0.9038961038961039,\n",
       " 0.9051948051948052,\n",
       " 0.9029754204398448,\n",
       " 0.9015544041450777,\n",
       " 0.8992248062015504,\n",
       " 0.9173228346456693,\n",
       " 0.9014267185473411,\n",
       " 0.8969072164948454,\n",
       " 0.9040207522697795,\n",
       " 0.9015544041450777,\n",
       " 0.9051948051948052,\n",
       " 0.905440414507772,\n",
       " 0.9051948051948052,\n",
       " 0.6459977452085682,\n",
       " 0.6459977452085682,\n",
       " 0.6418918918918919,\n",
       " 0.6452702702702703,\n",
       " 0.6321709786276716,\n",
       " 0.6452702702702703,\n",
       " 0.6438202247191012,\n",
       " 0.6438202247191012,\n",
       " 0.6438202247191012,\n",
       " 0.8950777202072538,\n",
       " 0.6378923766816144,\n",
       " 0.6452702702702703,\n",
       " 0.6430180180180181,\n",
       " 0.6403607666290868,\n",
       " 0.6655251141552512,\n",
       " 0.6693548387096774,\n",
       " 0.6583143507972665,\n",
       " 0.660958904109589,\n",
       " 0.6651480637813212,\n",
       " 0.664009111617312,\n",
       " 0.6602052451539339,\n",
       " 0.9015544041450777,\n",
       " 0.8998699609882965,\n",
       " 0.9038961038961039,\n",
       " 0.9051948051948052,\n",
       " 0.9199475065616798,\n",
       " 0.9215686274509803,\n",
       " 0.9213630406290957,\n",
       " 0.9286657859973579,\n",
       " 0.924901185770751,\n",
       " 0.9227748691099477,\n",
       " 0.9029754204398448,\n",
       " 0.8992248062015504,\n",
       " 0.9029754204398448,\n",
       " 0.9075520833333334,\n",
       " 0.8992248062015504,\n",
       " 0.9002590673575129,\n",
       " 0.9050715214564369,\n",
       " 0.9027237354085603,\n",
       " 0.9040207522697795,\n",
       " 0.9051948051948052,\n",
       " 0.9040207522697795,\n",
       " 0.9027237354085603,\n",
       " 0.8989637305699482,\n",
       " 0.9051948051948052,\n",
       " 0.9027237354085603,\n",
       " 0.9051948051948052,\n",
       " 0.7324613555291319,\n",
       " 0.9367588932806324,\n",
       " 0.9046997389033943,\n",
       " 0.9058823529411765,\n",
       " 0.9195250659630607,\n",
       " 0.90956749672346,\n",
       " 0.9182058047493403,\n",
       " 0.9180977542932629,\n",
       " 0.8994778067885117,\n",
       " 0.9058823529411765,\n",
       " 0.9058823529411765,\n",
       " 0.8943298969072165,\n",
       " 0.8931788931788932,\n",
       " 0.8931788931788932,\n",
       " 0.8931788931788932,\n",
       " 0.8931788931788932,\n",
       " 0.8931788931788932,\n",
       " 0.8931788931788932,\n",
       " 0.8931788931788932,\n",
       " 0.9027237354085603,\n",
       " 0.9027237354085603,\n",
       " 0.9027237354085603,\n",
       " 0.8931788931788932,\n",
       " 0.9016817593790427,\n",
       " 0.9027237354085603,\n",
       " 0.9027237354085603,\n",
       " 0.8989637305699482,\n",
       " 0.9027237354085603,\n",
       " 0.8953488372093024,\n",
       " 0.8953488372093024,\n",
       " 0.8953488372093024,\n",
       " 0.8953488372093024,\n",
       " 0.8953488372093024,\n",
       " 0.8931788931788932,\n",
       " 0.8931788931788932,\n",
       " 0.8931788931788932,\n",
       " 0.9002590673575129,\n",
       " 0.900516795865633,\n",
       " 0.8931788931788932,\n",
       " 0.8943298969072165,\n",
       " 0.8931788931788932,\n",
       " 0.8931788931788932,\n",
       " 0.8931788931788932,\n",
       " 0.8918918918918919,\n",
       " 0.8931788931788932,\n",
       " 0.8920308483290489,\n",
       " 0.8931788931788932,\n",
       " 0.8931788931788932,\n",
       " 0.8931788931788932,\n",
       " 0.8931788931788932,\n",
       " 0.953083109919571,\n",
       " 0.9635627530364372,\n",
       " 0.9699453551912568,\n",
       " 0.9466666666666667,\n",
       " 0.9555256064690026,\n",
       " 0.9543624161073826,\n",
       " 0.9568733153638814,\n",
       " 0.9503355704697987,\n",
       " 0.9530201342281879,\n",
       " 0.9688768606224628,\n",
       " 0.9385026737967914,\n",
       " 0.9634146341463414,\n",
       " 0.929144385026738,\n",
       " 0.9554655870445344,\n",
       " 0.9295212765957447,\n",
       " 0.9514824797843666,\n",
       " 0.9662162162162162,\n",
       " 0.9372496662216289,\n",
       " 0.9372496662216289,\n",
       " 0.7161366313309776,\n",
       " 0.9491978609625669,\n",
       " 0.9518072289156626,\n",
       " 0.9518072289156626,\n",
       " 0.6643518518518519,\n",
       " 0.660092807424594,\n",
       " 0.6616454229432214,\n",
       " 0.6651216685979142,\n",
       " 0.9727891156462585,\n",
       " 0.9727891156462585,\n",
       " 0.9727891156462585,\n",
       " 0.9083769633507853,\n",
       " 0.9190981432360743,\n",
       " 0.6547756041426928,\n",
       " 0.9022457067371202,\n",
       " 0.9269588313413014,\n",
       " 0.917989417989418,\n",
       " 0.9207397622192867,\n",
       " 0.921957671957672,\n",
       " 0.6647398843930635,\n",
       " 0.921957671957672,\n",
       " 0.9206349206349206,\n",
       " 0.921957671957672,\n",
       " 0.919631093544137,\n",
       " 0.9182058047493403,\n",
       " 0.9157894736842105,\n",
       " 0.931909212283044,\n",
       " 0.9180977542932629,\n",
       " 0.9133858267716536,\n",
       " 0.9207397622192867,\n",
       " 0.9182058047493403,\n",
       " 0.921957671957672,\n",
       " 0.9120734908136483,\n",
       " 0.9118421052631579,\n",
       " 0.6506849315068494,\n",
       " 0.6506849315068494,\n",
       " 0.6484018264840182,\n",
       " 0.6499429874572406,\n",
       " 0.6348122866894198,\n",
       " 0.6499429874572406,\n",
       " 0.6484641638225256,\n",
       " 0.6484641638225256,\n",
       " 0.6484641638225256,\n",
       " 0.9090909090909091,\n",
       " 0.6424517593643587,\n",
       " 0.6499429874572406,\n",
       " 0.6476624857468644,\n",
       " 0.6449771689497716,\n",
       " 0.6724537037037037,\n",
       " 0.6764018691588785,\n",
       " 0.6632064590542099,\n",
       " 0.6678240740740741,\n",
       " 0.6720554272517321,\n",
       " 0.6728323699421965,\n",
       " 0.6670520231213873,\n",
       " 0.9081364829396326,\n",
       " 0.9064558629776021,\n",
       " 0.9206349206349206,\n",
       " 0.921957671957672,\n",
       " 0.9345794392523364,\n",
       " 0.9361702127659575,\n",
       " 0.936,\n",
       " 0.9435483870967742,\n",
       " 0.9396782841823056,\n",
       " 0.9374167776298269,\n",
       " 0.919631093544137,\n",
       " 0.9157894736842105,\n",
       " 0.919631093544137,\n",
       " 0.9244031830238727,\n",
       " 0.9157894736842105,\n",
       " 0.9093298291721419,\n",
       " 0.9117259552042161,\n",
       " 0.9118421052631579,\n",
       " 0.9207397622192867,\n",
       " 0.921957671957672,\n",
       " 0.9207397622192867,\n",
       " 0.9118421052631579,\n",
       " 0.9155672823218998,\n",
       " 0.921957671957672,\n",
       " 0.9118421052631579,\n",
       " 0.921957671957672,\n",
       " 0.7448609431680774,\n",
       " 0.9517426273458445,\n",
       " 0.916445623342175,\n",
       " 0.9176626826029216,\n",
       " 0.9368279569892473,\n",
       " 0.924,\n",
       " 0.9328859060402684,\n",
       " 0.9327956989247311,\n",
       " 0.9136786188579017,\n",
       " 0.9176626826029216,\n",
       " 0.9176626826029216,\n",
       " 0.9057591623036649,\n",
       " 0.90956749672346,\n",
       " 0.90956749672346,\n",
       " 0.90956749672346,\n",
       " 0.90956749672346,\n",
       " 0.90956749672346,\n",
       " 0.90956749672346,\n",
       " 0.90956749672346,\n",
       " 0.9118421052631579,\n",
       " 0.9118421052631579,\n",
       " 0.9093298291721419,\n",
       " 0.90956749672346,\n",
       " 0.9183135704874835,\n",
       " 0.9118421052631579,\n",
       " 0.9118421052631579,\n",
       " 0.9155672823218998,\n",
       " 0.9118421052631579,\n",
       " 0.9068241469816273,\n",
       " 0.9068241469816273,\n",
       " 0.9068241469816273,\n",
       " 0.9068241469816273,\n",
       " 0.9068241469816273,\n",
       " 0.90956749672346,\n",
       " 0.90956749672346,\n",
       " 0.90956749672346,\n",
       " 0.9093298291721419,\n",
       " 0.9171052631578948,\n",
       " 0.90956749672346,\n",
       " 0.910761154855643,\n",
       " 0.90956749672346,\n",
       " 0.90956749672346,\n",
       " 0.90956749672346,\n",
       " 0.908256880733945,\n",
       " 0.90956749672346,\n",
       " 0.9083769633507853,\n",
       " 0.90956749672346,\n",
       " 0.90956749672346,\n",
       " 0.90956749672346,\n",
       " 0.90956749672346,\n",
       " 0.989145183175034,\n",
       " 0.9503355704697987,\n",
       " 0.9483443708609272,\n",
       " 0.9415670650730412,\n",
       " 0.9353562005277045,\n",
       " 0.9403183023872679,\n",
       " 0.9365079365079365,\n",
       " 0.9391534391534392,\n",
       " 0.9546666666666667,\n",
       " 0.924901185770751,\n",
       " 0.9440745672436751,\n",
       " 0.9156785243741765,\n",
       " 0.9414893617021277,\n",
       " 0.9136125654450262,\n",
       " 0.9401595744680851,\n",
       " 0.952063914780293,\n",
       " 0.9236842105263158,\n",
       " 0.9236842105263158,\n",
       " 0.7149532710280374,\n",
       " 0.940554821664465,\n",
       " 0.940554821664465,\n",
       " 0.940554821664465,\n",
       " 0.6655172413793103,\n",
       " 0.6593785960874569,\n",
       " 0.6628308400460299,\n",
       " 0.664367816091954,\n",
       " 0.9532085561497327,\n",
       " 0.9532085561497327,\n",
       " 0.9532085561497327,\n",
       " 0.8979328165374677,\n",
       " 0.9083769633507853,\n",
       " 0.6578947368421053,\n",
       " 0.8917861799217731,\n",
       " 0.9186351706036745,\n",
       " 0.9098039215686274,\n",
       " 0.912532637075718,\n",
       " 0.9137254901960784,\n",
       " 0.667816091954023,\n",
       " 0.9137254901960784,\n",
       " 0.9124183006535947,\n",
       " 0.9137254901960784,\n",
       " 0.9114583333333334,\n",
       " 0.910039113428944,\n",
       " 0.9076723016905072,\n",
       " 0.9184210526315789,\n",
       " 0.9099216710182768,\n",
       " 0.9053177691309987,\n",
       " 0.912532637075718,\n",
       " 0.910039113428944,\n",
       " 0.9137254901960784,\n",
       " 0.9089726918075423,\n",
       " 0.9087353324641461,\n",
       " 0.6538024971623155,\n",
       " 0.6538024971623155,\n",
       " 0.6496598639455783,\n",
       " 0.6530612244897959,\n",
       " 0.6398640996602492,\n",
       " 0.6530612244897959,\n",
       " 0.6515837104072398,\n",
       " 0.6515837104072398,\n",
       " 0.6515837104072398,\n",
       " 0.8961038961038961,\n",
       " 0.6455981941309256,\n",
       " 0.6530612244897959,\n",
       " 0.6507936507936508,\n",
       " 0.6481271282633371,\n",
       " 0.6735632183908046,\n",
       " 0.6774941995359629,\n",
       " 0.6662844036697247,\n",
       " 0.6689655172413793,\n",
       " 0.6731651376146789,\n",
       " 0.6720183486238532,\n",
       " 0.6681974741676234,\n",
       " 0.9050715214564369,\n",
       " 0.9033942558746736,\n",
       " 0.9124183006535947,\n",
       " 0.9137254901960784,\n",
       " 0.9185282522996058,\n",
       " 0.9201570680628273,\n",
       " 0.9199475065616798,\n",
       " 0.9272486772486772,\n",
       " 0.9234828496042217,\n",
       " 0.9213630406290957,\n",
       " 0.9114583333333334,\n",
       " 0.9076723016905072,\n",
       " 0.9114583333333334,\n",
       " 0.9161205766710354,\n",
       " 0.9076723016905072,\n",
       " 0.9087353324641461,\n",
       " 0.9111111111111111,\n",
       " 0.9112271540469974,\n",
       " 0.912532637075718,\n",
       " 0.9137254901960784,\n",
       " 0.912532637075718,\n",
       " 0.9112271540469974,\n",
       " 0.9074315514993481,\n",
       " 0.9137254901960784,\n",
       " 0.9112271540469974,\n",
       " 0.9137254901960784,\n",
       " 0.7288941736028538,\n",
       " 0.9379128137384413,\n",
       " 0.9057591623036649,\n",
       " 0.9069462647444299,\n",
       " 0.9231788079470199,\n",
       " 0.9131578947368421,\n",
       " 0.9218543046357616,\n",
       " 0.9217506631299734,\n",
       " 0.900523560209424,\n",
       " 0.9069462647444299,\n",
       " 0.9069462647444299,\n",
       " 0.9027237354085603,\n",
       " 0.9015544041450777,\n",
       " 0.9015544041450777,\n",
       " 0.9015544041450777,\n",
       " 0.9015544041450777,\n",
       " 0.9015544041450777,\n",
       " 0.9015544041450777,\n",
       " 0.9015544041450777,\n",
       " 0.9112271540469974,\n",
       " 0.9112271540469974,\n",
       " 0.9112271540469974,\n",
       " 0.9015544041450777,\n",
       " 0.91015625,\n",
       " 0.9112271540469974,\n",
       " 0.9112271540469974,\n",
       " 0.9074315514993481,\n",
       " 0.9112271540469974,\n",
       " 0.9037711313394018,\n",
       " 0.9037711313394018,\n",
       " 0.9037711313394018,\n",
       " 0.9037711313394018,\n",
       " 0.9037711313394018,\n",
       " 0.9015544041450777,\n",
       " 0.9015544041450777,\n",
       " 0.9015544041450777,\n",
       " 0.9087353324641461,\n",
       " 0.9089726918075423,\n",
       " 0.9015544041450777,\n",
       " 0.9027237354085603,\n",
       " 0.9015544041450777,\n",
       " 0.9015544041450777,\n",
       " 0.9015544041450777,\n",
       " 0.9002590673575129,\n",
       " 0.9015544041450777,\n",
       " 0.9003880983182406,\n",
       " 0.9015544041450777,\n",
       " 0.9015544041450777,\n",
       " 0.9015544041450777,\n",
       " 0.9015544041450777,\n",
       " 0.9608108108108108,\n",
       " 0.9560585885486018,\n",
       " 0.9466666666666667,\n",
       " 0.9429708222811671,\n",
       " 0.948,\n",
       " 0.9441489361702128,\n",
       " 0.9468085106382979,\n",
       " 0.9572192513368984,\n",
       " 0.9324503311258279,\n",
       " 0.9518072289156626,\n",
       " 0.9206349206349206,\n",
       " 0.9465954606141522,\n",
       " 0.9185282522996058,\n",
       " 0.9478609625668449,\n",
       " 0.9546061415220294,\n",
       " 0.9312169312169312,\n",
       " 0.9312169312169312,\n",
       " 0.7106184364060677,\n",
       " 0.9353562005277045,\n",
       " 0.9379128137384413,\n",
       " 0.9379128137384413,\n",
       " 0.661308840413318,\n",
       " 0.6551724137931034,\n",
       " 0.6586206896551724,\n",
       " 0.6601607347876005,\n",
       " 0.9636608344549125,\n",
       " 0.9636608344549125,\n",
       " 0.9636608344549125,\n",
       " 0.8978007761966365,\n",
       " 0.910761154855643,\n",
       " 0.6556064073226545,\n",
       " 0.8965968586387435,\n",
       " 0.916010498687664,\n",
       " 0.9071895424836601,\n",
       " 0.9099216710182768,\n",
       " 0.9111111111111111,\n",
       " 0.6636050516647531,\n",
       " 0.9111111111111111,\n",
       " 0.9098039215686274,\n",
       " 0.9111111111111111,\n",
       " 0.9088541666666666,\n",
       " 0.9074315514993481,\n",
       " 0.9050715214564369,\n",
       " 0.9233817701453104,\n",
       " 0.9073107049608355,\n",
       " 0.9027237354085603,\n",
       " 0.9099216710182768,\n",
       " 0.9074315514993481,\n",
       " 0.9111111111111111,\n",
       " 0.9113428943937418,\n",
       " 0.9111111111111111,\n",
       " 0.6496598639455783,\n",
       " 0.6496598639455783,\n",
       " 0.6455266138165345,\n",
       " 0.6489241223103058,\n",
       " 0.6357466063348416,\n",
       " 0.6489241223103058,\n",
       " 0.6474576271186441,\n",
       " 0.6474576271186441,\n",
       " 0.6474576271186441,\n",
       " 0.9009126466753585,\n",
       " 0.6414881623449831,\n",
       " 0.6489241223103058,\n",
       " 0.6466591166477916,\n",
       " 0.6439909297052154,\n",
       " 0.669345579793341,\n",
       " 0.6732329084588644,\n",
       " 0.6620847651775487,\n",
       " 0.6647531572904707,\n",
       " 0.6689576174112256,\n",
       " 0.6678121420389461,\n",
       " 0.6639908256880734,\n",
       " 0.9074315514993481,\n",
       " 0.9057591623036649,\n",
       " 0.9098039215686274,\n",
       " 0.9111111111111111,\n",
       " 0.9260237780713342,\n",
       " 0.9276315789473685,\n",
       " 0.9274406332453826,\n",
       " 0.9348404255319149,\n",
       " 0.9310344827586207,\n",
       " 0.9288537549407114,\n",
       " 0.9088541666666666,\n",
       " 0.9050715214564369,\n",
       " 0.9088541666666666,\n",
       " 0.9134993446920052,\n",
       " 0.9050715214564369,\n",
       " 0.9061277705345502,\n",
       " 0.9109947643979057,\n",
       " 0.9086161879895561,\n",
       " 0.9099216710182768,\n",
       " ...]"
      ]
     },
     "execution_count": 96,
     "metadata": {},
     "output_type": "execute_result"
    }
   ],
   "source": [
    "JSresults"
   ]
  },
  {
   "cell_type": "code",
   "execution_count": 97,
   "metadata": {},
   "outputs": [
    {
     "data": {
      "text/plain": [
       "0.6179775280898876"
      ]
     },
     "execution_count": 97,
     "metadata": {},
     "output_type": "execute_result"
    }
   ],
   "source": [
    "min(JSresults)"
   ]
  },
  {
   "cell_type": "code",
   "execution_count": 99,
   "metadata": {},
   "outputs": [
    {
     "data": {
      "text/plain": [
       "1.0"
      ]
     },
     "execution_count": 99,
     "metadata": {},
     "output_type": "execute_result"
    }
   ],
   "source": [
    "max(JSresults)"
   ]
  },
  {
   "cell_type": "code",
   "execution_count": 145,
   "metadata": {},
   "outputs": [
    {
     "data": {
      "image/png": "[encoded data removed]",
      "text/plain": [
       "<Figure size 432x288 with 1 Axes>"
      ]
     },
     "metadata": {
      "needs_background": "light"
     },
     "output_type": "display_data"
    }
   ],
   "source": [
    "plt.hist(JSresults, 50, range=(0,1));"
   ]
  },
  {
   "cell_type": "code",
   "execution_count": 107,
   "metadata": {},
   "outputs": [],
   "source": [
    "JSresults6=[]\n",
    "for i in idl:\n",
    "    JSresults6.append(JacSim(charkgram(HA_only.loc[[i[0]]].sequences.values[0],6),charkgram(HA_only.loc[[i[1]]].sequences.values[0],6)))"
   ]
  },
  {
   "cell_type": "code",
   "execution_count": 144,
   "metadata": {
    "scrolled": true
   },
   "outputs": [
    {
     "data": {
      "image/png": "[encoded data removed]",
      "text/plain": [
       "<Figure size 432x288 with 1 Axes>"
      ]
     },
     "metadata": {
      "needs_background": "light"
     },
     "output_type": "display_data"
    }
   ],
   "source": [
    "plt.hist(JSresults6, 50, range=(0,1));"
   ]
  },
  {
   "cell_type": "code",
   "execution_count": 148,
   "metadata": {},
   "outputs": [
    {
     "data": {
      "text/plain": [
       "0.25012431626056686"
      ]
     },
     "execution_count": 148,
     "metadata": {},
     "output_type": "execute_result"
    }
   ],
   "source": [
    "min(JSresults6)"
   ]
  },
  {
   "cell_type": "code",
   "execution_count": 113,
   "metadata": {},
   "outputs": [],
   "source": [
    "JSresults7=[]\n",
    "for i in idl:\n",
    "    JSresults7.append(JacSim(charkgram(HA_only.loc[[i[0]]].sequences.values[0],7),charkgram(HA_only.loc[[i[1]]].sequences.values[0],7)))"
   ]
  },
  {
   "cell_type": "code",
   "execution_count": 141,
   "metadata": {
    "scrolled": true
   },
   "outputs": [
    {
     "data": {
      "image/png": "[encoded data removed]",
      "text/plain": [
       "<Figure size 432x288 with 1 Axes>"
      ]
     },
     "metadata": {
      "needs_background": "light"
     },
     "output_type": "display_data"
    }
   ],
   "source": [
    "plt.hist(JSresults7, 50, range=(0,1));"
   ]
  },
  {
   "cell_type": "code",
   "execution_count": 147,
   "metadata": {},
   "outputs": [
    {
     "data": {
      "text/plain": [
       "0.08283816847256203"
      ]
     },
     "execution_count": 147,
     "metadata": {},
     "output_type": "execute_result"
    }
   ],
   "source": [
    "min(JSresults7)"
   ]
  },
  {
   "cell_type": "code",
   "execution_count": 116,
   "metadata": {},
   "outputs": [],
   "source": [
    "JSresults4=[]\n",
    "for i in idl:\n",
    "    JSresults4.append(JacSim(charkgram(HA_only.loc[[i[0]]].sequences.values[0],4),charkgram(HA_only.loc[[i[1]]].sequences.values[0],4)))"
   ]
  },
  {
   "cell_type": "code",
   "execution_count": 143,
   "metadata": {},
   "outputs": [
    {
     "data": {
      "image/png": "[encoded data removed]",
      "text/plain": [
       "<Figure size 432x288 with 1 Axes>"
      ]
     },
     "metadata": {
      "needs_background": "light"
     },
     "output_type": "display_data"
    }
   ],
   "source": [
    "plt.hist(JSresults4, 100, range=(0,1));"
   ]
  },
  {
   "cell_type": "code",
   "execution_count": 146,
   "metadata": {},
   "outputs": [
    {
     "data": {
      "image/png": "[encoded data removed]",
      "text/plain": [
       "<Figure size 432x288 with 1 Axes>"
      ]
     },
     "metadata": {
      "needs_background": "light"
     },
     "output_type": "display_data"
    }
   ],
   "source": [
    "plt.hist(JSresults4, 100, color='blue', alpha=0.25, range=(0,1))\n",
    "plt.hist(JSresults, 50, color='green', alpha=0.25, range=(0,1))\n",
    "plt.hist(JSresults6, 50, color='red', alpha=0.25, range=(0,1))\n",
    "plt.hist(JSresults7, 50, color='yellow', alpha=0.25, range=(0,1));"
   ]
  },
  {
   "cell_type": "code",
   "execution_count": 149,
   "metadata": {},
   "outputs": [
    {
     "data": {
      "image/png": "[encoded data removed]",
      "text/plain": [
       "<Figure size 432x288 with 1 Axes>"
      ]
     },
     "metadata": {
      "needs_background": "light"
     },
     "output_type": "display_data"
    }
   ],
   "source": [
    "#plt.hist(JSresults4, 100, color='blue', alpha=0.25, range=(0,1))\n",
    "plt.hist(JSresults, 50, color='green', alpha=0.25, range=(0,1))\n",
    "plt.hist(JSresults6, 50, color='red', alpha=0.25, range=(0,1))\n",
    "plt.hist(JSresults7, 50, color='yellow', alpha=0.25, range=(0,1));"
   ]
  },
  {
   "cell_type": "code",
   "execution_count": 124,
   "metadata": {},
   "outputs": [],
   "source": [
    "import seaborn as sns"
   ]
  },
  {
   "cell_type": "code",
   "execution_count": 132,
   "metadata": {},
   "outputs": [
    {
     "data": {
      "image/png": "[encoded data removed]",
      "text/plain": [
       "<Figure size 432x288 with 1 Axes>"
      ]
     },
     "metadata": {
      "needs_background": "light"
     },
     "output_type": "display_data"
    }
   ],
   "source": [
    "sns.kdeplot(np.array(JSresults4), color='blue')\n",
    "sns.kdeplot(np.array(JSresults), color='green')\n",
    "sns.kdeplot(np.array(JSresults6), color='red')\n",
    "sns.kdeplot(np.array(JSresults7), color='yellow');"
   ]
  },
  {
   "cell_type": "code",
   "execution_count": 150,
   "metadata": {},
   "outputs": [
    {
     "data": {
      "image/png": "[encoded data removed]",
      "text/plain": [
       "<Figure size 432x288 with 1 Axes>"
      ]
     },
     "metadata": {
      "needs_background": "light"
     },
     "output_type": "display_data"
    }
   ],
   "source": [
    "#sns.kdeplot(np.array(JSresults4), color='blue')\n",
    "sns.kdeplot(np.array(JSresults), color='green')\n",
    "sns.kdeplot(np.array(JSresults6), color='red')\n",
    "sns.kdeplot(np.array(JSresults7), color='yellow');"
   ]
  },
  {
   "cell_type": "code",
   "execution_count": null,
   "metadata": {},
   "outputs": [],
   "source": []
  },
  {
   "cell_type": "code",
   "execution_count": null,
   "metadata": {},
   "outputs": [],
   "source": []
  },
  {
   "cell_type": "code",
   "execution_count": null,
   "metadata": {},
   "outputs": [],
   "source": []
  }
 ],
 "metadata": {
  "kernelspec": {
   "display_name": "Python 3",
   "language": "python",
   "name": "python3"
  },
  "language_info": {
   "codemirror_mode": {
    "name": "ipython",
    "version": 3
   },
   "file_extension": ".py",
   "mimetype": "text/x-python",
   "name": "python",
   "nbconvert_exporter": "python",
   "pygments_lexer": "ipython3",
   "version": "3.7.1"
  }
 },
 "nbformat": 4,
 "nbformat_minor": 2
}
