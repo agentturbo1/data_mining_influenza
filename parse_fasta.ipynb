{
 "cells": [
  {
   "cell_type": "markdown",
   "metadata": {},
   "source": [
    "Idea from:  \n",
    "https://stackoverflow.com/questions/19436789\n"
   ]
  },
  {
   "cell_type": "code",
   "execution_count": 10,
   "metadata": {
    "scrolled": true
   },
   "outputs": [],
   "source": [
    "from Bio.SeqIO.FastaIO import SimpleFastaParser\n",
    "import pandas as pd"
   ]
  },
  {
   "cell_type": "markdown",
   "metadata": {},
   "source": [
    "This was esp useful:  \n",
    "http://biopython.org/DIST/docs/tutorial/Tutorial.html#sec:low-level-fasta-fastq"
   ]
  },
  {
   "cell_type": "code",
   "execution_count": 5,
   "metadata": {},
   "outputs": [
    {
     "name": "stdout",
     "output_type": "stream",
     "text": [
      "8 records with total sequence length 13629\n"
     ]
    }
   ],
   "source": [
    "count = 0\n",
    "total_len = 0\n",
    "with open(\"short_test1.fa\") as in_handle:\n",
    "    for title, seq in SimpleFastaParser(in_handle):\n",
    "        count += 1\n",
    "        total_len += len(seq)\n",
    "print(\"%i records with total sequence length %i\" % (count, total_len))\n"
   ]
  },
  {
   "cell_type": "code",
   "execution_count": 7,
   "metadata": {},
   "outputs": [],
   "source": [
    "with open('short_test1.fa') as fasta_file:  # Will close handle cleanly\n",
    "    titles = []\n",
    "    sequences = []\n",
    "    for title, sequence in SimpleFastaParser(fasta_file):\n",
    "        titles.append(title)\n",
    "        sequences.append(sequence)"
   ]
  },
  {
   "cell_type": "code",
   "execution_count": 17,
   "metadata": {},
   "outputs": [
    {
     "data": {
      "text/plain": [
       "['MH363660 A/canine/Georgia/20170606-19/2017 2017/05/25 4 (HA)',\n",
       " 'MH363665 A/canine/Georgia/20170606-19/2017 2017/05/25 8 (NS)']"
      ]
     },
     "execution_count": 17,
     "metadata": {},
     "output_type": "execute_result"
    }
   ],
   "source": [
    "titles[0:2]"
   ]
  },
  {
   "cell_type": "code",
   "execution_count": 18,
   "metadata": {},
   "outputs": [
    {
     "data": {
      "text/plain": [
       "['AGCAAAAGCAGGGGATACTTTCATTAATCATGAAAACTGTTATTGCTTTAAGCTATATTTTCTGCCTGGCTTTTGGTCAGAATCTTCTAGGAAATGAAAATAATGCTGCAACACTATGCCTGGGACATCATGCAGTGCCGAACGGGACAATGGTAAAAACTATCACAGACGATCAAATTGAGGTGACCAACGCCACTGAGCTAGTCCAAAACTCCTCAACAGGGAAAATATGCAACAATCCCCACAAGATTCTTGATGGGAGGGACTGCACGCTAATAGATGCCCTACTAGGGGACCCACACTGTGACGTCTTCCAAAATGAGACATGGGACCTTTTTGTGGAACGAAGCAATGCTTTTAGCAATTGTTACCCTTATGATGTACCAGACTATGCATCCCTCCGATCCATAGTTGCATCATCAGGCACATTGGAGTTCATCACTGAAGGTTTCACTTGGGCAGGAGTAACTCAAAATGGAGGAAGCGGTGCTTGTAAAAGGGGACCTGCTAATAGTTTCTTCAGTAGATTGAATTGGTTAACTAAATCAGGAAATACATATCCAGTGTTGAATGTGACTATGCCAAACAACAACAATTTCGACAAATTATACATCTGGGGAGTTCATCACCCAAGCACTGATCAAGAACAAACCAGCCTGTATATTCAGGCCTCAGGAAGAGTCACAGTCTCTACCAGGAGAAGCCAACAGACCATAATCCCAAACATTGGATCTAGACCCTTGGTAAGGGGCCAATCTGGCAGAATAAGCGTATATTGGACAATAGTCAAACCTGGAGACATACTGGTAATAAACAGTAATGGAAACCTAATCGCTCCTCGAGGATACTTCAAAATGCACATTGGGAAAAGCTCAATAATGAGATCAGATGCACCTATTGACACCTGCATTTCCGAATGTATCACCCCGAACGGGAGCATCCCCAATGAAAAGCCCTTCCAAAATGTAAACAAGATCACATACGGAGCATGTCCCAAATATGTTAAGCAAAACACCTTGAAACTGGCAACAGGAATGCGGAATGTCCCTGAAAGGCAAACCAGAGGCCTGTTCGGCGCAATAGCAGGCTTCATAGAAAATGGATGGGAAGGGATGGTAGACGGTTGGTATGGCTTCAGACACCAAAATTCCGAAGGTACAGGACAAGCAGCAGACCTTAAAAGCACTCAGGCAGCCATTGACCAGATTAATGGGAAATTGAACAGAGTGATTGAAAAAACGAATGAAAAGTTCCATCAAATTGAAAAGGAGTTTTCCGAAGTAGAAGGGAGGATTCAAGACCTTGAAAGATACGTTGAAGACACAAAAATAGATCTTTGGTCTTACAATGCCGAGCTTCTTGTTGCCTTAGAAAACCAGAACACAATTGATTTAACTGATTCAGAAATGAACAAATTGTTTGAAAAGACTAGGAGGCAATTGAGGGAAAATGCTGAAGACATGGGCAATGGCTGCTTCAAAATCTACCACAAGTGTGACAATGCTTGCATAGAATCGATTAGAAACGGAACTTATGACCATAACATATATAGAGATGAGGCAGTGAACAATCGGTTCCAGATCAAAGGTGTTGAGCTAAAGTCTGGATACAAAGACTGGATCTTGTGGATTTCCTTTGCCATATCATGCTTTTTGCTTTGTGTTGTCTTGCTGGGTTTCATTATGTGGGCCTGCCAGAGAGGCAACATTAGGTGCAACATTTGCATTTGAGTGTACTAATAATTAAAAACACCCTTGTTTCTACT',\n",
       " 'AGCAAAAGCAGGGTGACAAAAACATAATGGACTCCAACACTGTGTCAAGCTTTCAGGTAGACTGCTTTCTTTGGCATGTCCGCAAACGATTTGCAGACCAAGAACTGGGTGATGCCCCATTCCTTGATCGGCTTCGCCGAGATCAGAAGTCCCTAAGAGGAAGAGGCAGCACCCTTGGTCTGGACATTGAAACAGCTACTCGTATAGGAAAACAGATAGTGGAGTGGATTCTGGAGGAAGAATCCGATAAGGCACTTAAAATGACCATTGCTTCAGTCCCAGTTTCATGCTACCTAACTGATATGACACTTGAAGAAATGTCAAGAGACTGGTTCATGCTCATGCCAAAGCAAAAAGTAGCAGGGTCCCTTTGCATCAAAATGGACCAGGCAATAATGGATAAAAACATCACATTGAAAGCAAACTTCAGTGTGATTTTTGAGCGACTGGAAACTCTAATACTACTTAGAGCTTTCACAAACGAAGGAGCAATTGTGGGAGAAATTTCACCATTACCTTCTCTTCCAGGACATACTGATAAGGATGTCAAAAATGCAATTGGGATCCTCATCGGAGGGCTTGAATGGAATGATAACACAGTTCGAGTCTCTGAAATTCTACAGAGATTCGCTTGGAGAAGCAGTGATGAGAATGGGAGATCTTCACTCCCTCCAAAGTAGAAACGGAAAATGGCGAGAACAATTAAGTCAGAAATTTGAGGAAATAAGGTGGCTAATCGAAGAAGTACGGCATAGATTAAAGATTACGGAAAACAGCTTTGAACAAATAACATTTATGCAAGCCTTACAACTATTGCTTGAGGTAGAGCAAGAGATAAGAACTTTCTCGTTTCAGCTTATTTAATGATAAAAAACACCCTTGTTTCTACT']"
      ]
     },
     "execution_count": 18,
     "metadata": {},
     "output_type": "execute_result"
    }
   ],
   "source": [
    "sequences[0:2]"
   ]
  },
  {
   "cell_type": "code",
   "execution_count": 14,
   "metadata": {},
   "outputs": [],
   "source": [
    "test = pd.DataFrame(list(zip(titles, sequences)), columns=['titles','sequences'])"
   ]
  },
  {
   "cell_type": "code",
   "execution_count": 15,
   "metadata": {},
   "outputs": [
    {
     "data": {
      "text/html": [
       "<div>\n",
       "<style scoped>\n",
       "    .dataframe tbody tr th:only-of-type {\n",
       "        vertical-align: middle;\n",
       "    }\n",
       "\n",
       "    .dataframe tbody tr th {\n",
       "        vertical-align: top;\n",
       "    }\n",
       "\n",
       "    .dataframe thead th {\n",
       "        text-align: right;\n",
       "    }\n",
       "</style>\n",
       "<table border=\"1\" class=\"dataframe\">\n",
       "  <thead>\n",
       "    <tr style=\"text-align: right;\">\n",
       "      <th></th>\n",
       "      <th>titles</th>\n",
       "      <th>sequences</th>\n",
       "    </tr>\n",
       "  </thead>\n",
       "  <tbody>\n",
       "    <tr>\n",
       "      <th>0</th>\n",
       "      <td>MH363660 A/canine/Georgia/20170606-19/2017 201...</td>\n",
       "      <td>AGCAAAAGCAGGGGATACTTTCATTAATCATGAAAACTGTTATTGC...</td>\n",
       "    </tr>\n",
       "    <tr>\n",
       "      <th>1</th>\n",
       "      <td>MH363665 A/canine/Georgia/20170606-19/2017 201...</td>\n",
       "      <td>AGCAAAAGCAGGGTGACAAAAACATAATGGACTCCAACACTGTGTC...</td>\n",
       "    </tr>\n",
       "    <tr>\n",
       "      <th>2</th>\n",
       "      <td>MH363670 A/canine/Georgia/20170606-19/2017 201...</td>\n",
       "      <td>AGCAAAAGCAGGAGTAAAAATGAACCCAAATCAAAAGATAATAGCA...</td>\n",
       "    </tr>\n",
       "    <tr>\n",
       "      <th>3</th>\n",
       "      <td>MH363671 A/canine/Georgia/20170606-19/2017 201...</td>\n",
       "      <td>AGCAAAAGCAGGTCAAATATATTCAATATGGAAAGAATAAAAGAAT...</td>\n",
       "    </tr>\n",
       "    <tr>\n",
       "      <th>4</th>\n",
       "      <td>MH363685 A/canine/Georgia/20170606-19/2017 201...</td>\n",
       "      <td>AGCAAAAGCAGGGTAGATAATCACTCACTGAGTGACATCAACGTCA...</td>\n",
       "    </tr>\n",
       "    <tr>\n",
       "      <th>5</th>\n",
       "      <td>MH363689 A/canine/Georgia/20170606-19/2017 201...</td>\n",
       "      <td>AGCAAAAGCAGGTACTGATCCAAAATGGAAGACTTTGTGAGACAAT...</td>\n",
       "    </tr>\n",
       "    <tr>\n",
       "      <th>6</th>\n",
       "      <td>MH363690 A/canine/Georgia/20170606-19/2017 201...</td>\n",
       "      <td>AGCAAAAGCAGGTAGATATTGAAAGATGAGTCTTCTAACCGAGGTC...</td>\n",
       "    </tr>\n",
       "    <tr>\n",
       "      <th>7</th>\n",
       "      <td>MH363696 A/canine/Georgia/20170606-19/2017 201...</td>\n",
       "      <td>AGCAAAAGCAGGCAAACCATTTGAATGGATGTCAATCCGACTTTAC...</td>\n",
       "    </tr>\n",
       "  </tbody>\n",
       "</table>\n",
       "</div>"
      ],
      "text/plain": [
       "                                              titles  \\\n",
       "0  MH363660 A/canine/Georgia/20170606-19/2017 201...   \n",
       "1  MH363665 A/canine/Georgia/20170606-19/2017 201...   \n",
       "2  MH363670 A/canine/Georgia/20170606-19/2017 201...   \n",
       "3  MH363671 A/canine/Georgia/20170606-19/2017 201...   \n",
       "4  MH363685 A/canine/Georgia/20170606-19/2017 201...   \n",
       "5  MH363689 A/canine/Georgia/20170606-19/2017 201...   \n",
       "6  MH363690 A/canine/Georgia/20170606-19/2017 201...   \n",
       "7  MH363696 A/canine/Georgia/20170606-19/2017 201...   \n",
       "\n",
       "                                           sequences  \n",
       "0  AGCAAAAGCAGGGGATACTTTCATTAATCATGAAAACTGTTATTGC...  \n",
       "1  AGCAAAAGCAGGGTGACAAAAACATAATGGACTCCAACACTGTGTC...  \n",
       "2  AGCAAAAGCAGGAGTAAAAATGAACCCAAATCAAAAGATAATAGCA...  \n",
       "3  AGCAAAAGCAGGTCAAATATATTCAATATGGAAAGAATAAAAGAAT...  \n",
       "4  AGCAAAAGCAGGGTAGATAATCACTCACTGAGTGACATCAACGTCA...  \n",
       "5  AGCAAAAGCAGGTACTGATCCAAAATGGAAGACTTTGTGAGACAAT...  \n",
       "6  AGCAAAAGCAGGTAGATATTGAAAGATGAGTCTTCTAACCGAGGTC...  \n",
       "7  AGCAAAAGCAGGCAAACCATTTGAATGGATGTCAATCCGACTTTAC...  "
      ]
     },
     "execution_count": 15,
     "metadata": {},
     "output_type": "execute_result"
    }
   ],
   "source": [
    "test"
   ]
  },
  {
   "cell_type": "code",
   "execution_count": null,
   "metadata": {},
   "outputs": [],
   "source": []
  },
  {
   "cell_type": "code",
   "execution_count": null,
   "metadata": {},
   "outputs": [],
   "source": []
  }
 ],
 "metadata": {
  "kernelspec": {
   "display_name": "Python 3",
   "language": "python",
   "name": "python3"
  },
  "language_info": {
   "codemirror_mode": {
    "name": "ipython",
    "version": 3
   },
   "file_extension": ".py",
   "mimetype": "text/x-python",
   "name": "python",
   "nbconvert_exporter": "python",
   "pygments_lexer": "ipython3",
   "version": "3.7.1"
  }
 },
 "nbformat": 4,
 "nbformat_minor": 2
}
