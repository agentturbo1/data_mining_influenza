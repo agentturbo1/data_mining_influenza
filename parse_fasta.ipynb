{
 "cells": [
  {
   "cell_type": "markdown",
   "metadata": {},
   "source": [
    "Idea from:  \n",
    "https://stackoverflow.com/questions/19436789\n"
   ]
  },
  {
   "cell_type": "code",
   "execution_count": 1,
   "metadata": {
    "scrolled": true
   },
   "outputs": [],
   "source": [
    "from Bio.SeqIO.FastaIO import SimpleFastaParser\n",
    "import pandas as pd"
   ]
  },
  {
   "cell_type": "markdown",
   "metadata": {},
   "source": [
    "This was esp useful:  \n",
    "http://biopython.org/DIST/docs/tutorial/Tutorial.html#sec:low-level-fasta-fastq"
   ]
  },
  {
   "cell_type": "code",
   "execution_count": 2,
   "metadata": {},
   "outputs": [
    {
     "name": "stdout",
     "output_type": "stream",
     "text": [
      "8 records with total sequence length 13629\n"
     ]
    }
   ],
   "source": [
    "count = 0\n",
    "total_len = 0\n",
    "with open(\"short_test1.fa\") as in_handle:\n",
    "    for title, seq in SimpleFastaParser(in_handle):\n",
    "        count += 1\n",
    "        total_len += len(seq)\n",
    "print(\"%i records with total sequence length %i\" % (count, total_len))\n"
   ]
  },
  {
   "cell_type": "code",
   "execution_count": 3,
   "metadata": {},
   "outputs": [],
   "source": [
    "with open('short_test1.fa') as fasta_file:  # Will close handle cleanly\n",
    "    titles = []\n",
    "    sequences = []\n",
    "    for title, sequence in SimpleFastaParser(fasta_file):\n",
    "        titles.append(title)\n",
    "        sequences.append(sequence)"
   ]
  },
  {
   "cell_type": "code",
   "execution_count": 4,
   "metadata": {},
   "outputs": [
    {
     "data": {
      "text/plain": [
       "['MH363660 A/canine/Georgia/20170606-19/2017 2017/05/25 4 (HA)',\n",
       " 'MH363665 A/canine/Georgia/20170606-19/2017 2017/05/25 8 (NS)']"
      ]
     },
     "execution_count": 4,
     "metadata": {},
     "output_type": "execute_result"
    }
   ],
   "source": [
    "titles[0:2]"
   ]
  },
  {
   "cell_type": "code",
   "execution_count": 5,
   "metadata": {},
   "outputs": [
    {
     "data": {
      "text/plain": [
       "['AGCAAAAGCAGGGGATACTTTCATTAATCATGAAAACTGTTATTGCTTTAAGCTATATTTTCTGCCTGGCTTTTGGTCAGAATCTTCTAGGAAATGAAAATAATGCTGCAACACTATGCCTGGGACATCATGCAGTGCCGAACGGGACAATGGTAAAAACTATCACAGACGATCAAATTGAGGTGACCAACGCCACTGAGCTAGTCCAAAACTCCTCAACAGGGAAAATATGCAACAATCCCCACAAGATTCTTGATGGGAGGGACTGCACGCTAATAGATGCCCTACTAGGGGACCCACACTGTGACGTCTTCCAAAATGAGACATGGGACCTTTTTGTGGAACGAAGCAATGCTTTTAGCAATTGTTACCCTTATGATGTACCAGACTATGCATCCCTCCGATCCATAGTTGCATCATCAGGCACATTGGAGTTCATCACTGAAGGTTTCACTTGGGCAGGAGTAACTCAAAATGGAGGAAGCGGTGCTTGTAAAAGGGGACCTGCTAATAGTTTCTTCAGTAGATTGAATTGGTTAACTAAATCAGGAAATACATATCCAGTGTTGAATGTGACTATGCCAAACAACAACAATTTCGACAAATTATACATCTGGGGAGTTCATCACCCAAGCACTGATCAAGAACAAACCAGCCTGTATATTCAGGCCTCAGGAAGAGTCACAGTCTCTACCAGGAGAAGCCAACAGACCATAATCCCAAACATTGGATCTAGACCCTTGGTAAGGGGCCAATCTGGCAGAATAAGCGTATATTGGACAATAGTCAAACCTGGAGACATACTGGTAATAAACAGTAATGGAAACCTAATCGCTCCTCGAGGATACTTCAAAATGCACATTGGGAAAAGCTCAATAATGAGATCAGATGCACCTATTGACACCTGCATTTCCGAATGTATCACCCCGAACGGGAGCATCCCCAATGAAAAGCCCTTCCAAAATGTAAACAAGATCACATACGGAGCATGTCCCAAATATGTTAAGCAAAACACCTTGAAACTGGCAACAGGAATGCGGAATGTCCCTGAAAGGCAAACCAGAGGCCTGTTCGGCGCAATAGCAGGCTTCATAGAAAATGGATGGGAAGGGATGGTAGACGGTTGGTATGGCTTCAGACACCAAAATTCCGAAGGTACAGGACAAGCAGCAGACCTTAAAAGCACTCAGGCAGCCATTGACCAGATTAATGGGAAATTGAACAGAGTGATTGAAAAAACGAATGAAAAGTTCCATCAAATTGAAAAGGAGTTTTCCGAAGTAGAAGGGAGGATTCAAGACCTTGAAAGATACGTTGAAGACACAAAAATAGATCTTTGGTCTTACAATGCCGAGCTTCTTGTTGCCTTAGAAAACCAGAACACAATTGATTTAACTGATTCAGAAATGAACAAATTGTTTGAAAAGACTAGGAGGCAATTGAGGGAAAATGCTGAAGACATGGGCAATGGCTGCTTCAAAATCTACCACAAGTGTGACAATGCTTGCATAGAATCGATTAGAAACGGAACTTATGACCATAACATATATAGAGATGAGGCAGTGAACAATCGGTTCCAGATCAAAGGTGTTGAGCTAAAGTCTGGATACAAAGACTGGATCTTGTGGATTTCCTTTGCCATATCATGCTTTTTGCTTTGTGTTGTCTTGCTGGGTTTCATTATGTGGGCCTGCCAGAGAGGCAACATTAGGTGCAACATTTGCATTTGAGTGTACTAATAATTAAAAACACCCTTGTTTCTACT',\n",
       " 'AGCAAAAGCAGGGTGACAAAAACATAATGGACTCCAACACTGTGTCAAGCTTTCAGGTAGACTGCTTTCTTTGGCATGTCCGCAAACGATTTGCAGACCAAGAACTGGGTGATGCCCCATTCCTTGATCGGCTTCGCCGAGATCAGAAGTCCCTAAGAGGAAGAGGCAGCACCCTTGGTCTGGACATTGAAACAGCTACTCGTATAGGAAAACAGATAGTGGAGTGGATTCTGGAGGAAGAATCCGATAAGGCACTTAAAATGACCATTGCTTCAGTCCCAGTTTCATGCTACCTAACTGATATGACACTTGAAGAAATGTCAAGAGACTGGTTCATGCTCATGCCAAAGCAAAAAGTAGCAGGGTCCCTTTGCATCAAAATGGACCAGGCAATAATGGATAAAAACATCACATTGAAAGCAAACTTCAGTGTGATTTTTGAGCGACTGGAAACTCTAATACTACTTAGAGCTTTCACAAACGAAGGAGCAATTGTGGGAGAAATTTCACCATTACCTTCTCTTCCAGGACATACTGATAAGGATGTCAAAAATGCAATTGGGATCCTCATCGGAGGGCTTGAATGGAATGATAACACAGTTCGAGTCTCTGAAATTCTACAGAGATTCGCTTGGAGAAGCAGTGATGAGAATGGGAGATCTTCACTCCCTCCAAAGTAGAAACGGAAAATGGCGAGAACAATTAAGTCAGAAATTTGAGGAAATAAGGTGGCTAATCGAAGAAGTACGGCATAGATTAAAGATTACGGAAAACAGCTTTGAACAAATAACATTTATGCAAGCCTTACAACTATTGCTTGAGGTAGAGCAAGAGATAAGAACTTTCTCGTTTCAGCTTATTTAATGATAAAAAACACCCTTGTTTCTACT']"
      ]
     },
     "execution_count": 5,
     "metadata": {},
     "output_type": "execute_result"
    }
   ],
   "source": [
    "sequences[0:2]"
   ]
  },
  {
   "cell_type": "code",
   "execution_count": 6,
   "metadata": {},
   "outputs": [],
   "source": [
    "test = pd.DataFrame(list(zip(titles, sequences)), columns=['titles','sequences'])"
   ]
  },
  {
   "cell_type": "code",
   "execution_count": 7,
   "metadata": {},
   "outputs": [
    {
     "data": {
      "text/html": [
       "<div>\n",
       "<style scoped>\n",
       "    .dataframe tbody tr th:only-of-type {\n",
       "        vertical-align: middle;\n",
       "    }\n",
       "\n",
       "    .dataframe tbody tr th {\n",
       "        vertical-align: top;\n",
       "    }\n",
       "\n",
       "    .dataframe thead th {\n",
       "        text-align: right;\n",
       "    }\n",
       "</style>\n",
       "<table border=\"1\" class=\"dataframe\">\n",
       "  <thead>\n",
       "    <tr style=\"text-align: right;\">\n",
       "      <th></th>\n",
       "      <th>titles</th>\n",
       "      <th>sequences</th>\n",
       "    </tr>\n",
       "  </thead>\n",
       "  <tbody>\n",
       "    <tr>\n",
       "      <th>0</th>\n",
       "      <td>MH363660 A/canine/Georgia/20170606-19/2017 201...</td>\n",
       "      <td>AGCAAAAGCAGGGGATACTTTCATTAATCATGAAAACTGTTATTGC...</td>\n",
       "    </tr>\n",
       "    <tr>\n",
       "      <th>1</th>\n",
       "      <td>MH363665 A/canine/Georgia/20170606-19/2017 201...</td>\n",
       "      <td>AGCAAAAGCAGGGTGACAAAAACATAATGGACTCCAACACTGTGTC...</td>\n",
       "    </tr>\n",
       "    <tr>\n",
       "      <th>2</th>\n",
       "      <td>MH363670 A/canine/Georgia/20170606-19/2017 201...</td>\n",
       "      <td>AGCAAAAGCAGGAGTAAAAATGAACCCAAATCAAAAGATAATAGCA...</td>\n",
       "    </tr>\n",
       "    <tr>\n",
       "      <th>3</th>\n",
       "      <td>MH363671 A/canine/Georgia/20170606-19/2017 201...</td>\n",
       "      <td>AGCAAAAGCAGGTCAAATATATTCAATATGGAAAGAATAAAAGAAT...</td>\n",
       "    </tr>\n",
       "    <tr>\n",
       "      <th>4</th>\n",
       "      <td>MH363685 A/canine/Georgia/20170606-19/2017 201...</td>\n",
       "      <td>AGCAAAAGCAGGGTAGATAATCACTCACTGAGTGACATCAACGTCA...</td>\n",
       "    </tr>\n",
       "    <tr>\n",
       "      <th>5</th>\n",
       "      <td>MH363689 A/canine/Georgia/20170606-19/2017 201...</td>\n",
       "      <td>AGCAAAAGCAGGTACTGATCCAAAATGGAAGACTTTGTGAGACAAT...</td>\n",
       "    </tr>\n",
       "    <tr>\n",
       "      <th>6</th>\n",
       "      <td>MH363690 A/canine/Georgia/20170606-19/2017 201...</td>\n",
       "      <td>AGCAAAAGCAGGTAGATATTGAAAGATGAGTCTTCTAACCGAGGTC...</td>\n",
       "    </tr>\n",
       "    <tr>\n",
       "      <th>7</th>\n",
       "      <td>MH363696 A/canine/Georgia/20170606-19/2017 201...</td>\n",
       "      <td>AGCAAAAGCAGGCAAACCATTTGAATGGATGTCAATCCGACTTTAC...</td>\n",
       "    </tr>\n",
       "  </tbody>\n",
       "</table>\n",
       "</div>"
      ],
      "text/plain": [
       "                                              titles  \\\n",
       "0  MH363660 A/canine/Georgia/20170606-19/2017 201...   \n",
       "1  MH363665 A/canine/Georgia/20170606-19/2017 201...   \n",
       "2  MH363670 A/canine/Georgia/20170606-19/2017 201...   \n",
       "3  MH363671 A/canine/Georgia/20170606-19/2017 201...   \n",
       "4  MH363685 A/canine/Georgia/20170606-19/2017 201...   \n",
       "5  MH363689 A/canine/Georgia/20170606-19/2017 201...   \n",
       "6  MH363690 A/canine/Georgia/20170606-19/2017 201...   \n",
       "7  MH363696 A/canine/Georgia/20170606-19/2017 201...   \n",
       "\n",
       "                                           sequences  \n",
       "0  AGCAAAAGCAGGGGATACTTTCATTAATCATGAAAACTGTTATTGC...  \n",
       "1  AGCAAAAGCAGGGTGACAAAAACATAATGGACTCCAACACTGTGTC...  \n",
       "2  AGCAAAAGCAGGAGTAAAAATGAACCCAAATCAAAAGATAATAGCA...  \n",
       "3  AGCAAAAGCAGGTCAAATATATTCAATATGGAAAGAATAAAAGAAT...  \n",
       "4  AGCAAAAGCAGGGTAGATAATCACTCACTGAGTGACATCAACGTCA...  \n",
       "5  AGCAAAAGCAGGTACTGATCCAAAATGGAAGACTTTGTGAGACAAT...  \n",
       "6  AGCAAAAGCAGGTAGATATTGAAAGATGAGTCTTCTAACCGAGGTC...  \n",
       "7  AGCAAAAGCAGGCAAACCATTTGAATGGATGTCAATCCGACTTTAC...  "
      ]
     },
     "execution_count": 7,
     "metadata": {},
     "output_type": "execute_result"
    }
   ],
   "source": [
    "test"
   ]
  },
  {
   "cell_type": "code",
   "execution_count": 8,
   "metadata": {},
   "outputs": [],
   "source": [
    "with open('canine_flu_test.fa') as fasta_file: \n",
    "    ct_titles = []\n",
    "    ct_sequences = []\n",
    "    for title, sequence in SimpleFastaParser(fasta_file):\n",
    "        ct_titles.append(title)\n",
    "        ct_sequences.append(sequence)"
   ]
  },
  {
   "cell_type": "code",
   "execution_count": 9,
   "metadata": {},
   "outputs": [],
   "source": [
    "caninet = pd.DataFrame(list(zip(ct_titles, ct_sequences)), columns=['titles','sequences'])"
   ]
  },
  {
   "cell_type": "code",
   "execution_count": 10,
   "metadata": {},
   "outputs": [
    {
     "data": {
      "text/html": [
       "<div>\n",
       "<style scoped>\n",
       "    .dataframe tbody tr th:only-of-type {\n",
       "        vertical-align: middle;\n",
       "    }\n",
       "\n",
       "    .dataframe tbody tr th {\n",
       "        vertical-align: top;\n",
       "    }\n",
       "\n",
       "    .dataframe thead th {\n",
       "        text-align: right;\n",
       "    }\n",
       "</style>\n",
       "<table border=\"1\" class=\"dataframe\">\n",
       "  <thead>\n",
       "    <tr style=\"text-align: right;\">\n",
       "      <th></th>\n",
       "      <th>titles</th>\n",
       "      <th>sequences</th>\n",
       "    </tr>\n",
       "  </thead>\n",
       "  <tbody>\n",
       "    <tr>\n",
       "      <th>0</th>\n",
       "      <td>MH363660 A/canine/Georgia/20170606-19/2017 201...</td>\n",
       "      <td>AGCAAAAGCAGGGGATACTTTCATTAATCATGAAAACTGTTATTGC...</td>\n",
       "    </tr>\n",
       "    <tr>\n",
       "      <th>1</th>\n",
       "      <td>MH363665 A/canine/Georgia/20170606-19/2017 201...</td>\n",
       "      <td>AGCAAAAGCAGGGTGACAAAAACATAATGGACTCCAACACTGTGTC...</td>\n",
       "    </tr>\n",
       "    <tr>\n",
       "      <th>2</th>\n",
       "      <td>MH363670 A/canine/Georgia/20170606-19/2017 201...</td>\n",
       "      <td>AGCAAAAGCAGGAGTAAAAATGAACCCAAATCAAAAGATAATAGCA...</td>\n",
       "    </tr>\n",
       "    <tr>\n",
       "      <th>3</th>\n",
       "      <td>MH363671 A/canine/Georgia/20170606-19/2017 201...</td>\n",
       "      <td>AGCAAAAGCAGGTCAAATATATTCAATATGGAAAGAATAAAAGAAT...</td>\n",
       "    </tr>\n",
       "    <tr>\n",
       "      <th>4</th>\n",
       "      <td>MH363685 A/canine/Georgia/20170606-19/2017 201...</td>\n",
       "      <td>AGCAAAAGCAGGGTAGATAATCACTCACTGAGTGACATCAACGTCA...</td>\n",
       "    </tr>\n",
       "  </tbody>\n",
       "</table>\n",
       "</div>"
      ],
      "text/plain": [
       "                                              titles  \\\n",
       "0  MH363660 A/canine/Georgia/20170606-19/2017 201...   \n",
       "1  MH363665 A/canine/Georgia/20170606-19/2017 201...   \n",
       "2  MH363670 A/canine/Georgia/20170606-19/2017 201...   \n",
       "3  MH363671 A/canine/Georgia/20170606-19/2017 201...   \n",
       "4  MH363685 A/canine/Georgia/20170606-19/2017 201...   \n",
       "\n",
       "                                           sequences  \n",
       "0  AGCAAAAGCAGGGGATACTTTCATTAATCATGAAAACTGTTATTGC...  \n",
       "1  AGCAAAAGCAGGGTGACAAAAACATAATGGACTCCAACACTGTGTC...  \n",
       "2  AGCAAAAGCAGGAGTAAAAATGAACCCAAATCAAAAGATAATAGCA...  \n",
       "3  AGCAAAAGCAGGTCAAATATATTCAATATGGAAAGAATAAAAGAAT...  \n",
       "4  AGCAAAAGCAGGGTAGATAATCACTCACTGAGTGACATCAACGTCA...  "
      ]
     },
     "execution_count": 10,
     "metadata": {},
     "output_type": "execute_result"
    }
   ],
   "source": [
    "caninet.head()"
   ]
  },
  {
   "cell_type": "code",
   "execution_count": 11,
   "metadata": {},
   "outputs": [
    {
     "data": {
      "text/html": [
       "<div>\n",
       "<style scoped>\n",
       "    .dataframe tbody tr th:only-of-type {\n",
       "        vertical-align: middle;\n",
       "    }\n",
       "\n",
       "    .dataframe tbody tr th {\n",
       "        vertical-align: top;\n",
       "    }\n",
       "\n",
       "    .dataframe thead th {\n",
       "        text-align: right;\n",
       "    }\n",
       "</style>\n",
       "<table border=\"1\" class=\"dataframe\">\n",
       "  <thead>\n",
       "    <tr style=\"text-align: right;\">\n",
       "      <th></th>\n",
       "      <th>titles</th>\n",
       "      <th>sequences</th>\n",
       "    </tr>\n",
       "  </thead>\n",
       "  <tbody>\n",
       "    <tr>\n",
       "      <th>1235</th>\n",
       "      <td>MH266395 A/canine/South Carolina/132956/2017 2...</td>\n",
       "      <td>AGCAAAAGCAGGGTAGATAATCACTCACTGAGTGACATCAACGTCA...</td>\n",
       "    </tr>\n",
       "    <tr>\n",
       "      <th>1236</th>\n",
       "      <td>MH266396 A/canine/South Carolina/132956/2017 2...</td>\n",
       "      <td>AGCAAAAGCAGGGTGACAAAAACATAATGGACTCCAACACTGTGTC...</td>\n",
       "    </tr>\n",
       "    <tr>\n",
       "      <th>1237</th>\n",
       "      <td>MH266397 A/canine/South Carolina/132956/2017 2...</td>\n",
       "      <td>AGCAAAAGCAGGTACTGATCCAAAATGGAAGACTTTGTGAGACAAT...</td>\n",
       "    </tr>\n",
       "    <tr>\n",
       "      <th>1238</th>\n",
       "      <td>MH266398 A/canine/South Carolina/132956/2017 2...</td>\n",
       "      <td>AGCGAAAGCAGGCAAACCATTTGAATGGATGTCAATCCGACTTTAC...</td>\n",
       "    </tr>\n",
       "    <tr>\n",
       "      <th>1239</th>\n",
       "      <td>MH266399 A/canine/South Carolina/132956/2017 2...</td>\n",
       "      <td>AGCGAAAGCAGGTCAAATATATTCAATATGGAAAGAATAAAAGAAT...</td>\n",
       "    </tr>\n",
       "  </tbody>\n",
       "</table>\n",
       "</div>"
      ],
      "text/plain": [
       "                                                 titles  \\\n",
       "1235  MH266395 A/canine/South Carolina/132956/2017 2...   \n",
       "1236  MH266396 A/canine/South Carolina/132956/2017 2...   \n",
       "1237  MH266397 A/canine/South Carolina/132956/2017 2...   \n",
       "1238  MH266398 A/canine/South Carolina/132956/2017 2...   \n",
       "1239  MH266399 A/canine/South Carolina/132956/2017 2...   \n",
       "\n",
       "                                              sequences  \n",
       "1235  AGCAAAAGCAGGGTAGATAATCACTCACTGAGTGACATCAACGTCA...  \n",
       "1236  AGCAAAAGCAGGGTGACAAAAACATAATGGACTCCAACACTGTGTC...  \n",
       "1237  AGCAAAAGCAGGTACTGATCCAAAATGGAAGACTTTGTGAGACAAT...  \n",
       "1238  AGCGAAAGCAGGCAAACCATTTGAATGGATGTCAATCCGACTTTAC...  \n",
       "1239  AGCGAAAGCAGGTCAAATATATTCAATATGGAAAGAATAAAAGAAT...  "
      ]
     },
     "execution_count": 11,
     "metadata": {},
     "output_type": "execute_result"
    }
   ],
   "source": [
    "caninet.tail()"
   ]
  },
  {
   "cell_type": "code",
   "execution_count": 12,
   "metadata": {},
   "outputs": [],
   "source": [
    "with open('influenza.fna') as fasta_file: \n",
    "    cgi_titles = []\n",
    "    cgi_sequences = []\n",
    "    for title, sequence in SimpleFastaParser(fasta_file):\n",
    "        cgi_titles.append(title)\n",
    "        cgi_sequences.append(sequence)"
   ]
  },
  {
   "cell_type": "code",
   "execution_count": 13,
   "metadata": {},
   "outputs": [],
   "source": [
    "influenza_na = pd.DataFrame(list(zip(cgi_titles, cgi_sequences)), columns=['titles','sequences'])"
   ]
  },
  {
   "cell_type": "code",
   "execution_count": 14,
   "metadata": {},
   "outputs": [
    {
     "data": {
      "text/html": [
       "<div>\n",
       "<style scoped>\n",
       "    .dataframe tbody tr th:only-of-type {\n",
       "        vertical-align: middle;\n",
       "    }\n",
       "\n",
       "    .dataframe tbody tr th {\n",
       "        vertical-align: top;\n",
       "    }\n",
       "\n",
       "    .dataframe thead th {\n",
       "        text-align: right;\n",
       "    }\n",
       "</style>\n",
       "<table border=\"1\" class=\"dataframe\">\n",
       "  <thead>\n",
       "    <tr style=\"text-align: right;\">\n",
       "      <th></th>\n",
       "      <th>titles</th>\n",
       "      <th>sequences</th>\n",
       "    </tr>\n",
       "  </thead>\n",
       "  <tbody>\n",
       "    <tr>\n",
       "      <th>0</th>\n",
       "      <td>gi|58576|gb|X52226|Influenza A virus (A/FPV/Ro...</td>\n",
       "      <td>AGCAAAAGCAGGAGTTCAAAATGAATCCAAATCAGAAAATAATAAC...</td>\n",
       "    </tr>\n",
       "    <tr>\n",
       "      <th>1</th>\n",
       "      <td>gi|59292|gb|X53029|Influenza A virus (A/USSR/9...</td>\n",
       "      <td>AGCAAAAGCAGGTAGATGTTGAAAGATGAGTCTTCTAACCGAGGTC...</td>\n",
       "    </tr>\n",
       "    <tr>\n",
       "      <th>2</th>\n",
       "      <td>gi|59294|gb|X59778|Influenza A virus (A/NIB/4/...</td>\n",
       "      <td>GGATCCTGTTATGTGCATTTACAGCTACAGATGCAGACACAATATG...</td>\n",
       "    </tr>\n",
       "    <tr>\n",
       "      <th>3</th>\n",
       "      <td>gi|59296|gb|X66320|Influenza A virus (A/Chile/...</td>\n",
       "      <td>ACACCAAATGGAACGAAAATCAGAACCCTAGAATGTTTTTGGCCAT...</td>\n",
       "    </tr>\n",
       "    <tr>\n",
       "      <th>4</th>\n",
       "      <td>gi|60457|gb|X08088|Influenza A virus (A/WSN/33...</td>\n",
       "      <td>ATGAGTCTTCTAACCGAGGTCGAAACGTACGTTCTCTCTATCGTCC...</td>\n",
       "    </tr>\n",
       "  </tbody>\n",
       "</table>\n",
       "</div>"
      ],
      "text/plain": [
       "                                              titles  \\\n",
       "0  gi|58576|gb|X52226|Influenza A virus (A/FPV/Ro...   \n",
       "1  gi|59292|gb|X53029|Influenza A virus (A/USSR/9...   \n",
       "2  gi|59294|gb|X59778|Influenza A virus (A/NIB/4/...   \n",
       "3  gi|59296|gb|X66320|Influenza A virus (A/Chile/...   \n",
       "4  gi|60457|gb|X08088|Influenza A virus (A/WSN/33...   \n",
       "\n",
       "                                           sequences  \n",
       "0  AGCAAAAGCAGGAGTTCAAAATGAATCCAAATCAGAAAATAATAAC...  \n",
       "1  AGCAAAAGCAGGTAGATGTTGAAAGATGAGTCTTCTAACCGAGGTC...  \n",
       "2  GGATCCTGTTATGTGCATTTACAGCTACAGATGCAGACACAATATG...  \n",
       "3  ACACCAAATGGAACGAAAATCAGAACCCTAGAATGTTTTTGGCCAT...  \n",
       "4  ATGAGTCTTCTAACCGAGGTCGAAACGTACGTTCTCTCTATCGTCC...  "
      ]
     },
     "execution_count": 14,
     "metadata": {},
     "output_type": "execute_result"
    }
   ],
   "source": [
    "influenza_na.head()"
   ]
  },
  {
   "cell_type": "code",
   "execution_count": 15,
   "metadata": {},
   "outputs": [
    {
     "data": {
      "text/html": [
       "<div>\n",
       "<style scoped>\n",
       "    .dataframe tbody tr th:only-of-type {\n",
       "        vertical-align: middle;\n",
       "    }\n",
       "\n",
       "    .dataframe tbody tr th {\n",
       "        vertical-align: top;\n",
       "    }\n",
       "\n",
       "    .dataframe thead th {\n",
       "        text-align: right;\n",
       "    }\n",
       "</style>\n",
       "<table border=\"1\" class=\"dataframe\">\n",
       "  <thead>\n",
       "    <tr style=\"text-align: right;\">\n",
       "      <th></th>\n",
       "      <th>titles</th>\n",
       "      <th>sequences</th>\n",
       "    </tr>\n",
       "  </thead>\n",
       "  <tbody>\n",
       "    <tr>\n",
       "      <th>655759</th>\n",
       "      <td>gi|1509579658|gb|LC430968|Influenza A virus (A...</td>\n",
       "      <td>AGCAAAAGCAGGGGAAAATAAAAGCAACCGAGATGAAGGCAATACT...</td>\n",
       "    </tr>\n",
       "    <tr>\n",
       "      <th>655760</th>\n",
       "      <td>gi|1509579660|gb|LC430969|Influenza A virus (A...</td>\n",
       "      <td>AGCAATAGCAGGGTAGATAATCACTCAATGAGTGACATCGAAATCA...</td>\n",
       "    </tr>\n",
       "    <tr>\n",
       "      <th>655761</th>\n",
       "      <td>gi|1509579662|gb|LC430970|Influenza A virus (A...</td>\n",
       "      <td>AGCGAAAGCAGGAGTTTAAAATGAATACAAATCAAAGAATAATAAC...</td>\n",
       "    </tr>\n",
       "    <tr>\n",
       "      <th>655762</th>\n",
       "      <td>gi|1509579664|gb|LC430971|Influenza A virus (A...</td>\n",
       "      <td>AGCAAAAGCAGGTAGATGTTTAAAGATGAGCCTTCTAACCGAGGTC...</td>\n",
       "    </tr>\n",
       "    <tr>\n",
       "      <th>655763</th>\n",
       "      <td>gi|1509579667|gb|LC430972|Influenza A virus (A...</td>\n",
       "      <td>AGCAAAAGCAGGGTGACAAAGACATAATGGACTCCAACACTGTGTC...</td>\n",
       "    </tr>\n",
       "  </tbody>\n",
       "</table>\n",
       "</div>"
      ],
      "text/plain": [
       "                                                   titles  \\\n",
       "655759  gi|1509579658|gb|LC430968|Influenza A virus (A...   \n",
       "655760  gi|1509579660|gb|LC430969|Influenza A virus (A...   \n",
       "655761  gi|1509579662|gb|LC430970|Influenza A virus (A...   \n",
       "655762  gi|1509579664|gb|LC430971|Influenza A virus (A...   \n",
       "655763  gi|1509579667|gb|LC430972|Influenza A virus (A...   \n",
       "\n",
       "                                                sequences  \n",
       "655759  AGCAAAAGCAGGGGAAAATAAAAGCAACCGAGATGAAGGCAATACT...  \n",
       "655760  AGCAATAGCAGGGTAGATAATCACTCAATGAGTGACATCGAAATCA...  \n",
       "655761  AGCGAAAGCAGGAGTTTAAAATGAATACAAATCAAAGAATAATAAC...  \n",
       "655762  AGCAAAAGCAGGTAGATGTTTAAAGATGAGCCTTCTAACCGAGGTC...  \n",
       "655763  AGCAAAAGCAGGGTGACAAAGACATAATGGACTCCAACACTGTGTC...  "
      ]
     },
     "execution_count": 15,
     "metadata": {},
     "output_type": "execute_result"
    }
   ],
   "source": [
    "influenza_na.tail()"
   ]
  },
  {
   "cell_type": "code",
   "execution_count": null,
   "metadata": {},
   "outputs": [],
   "source": [
    "%%timeit\n",
    "with open('influenza.fna') as fasta_file: \n",
    "    cgi_titles = []\n",
    "    cgi_sequences = []\n",
    "    for title, sequence in SimpleFastaParser(fasta_file):\n",
    "        cgi_titles.append(title)\n",
    "        cgi_sequences.append(sequence)"
   ]
  },
  {
   "cell_type": "code",
   "execution_count": null,
   "metadata": {},
   "outputs": [],
   "source": []
  }
 ],
 "metadata": {
  "kernelspec": {
   "display_name": "Python 3",
   "language": "python",
   "name": "python3"
  },
  "language_info": {
   "codemirror_mode": {
    "name": "ipython",
    "version": 3
   },
   "file_extension": ".py",
   "mimetype": "text/x-python",
   "name": "python",
   "nbconvert_exporter": "python",
   "pygments_lexer": "ipython3",
   "version": "3.6.7"
  }
 },
 "nbformat": 4,
 "nbformat_minor": 2
}
