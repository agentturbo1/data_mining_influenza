{
 "cells": [
  {
   "cell_type": "markdown",
   "metadata": {},
   "source": [
    "### getting files imported and sorted  \n",
    "getting the sequences in and making sure that we get rid of duplicates and then separate genes (e.g. HA) to look at them separately. \n"
   ]
  },
  {
   "cell_type": "code",
   "execution_count": 1,
   "metadata": {},
   "outputs": [],
   "source": [
    "# imports\n",
    "from Bio.SeqIO.FastaIO import SimpleFastaParser\n",
    "import pandas as pd\n",
    "import numpy as np\n",
    "import itertools as it\n",
    "import matplotlib.pyplot as plt\n",
    "plt.rcParams['figure.dpi'] = 150"
   ]
  },
  {
   "cell_type": "code",
   "execution_count": 2,
   "metadata": {},
   "outputs": [],
   "source": [
    "with open('influenza.fna') as fasta_file: \n",
    "    cgi_titles = []\n",
    "    cgi_sequences = []\n",
    "    for title, sequence in SimpleFastaParser(fasta_file):\n",
    "        cgi_titles.append(title)\n",
    "        cgi_sequences.append(sequence)"
   ]
  },
  {
   "cell_type": "code",
   "execution_count": 3,
   "metadata": {},
   "outputs": [],
   "source": [
    "influenza_na = pd.DataFrame(list(zip(cgi_titles, cgi_sequences)), columns=['titles','sequences'])"
   ]
  },
  {
   "cell_type": "code",
   "execution_count": 4,
   "metadata": {},
   "outputs": [
    {
     "data": {
      "text/html": [
       "<div>\n",
       "<style scoped>\n",
       "    .dataframe tbody tr th:only-of-type {\n",
       "        vertical-align: middle;\n",
       "    }\n",
       "\n",
       "    .dataframe tbody tr th {\n",
       "        vertical-align: top;\n",
       "    }\n",
       "\n",
       "    .dataframe thead th {\n",
       "        text-align: right;\n",
       "    }\n",
       "</style>\n",
       "<table border=\"1\" class=\"dataframe\">\n",
       "  <thead>\n",
       "    <tr style=\"text-align: right;\">\n",
       "      <th></th>\n",
       "      <th>titles</th>\n",
       "      <th>sequences</th>\n",
       "    </tr>\n",
       "  </thead>\n",
       "  <tbody>\n",
       "    <tr>\n",
       "      <th>0</th>\n",
       "      <td>gi|58576|gb|X52226|Influenza A virus (A/FPV/Ro...</td>\n",
       "      <td>AGCAAAAGCAGGAGTTCAAAATGAATCCAAATCAGAAAATAATAAC...</td>\n",
       "    </tr>\n",
       "    <tr>\n",
       "      <th>1</th>\n",
       "      <td>gi|59292|gb|X53029|Influenza A virus (A/USSR/9...</td>\n",
       "      <td>AGCAAAAGCAGGTAGATGTTGAAAGATGAGTCTTCTAACCGAGGTC...</td>\n",
       "    </tr>\n",
       "    <tr>\n",
       "      <th>2</th>\n",
       "      <td>gi|59294|gb|X59778|Influenza A virus (A/NIB/4/...</td>\n",
       "      <td>GGATCCTGTTATGTGCATTTACAGCTACAGATGCAGACACAATATG...</td>\n",
       "    </tr>\n",
       "    <tr>\n",
       "      <th>3</th>\n",
       "      <td>gi|59296|gb|X66320|Influenza A virus (A/Chile/...</td>\n",
       "      <td>ACACCAAATGGAACGAAAATCAGAACCCTAGAATGTTTTTGGCCAT...</td>\n",
       "    </tr>\n",
       "    <tr>\n",
       "      <th>4</th>\n",
       "      <td>gi|60457|gb|X08088|Influenza A virus (A/WSN/33...</td>\n",
       "      <td>ATGAGTCTTCTAACCGAGGTCGAAACGTACGTTCTCTCTATCGTCC...</td>\n",
       "    </tr>\n",
       "  </tbody>\n",
       "</table>\n",
       "</div>"
      ],
      "text/plain": [
       "                                              titles  \\\n",
       "0  gi|58576|gb|X52226|Influenza A virus (A/FPV/Ro...   \n",
       "1  gi|59292|gb|X53029|Influenza A virus (A/USSR/9...   \n",
       "2  gi|59294|gb|X59778|Influenza A virus (A/NIB/4/...   \n",
       "3  gi|59296|gb|X66320|Influenza A virus (A/Chile/...   \n",
       "4  gi|60457|gb|X08088|Influenza A virus (A/WSN/33...   \n",
       "\n",
       "                                           sequences  \n",
       "0  AGCAAAAGCAGGAGTTCAAAATGAATCCAAATCAGAAAATAATAAC...  \n",
       "1  AGCAAAAGCAGGTAGATGTTGAAAGATGAGTCTTCTAACCGAGGTC...  \n",
       "2  GGATCCTGTTATGTGCATTTACAGCTACAGATGCAGACACAATATG...  \n",
       "3  ACACCAAATGGAACGAAAATCAGAACCCTAGAATGTTTTTGGCCAT...  \n",
       "4  ATGAGTCTTCTAACCGAGGTCGAAACGTACGTTCTCTCTATCGTCC...  "
      ]
     },
     "execution_count": 4,
     "metadata": {},
     "output_type": "execute_result"
    }
   ],
   "source": [
    "influenza_na.head()"
   ]
  },
  {
   "cell_type": "code",
   "execution_count": 5,
   "metadata": {},
   "outputs": [
    {
     "data": {
      "text/plain": [
       "(655764, 2)"
      ]
     },
     "execution_count": 5,
     "metadata": {},
     "output_type": "execute_result"
    }
   ],
   "source": [
    "influenza_na.shape"
   ]
  },
  {
   "cell_type": "markdown",
   "metadata": {},
   "source": [
    "remove duplicate sequences"
   ]
  },
  {
   "cell_type": "code",
   "execution_count": 6,
   "metadata": {},
   "outputs": [],
   "source": [
    "uniflna = influenza_na.drop_duplicates('sequences')"
   ]
  },
  {
   "cell_type": "code",
   "execution_count": 7,
   "metadata": {},
   "outputs": [
    {
     "data": {
      "text/html": [
       "<div>\n",
       "<style scoped>\n",
       "    .dataframe tbody tr th:only-of-type {\n",
       "        vertical-align: middle;\n",
       "    }\n",
       "\n",
       "    .dataframe tbody tr th {\n",
       "        vertical-align: top;\n",
       "    }\n",
       "\n",
       "    .dataframe thead th {\n",
       "        text-align: right;\n",
       "    }\n",
       "</style>\n",
       "<table border=\"1\" class=\"dataframe\">\n",
       "  <thead>\n",
       "    <tr style=\"text-align: right;\">\n",
       "      <th></th>\n",
       "      <th>titles</th>\n",
       "      <th>sequences</th>\n",
       "    </tr>\n",
       "  </thead>\n",
       "  <tbody>\n",
       "    <tr>\n",
       "      <th>0</th>\n",
       "      <td>gi|58576|gb|X52226|Influenza A virus (A/FPV/Ro...</td>\n",
       "      <td>AGCAAAAGCAGGAGTTCAAAATGAATCCAAATCAGAAAATAATAAC...</td>\n",
       "    </tr>\n",
       "    <tr>\n",
       "      <th>1</th>\n",
       "      <td>gi|59292|gb|X53029|Influenza A virus (A/USSR/9...</td>\n",
       "      <td>AGCAAAAGCAGGTAGATGTTGAAAGATGAGTCTTCTAACCGAGGTC...</td>\n",
       "    </tr>\n",
       "    <tr>\n",
       "      <th>2</th>\n",
       "      <td>gi|59294|gb|X59778|Influenza A virus (A/NIB/4/...</td>\n",
       "      <td>GGATCCTGTTATGTGCATTTACAGCTACAGATGCAGACACAATATG...</td>\n",
       "    </tr>\n",
       "    <tr>\n",
       "      <th>3</th>\n",
       "      <td>gi|59296|gb|X66320|Influenza A virus (A/Chile/...</td>\n",
       "      <td>ACACCAAATGGAACGAAAATCAGAACCCTAGAATGTTTTTGGCCAT...</td>\n",
       "    </tr>\n",
       "    <tr>\n",
       "      <th>4</th>\n",
       "      <td>gi|60457|gb|X08088|Influenza A virus (A/WSN/33...</td>\n",
       "      <td>ATGAGTCTTCTAACCGAGGTCGAAACGTACGTTCTCTCTATCGTCC...</td>\n",
       "    </tr>\n",
       "  </tbody>\n",
       "</table>\n",
       "</div>"
      ],
      "text/plain": [
       "                                              titles  \\\n",
       "0  gi|58576|gb|X52226|Influenza A virus (A/FPV/Ro...   \n",
       "1  gi|59292|gb|X53029|Influenza A virus (A/USSR/9...   \n",
       "2  gi|59294|gb|X59778|Influenza A virus (A/NIB/4/...   \n",
       "3  gi|59296|gb|X66320|Influenza A virus (A/Chile/...   \n",
       "4  gi|60457|gb|X08088|Influenza A virus (A/WSN/33...   \n",
       "\n",
       "                                           sequences  \n",
       "0  AGCAAAAGCAGGAGTTCAAAATGAATCCAAATCAGAAAATAATAAC...  \n",
       "1  AGCAAAAGCAGGTAGATGTTGAAAGATGAGTCTTCTAACCGAGGTC...  \n",
       "2  GGATCCTGTTATGTGCATTTACAGCTACAGATGCAGACACAATATG...  \n",
       "3  ACACCAAATGGAACGAAAATCAGAACCCTAGAATGTTTTTGGCCAT...  \n",
       "4  ATGAGTCTTCTAACCGAGGTCGAAACGTACGTTCTCTCTATCGTCC...  "
      ]
     },
     "execution_count": 7,
     "metadata": {},
     "output_type": "execute_result"
    }
   ],
   "source": [
    "uniflna.head()"
   ]
  },
  {
   "cell_type": "code",
   "execution_count": 8,
   "metadata": {
    "scrolled": true
   },
   "outputs": [
    {
     "data": {
      "text/plain": [
       "(441221, 2)"
      ]
     },
     "execution_count": 8,
     "metadata": {},
     "output_type": "execute_result"
    }
   ],
   "source": [
    "uniflna.shape"
   ]
  },
  {
   "cell_type": "markdown",
   "metadata": {},
   "source": [
    "get just the HA gene sequences (for now, other genes later)"
   ]
  },
  {
   "cell_type": "code",
   "execution_count": 74,
   "metadata": {},
   "outputs": [
    {
     "name": "stderr",
     "output_type": "stream",
     "text": [
      "/home/brian/anaconda3/lib/python3.7/site-packages/ipykernel_launcher.py:1: UserWarning: This pattern has match groups. To actually get the groups, use str.extract.\n",
      "  \"\"\"Entry point for launching an IPython kernel.\n"
     ]
    }
   ],
   "source": [
    "uniflna_HA = uniflna.loc[uniflna.iloc[:,0].str.contains(r'\\(HA\\) | hemagglutinin | (segment 4)')]"
   ]
  },
  {
   "cell_type": "code",
   "execution_count": 75,
   "metadata": {},
   "outputs": [
    {
     "data": {
      "text/plain": [
       "(102414, 2)"
      ]
     },
     "execution_count": 75,
     "metadata": {},
     "output_type": "execute_result"
    }
   ],
   "source": [
    "uniflna_HA.shape"
   ]
  },
  {
   "cell_type": "code",
   "execution_count": 76,
   "metadata": {},
   "outputs": [],
   "source": [
    "np.random.seed(83475)"
   ]
  },
  {
   "cell_type": "code",
   "execution_count": 12,
   "metadata": {},
   "outputs": [],
   "source": [
    "# character kgram function, out is set\n",
    "def charkgram(text, k):\n",
    "    results=set()\n",
    "    for i in range(len(text)-k+1):\n",
    "        if text[i:i+k] not in results:\n",
    "            results.add(text[i:i+k])\n",
    "    return(results)"
   ]
  },
  {
   "cell_type": "code",
   "execution_count": 13,
   "metadata": {},
   "outputs": [],
   "source": [
    "def JacSim(a,b):\n",
    "    top = len(a & b)\n",
    "    bottom = len(a | b)\n",
    "    return(top/bottom)"
   ]
  },
  {
   "cell_type": "code",
   "execution_count": 81,
   "metadata": {},
   "outputs": [],
   "source": [
    "uniflna_HA_sub1 = uniflna_HA.sample(n=200)"
   ]
  },
  {
   "cell_type": "code",
   "execution_count": 82,
   "metadata": {},
   "outputs": [],
   "source": [
    "idl=list(it.combinations(list(uniflna_HA_sub1.index),2))"
   ]
  },
  {
   "cell_type": "code",
   "execution_count": 16,
   "metadata": {},
   "outputs": [
    {
     "data": {
      "text/plain": [
       "19900"
      ]
     },
     "execution_count": 16,
     "metadata": {},
     "output_type": "execute_result"
    }
   ],
   "source": [
    "len(idl)"
   ]
  },
  {
   "cell_type": "code",
   "execution_count": 83,
   "metadata": {},
   "outputs": [
    {
     "data": {
      "image/png": "[encoded data removed]",
      "text/plain": [
       "<Figure size 432x288 with 1 Axes>"
      ]
     },
     "metadata": {
      "needs_background": "light"
     },
     "output_type": "display_data"
    }
   ],
   "source": [
    "# k=4\n",
    "JSresults4=[]\n",
    "for i in idl:\n",
    "    JSresults4.append(JacSim(charkgram(uniflna_HA_sub1.loc[[i[0]]].sequences.values[0],4),charkgram(uniflna_HA_sub1.loc[[i[1]]].sequences.values[0],4)))\n",
    "plt.hist(JSresults4, 50, range=(0,1));"
   ]
  },
  {
   "cell_type": "code",
   "execution_count": 84,
   "metadata": {},
   "outputs": [
    {
     "data": {
      "image/png": "[encoded data removed]",
      "text/plain": [
       "<Figure size 432x288 with 1 Axes>"
      ]
     },
     "metadata": {
      "needs_background": "light"
     },
     "output_type": "display_data"
    }
   ],
   "source": [
    "# k=5\n",
    "JSresults5=[]\n",
    "for i in idl:\n",
    "    JSresults5.append(JacSim(charkgram(uniflna_HA_sub1.loc[[i[0]]].sequences.values[0],5),charkgram(uniflna_HA_sub1.loc[[i[1]]].sequences.values[0],5)))\n",
    "plt.hist(JSresults5, 50, range=(0,1));"
   ]
  },
  {
   "cell_type": "code",
   "execution_count": 85,
   "metadata": {},
   "outputs": [
    {
     "data": {
      "image/png": "[encoded data removed]",
      "text/plain": [
       "<Figure size 432x288 with 1 Axes>"
      ]
     },
     "metadata": {
      "needs_background": "light"
     },
     "output_type": "display_data"
    }
   ],
   "source": [
    "# k=6\n",
    "JSresults6=[]\n",
    "for i in idl:\n",
    "    JSresults6.append(JacSim(charkgram(uniflna_HA_sub1.loc[[i[0]]].sequences.values[0],6),charkgram(uniflna_HA_sub1.loc[[i[1]]].sequences.values[0],6)))\n",
    "plt.hist(JSresults6, 50, range=(0,1));"
   ]
  },
  {
   "cell_type": "code",
   "execution_count": 86,
   "metadata": {},
   "outputs": [
    {
     "data": {
      "image/png": "[encoded data removed]",
      "text/plain": [
       "<Figure size 432x288 with 1 Axes>"
      ]
     },
     "metadata": {
      "needs_background": "light"
     },
     "output_type": "display_data"
    }
   ],
   "source": [
    "# k=7\n",
    "JSresults7=[]\n",
    "for i in idl:\n",
    "    JSresults7.append(JacSim(charkgram(uniflna_HA_sub1.loc[[i[0]]].sequences.values[0],7),charkgram(uniflna_HA_sub1.loc[[i[1]]].sequences.values[0],7)))\n",
    "plt.hist(JSresults7, 50, range=(0,1));"
   ]
  },
  {
   "cell_type": "code",
   "execution_count": 87,
   "metadata": {},
   "outputs": [
    {
     "data": {
      "image/png": "[encoded data removed]",
      "text/plain": [
       "<Figure size 432x288 with 1 Axes>"
      ]
     },
     "metadata": {
      "needs_background": "light"
     },
     "output_type": "display_data"
    }
   ],
   "source": [
    "plt.hist(JSresults4, 50, range=(0,1), color='blue', alpha=0.35, label='k=4')\n",
    "plt.hist(JSresults5, 50, range=(0,1), color='red', alpha=0.35, label='k=5')\n",
    "plt.hist(JSresults6, 50, range=(0,1), color='green', alpha=0.35, label='k=6')\n",
    "plt.hist(JSresults7, 50, range=(0,1), color='orange', alpha=0.35, label='k=7')\n",
    "plt.xlabel(\"Jaccard Similarity\")\n",
    "plt.ylabel(\"count\")\n",
    "plt.legend();"
   ]
  },
  {
   "cell_type": "code",
   "execution_count": 22,
   "metadata": {},
   "outputs": [],
   "source": [
    "def JacDist(a,b):\n",
    "    top = len(a & b)\n",
    "    bottom = len(a | b)\n",
    "    return(1-top/bottom)"
   ]
  },
  {
   "cell_type": "code",
   "execution_count": 23,
   "metadata": {
    "scrolled": true
   },
   "outputs": [
    {
     "data": {
      "text/html": [
       "<div>\n",
       "<style scoped>\n",
       "    .dataframe tbody tr th:only-of-type {\n",
       "        vertical-align: middle;\n",
       "    }\n",
       "\n",
       "    .dataframe tbody tr th {\n",
       "        vertical-align: top;\n",
       "    }\n",
       "\n",
       "    .dataframe thead th {\n",
       "        text-align: right;\n",
       "    }\n",
       "</style>\n",
       "<table border=\"1\" class=\"dataframe\">\n",
       "  <thead>\n",
       "    <tr style=\"text-align: right;\">\n",
       "      <th></th>\n",
       "      <th>titles</th>\n",
       "      <th>sequences</th>\n",
       "    </tr>\n",
       "  </thead>\n",
       "  <tbody>\n",
       "    <tr>\n",
       "      <th>21</th>\n",
       "      <td>gi|60504|gb|X17224|Influenza A virus (STRAIN A...</td>\n",
       "      <td>AAAACAACCAAAATGAAAGCAAAACTACTAGTCCTGTTATGTGCAT...</td>\n",
       "    </tr>\n",
       "    <tr>\n",
       "      <th>28</th>\n",
       "      <td>gi|60723|gb|X13551|Influenza B virus HA gene f...</td>\n",
       "      <td>ACTCATGGTAGTAACATCCAATGCAGATCGAATCTGCACTGGGATA...</td>\n",
       "    </tr>\n",
       "    <tr>\n",
       "      <th>29</th>\n",
       "      <td>gi|60728|gb|X13552|Influenza B virus (B/USSR/1...</td>\n",
       "      <td>ACTCATGGTAGTAACATCCAACGCAGATCGAATCTGCACTGGGATA...</td>\n",
       "    </tr>\n",
       "    <tr>\n",
       "      <th>30</th>\n",
       "      <td>gi|60733|gb|X13553|Influenza B virus HA gene f...</td>\n",
       "      <td>ACTCATGGTAGTAACATCCAATGCAGATCGAATCTGCACTGGGATA...</td>\n",
       "    </tr>\n",
       "    <tr>\n",
       "      <th>31</th>\n",
       "      <td>gi|60738|gb|X13550|Influenza B virus (B/Bonn/4...</td>\n",
       "      <td>ACTCATGGTAGTAACATCCAATGCAGATCGAATCTGCACTGGGATA...</td>\n",
       "    </tr>\n",
       "  </tbody>\n",
       "</table>\n",
       "</div>"
      ],
      "text/plain": [
       "                                               titles  \\\n",
       "21  gi|60504|gb|X17224|Influenza A virus (STRAIN A...   \n",
       "28  gi|60723|gb|X13551|Influenza B virus HA gene f...   \n",
       "29  gi|60728|gb|X13552|Influenza B virus (B/USSR/1...   \n",
       "30  gi|60733|gb|X13553|Influenza B virus HA gene f...   \n",
       "31  gi|60738|gb|X13550|Influenza B virus (B/Bonn/4...   \n",
       "\n",
       "                                            sequences  \n",
       "21  AAAACAACCAAAATGAAAGCAAAACTACTAGTCCTGTTATGTGCAT...  \n",
       "28  ACTCATGGTAGTAACATCCAATGCAGATCGAATCTGCACTGGGATA...  \n",
       "29  ACTCATGGTAGTAACATCCAACGCAGATCGAATCTGCACTGGGATA...  \n",
       "30  ACTCATGGTAGTAACATCCAATGCAGATCGAATCTGCACTGGGATA...  \n",
       "31  ACTCATGGTAGTAACATCCAATGCAGATCGAATCTGCACTGGGATA...  "
      ]
     },
     "execution_count": 23,
     "metadata": {},
     "output_type": "execute_result"
    }
   ],
   "source": [
    "uniflna_HA.head()\n"
   ]
  },
  {
   "cell_type": "code",
   "execution_count": 24,
   "metadata": {},
   "outputs": [
    {
     "data": {
      "text/plain": [
       "titles       gi|60504|gb|X17224|Influenza A virus (STRAIN A...\n",
       "sequences    AAAACAACCAAAATGAAAGCAAAACTACTAGTCCTGTTATGTGCAT...\n",
       "Name: 21, dtype: object"
      ]
     },
     "execution_count": 24,
     "metadata": {},
     "output_type": "execute_result"
    }
   ],
   "source": [
    "uniflna_HA.iloc[0]"
   ]
  },
  {
   "cell_type": "code",
   "execution_count": 25,
   "metadata": {},
   "outputs": [
    {
     "data": {
      "text/plain": [
       "titles       gi|60723|gb|X13551|Influenza B virus HA gene f...\n",
       "sequences    ACTCATGGTAGTAACATCCAATGCAGATCGAATCTGCACTGGGATA...\n",
       "Name: 28, dtype: object"
      ]
     },
     "execution_count": 25,
     "metadata": {},
     "output_type": "execute_result"
    }
   ],
   "source": [
    "uniflna_HA.iloc[1]"
   ]
  },
  {
   "cell_type": "code",
   "execution_count": 26,
   "metadata": {},
   "outputs": [
    {
     "data": {
      "text/plain": [
       "'ACTCATGGTAGTAACATCCAACGCAGATCGAATCTGCACTGGGATAACATCTTCAAACTCCCCCCATGTGGTCAAAACAGCTACTCAAGGGGAAGTTAATGTGACTGGTGTGATACCACTGACAACAACACCAACCAAATCTCATTTTGCAAATCTCAAAGGAACAAAGACCAGAGGGAAACTATGCCCAAACTGTCTCAACTGCACAGATCTGGACGTGGCCTTGGGCAGACCAAAGTGTATGGGGACCATACCTTCGGCAAAAGCTTCAATACTCCACGAAGTCAAACCTGTTACATCTGGGTGCTTTCCTATAATGCACGACAGAACAAAAATCAGACAGCTACCCAATCTTCTCAGAGGATATGAAAATATCAGGTTATCAACCCGTAACGTTATCAACGCAGAAAGGGCACCAGGAGGACCCTACATAATTGGAACCTCAGGATCTTGCCCTAACGTTACCAATGGAAACGGATTCTTCGCAACAATGGCTTGGGCTGTCCCAAAAGACAACAAAACAGCAACGGATCCATTAACAATAGAAGTACCATACATTTGTACAAAAGGAGAAGACCAAATTACTGTTTGGGGGTTCCATTCTGATAACAAAAACCAAATGGTAAAACTCTATGGAGACTCAAAGCCTCAAAAGTTCACCTCATCTGCCAATGGAGTAACCACACATTATGTTTCTCAGATTGGTGGTTTCCCAAATCAAACAGAAGACGGAGGGCTACCACAAAGCGGCAGAATTGTTGTTGATTACATGGTGCAGAAACCTGGAAAACCAGGAACAATTGTCTATCAAAGAGGTGTTTTATTGCCTCAAAAAGTGTGGTGCGCAAGTGGCAGGAGCAAGGTAATAAAAGGGTCCTTGCCTTTAATTGGTGAAGCAGATTGCCTCCACGAAAAATACGGTGGATTAAACAAAAGCAAGCCTTACTACACAGGAGAACATGCAAAAGCCATAGGAAATTGCCCAATATGGGTGAAAACACCCTTGAAGCTGGCCAATGGAACCAAATATAGACCTCCTGCAAAACTATTAAAGGAAAGGGGTTTCTTCGGAGCTATTGCTGGTTTCTTGGAAGGAGGATGGGAAGGAATGATTGCAGGTTGGCACGGATACACATCTCATGGAGCACATGGAGTGGCAGTGGCAGCAGACCTTAAGAGTACGCAAGAAGCCATAAACAAGATAACAAAAAATCTCAATTCTTTGAGTGAGCTAGAAGTAAAGAATCTTCAAAGACTAAGCGGTGCCATGGATGAACTCCACAATGAAATACTCGAGCTGGATGAGAAAGTGGATGATCTCAGAGCTGACACAATAAGCTCGCAAATAGAGCTTGCAGTCTTGCTTTCCAACGAAGGAATAATCAACAGTGAAGATGAGCATCTCTTGGCACTTGAAAGAAAACTAAAGAAAATGCTGGGCCCCTCTGCTGTAGACATAGGGAATGGATGCTTCGAAACCAAACACAAGTGCAACCAGACCTGCTTAGACAGGATAGCTGCTGGCACCTTTAATGCAGGAGAATTTTCTCTCCCCACCTTTGATTCACTAAATATTACTGCTGCATCTTTAAATGATGATGGATTGGATAATCATACTATACTGCTTTACTACTCAACTGCTGCTTCTAGTTTGGCTGTAACATTGATGATAGCTATCTTTATTGTTTATATGGTCTCCAGAGACAATGTTTCTTGCTCCATCTGTCTATAAGGAAAATTAAGCCCTGTATTTTCCTTTATTGTAGTGCTTGTTTGCTTGTTACCATTACAAAAAACGTTATTGAAAAATGCTCTTGTTACTACT'"
      ]
     },
     "execution_count": 26,
     "metadata": {},
     "output_type": "execute_result"
    }
   ],
   "source": [
    "uniflna_HA.iloc[2].sequences"
   ]
  },
  {
   "cell_type": "code",
   "execution_count": 27,
   "metadata": {},
   "outputs": [
    {
     "data": {
      "text/plain": [
       "0.5594237695078031"
      ]
     },
     "execution_count": 27,
     "metadata": {},
     "output_type": "execute_result"
    }
   ],
   "source": [
    "JacSim(charkgram(uniflna_HA.iloc[0].sequences,5), charkgram(uniflna_HA.iloc[1].sequences,5))"
   ]
  },
  {
   "cell_type": "code",
   "execution_count": 28,
   "metadata": {},
   "outputs": [
    {
     "data": {
      "text/plain": [
       "0.8986666666666666"
      ]
     },
     "execution_count": 28,
     "metadata": {},
     "output_type": "execute_result"
    }
   ],
   "source": [
    "JacSim(charkgram(uniflna_HA.iloc[1].sequences,5), charkgram(uniflna_HA.iloc[2].sequences,5))"
   ]
  },
  {
   "cell_type": "code",
   "execution_count": 29,
   "metadata": {
    "scrolled": true
   },
   "outputs": [
    {
     "data": {
      "text/plain": [
       "0.9014647137150466"
      ]
     },
     "execution_count": 29,
     "metadata": {},
     "output_type": "execute_result"
    }
   ],
   "source": [
    "JacSim(charkgram(uniflna_HA.iloc[2].sequences,5), charkgram(uniflna_HA.iloc[3].sequences,5))"
   ]
  },
  {
   "cell_type": "code",
   "execution_count": null,
   "metadata": {},
   "outputs": [],
   "source": []
  },
  {
   "cell_type": "code",
   "execution_count": 30,
   "metadata": {},
   "outputs": [
    {
     "data": {
      "text/plain": [
       "0.44057623049219685"
      ]
     },
     "execution_count": 30,
     "metadata": {},
     "output_type": "execute_result"
    }
   ],
   "source": [
    "JacDist(charkgram(uniflna_HA.iloc[0].sequences,5), charkgram(uniflna_HA.iloc[1].sequences,5))"
   ]
  },
  {
   "cell_type": "code",
   "execution_count": 31,
   "metadata": {},
   "outputs": [
    {
     "data": {
      "text/plain": [
       "0.10133333333333339"
      ]
     },
     "execution_count": 31,
     "metadata": {},
     "output_type": "execute_result"
    }
   ],
   "source": [
    "JacDist(charkgram(uniflna_HA.iloc[1].sequences,5), charkgram(uniflna_HA.iloc[2].sequences,5))"
   ]
  },
  {
   "cell_type": "code",
   "execution_count": 32,
   "metadata": {
    "scrolled": true
   },
   "outputs": [
    {
     "data": {
      "text/plain": [
       "0.09853528628495345"
      ]
     },
     "execution_count": 32,
     "metadata": {},
     "output_type": "execute_result"
    }
   ],
   "source": [
    "JacDist(charkgram(uniflna_HA.iloc[2].sequences,5), charkgram(uniflna_HA.iloc[3].sequences,5))"
   ]
  },
  {
   "cell_type": "markdown",
   "metadata": {},
   "source": [
    "### Jaccard Distances!"
   ]
  },
  {
   "cell_type": "code",
   "execution_count": 88,
   "metadata": {},
   "outputs": [
    {
     "data": {
      "image/png": "[encoded data removed]",
      "text/plain": [
       "<Figure size 432x288 with 1 Axes>"
      ]
     },
     "metadata": {
      "needs_background": "light"
     },
     "output_type": "display_data"
    }
   ],
   "source": [
    "# k=4\n",
    "JDresults4=[]\n",
    "for i in idl:\n",
    "    JDresults4.append(JacDist(charkgram(uniflna_HA_sub1.loc[[i[0]]].sequences.values[0],4),charkgram(uniflna_HA_sub1.loc[[i[1]]].sequences.values[0],4)))\n",
    "plt.hist(JDresults4, 50, range=(0,1));"
   ]
  },
  {
   "cell_type": "code",
   "execution_count": 89,
   "metadata": {},
   "outputs": [
    {
     "data": {
      "image/png": "[encoded data removed]",
      "text/plain": [
       "<Figure size 432x288 with 1 Axes>"
      ]
     },
     "metadata": {
      "needs_background": "light"
     },
     "output_type": "display_data"
    }
   ],
   "source": [
    "# k=5\n",
    "JDresults5=[]\n",
    "for i in idl:\n",
    "    JDresults5.append(JacDist(charkgram(uniflna_HA_sub1.loc[[i[0]]].sequences.values[0],5),charkgram(uniflna_HA_sub1.loc[[i[1]]].sequences.values[0],5)))\n",
    "plt.hist(JDresults5, 50, range=(0,1));"
   ]
  },
  {
   "cell_type": "code",
   "execution_count": 90,
   "metadata": {
    "scrolled": true
   },
   "outputs": [
    {
     "data": {
      "image/png": "[encoded data removed]",
      "text/plain": [
       "<Figure size 432x288 with 1 Axes>"
      ]
     },
     "metadata": {
      "needs_background": "light"
     },
     "output_type": "display_data"
    }
   ],
   "source": [
    "# k=6\n",
    "JDresults6=[]\n",
    "for i in idl:\n",
    "    JDresults6.append(JacDist(charkgram(uniflna_HA_sub1.loc[[i[0]]].sequences.values[0],6),charkgram(uniflna_HA_sub1.loc[[i[1]]].sequences.values[0],6)))\n",
    "plt.hist(JDresults6, 50, range=(0,1));"
   ]
  },
  {
   "cell_type": "code",
   "execution_count": 91,
   "metadata": {},
   "outputs": [
    {
     "data": {
      "image/png": "[encoded data removed]",
      "text/plain": [
       "<Figure size 432x288 with 1 Axes>"
      ]
     },
     "metadata": {
      "needs_background": "light"
     },
     "output_type": "display_data"
    }
   ],
   "source": [
    "# k=7\n",
    "JDresults7=[]\n",
    "for i in idl:\n",
    "    JDresults7.append(JacDist(charkgram(uniflna_HA_sub1.loc[[i[0]]].sequences.values[0],7),charkgram(uniflna_HA_sub1.loc[[i[1]]].sequences.values[0],7)))\n",
    "plt.hist(JDresults7, 50, range=(0,1));"
   ]
  },
  {
   "cell_type": "code",
   "execution_count": 92,
   "metadata": {},
   "outputs": [
    {
     "data": {
      "image/png": "[encoded data removed]",
      "text/plain": [
       "<Figure size 432x288 with 1 Axes>"
      ]
     },
     "metadata": {
      "needs_background": "light"
     },
     "output_type": "display_data"
    }
   ],
   "source": [
    "plt.hist(JDresults4, 50, range=(0,1), color='blue', alpha=0.35, label='k=4')\n",
    "plt.hist(JDresults5, 50, range=(0,1), color='red', alpha=0.35, label='k=5')\n",
    "plt.hist(JDresults6, 50, range=(0,1), color='green', alpha=0.35, label='k=6')\n",
    "plt.hist(JDresults7, 50, range=(0,1), color='orange', alpha=0.35, label='k=7')\n",
    "plt.xlabel(\"Jaccard Distance\")\n",
    "plt.ylabel(\"count\")\n",
    "plt.legend();"
   ]
  },
  {
   "cell_type": "markdown",
   "metadata": {},
   "source": [
    "make a dataframe with the indices and JDs with different values of k.  \n",
    "just to be clear, the values in the indices column are the index values from the uniflna_HA_sub1 dataframe which actually refer to the original indices."
   ]
  },
  {
   "cell_type": "code",
   "execution_count": 93,
   "metadata": {},
   "outputs": [],
   "source": [
    "Jdistance_sub1 = pd.DataFrame(\n",
    "    {'indices': idl,\n",
    "     'JDk4': JDresults4,\n",
    "     'JDk5': JDresults5,\n",
    "     'JDk6': JDresults6,\n",
    "     'JDk7': JDresults7\n",
    "    })"
   ]
  },
  {
   "cell_type": "code",
   "execution_count": 94,
   "metadata": {},
   "outputs": [
    {
     "data": {
      "text/html": [
       "<div>\n",
       "<style scoped>\n",
       "    .dataframe tbody tr th:only-of-type {\n",
       "        vertical-align: middle;\n",
       "    }\n",
       "\n",
       "    .dataframe tbody tr th {\n",
       "        vertical-align: top;\n",
       "    }\n",
       "\n",
       "    .dataframe thead th {\n",
       "        text-align: right;\n",
       "    }\n",
       "</style>\n",
       "<table border=\"1\" class=\"dataframe\">\n",
       "  <thead>\n",
       "    <tr style=\"text-align: right;\">\n",
       "      <th></th>\n",
       "      <th>indices</th>\n",
       "      <th>JDk4</th>\n",
       "      <th>JDk5</th>\n",
       "      <th>JDk6</th>\n",
       "      <th>JDk7</th>\n",
       "    </tr>\n",
       "  </thead>\n",
       "  <tbody>\n",
       "    <tr>\n",
       "      <th>0</th>\n",
       "      <td>(430939, 263646)</td>\n",
       "      <td>0.071146</td>\n",
       "      <td>0.355429</td>\n",
       "      <td>0.738653</td>\n",
       "      <td>0.918396</td>\n",
       "    </tr>\n",
       "    <tr>\n",
       "      <th>1</th>\n",
       "      <td>(430939, 9315)</td>\n",
       "      <td>0.157258</td>\n",
       "      <td>0.481338</td>\n",
       "      <td>0.724579</td>\n",
       "      <td>0.814076</td>\n",
       "    </tr>\n",
       "    <tr>\n",
       "      <th>2</th>\n",
       "      <td>(430939, 629402)</td>\n",
       "      <td>0.067460</td>\n",
       "      <td>0.348028</td>\n",
       "      <td>0.724190</td>\n",
       "      <td>0.909028</td>\n",
       "    </tr>\n",
       "    <tr>\n",
       "      <th>3</th>\n",
       "      <td>(430939, 62558)</td>\n",
       "      <td>0.091633</td>\n",
       "      <td>0.385528</td>\n",
       "      <td>0.762582</td>\n",
       "      <td>0.928880</td>\n",
       "    </tr>\n",
       "    <tr>\n",
       "      <th>4</th>\n",
       "      <td>(430939, 286026)</td>\n",
       "      <td>0.028112</td>\n",
       "      <td>0.102828</td>\n",
       "      <td>0.214865</td>\n",
       "      <td>0.286311</td>\n",
       "    </tr>\n",
       "  </tbody>\n",
       "</table>\n",
       "</div>"
      ],
      "text/plain": [
       "            indices      JDk4      JDk5      JDk6      JDk7\n",
       "0  (430939, 263646)  0.071146  0.355429  0.738653  0.918396\n",
       "1    (430939, 9315)  0.157258  0.481338  0.724579  0.814076\n",
       "2  (430939, 629402)  0.067460  0.348028  0.724190  0.909028\n",
       "3   (430939, 62558)  0.091633  0.385528  0.762582  0.928880\n",
       "4  (430939, 286026)  0.028112  0.102828  0.214865  0.286311"
      ]
     },
     "execution_count": 94,
     "metadata": {},
     "output_type": "execute_result"
    }
   ],
   "source": [
    "Jdistance_sub1.head()"
   ]
  },
  {
   "cell_type": "code",
   "execution_count": 95,
   "metadata": {},
   "outputs": [
    {
     "data": {
      "text/html": [
       "<div>\n",
       "<style scoped>\n",
       "    .dataframe tbody tr th:only-of-type {\n",
       "        vertical-align: middle;\n",
       "    }\n",
       "\n",
       "    .dataframe tbody tr th {\n",
       "        vertical-align: top;\n",
       "    }\n",
       "\n",
       "    .dataframe thead th {\n",
       "        text-align: right;\n",
       "    }\n",
       "</style>\n",
       "<table border=\"1\" class=\"dataframe\">\n",
       "  <thead>\n",
       "    <tr style=\"text-align: right;\">\n",
       "      <th></th>\n",
       "      <th>indices</th>\n",
       "      <th>JDk4</th>\n",
       "      <th>JDk5</th>\n",
       "      <th>JDk6</th>\n",
       "      <th>JDk7</th>\n",
       "    </tr>\n",
       "  </thead>\n",
       "  <tbody>\n",
       "    <tr>\n",
       "      <th>19895</th>\n",
       "      <td>(96277, 126934)</td>\n",
       "      <td>0.008163</td>\n",
       "      <td>0.033708</td>\n",
       "      <td>0.059144</td>\n",
       "      <td>0.075965</td>\n",
       "    </tr>\n",
       "    <tr>\n",
       "      <th>19896</th>\n",
       "      <td>(96277, 215931)</td>\n",
       "      <td>0.055556</td>\n",
       "      <td>0.347876</td>\n",
       "      <td>0.720537</td>\n",
       "      <td>0.896936</td>\n",
       "    </tr>\n",
       "    <tr>\n",
       "      <th>19897</th>\n",
       "      <td>(389645, 126934)</td>\n",
       "      <td>0.079365</td>\n",
       "      <td>0.347271</td>\n",
       "      <td>0.713262</td>\n",
       "      <td>0.899429</td>\n",
       "    </tr>\n",
       "    <tr>\n",
       "      <th>19898</th>\n",
       "      <td>(389645, 215931)</td>\n",
       "      <td>0.071429</td>\n",
       "      <td>0.334852</td>\n",
       "      <td>0.695521</td>\n",
       "      <td>0.880000</td>\n",
       "    </tr>\n",
       "    <tr>\n",
       "      <th>19899</th>\n",
       "      <td>(126934, 215931)</td>\n",
       "      <td>0.063492</td>\n",
       "      <td>0.347876</td>\n",
       "      <td>0.718500</td>\n",
       "      <td>0.894200</td>\n",
       "    </tr>\n",
       "  </tbody>\n",
       "</table>\n",
       "</div>"
      ],
      "text/plain": [
       "                indices      JDk4      JDk5      JDk6      JDk7\n",
       "19895   (96277, 126934)  0.008163  0.033708  0.059144  0.075965\n",
       "19896   (96277, 215931)  0.055556  0.347876  0.720537  0.896936\n",
       "19897  (389645, 126934)  0.079365  0.347271  0.713262  0.899429\n",
       "19898  (389645, 215931)  0.071429  0.334852  0.695521  0.880000\n",
       "19899  (126934, 215931)  0.063492  0.347876  0.718500  0.894200"
      ]
     },
     "execution_count": 95,
     "metadata": {},
     "output_type": "execute_result"
    }
   ],
   "source": [
    "Jdistance_sub1.tail()"
   ]
  },
  {
   "cell_type": "code",
   "execution_count": 96,
   "metadata": {},
   "outputs": [
    {
     "data": {
      "text/plain": [
       "(19900, 5)"
      ]
     },
     "execution_count": 96,
     "metadata": {},
     "output_type": "execute_result"
    }
   ],
   "source": [
    "Jdistance_sub1.shape"
   ]
  },
  {
   "cell_type": "markdown",
   "metadata": {},
   "source": [
    "### Second random sample"
   ]
  },
  {
   "cell_type": "code",
   "execution_count": 97,
   "metadata": {},
   "outputs": [],
   "source": [
    "uniflna_HA_sub2 = uniflna_HA.sample(n=200)"
   ]
  },
  {
   "cell_type": "code",
   "execution_count": 98,
   "metadata": {},
   "outputs": [],
   "source": [
    "idl2=list(it.combinations(list(uniflna_HA_sub2.index),2))"
   ]
  },
  {
   "cell_type": "code",
   "execution_count": 99,
   "metadata": {},
   "outputs": [
    {
     "data": {
      "image/png": "[encoded data removed]",
      "text/plain": [
       "<Figure size 432x288 with 1 Axes>"
      ]
     },
     "metadata": {
      "needs_background": "light"
     },
     "output_type": "display_data"
    }
   ],
   "source": [
    "# k=4\n",
    "JDresults42=[]\n",
    "for i in idl2:\n",
    "    JDresults42.append(JacDist(charkgram(uniflna_HA_sub2.loc[[i[0]]].sequences.values[0],4),charkgram(uniflna_HA_sub2.loc[[i[1]]].sequences.values[0],4)))\n",
    "plt.hist(JDresults42, 50, range=(0,1));"
   ]
  },
  {
   "cell_type": "code",
   "execution_count": 100,
   "metadata": {},
   "outputs": [
    {
     "data": {
      "image/png": "[encoded data removed]",
      "text/plain": [
       "<Figure size 432x288 with 1 Axes>"
      ]
     },
     "metadata": {
      "needs_background": "light"
     },
     "output_type": "display_data"
    }
   ],
   "source": [
    "# k=5\n",
    "JDresults52=[]\n",
    "for i in idl2:\n",
    "    JDresults52.append(JacDist(charkgram(uniflna_HA_sub2.loc[[i[0]]].sequences.values[0],5),charkgram(uniflna_HA_sub2.loc[[i[1]]].sequences.values[0],5)))\n",
    "plt.hist(JDresults52, 50, range=(0,1));"
   ]
  },
  {
   "cell_type": "code",
   "execution_count": 101,
   "metadata": {},
   "outputs": [
    {
     "data": {
      "image/png": "[encoded data removed]",
      "text/plain": [
       "<Figure size 432x288 with 1 Axes>"
      ]
     },
     "metadata": {
      "needs_background": "light"
     },
     "output_type": "display_data"
    }
   ],
   "source": [
    "# k=6\n",
    "JDresults62=[]\n",
    "for i in idl2:\n",
    "    JDresults62.append(JacDist(charkgram(uniflna_HA_sub2.loc[[i[0]]].sequences.values[0],6),charkgram(uniflna_HA_sub2.loc[[i[1]]].sequences.values[0],6)))\n",
    "plt.hist(JDresults62, 50, range=(0,1));"
   ]
  },
  {
   "cell_type": "code",
   "execution_count": 102,
   "metadata": {},
   "outputs": [
    {
     "data": {
      "image/png": "[encoded data removed]",
      "text/plain": [
       "<Figure size 432x288 with 1 Axes>"
      ]
     },
     "metadata": {
      "needs_background": "light"
     },
     "output_type": "display_data"
    }
   ],
   "source": [
    "# k=7\n",
    "JDresults72=[]\n",
    "for i in idl2:\n",
    "    JDresults72.append(JacDist(charkgram(uniflna_HA_sub2.loc[[i[0]]].sequences.values[0],7),charkgram(uniflna_HA_sub2.loc[[i[1]]].sequences.values[0],7)))\n",
    "plt.hist(JDresults72, 50, range=(0,1));"
   ]
  },
  {
   "cell_type": "code",
   "execution_count": 103,
   "metadata": {},
   "outputs": [
    {
     "data": {
      "image/png": "[encoded data removed]",
      "text/plain": [
       "<Figure size 432x288 with 1 Axes>"
      ]
     },
     "metadata": {
      "needs_background": "light"
     },
     "output_type": "display_data"
    }
   ],
   "source": [
    "plt.hist(JDresults42, 50, range=(0,1), color='blue', alpha=0.35, label='k=4')\n",
    "plt.hist(JDresults52, 50, range=(0,1), color='red', alpha=0.35, label='k=5')\n",
    "plt.hist(JDresults62, 50, range=(0,1), color='green', alpha=0.35, label='k=6')\n",
    "plt.hist(JDresults72, 50, range=(0,1), color='orange', alpha=0.35, label='k=7')\n",
    "plt.xlabel(\"Jaccard Distance\")\n",
    "plt.ylabel(\"count\")\n",
    "plt.legend();"
   ]
  },
  {
   "cell_type": "code",
   "execution_count": 104,
   "metadata": {},
   "outputs": [],
   "source": [
    "# dataframe of distances for sub-sample2\n",
    "Jdistance_sub2 = pd.DataFrame(\n",
    "    {'indices': idl2,\n",
    "     'JDk4': JDresults42,\n",
    "     'JDk5': JDresults52,\n",
    "     'JDk6': JDresults62,\n",
    "     'JDk7': JDresults72\n",
    "    })"
   ]
  },
  {
   "cell_type": "code",
   "execution_count": 105,
   "metadata": {},
   "outputs": [
    {
     "data": {
      "text/html": [
       "<div>\n",
       "<style scoped>\n",
       "    .dataframe tbody tr th:only-of-type {\n",
       "        vertical-align: middle;\n",
       "    }\n",
       "\n",
       "    .dataframe tbody tr th {\n",
       "        vertical-align: top;\n",
       "    }\n",
       "\n",
       "    .dataframe thead th {\n",
       "        text-align: right;\n",
       "    }\n",
       "</style>\n",
       "<table border=\"1\" class=\"dataframe\">\n",
       "  <thead>\n",
       "    <tr style=\"text-align: right;\">\n",
       "      <th></th>\n",
       "      <th>indices</th>\n",
       "      <th>JDk4</th>\n",
       "      <th>JDk5</th>\n",
       "      <th>JDk6</th>\n",
       "      <th>JDk7</th>\n",
       "    </tr>\n",
       "  </thead>\n",
       "  <tbody>\n",
       "    <tr>\n",
       "      <th>0</th>\n",
       "      <td>(46623, 53144)</td>\n",
       "      <td>0.071713</td>\n",
       "      <td>0.383803</td>\n",
       "      <td>0.726209</td>\n",
       "      <td>0.915049</td>\n",
       "    </tr>\n",
       "    <tr>\n",
       "      <th>1</th>\n",
       "      <td>(46623, 312008)</td>\n",
       "      <td>0.059524</td>\n",
       "      <td>0.358885</td>\n",
       "      <td>0.730061</td>\n",
       "      <td>0.906526</td>\n",
       "    </tr>\n",
       "    <tr>\n",
       "      <th>2</th>\n",
       "      <td>(46623, 146653)</td>\n",
       "      <td>0.051383</td>\n",
       "      <td>0.350694</td>\n",
       "      <td>0.700052</td>\n",
       "      <td>0.881873</td>\n",
       "    </tr>\n",
       "    <tr>\n",
       "      <th>3</th>\n",
       "      <td>(46623, 358762)</td>\n",
       "      <td>0.059524</td>\n",
       "      <td>0.317857</td>\n",
       "      <td>0.634981</td>\n",
       "      <td>0.825534</td>\n",
       "    </tr>\n",
       "    <tr>\n",
       "      <th>4</th>\n",
       "      <td>(46623, 314943)</td>\n",
       "      <td>0.063492</td>\n",
       "      <td>0.328671</td>\n",
       "      <td>0.720632</td>\n",
       "      <td>0.904091</td>\n",
       "    </tr>\n",
       "  </tbody>\n",
       "</table>\n",
       "</div>"
      ],
      "text/plain": [
       "           indices      JDk4      JDk5      JDk6      JDk7\n",
       "0   (46623, 53144)  0.071713  0.383803  0.726209  0.915049\n",
       "1  (46623, 312008)  0.059524  0.358885  0.730061  0.906526\n",
       "2  (46623, 146653)  0.051383  0.350694  0.700052  0.881873\n",
       "3  (46623, 358762)  0.059524  0.317857  0.634981  0.825534\n",
       "4  (46623, 314943)  0.063492  0.328671  0.720632  0.904091"
      ]
     },
     "execution_count": 105,
     "metadata": {},
     "output_type": "execute_result"
    }
   ],
   "source": [
    "Jdistance_sub2.head()"
   ]
  },
  {
   "cell_type": "code",
   "execution_count": 106,
   "metadata": {},
   "outputs": [
    {
     "data": {
      "text/html": [
       "<div>\n",
       "<style scoped>\n",
       "    .dataframe tbody tr th:only-of-type {\n",
       "        vertical-align: middle;\n",
       "    }\n",
       "\n",
       "    .dataframe tbody tr th {\n",
       "        vertical-align: top;\n",
       "    }\n",
       "\n",
       "    .dataframe thead th {\n",
       "        text-align: right;\n",
       "    }\n",
       "</style>\n",
       "<table border=\"1\" class=\"dataframe\">\n",
       "  <thead>\n",
       "    <tr style=\"text-align: right;\">\n",
       "      <th></th>\n",
       "      <th>indices</th>\n",
       "      <th>JDk4</th>\n",
       "      <th>JDk5</th>\n",
       "      <th>JDk6</th>\n",
       "      <th>JDk7</th>\n",
       "    </tr>\n",
       "  </thead>\n",
       "  <tbody>\n",
       "    <tr>\n",
       "      <th>19895</th>\n",
       "      <td>(149231, 240946)</td>\n",
       "      <td>0.117647</td>\n",
       "      <td>0.485612</td>\n",
       "      <td>0.800835</td>\n",
       "      <td>0.939407</td>\n",
       "    </tr>\n",
       "    <tr>\n",
       "      <th>19896</th>\n",
       "      <td>(149231, 46238)</td>\n",
       "      <td>0.102362</td>\n",
       "      <td>0.484262</td>\n",
       "      <td>0.806667</td>\n",
       "      <td>0.938914</td>\n",
       "    </tr>\n",
       "    <tr>\n",
       "      <th>19897</th>\n",
       "      <td>(63399, 240946)</td>\n",
       "      <td>0.141129</td>\n",
       "      <td>0.549125</td>\n",
       "      <td>0.830664</td>\n",
       "      <td>0.950333</td>\n",
       "    </tr>\n",
       "    <tr>\n",
       "      <th>19898</th>\n",
       "      <td>(63399, 46238)</td>\n",
       "      <td>0.140562</td>\n",
       "      <td>0.558108</td>\n",
       "      <td>0.847759</td>\n",
       "      <td>0.954574</td>\n",
       "    </tr>\n",
       "    <tr>\n",
       "      <th>19899</th>\n",
       "      <td>(240946, 46238)</td>\n",
       "      <td>0.105263</td>\n",
       "      <td>0.365152</td>\n",
       "      <td>0.575526</td>\n",
       "      <td>0.694466</td>\n",
       "    </tr>\n",
       "  </tbody>\n",
       "</table>\n",
       "</div>"
      ],
      "text/plain": [
       "                indices      JDk4      JDk5      JDk6      JDk7\n",
       "19895  (149231, 240946)  0.117647  0.485612  0.800835  0.939407\n",
       "19896   (149231, 46238)  0.102362  0.484262  0.806667  0.938914\n",
       "19897   (63399, 240946)  0.141129  0.549125  0.830664  0.950333\n",
       "19898    (63399, 46238)  0.140562  0.558108  0.847759  0.954574\n",
       "19899   (240946, 46238)  0.105263  0.365152  0.575526  0.694466"
      ]
     },
     "execution_count": 106,
     "metadata": {},
     "output_type": "execute_result"
    }
   ],
   "source": [
    "Jdistance_sub2.tail()"
   ]
  },
  {
   "cell_type": "code",
   "execution_count": 107,
   "metadata": {},
   "outputs": [
    {
     "data": {
      "text/html": [
       "<div>\n",
       "<style scoped>\n",
       "    .dataframe tbody tr th:only-of-type {\n",
       "        vertical-align: middle;\n",
       "    }\n",
       "\n",
       "    .dataframe tbody tr th {\n",
       "        vertical-align: top;\n",
       "    }\n",
       "\n",
       "    .dataframe thead th {\n",
       "        text-align: right;\n",
       "    }\n",
       "</style>\n",
       "<table border=\"1\" class=\"dataframe\">\n",
       "  <thead>\n",
       "    <tr style=\"text-align: right;\">\n",
       "      <th></th>\n",
       "      <th>indices</th>\n",
       "      <th>JDk4</th>\n",
       "      <th>JDk5</th>\n",
       "      <th>JDk6</th>\n",
       "      <th>JDk7</th>\n",
       "    </tr>\n",
       "  </thead>\n",
       "  <tbody>\n",
       "    <tr>\n",
       "      <th>5269</th>\n",
       "      <td>(60329, 92882)</td>\n",
       "      <td>0.095238</td>\n",
       "      <td>0.481928</td>\n",
       "      <td>0.804062</td>\n",
       "      <td>0.937047</td>\n",
       "    </tr>\n",
       "    <tr>\n",
       "      <th>3053</th>\n",
       "      <td>(350602, 437802)</td>\n",
       "      <td>0.080000</td>\n",
       "      <td>0.336867</td>\n",
       "      <td>0.695720</td>\n",
       "      <td>0.882353</td>\n",
       "    </tr>\n",
       "    <tr>\n",
       "      <th>10094</th>\n",
       "      <td>(69021, 484781)</td>\n",
       "      <td>0.055556</td>\n",
       "      <td>0.360179</td>\n",
       "      <td>0.741239</td>\n",
       "      <td>0.913885</td>\n",
       "    </tr>\n",
       "    <tr>\n",
       "      <th>2997</th>\n",
       "      <td>(350602, 88848)</td>\n",
       "      <td>0.134694</td>\n",
       "      <td>0.459873</td>\n",
       "      <td>0.798539</td>\n",
       "      <td>0.923495</td>\n",
       "    </tr>\n",
       "    <tr>\n",
       "      <th>19120</th>\n",
       "      <td>(573870, 181615)</td>\n",
       "      <td>0.032258</td>\n",
       "      <td>0.107792</td>\n",
       "      <td>0.201778</td>\n",
       "      <td>0.268177</td>\n",
       "    </tr>\n",
       "    <tr>\n",
       "      <th>13835</th>\n",
       "      <td>(429091, 16330)</td>\n",
       "      <td>0.055556</td>\n",
       "      <td>0.377752</td>\n",
       "      <td>0.727177</td>\n",
       "      <td>0.905306</td>\n",
       "    </tr>\n",
       "    <tr>\n",
       "      <th>578</th>\n",
       "      <td>(312008, 308500)</td>\n",
       "      <td>0.055336</td>\n",
       "      <td>0.359770</td>\n",
       "      <td>0.725077</td>\n",
       "      <td>0.900036</td>\n",
       "    </tr>\n",
       "    <tr>\n",
       "      <th>10575</th>\n",
       "      <td>(282109, 63708)</td>\n",
       "      <td>0.123506</td>\n",
       "      <td>0.492806</td>\n",
       "      <td>0.820397</td>\n",
       "      <td>0.942689</td>\n",
       "    </tr>\n",
       "    <tr>\n",
       "      <th>7664</th>\n",
       "      <td>(78862, 230666)</td>\n",
       "      <td>0.074219</td>\n",
       "      <td>0.344470</td>\n",
       "      <td>0.695763</td>\n",
       "      <td>0.879244</td>\n",
       "    </tr>\n",
       "    <tr>\n",
       "      <th>17556</th>\n",
       "      <td>(13500, 511113)</td>\n",
       "      <td>0.112403</td>\n",
       "      <td>0.367698</td>\n",
       "      <td>0.722727</td>\n",
       "      <td>0.901714</td>\n",
       "    </tr>\n",
       "    <tr>\n",
       "      <th>12995</th>\n",
       "      <td>(285459, 240946)</td>\n",
       "      <td>0.092742</td>\n",
       "      <td>0.450372</td>\n",
       "      <td>0.802332</td>\n",
       "      <td>0.926893</td>\n",
       "    </tr>\n",
       "    <tr>\n",
       "      <th>6678</th>\n",
       "      <td>(574630, 1726)</td>\n",
       "      <td>0.099602</td>\n",
       "      <td>0.471210</td>\n",
       "      <td>0.810392</td>\n",
       "      <td>0.939886</td>\n",
       "    </tr>\n",
       "  </tbody>\n",
       "</table>\n",
       "</div>"
      ],
      "text/plain": [
       "                indices      JDk4      JDk5      JDk6      JDk7\n",
       "5269     (60329, 92882)  0.095238  0.481928  0.804062  0.937047\n",
       "3053   (350602, 437802)  0.080000  0.336867  0.695720  0.882353\n",
       "10094   (69021, 484781)  0.055556  0.360179  0.741239  0.913885\n",
       "2997    (350602, 88848)  0.134694  0.459873  0.798539  0.923495\n",
       "19120  (573870, 181615)  0.032258  0.107792  0.201778  0.268177\n",
       "13835   (429091, 16330)  0.055556  0.377752  0.727177  0.905306\n",
       "578    (312008, 308500)  0.055336  0.359770  0.725077  0.900036\n",
       "10575   (282109, 63708)  0.123506  0.492806  0.820397  0.942689\n",
       "7664    (78862, 230666)  0.074219  0.344470  0.695763  0.879244\n",
       "17556   (13500, 511113)  0.112403  0.367698  0.722727  0.901714\n",
       "12995  (285459, 240946)  0.092742  0.450372  0.802332  0.926893\n",
       "6678     (574630, 1726)  0.099602  0.471210  0.810392  0.939886"
      ]
     },
     "execution_count": 107,
     "metadata": {},
     "output_type": "execute_result"
    }
   ],
   "source": [
    "Jdistance_sub2.sample(12)"
   ]
  },
  {
   "cell_type": "markdown",
   "metadata": {},
   "source": [
    "### Also checking NA gene to make sure pattern with increasing k is not just in HA"
   ]
  },
  {
   "cell_type": "code",
   "execution_count": 63,
   "metadata": {},
   "outputs": [
    {
     "name": "stderr",
     "output_type": "stream",
     "text": [
      "/home/brian/anaconda3/lib/python3.7/site-packages/ipykernel_launcher.py:1: UserWarning: This pattern has match groups. To actually get the groups, use str.extract.\n",
      "  \"\"\"Entry point for launching an IPython kernel.\n"
     ]
    }
   ],
   "source": [
    "uniflna_NA = uniflna.loc[uniflna.iloc[:,0].str.contains(r'\\(NA\\) | neuraminidase | (segment 6)')]"
   ]
  },
  {
   "cell_type": "code",
   "execution_count": 64,
   "metadata": {},
   "outputs": [
    {
     "data": {
      "text/plain": [
       "(66339, 2)"
      ]
     },
     "execution_count": 64,
     "metadata": {},
     "output_type": "execute_result"
    }
   ],
   "source": [
    "uniflna_NA.shape"
   ]
  },
  {
   "cell_type": "code",
   "execution_count": 65,
   "metadata": {},
   "outputs": [],
   "source": [
    "np.random.seed(12478)\n",
    "uniflna_NA_sub1 = uniflna_NA.sample(n=200)\n",
    "uniflna_NA_sub2 = uniflna_NA.sample(n=200)"
   ]
  },
  {
   "cell_type": "code",
   "execution_count": 66,
   "metadata": {},
   "outputs": [],
   "source": [
    "idl3=list(it.combinations(list(uniflna_NA_sub1.index),2))"
   ]
  },
  {
   "cell_type": "code",
   "execution_count": 67,
   "metadata": {},
   "outputs": [
    {
     "data": {
      "image/png": "[encoded data removed]",
      "text/plain": [
       "<Figure size 432x288 with 1 Axes>"
      ]
     },
     "metadata": {
      "needs_background": "light"
     },
     "output_type": "display_data"
    }
   ],
   "source": [
    "# k=4\n",
    "JDresults4n1=[]\n",
    "for i in idl3:\n",
    "    JDresults4n1.append(JacDist(charkgram(uniflna_NA_sub1.loc[[i[0]]].sequences.values[0],4),charkgram(uniflna_NA_sub1.loc[[i[1]]].sequences.values[0],4)))\n",
    "plt.hist(JDresults4n1, 50, range=(0,1));"
   ]
  },
  {
   "cell_type": "code",
   "execution_count": 68,
   "metadata": {},
   "outputs": [
    {
     "data": {
      "image/png": "[encoded data removed]",
      "text/plain": [
       "<Figure size 432x288 with 1 Axes>"
      ]
     },
     "metadata": {
      "needs_background": "light"
     },
     "output_type": "display_data"
    }
   ],
   "source": [
    "# k=5\n",
    "JDresults5n1=[]\n",
    "for i in idl3:\n",
    "    JDresults5n1.append(JacDist(charkgram(uniflna_NA_sub1.loc[[i[0]]].sequences.values[0],5),charkgram(uniflna_NA_sub1.loc[[i[1]]].sequences.values[0],5)))\n",
    "plt.hist(JDresults5n1, 50, range=(0,1));"
   ]
  },
  {
   "cell_type": "code",
   "execution_count": 69,
   "metadata": {},
   "outputs": [
    {
     "data": {
      "image/png": "[encoded data removed]",
      "text/plain": [
       "<Figure size 432x288 with 1 Axes>"
      ]
     },
     "metadata": {
      "needs_background": "light"
     },
     "output_type": "display_data"
    }
   ],
   "source": [
    "# k=6\n",
    "JDresults6n1=[]\n",
    "for i in idl3:\n",
    "    JDresults6n1.append(JacDist(charkgram(uniflna_NA_sub1.loc[[i[0]]].sequences.values[0],6),charkgram(uniflna_NA_sub1.loc[[i[1]]].sequences.values[0],6)))\n",
    "plt.hist(JDresults6n1, 50, range=(0,1));"
   ]
  },
  {
   "cell_type": "code",
   "execution_count": 70,
   "metadata": {},
   "outputs": [
    {
     "data": {
      "image/png": "[encoded data removed]",
      "text/plain": [
       "<Figure size 432x288 with 1 Axes>"
      ]
     },
     "metadata": {
      "needs_background": "light"
     },
     "output_type": "display_data"
    }
   ],
   "source": [
    "# k=7\n",
    "JDresults7n1=[]\n",
    "for i in idl3:\n",
    "    JDresults7n1.append(JacDist(charkgram(uniflna_NA_sub1.loc[[i[0]]].sequences.values[0],7),charkgram(uniflna_NA_sub1.loc[[i[1]]].sequences.values[0],7)))\n",
    "plt.hist(JDresults7n1, 50, range=(0,1));"
   ]
  },
  {
   "cell_type": "code",
   "execution_count": 71,
   "metadata": {},
   "outputs": [
    {
     "data": {
      "image/png": "[encoded data removed]",
      "text/plain": [
       "<Figure size 432x288 with 1 Axes>"
      ]
     },
     "metadata": {
      "needs_background": "light"
     },
     "output_type": "display_data"
    }
   ],
   "source": [
    "plt.hist(JDresults4n1, 50, range=(0,1), color='blue', alpha=0.35, label='k=4')\n",
    "plt.hist(JDresults5n1, 50, range=(0,1), color='red', alpha=0.35, label='k=5')\n",
    "plt.hist(JDresults6n1, 50, range=(0,1), color='green', alpha=0.35, label='k=6')\n",
    "plt.hist(JDresults7n1, 50, range=(0,1), color='orange', alpha=0.35, label='k=7')\n",
    "plt.xlabel(\"Jaccard Distance\")\n",
    "plt.ylabel(\"count\")\n",
    "plt.legend();"
   ]
  },
  {
   "cell_type": "code",
   "execution_count": null,
   "metadata": {},
   "outputs": [],
   "source": []
  }
 ],
 "metadata": {
  "kernelspec": {
   "display_name": "Python 3",
   "language": "python",
   "name": "python3"
  },
  "language_info": {
   "codemirror_mode": {
    "name": "ipython",
    "version": 3
   },
   "file_extension": ".py",
   "mimetype": "text/x-python",
   "name": "python",
   "nbconvert_exporter": "python",
   "pygments_lexer": "ipython3",
   "version": "3.7.1"
  }
 },
 "nbformat": 4,
 "nbformat_minor": 2
}
