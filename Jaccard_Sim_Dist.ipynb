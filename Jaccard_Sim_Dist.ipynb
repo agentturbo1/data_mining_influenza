{
 "cells": [
  {
   "cell_type": "markdown",
   "metadata": {},
   "source": [
    "### getting files imported and sorted  \n",
    "getting the sequences in and making sure that we get rid of duplicates and then separate genes (e.g. HA) to look at them separately. \n"
   ]
  },
  {
   "cell_type": "code",
   "execution_count": 28,
   "metadata": {},
   "outputs": [],
   "source": [
    "# imports\n",
    "from Bio.SeqIO.FastaIO import SimpleFastaParser\n",
    "import pandas as pd\n",
    "import numpy as np\n",
    "import itertools as it\n",
    "import matplotlib.pyplot as plt\n",
    "plt.rcParams['figure.dpi'] = 150"
   ]
  },
  {
   "cell_type": "code",
   "execution_count": 3,
   "metadata": {},
   "outputs": [],
   "source": [
    "with open('influenza.fna') as fasta_file: \n",
    "    cgi_titles = []\n",
    "    cgi_sequences = []\n",
    "    for title, sequence in SimpleFastaParser(fasta_file):\n",
    "        cgi_titles.append(title)\n",
    "        cgi_sequences.append(sequence)"
   ]
  },
  {
   "cell_type": "code",
   "execution_count": 4,
   "metadata": {},
   "outputs": [],
   "source": [
    "influenza_na = pd.DataFrame(list(zip(cgi_titles, cgi_sequences)), columns=['titles','sequences'])"
   ]
  },
  {
   "cell_type": "code",
   "execution_count": 5,
   "metadata": {},
   "outputs": [
    {
     "data": {
      "text/html": [
       "<div>\n",
       "<style scoped>\n",
       "    .dataframe tbody tr th:only-of-type {\n",
       "        vertical-align: middle;\n",
       "    }\n",
       "\n",
       "    .dataframe tbody tr th {\n",
       "        vertical-align: top;\n",
       "    }\n",
       "\n",
       "    .dataframe thead th {\n",
       "        text-align: right;\n",
       "    }\n",
       "</style>\n",
       "<table border=\"1\" class=\"dataframe\">\n",
       "  <thead>\n",
       "    <tr style=\"text-align: right;\">\n",
       "      <th></th>\n",
       "      <th>titles</th>\n",
       "      <th>sequences</th>\n",
       "    </tr>\n",
       "  </thead>\n",
       "  <tbody>\n",
       "    <tr>\n",
       "      <th>0</th>\n",
       "      <td>gi|58576|gb|X52226|Influenza A virus (A/FPV/Ro...</td>\n",
       "      <td>AGCAAAAGCAGGAGTTCAAAATGAATCCAAATCAGAAAATAATAAC...</td>\n",
       "    </tr>\n",
       "    <tr>\n",
       "      <th>1</th>\n",
       "      <td>gi|59292|gb|X53029|Influenza A virus (A/USSR/9...</td>\n",
       "      <td>AGCAAAAGCAGGTAGATGTTGAAAGATGAGTCTTCTAACCGAGGTC...</td>\n",
       "    </tr>\n",
       "    <tr>\n",
       "      <th>2</th>\n",
       "      <td>gi|59294|gb|X59778|Influenza A virus (A/NIB/4/...</td>\n",
       "      <td>GGATCCTGTTATGTGCATTTACAGCTACAGATGCAGACACAATATG...</td>\n",
       "    </tr>\n",
       "    <tr>\n",
       "      <th>3</th>\n",
       "      <td>gi|59296|gb|X66320|Influenza A virus (A/Chile/...</td>\n",
       "      <td>ACACCAAATGGAACGAAAATCAGAACCCTAGAATGTTTTTGGCCAT...</td>\n",
       "    </tr>\n",
       "    <tr>\n",
       "      <th>4</th>\n",
       "      <td>gi|60457|gb|X08088|Influenza A virus (A/WSN/33...</td>\n",
       "      <td>ATGAGTCTTCTAACCGAGGTCGAAACGTACGTTCTCTCTATCGTCC...</td>\n",
       "    </tr>\n",
       "  </tbody>\n",
       "</table>\n",
       "</div>"
      ],
      "text/plain": [
       "                                              titles  \\\n",
       "0  gi|58576|gb|X52226|Influenza A virus (A/FPV/Ro...   \n",
       "1  gi|59292|gb|X53029|Influenza A virus (A/USSR/9...   \n",
       "2  gi|59294|gb|X59778|Influenza A virus (A/NIB/4/...   \n",
       "3  gi|59296|gb|X66320|Influenza A virus (A/Chile/...   \n",
       "4  gi|60457|gb|X08088|Influenza A virus (A/WSN/33...   \n",
       "\n",
       "                                           sequences  \n",
       "0  AGCAAAAGCAGGAGTTCAAAATGAATCCAAATCAGAAAATAATAAC...  \n",
       "1  AGCAAAAGCAGGTAGATGTTGAAAGATGAGTCTTCTAACCGAGGTC...  \n",
       "2  GGATCCTGTTATGTGCATTTACAGCTACAGATGCAGACACAATATG...  \n",
       "3  ACACCAAATGGAACGAAAATCAGAACCCTAGAATGTTTTTGGCCAT...  \n",
       "4  ATGAGTCTTCTAACCGAGGTCGAAACGTACGTTCTCTCTATCGTCC...  "
      ]
     },
     "execution_count": 5,
     "metadata": {},
     "output_type": "execute_result"
    }
   ],
   "source": [
    "influenza_na.head()"
   ]
  },
  {
   "cell_type": "code",
   "execution_count": 6,
   "metadata": {},
   "outputs": [
    {
     "data": {
      "text/plain": [
       "(655764, 2)"
      ]
     },
     "execution_count": 6,
     "metadata": {},
     "output_type": "execute_result"
    }
   ],
   "source": [
    "influenza_na.shape"
   ]
  },
  {
   "cell_type": "markdown",
   "metadata": {},
   "source": [
    "remove duplicate sequences"
   ]
  },
  {
   "cell_type": "code",
   "execution_count": 7,
   "metadata": {},
   "outputs": [],
   "source": [
    "uniflna = influenza_na.drop_duplicates('sequences')"
   ]
  },
  {
   "cell_type": "code",
   "execution_count": 8,
   "metadata": {},
   "outputs": [
    {
     "data": {
      "text/html": [
       "<div>\n",
       "<style scoped>\n",
       "    .dataframe tbody tr th:only-of-type {\n",
       "        vertical-align: middle;\n",
       "    }\n",
       "\n",
       "    .dataframe tbody tr th {\n",
       "        vertical-align: top;\n",
       "    }\n",
       "\n",
       "    .dataframe thead th {\n",
       "        text-align: right;\n",
       "    }\n",
       "</style>\n",
       "<table border=\"1\" class=\"dataframe\">\n",
       "  <thead>\n",
       "    <tr style=\"text-align: right;\">\n",
       "      <th></th>\n",
       "      <th>titles</th>\n",
       "      <th>sequences</th>\n",
       "    </tr>\n",
       "  </thead>\n",
       "  <tbody>\n",
       "    <tr>\n",
       "      <th>0</th>\n",
       "      <td>gi|58576|gb|X52226|Influenza A virus (A/FPV/Ro...</td>\n",
       "      <td>AGCAAAAGCAGGAGTTCAAAATGAATCCAAATCAGAAAATAATAAC...</td>\n",
       "    </tr>\n",
       "    <tr>\n",
       "      <th>1</th>\n",
       "      <td>gi|59292|gb|X53029|Influenza A virus (A/USSR/9...</td>\n",
       "      <td>AGCAAAAGCAGGTAGATGTTGAAAGATGAGTCTTCTAACCGAGGTC...</td>\n",
       "    </tr>\n",
       "    <tr>\n",
       "      <th>2</th>\n",
       "      <td>gi|59294|gb|X59778|Influenza A virus (A/NIB/4/...</td>\n",
       "      <td>GGATCCTGTTATGTGCATTTACAGCTACAGATGCAGACACAATATG...</td>\n",
       "    </tr>\n",
       "    <tr>\n",
       "      <th>3</th>\n",
       "      <td>gi|59296|gb|X66320|Influenza A virus (A/Chile/...</td>\n",
       "      <td>ACACCAAATGGAACGAAAATCAGAACCCTAGAATGTTTTTGGCCAT...</td>\n",
       "    </tr>\n",
       "    <tr>\n",
       "      <th>4</th>\n",
       "      <td>gi|60457|gb|X08088|Influenza A virus (A/WSN/33...</td>\n",
       "      <td>ATGAGTCTTCTAACCGAGGTCGAAACGTACGTTCTCTCTATCGTCC...</td>\n",
       "    </tr>\n",
       "  </tbody>\n",
       "</table>\n",
       "</div>"
      ],
      "text/plain": [
       "                                              titles  \\\n",
       "0  gi|58576|gb|X52226|Influenza A virus (A/FPV/Ro...   \n",
       "1  gi|59292|gb|X53029|Influenza A virus (A/USSR/9...   \n",
       "2  gi|59294|gb|X59778|Influenza A virus (A/NIB/4/...   \n",
       "3  gi|59296|gb|X66320|Influenza A virus (A/Chile/...   \n",
       "4  gi|60457|gb|X08088|Influenza A virus (A/WSN/33...   \n",
       "\n",
       "                                           sequences  \n",
       "0  AGCAAAAGCAGGAGTTCAAAATGAATCCAAATCAGAAAATAATAAC...  \n",
       "1  AGCAAAAGCAGGTAGATGTTGAAAGATGAGTCTTCTAACCGAGGTC...  \n",
       "2  GGATCCTGTTATGTGCATTTACAGCTACAGATGCAGACACAATATG...  \n",
       "3  ACACCAAATGGAACGAAAATCAGAACCCTAGAATGTTTTTGGCCAT...  \n",
       "4  ATGAGTCTTCTAACCGAGGTCGAAACGTACGTTCTCTCTATCGTCC...  "
      ]
     },
     "execution_count": 8,
     "metadata": {},
     "output_type": "execute_result"
    }
   ],
   "source": [
    "uniflna.head()"
   ]
  },
  {
   "cell_type": "code",
   "execution_count": 9,
   "metadata": {
    "scrolled": true
   },
   "outputs": [
    {
     "data": {
      "text/plain": [
       "(441221, 2)"
      ]
     },
     "execution_count": 9,
     "metadata": {},
     "output_type": "execute_result"
    }
   ],
   "source": [
    "uniflna.shape"
   ]
  },
  {
   "cell_type": "markdown",
   "metadata": {},
   "source": [
    "get just the HA gene sequences (for now, other genes later)"
   ]
  },
  {
   "cell_type": "code",
   "execution_count": 10,
   "metadata": {},
   "outputs": [
    {
     "name": "stderr",
     "output_type": "stream",
     "text": [
      "/home/brian/anaconda3/lib/python3.7/site-packages/ipykernel_launcher.py:1: UserWarning: This pattern has match groups. To actually get the groups, use str.extract.\n",
      "  \"\"\"Entry point for launching an IPython kernel.\n"
     ]
    }
   ],
   "source": [
    "uniflna_HA = uniflna.loc[uniflna.iloc[:,0].str.contains(r'(HA)')]"
   ]
  },
  {
   "cell_type": "code",
   "execution_count": 11,
   "metadata": {},
   "outputs": [
    {
     "data": {
      "text/plain": [
       "(91179, 2)"
      ]
     },
     "execution_count": 11,
     "metadata": {},
     "output_type": "execute_result"
    }
   ],
   "source": [
    "uniflna_HA.shape"
   ]
  },
  {
   "cell_type": "code",
   "execution_count": 13,
   "metadata": {},
   "outputs": [],
   "source": [
    "np.random.seed(83475)"
   ]
  },
  {
   "cell_type": "code",
   "execution_count": 15,
   "metadata": {},
   "outputs": [],
   "source": [
    "# character kgram function, out is set\n",
    "def charkgram(text, k):\n",
    "    results=set()\n",
    "    for i in range(len(text)-k+1):\n",
    "        if text[i:i+k] not in results:\n",
    "            results.add(text[i:i+k])\n",
    "    return(results)"
   ]
  },
  {
   "cell_type": "code",
   "execution_count": 16,
   "metadata": {},
   "outputs": [],
   "source": [
    "def JacSim(a,b):\n",
    "    top = len(a & b)\n",
    "    bottom = len(a | b)\n",
    "    return(top/bottom)"
   ]
  },
  {
   "cell_type": "code",
   "execution_count": 17,
   "metadata": {},
   "outputs": [],
   "source": [
    "uniflna_HA_sub1 = uniflna_HA.sample(n=200)"
   ]
  },
  {
   "cell_type": "code",
   "execution_count": 18,
   "metadata": {},
   "outputs": [],
   "source": [
    "idl=list(it.combinations(list(uniflna_HA_sub1.index),2))"
   ]
  },
  {
   "cell_type": "code",
   "execution_count": 19,
   "metadata": {},
   "outputs": [
    {
     "data": {
      "text/plain": [
       "19900"
      ]
     },
     "execution_count": 19,
     "metadata": {},
     "output_type": "execute_result"
    }
   ],
   "source": [
    "len(idl)"
   ]
  },
  {
   "cell_type": "code",
   "execution_count": 21,
   "metadata": {},
   "outputs": [
    {
     "data": {
      "image/png": "[encoded data removed]",
      "text/plain": [
       "<Figure size 432x288 with 1 Axes>"
      ]
     },
     "metadata": {
      "needs_background": "light"
     },
     "output_type": "display_data"
    }
   ],
   "source": [
    "# k=4\n",
    "JSresults4=[]\n",
    "for i in idl:\n",
    "    JSresults4.append(JacSim(charkgram(uniflna_HA_sub1.loc[[i[0]]].sequences.values[0],4),charkgram(uniflna_HA_sub1.loc[[i[1]]].sequences.values[0],4)))\n",
    "plt.hist(JSresults4, 50, range=(0,1));"
   ]
  },
  {
   "cell_type": "code",
   "execution_count": 22,
   "metadata": {},
   "outputs": [
    {
     "data": {
      "image/png": "[encoded data removed]",
      "text/plain": [
       "<Figure size 432x288 with 1 Axes>"
      ]
     },
     "metadata": {
      "needs_background": "light"
     },
     "output_type": "display_data"
    }
   ],
   "source": [
    "# k=5\n",
    "JSresults5=[]\n",
    "for i in idl:\n",
    "    JSresults5.append(JacSim(charkgram(uniflna_HA_sub1.loc[[i[0]]].sequences.values[0],5),charkgram(uniflna_HA_sub1.loc[[i[1]]].sequences.values[0],5)))\n",
    "plt.hist(JSresults5, 50, range=(0,1));"
   ]
  },
  {
   "cell_type": "code",
   "execution_count": 23,
   "metadata": {},
   "outputs": [
    {
     "data": {
      "image/png": "[encoded data removed]",
      "text/plain": [
       "<Figure size 432x288 with 1 Axes>"
      ]
     },
     "metadata": {
      "needs_background": "light"
     },
     "output_type": "display_data"
    }
   ],
   "source": [
    "# k=6\n",
    "JSresults6=[]\n",
    "for i in idl:\n",
    "    JSresults6.append(JacSim(charkgram(uniflna_HA_sub1.loc[[i[0]]].sequences.values[0],6),charkgram(uniflna_HA_sub1.loc[[i[1]]].sequences.values[0],6)))\n",
    "plt.hist(JSresults6, 50, range=(0,1));"
   ]
  },
  {
   "cell_type": "code",
   "execution_count": 24,
   "metadata": {},
   "outputs": [
    {
     "data": {
      "image/png": "[encoded data removed]",
      "text/plain": [
       "<Figure size 432x288 with 1 Axes>"
      ]
     },
     "metadata": {
      "needs_background": "light"
     },
     "output_type": "display_data"
    }
   ],
   "source": [
    "# k=7\n",
    "JSresults7=[]\n",
    "for i in idl:\n",
    "    JSresults7.append(JacSim(charkgram(uniflna_HA_sub1.loc[[i[0]]].sequences.values[0],7),charkgram(uniflna_HA_sub1.loc[[i[1]]].sequences.values[0],7)))\n",
    "plt.hist(JSresults7, 50, range=(0,1));"
   ]
  },
  {
   "cell_type": "code",
   "execution_count": 32,
   "metadata": {},
   "outputs": [
    {
     "data": {
      "image/png": "[encoded data removed]",
      "text/plain": [
       "<Figure size 900x600 with 1 Axes>"
      ]
     },
     "metadata": {
      "needs_background": "light"
     },
     "output_type": "display_data"
    }
   ],
   "source": [
    "plt.hist(JSresults4, 50, range=(0,1), color='blue', alpha=0.35, label='k=4')\n",
    "plt.hist(JSresults5, 50, range=(0,1), color='red', alpha=0.35, label='k=5')\n",
    "plt.hist(JSresults6, 50, range=(0,1), color='green', alpha=0.35, label='k=6')\n",
    "plt.hist(JSresults7, 50, range=(0,1), color='orange', alpha=0.35, label='k=7')\n",
    "plt.xlabel(\"Jaccard Similarity\")\n",
    "plt.ylabel(\"count\")\n",
    "plt.legend();"
   ]
  },
  {
   "cell_type": "code",
   "execution_count": 33,
   "metadata": {},
   "outputs": [],
   "source": [
    "def JacDist(a,b):\n",
    "    top = len(a & b)\n",
    "    bottom = len(a | b)\n",
    "    return(1-top/bottom)"
   ]
  },
  {
   "cell_type": "code",
   "execution_count": 37,
   "metadata": {
    "scrolled": true
   },
   "outputs": [
    {
     "data": {
      "text/html": [
       "<div>\n",
       "<style scoped>\n",
       "    .dataframe tbody tr th:only-of-type {\n",
       "        vertical-align: middle;\n",
       "    }\n",
       "\n",
       "    .dataframe tbody tr th {\n",
       "        vertical-align: top;\n",
       "    }\n",
       "\n",
       "    .dataframe thead th {\n",
       "        text-align: right;\n",
       "    }\n",
       "</style>\n",
       "<table border=\"1\" class=\"dataframe\">\n",
       "  <thead>\n",
       "    <tr style=\"text-align: right;\">\n",
       "      <th></th>\n",
       "      <th>titles</th>\n",
       "      <th>sequences</th>\n",
       "    </tr>\n",
       "  </thead>\n",
       "  <tbody>\n",
       "    <tr>\n",
       "      <th>21</th>\n",
       "      <td>gi|60504|gb|X17224|Influenza A virus (STRAIN A...</td>\n",
       "      <td>AAAACAACCAAAATGAAAGCAAAACTACTAGTCCTGTTATGTGCAT...</td>\n",
       "    </tr>\n",
       "    <tr>\n",
       "      <th>28</th>\n",
       "      <td>gi|60723|gb|X13551|Influenza B virus HA gene f...</td>\n",
       "      <td>ACTCATGGTAGTAACATCCAATGCAGATCGAATCTGCACTGGGATA...</td>\n",
       "    </tr>\n",
       "    <tr>\n",
       "      <th>29</th>\n",
       "      <td>gi|60728|gb|X13552|Influenza B virus (B/USSR/1...</td>\n",
       "      <td>ACTCATGGTAGTAACATCCAACGCAGATCGAATCTGCACTGGGATA...</td>\n",
       "    </tr>\n",
       "    <tr>\n",
       "      <th>30</th>\n",
       "      <td>gi|60733|gb|X13553|Influenza B virus HA gene f...</td>\n",
       "      <td>ACTCATGGTAGTAACATCCAATGCAGATCGAATCTGCACTGGGATA...</td>\n",
       "    </tr>\n",
       "    <tr>\n",
       "      <th>31</th>\n",
       "      <td>gi|60738|gb|X13550|Influenza B virus (B/Bonn/4...</td>\n",
       "      <td>ACTCATGGTAGTAACATCCAATGCAGATCGAATCTGCACTGGGATA...</td>\n",
       "    </tr>\n",
       "  </tbody>\n",
       "</table>\n",
       "</div>"
      ],
      "text/plain": [
       "                                               titles  \\\n",
       "21  gi|60504|gb|X17224|Influenza A virus (STRAIN A...   \n",
       "28  gi|60723|gb|X13551|Influenza B virus HA gene f...   \n",
       "29  gi|60728|gb|X13552|Influenza B virus (B/USSR/1...   \n",
       "30  gi|60733|gb|X13553|Influenza B virus HA gene f...   \n",
       "31  gi|60738|gb|X13550|Influenza B virus (B/Bonn/4...   \n",
       "\n",
       "                                            sequences  \n",
       "21  AAAACAACCAAAATGAAAGCAAAACTACTAGTCCTGTTATGTGCAT...  \n",
       "28  ACTCATGGTAGTAACATCCAATGCAGATCGAATCTGCACTGGGATA...  \n",
       "29  ACTCATGGTAGTAACATCCAACGCAGATCGAATCTGCACTGGGATA...  \n",
       "30  ACTCATGGTAGTAACATCCAATGCAGATCGAATCTGCACTGGGATA...  \n",
       "31  ACTCATGGTAGTAACATCCAATGCAGATCGAATCTGCACTGGGATA...  "
      ]
     },
     "execution_count": 37,
     "metadata": {},
     "output_type": "execute_result"
    }
   ],
   "source": [
    "uniflna_HA.head()\n"
   ]
  },
  {
   "cell_type": "code",
   "execution_count": 52,
   "metadata": {},
   "outputs": [
    {
     "data": {
      "text/plain": [
       "titles       gi|60504|gb|X17224|Influenza A virus (STRAIN A...\n",
       "sequences    AAAACAACCAAAATGAAAGCAAAACTACTAGTCCTGTTATGTGCAT...\n",
       "Name: 21, dtype: object"
      ]
     },
     "execution_count": 52,
     "metadata": {},
     "output_type": "execute_result"
    }
   ],
   "source": [
    "uniflna_HA.iloc[0]"
   ]
  },
  {
   "cell_type": "code",
   "execution_count": 49,
   "metadata": {},
   "outputs": [
    {
     "data": {
      "text/plain": [
       "titles       gi|60723|gb|X13551|Influenza B virus HA gene f...\n",
       "sequences    ACTCATGGTAGTAACATCCAATGCAGATCGAATCTGCACTGGGATA...\n",
       "Name: 28, dtype: object"
      ]
     },
     "execution_count": 49,
     "metadata": {},
     "output_type": "execute_result"
    }
   ],
   "source": [
    "uniflna_HA.iloc[1]"
   ]
  },
  {
   "cell_type": "code",
   "execution_count": 54,
   "metadata": {},
   "outputs": [
    {
     "data": {
      "text/plain": [
       "'ACTCATGGTAGTAACATCCAACGCAGATCGAATCTGCACTGGGATAACATCTTCAAACTCCCCCCATGTGGTCAAAACAGCTACTCAAGGGGAAGTTAATGTGACTGGTGTGATACCACTGACAACAACACCAACCAAATCTCATTTTGCAAATCTCAAAGGAACAAAGACCAGAGGGAAACTATGCCCAAACTGTCTCAACTGCACAGATCTGGACGTGGCCTTGGGCAGACCAAAGTGTATGGGGACCATACCTTCGGCAAAAGCTTCAATACTCCACGAAGTCAAACCTGTTACATCTGGGTGCTTTCCTATAATGCACGACAGAACAAAAATCAGACAGCTACCCAATCTTCTCAGAGGATATGAAAATATCAGGTTATCAACCCGTAACGTTATCAACGCAGAAAGGGCACCAGGAGGACCCTACATAATTGGAACCTCAGGATCTTGCCCTAACGTTACCAATGGAAACGGATTCTTCGCAACAATGGCTTGGGCTGTCCCAAAAGACAACAAAACAGCAACGGATCCATTAACAATAGAAGTACCATACATTTGTACAAAAGGAGAAGACCAAATTACTGTTTGGGGGTTCCATTCTGATAACAAAAACCAAATGGTAAAACTCTATGGAGACTCAAAGCCTCAAAAGTTCACCTCATCTGCCAATGGAGTAACCACACATTATGTTTCTCAGATTGGTGGTTTCCCAAATCAAACAGAAGACGGAGGGCTACCACAAAGCGGCAGAATTGTTGTTGATTACATGGTGCAGAAACCTGGAAAACCAGGAACAATTGTCTATCAAAGAGGTGTTTTATTGCCTCAAAAAGTGTGGTGCGCAAGTGGCAGGAGCAAGGTAATAAAAGGGTCCTTGCCTTTAATTGGTGAAGCAGATTGCCTCCACGAAAAATACGGTGGATTAAACAAAAGCAAGCCTTACTACACAGGAGAACATGCAAAAGCCATAGGAAATTGCCCAATATGGGTGAAAACACCCTTGAAGCTGGCCAATGGAACCAAATATAGACCTCCTGCAAAACTATTAAAGGAAAGGGGTTTCTTCGGAGCTATTGCTGGTTTCTTGGAAGGAGGATGGGAAGGAATGATTGCAGGTTGGCACGGATACACATCTCATGGAGCACATGGAGTGGCAGTGGCAGCAGACCTTAAGAGTACGCAAGAAGCCATAAACAAGATAACAAAAAATCTCAATTCTTTGAGTGAGCTAGAAGTAAAGAATCTTCAAAGACTAAGCGGTGCCATGGATGAACTCCACAATGAAATACTCGAGCTGGATGAGAAAGTGGATGATCTCAGAGCTGACACAATAAGCTCGCAAATAGAGCTTGCAGTCTTGCTTTCCAACGAAGGAATAATCAACAGTGAAGATGAGCATCTCTTGGCACTTGAAAGAAAACTAAAGAAAATGCTGGGCCCCTCTGCTGTAGACATAGGGAATGGATGCTTCGAAACCAAACACAAGTGCAACCAGACCTGCTTAGACAGGATAGCTGCTGGCACCTTTAATGCAGGAGAATTTTCTCTCCCCACCTTTGATTCACTAAATATTACTGCTGCATCTTTAAATGATGATGGATTGGATAATCATACTATACTGCTTTACTACTCAACTGCTGCTTCTAGTTTGGCTGTAACATTGATGATAGCTATCTTTATTGTTTATATGGTCTCCAGAGACAATGTTTCTTGCTCCATCTGTCTATAAGGAAAATTAAGCCCTGTATTTTCCTTTATTGTAGTGCTTGTTTGCTTGTTACCATTACAAAAAACGTTATTGAAAAATGCTCTTGTTACTACT'"
      ]
     },
     "execution_count": 54,
     "metadata": {},
     "output_type": "execute_result"
    }
   ],
   "source": [
    "uniflna_HA.iloc[2].sequences"
   ]
  },
  {
   "cell_type": "code",
   "execution_count": 55,
   "metadata": {},
   "outputs": [
    {
     "data": {
      "text/plain": [
       "0.5594237695078031"
      ]
     },
     "execution_count": 55,
     "metadata": {},
     "output_type": "execute_result"
    }
   ],
   "source": [
    "JacSim(charkgram(uniflna_HA.iloc[0].sequences,5), charkgram(uniflna_HA.iloc[1].sequences,5))"
   ]
  },
  {
   "cell_type": "code",
   "execution_count": 56,
   "metadata": {},
   "outputs": [
    {
     "data": {
      "text/plain": [
       "0.8986666666666666"
      ]
     },
     "execution_count": 56,
     "metadata": {},
     "output_type": "execute_result"
    }
   ],
   "source": [
    "JacSim(charkgram(uniflna_HA.iloc[1].sequences,5), charkgram(uniflna_HA.iloc[2].sequences,5))"
   ]
  },
  {
   "cell_type": "code",
   "execution_count": 57,
   "metadata": {
    "scrolled": true
   },
   "outputs": [
    {
     "data": {
      "text/plain": [
       "0.9014647137150466"
      ]
     },
     "execution_count": 57,
     "metadata": {},
     "output_type": "execute_result"
    }
   ],
   "source": [
    "JacSim(charkgram(uniflna_HA.iloc[2].sequences,5), charkgram(uniflna_HA.iloc[3].sequences,5))"
   ]
  },
  {
   "cell_type": "code",
   "execution_count": null,
   "metadata": {},
   "outputs": [],
   "source": []
  },
  {
   "cell_type": "code",
   "execution_count": 58,
   "metadata": {},
   "outputs": [
    {
     "data": {
      "text/plain": [
       "0.44057623049219685"
      ]
     },
     "execution_count": 58,
     "metadata": {},
     "output_type": "execute_result"
    }
   ],
   "source": [
    "JacDist(charkgram(uniflna_HA.iloc[0].sequences,5), charkgram(uniflna_HA.iloc[1].sequences,5))"
   ]
  },
  {
   "cell_type": "code",
   "execution_count": 59,
   "metadata": {},
   "outputs": [
    {
     "data": {
      "text/plain": [
       "0.10133333333333339"
      ]
     },
     "execution_count": 59,
     "metadata": {},
     "output_type": "execute_result"
    }
   ],
   "source": [
    "JacDist(charkgram(uniflna_HA.iloc[1].sequences,5), charkgram(uniflna_HA.iloc[2].sequences,5))"
   ]
  },
  {
   "cell_type": "code",
   "execution_count": 60,
   "metadata": {
    "scrolled": true
   },
   "outputs": [
    {
     "data": {
      "text/plain": [
       "0.09853528628495345"
      ]
     },
     "execution_count": 60,
     "metadata": {},
     "output_type": "execute_result"
    }
   ],
   "source": [
    "JacDist(charkgram(uniflna_HA.iloc[2].sequences,5), charkgram(uniflna_HA.iloc[3].sequences,5))"
   ]
  },
  {
   "cell_type": "markdown",
   "metadata": {},
   "source": [
    "### Jaccard Distances!"
   ]
  },
  {
   "cell_type": "code",
   "execution_count": 61,
   "metadata": {},
   "outputs": [
    {
     "data": {
      "image/png": "[encoded data removed]",
      "text/plain": [
       "<Figure size 900x600 with 1 Axes>"
      ]
     },
     "metadata": {
      "needs_background": "light"
     },
     "output_type": "display_data"
    }
   ],
   "source": [
    "# k=4\n",
    "JDresults4=[]\n",
    "for i in idl:\n",
    "    JDresults4.append(JacDist(charkgram(uniflna_HA_sub1.loc[[i[0]]].sequences.values[0],4),charkgram(uniflna_HA_sub1.loc[[i[1]]].sequences.values[0],4)))\n",
    "plt.hist(JDresults4, 50, range=(0,1));"
   ]
  },
  {
   "cell_type": "code",
   "execution_count": 62,
   "metadata": {},
   "outputs": [
    {
     "data": {
      "image/png": "[encoded data removed]",
      "text/plain": [
       "<Figure size 900x600 with 1 Axes>"
      ]
     },
     "metadata": {
      "needs_background": "light"
     },
     "output_type": "display_data"
    }
   ],
   "source": [
    "# k=5\n",
    "JDresults5=[]\n",
    "for i in idl:\n",
    "    JDresults5.append(JacDist(charkgram(uniflna_HA_sub1.loc[[i[0]]].sequences.values[0],5),charkgram(uniflna_HA_sub1.loc[[i[1]]].sequences.values[0],5)))\n",
    "plt.hist(JDresults5, 50, range=(0,1));"
   ]
  },
  {
   "cell_type": "code",
   "execution_count": 63,
   "metadata": {
    "scrolled": true
   },
   "outputs": [
    {
     "data": {
      "image/png": "[encoded data removed]",
      "text/plain": [
       "<Figure size 900x600 with 1 Axes>"
      ]
     },
     "metadata": {
      "needs_background": "light"
     },
     "output_type": "display_data"
    }
   ],
   "source": [
    "# k=6\n",
    "JDresults6=[]\n",
    "for i in idl:\n",
    "    JDresults6.append(JacDist(charkgram(uniflna_HA_sub1.loc[[i[0]]].sequences.values[0],6),charkgram(uniflna_HA_sub1.loc[[i[1]]].sequences.values[0],6)))\n",
    "plt.hist(JDresults6, 50, range=(0,1));"
   ]
  },
  {
   "cell_type": "code",
   "execution_count": 64,
   "metadata": {},
   "outputs": [
    {
     "data": {
      "image/png": "[encoded data removed]",
      "text/plain": [
       "<Figure size 900x600 with 1 Axes>"
      ]
     },
     "metadata": {
      "needs_background": "light"
     },
     "output_type": "display_data"
    }
   ],
   "source": [
    "# k=7\n",
    "JDresults7=[]\n",
    "for i in idl:\n",
    "    JDresults7.append(JacDist(charkgram(uniflna_HA_sub1.loc[[i[0]]].sequences.values[0],7),charkgram(uniflna_HA_sub1.loc[[i[1]]].sequences.values[0],7)))\n",
    "plt.hist(JDresults7, 50, range=(0,1));"
   ]
  },
  {
   "cell_type": "code",
   "execution_count": 65,
   "metadata": {},
   "outputs": [
    {
     "data": {
      "image/png": "[encoded data removed]",
      "text/plain": [
       "<Figure size 900x600 with 1 Axes>"
      ]
     },
     "metadata": {
      "needs_background": "light"
     },
     "output_type": "display_data"
    }
   ],
   "source": [
    "plt.hist(JDresults4, 50, range=(0,1), color='blue', alpha=0.35, label='k=4')\n",
    "plt.hist(JDresults5, 50, range=(0,1), color='red', alpha=0.35, label='k=5')\n",
    "plt.hist(JDresults6, 50, range=(0,1), color='green', alpha=0.35, label='k=6')\n",
    "plt.hist(JDresults7, 50, range=(0,1), color='orange', alpha=0.35, label='k=7')\n",
    "plt.xlabel(\"Jaccard Distance\")\n",
    "plt.ylabel(\"count\")\n",
    "plt.legend();"
   ]
  },
  {
   "cell_type": "markdown",
   "metadata": {},
   "source": [
    "make a dataframe with the indices and JDs with different values of k.  \n",
    "just to be clear, the values in the indices column are the index values from the uniflna_HA_sub1 dataframe which actually refer to the original indices."
   ]
  },
  {
   "cell_type": "code",
   "execution_count": 66,
   "metadata": {},
   "outputs": [],
   "source": [
    "Jdistance_sub1 = pd.DataFrame(\n",
    "    {'indices': idl,\n",
    "     'JDk4': JDresults4,\n",
    "     'JDk5': JDresults5,\n",
    "     'JDk6': JDresults6,\n",
    "     'JDk7': JDresults7\n",
    "    })"
   ]
  },
  {
   "cell_type": "code",
   "execution_count": 67,
   "metadata": {},
   "outputs": [
    {
     "data": {
      "text/html": [
       "<div>\n",
       "<style scoped>\n",
       "    .dataframe tbody tr th:only-of-type {\n",
       "        vertical-align: middle;\n",
       "    }\n",
       "\n",
       "    .dataframe tbody tr th {\n",
       "        vertical-align: top;\n",
       "    }\n",
       "\n",
       "    .dataframe thead th {\n",
       "        text-align: right;\n",
       "    }\n",
       "</style>\n",
       "<table border=\"1\" class=\"dataframe\">\n",
       "  <thead>\n",
       "    <tr style=\"text-align: right;\">\n",
       "      <th></th>\n",
       "      <th>indices</th>\n",
       "      <th>JDk4</th>\n",
       "      <th>JDk5</th>\n",
       "      <th>JDk6</th>\n",
       "      <th>JDk7</th>\n",
       "    </tr>\n",
       "  </thead>\n",
       "  <tbody>\n",
       "    <tr>\n",
       "      <th>0</th>\n",
       "      <td>(36559, 299946)</td>\n",
       "      <td>0.063745</td>\n",
       "      <td>0.355713</td>\n",
       "      <td>0.701745</td>\n",
       "      <td>0.891209</td>\n",
       "    </tr>\n",
       "    <tr>\n",
       "      <th>1</th>\n",
       "      <td>(36559, 220004)</td>\n",
       "      <td>0.067194</td>\n",
       "      <td>0.352047</td>\n",
       "      <td>0.699161</td>\n",
       "      <td>0.889852</td>\n",
       "    </tr>\n",
       "    <tr>\n",
       "      <th>2</th>\n",
       "      <td>(36559, 421731)</td>\n",
       "      <td>0.043825</td>\n",
       "      <td>0.342404</td>\n",
       "      <td>0.737263</td>\n",
       "      <td>0.917020</td>\n",
       "    </tr>\n",
       "    <tr>\n",
       "      <th>3</th>\n",
       "      <td>(36559, 256491)</td>\n",
       "      <td>0.059524</td>\n",
       "      <td>0.345266</td>\n",
       "      <td>0.722898</td>\n",
       "      <td>0.913256</td>\n",
       "    </tr>\n",
       "    <tr>\n",
       "      <th>4</th>\n",
       "      <td>(36559, 332842)</td>\n",
       "      <td>0.059289</td>\n",
       "      <td>0.347826</td>\n",
       "      <td>0.720244</td>\n",
       "      <td>0.893463</td>\n",
       "    </tr>\n",
       "  </tbody>\n",
       "</table>\n",
       "</div>"
      ],
      "text/plain": [
       "           indices      JDk4      JDk5      JDk6      JDk7\n",
       "0  (36559, 299946)  0.063745  0.355713  0.701745  0.891209\n",
       "1  (36559, 220004)  0.067194  0.352047  0.699161  0.889852\n",
       "2  (36559, 421731)  0.043825  0.342404  0.737263  0.917020\n",
       "3  (36559, 256491)  0.059524  0.345266  0.722898  0.913256\n",
       "4  (36559, 332842)  0.059289  0.347826  0.720244  0.893463"
      ]
     },
     "execution_count": 67,
     "metadata": {},
     "output_type": "execute_result"
    }
   ],
   "source": [
    "Jdistance_sub1.head()"
   ]
  },
  {
   "cell_type": "code",
   "execution_count": 69,
   "metadata": {},
   "outputs": [
    {
     "data": {
      "text/html": [
       "<div>\n",
       "<style scoped>\n",
       "    .dataframe tbody tr th:only-of-type {\n",
       "        vertical-align: middle;\n",
       "    }\n",
       "\n",
       "    .dataframe tbody tr th {\n",
       "        vertical-align: top;\n",
       "    }\n",
       "\n",
       "    .dataframe thead th {\n",
       "        text-align: right;\n",
       "    }\n",
       "</style>\n",
       "<table border=\"1\" class=\"dataframe\">\n",
       "  <thead>\n",
       "    <tr style=\"text-align: right;\">\n",
       "      <th></th>\n",
       "      <th>indices</th>\n",
       "      <th>JDk4</th>\n",
       "      <th>JDk5</th>\n",
       "      <th>JDk6</th>\n",
       "      <th>JDk7</th>\n",
       "    </tr>\n",
       "  </thead>\n",
       "  <tbody>\n",
       "    <tr>\n",
       "      <th>19895</th>\n",
       "      <td>(72847, 484129)</td>\n",
       "      <td>0.119522</td>\n",
       "      <td>0.501196</td>\n",
       "      <td>0.824126</td>\n",
       "      <td>0.941251</td>\n",
       "    </tr>\n",
       "    <tr>\n",
       "      <th>19896</th>\n",
       "      <td>(72847, 282140)</td>\n",
       "      <td>0.116466</td>\n",
       "      <td>0.496368</td>\n",
       "      <td>0.821041</td>\n",
       "      <td>0.942578</td>\n",
       "    </tr>\n",
       "    <tr>\n",
       "      <th>19897</th>\n",
       "      <td>(181132, 484129)</td>\n",
       "      <td>0.062992</td>\n",
       "      <td>0.380202</td>\n",
       "      <td>0.756404</td>\n",
       "      <td>0.921124</td>\n",
       "    </tr>\n",
       "    <tr>\n",
       "      <th>19898</th>\n",
       "      <td>(181132, 282140)</td>\n",
       "      <td>0.067194</td>\n",
       "      <td>0.379819</td>\n",
       "      <td>0.751714</td>\n",
       "      <td>0.919753</td>\n",
       "    </tr>\n",
       "    <tr>\n",
       "      <th>19899</th>\n",
       "      <td>(484129, 282140)</td>\n",
       "      <td>0.020243</td>\n",
       "      <td>0.083333</td>\n",
       "      <td>0.154412</td>\n",
       "      <td>0.224187</td>\n",
       "    </tr>\n",
       "  </tbody>\n",
       "</table>\n",
       "</div>"
      ],
      "text/plain": [
       "                indices      JDk4      JDk5      JDk6      JDk7\n",
       "19895   (72847, 484129)  0.119522  0.501196  0.824126  0.941251\n",
       "19896   (72847, 282140)  0.116466  0.496368  0.821041  0.942578\n",
       "19897  (181132, 484129)  0.062992  0.380202  0.756404  0.921124\n",
       "19898  (181132, 282140)  0.067194  0.379819  0.751714  0.919753\n",
       "19899  (484129, 282140)  0.020243  0.083333  0.154412  0.224187"
      ]
     },
     "execution_count": 69,
     "metadata": {},
     "output_type": "execute_result"
    }
   ],
   "source": [
    "Jdistance_sub1.tail()"
   ]
  },
  {
   "cell_type": "code",
   "execution_count": 68,
   "metadata": {},
   "outputs": [
    {
     "data": {
      "text/plain": [
       "(19900, 5)"
      ]
     },
     "execution_count": 68,
     "metadata": {},
     "output_type": "execute_result"
    }
   ],
   "source": [
    "Jdistance_sub1.shape"
   ]
  },
  {
   "cell_type": "markdown",
   "metadata": {},
   "source": [
    "### Second random sample"
   ]
  },
  {
   "cell_type": "code",
   "execution_count": 70,
   "metadata": {},
   "outputs": [],
   "source": [
    "uniflna_HA_sub2 = uniflna_HA.sample(n=200)"
   ]
  },
  {
   "cell_type": "code",
   "execution_count": 71,
   "metadata": {},
   "outputs": [],
   "source": [
    "idl2=list(it.combinations(list(uniflna_HA_sub2.index),2))"
   ]
  },
  {
   "cell_type": "code",
   "execution_count": 72,
   "metadata": {},
   "outputs": [
    {
     "data": {
      "image/png": "[encoded data removed]",
      "text/plain": [
       "<Figure size 900x600 with 1 Axes>"
      ]
     },
     "metadata": {
      "needs_background": "light"
     },
     "output_type": "display_data"
    }
   ],
   "source": [
    "# k=4\n",
    "JDresults42=[]\n",
    "for i in idl2:\n",
    "    JDresults42.append(JacDist(charkgram(uniflna_HA_sub2.loc[[i[0]]].sequences.values[0],4),charkgram(uniflna_HA_sub2.loc[[i[1]]].sequences.values[0],4)))\n",
    "plt.hist(JDresults42, 50, range=(0,1));"
   ]
  },
  {
   "cell_type": "code",
   "execution_count": 73,
   "metadata": {},
   "outputs": [
    {
     "data": {
      "image/png": "[encoded data removed]",
      "text/plain": [
       "<Figure size 900x600 with 1 Axes>"
      ]
     },
     "metadata": {
      "needs_background": "light"
     },
     "output_type": "display_data"
    }
   ],
   "source": [
    "# k=5\n",
    "JDresults52=[]\n",
    "for i in idl2:\n",
    "    JDresults52.append(JacDist(charkgram(uniflna_HA_sub2.loc[[i[0]]].sequences.values[0],5),charkgram(uniflna_HA_sub2.loc[[i[1]]].sequences.values[0],5)))\n",
    "plt.hist(JDresults52, 50, range=(0,1));"
   ]
  },
  {
   "cell_type": "code",
   "execution_count": 74,
   "metadata": {},
   "outputs": [
    {
     "data": {
      "image/png": "[encoded data removed]",
      "text/plain": [
       "<Figure size 900x600 with 1 Axes>"
      ]
     },
     "metadata": {
      "needs_background": "light"
     },
     "output_type": "display_data"
    }
   ],
   "source": [
    "# k=6\n",
    "JDresults62=[]\n",
    "for i in idl2:\n",
    "    JDresults62.append(JacDist(charkgram(uniflna_HA_sub2.loc[[i[0]]].sequences.values[0],6),charkgram(uniflna_HA_sub2.loc[[i[1]]].sequences.values[0],6)))\n",
    "plt.hist(JDresults62, 50, range=(0,1));"
   ]
  },
  {
   "cell_type": "code",
   "execution_count": 75,
   "metadata": {},
   "outputs": [
    {
     "data": {
      "image/png": "[encoded data removed]",
      "text/plain": [
       "<Figure size 900x600 with 1 Axes>"
      ]
     },
     "metadata": {
      "needs_background": "light"
     },
     "output_type": "display_data"
    }
   ],
   "source": [
    "# k=7\n",
    "JDresults72=[]\n",
    "for i in idl2:\n",
    "    JDresults72.append(JacDist(charkgram(uniflna_HA_sub2.loc[[i[0]]].sequences.values[0],7),charkgram(uniflna_HA_sub2.loc[[i[1]]].sequences.values[0],7)))\n",
    "plt.hist(JDresults72, 50, range=(0,1));"
   ]
  },
  {
   "cell_type": "code",
   "execution_count": 76,
   "metadata": {},
   "outputs": [
    {
     "data": {
      "image/png": "[encoded data removed]",
      "text/plain": [
       "<Figure size 900x600 with 1 Axes>"
      ]
     },
     "metadata": {
      "needs_background": "light"
     },
     "output_type": "display_data"
    }
   ],
   "source": [
    "plt.hist(JDresults42, 50, range=(0,1), color='blue', alpha=0.35, label='k=4')\n",
    "plt.hist(JDresults52, 50, range=(0,1), color='red', alpha=0.35, label='k=5')\n",
    "plt.hist(JDresults62, 50, range=(0,1), color='green', alpha=0.35, label='k=6')\n",
    "plt.hist(JDresults72, 50, range=(0,1), color='orange', alpha=0.35, label='k=7')\n",
    "plt.xlabel(\"Jaccard Distance\")\n",
    "plt.ylabel(\"count\")\n",
    "plt.legend();"
   ]
  },
  {
   "cell_type": "code",
   "execution_count": 77,
   "metadata": {},
   "outputs": [],
   "source": [
    "# dataframe of distances for sub-sample2\n",
    "Jdistance_sub2 = pd.DataFrame(\n",
    "    {'indices': idl2,\n",
    "     'JDk4': JDresults42,\n",
    "     'JDk5': JDresults52,\n",
    "     'JDk6': JDresults62,\n",
    "     'JDk7': JDresults72\n",
    "    })"
   ]
  },
  {
   "cell_type": "code",
   "execution_count": 78,
   "metadata": {},
   "outputs": [
    {
     "data": {
      "text/html": [
       "<div>\n",
       "<style scoped>\n",
       "    .dataframe tbody tr th:only-of-type {\n",
       "        vertical-align: middle;\n",
       "    }\n",
       "\n",
       "    .dataframe tbody tr th {\n",
       "        vertical-align: top;\n",
       "    }\n",
       "\n",
       "    .dataframe thead th {\n",
       "        text-align: right;\n",
       "    }\n",
       "</style>\n",
       "<table border=\"1\" class=\"dataframe\">\n",
       "  <thead>\n",
       "    <tr style=\"text-align: right;\">\n",
       "      <th></th>\n",
       "      <th>indices</th>\n",
       "      <th>JDk4</th>\n",
       "      <th>JDk5</th>\n",
       "      <th>JDk6</th>\n",
       "      <th>JDk7</th>\n",
       "    </tr>\n",
       "  </thead>\n",
       "  <tbody>\n",
       "    <tr>\n",
       "      <th>0</th>\n",
       "      <td>(336841, 401038)</td>\n",
       "      <td>0.066929</td>\n",
       "      <td>0.349261</td>\n",
       "      <td>0.731695</td>\n",
       "      <td>0.899329</td>\n",
       "    </tr>\n",
       "    <tr>\n",
       "      <th>1</th>\n",
       "      <td>(336841, 355180)</td>\n",
       "      <td>0.063492</td>\n",
       "      <td>0.342890</td>\n",
       "      <td>0.720160</td>\n",
       "      <td>0.894974</td>\n",
       "    </tr>\n",
       "    <tr>\n",
       "      <th>2</th>\n",
       "      <td>(336841, 450972)</td>\n",
       "      <td>0.055556</td>\n",
       "      <td>0.360599</td>\n",
       "      <td>0.713777</td>\n",
       "      <td>0.898187</td>\n",
       "    </tr>\n",
       "    <tr>\n",
       "      <th>3</th>\n",
       "      <td>(336841, 548731)</td>\n",
       "      <td>0.063492</td>\n",
       "      <td>0.325960</td>\n",
       "      <td>0.698869</td>\n",
       "      <td>0.891235</td>\n",
       "    </tr>\n",
       "    <tr>\n",
       "      <th>4</th>\n",
       "      <td>(336841, 376013)</td>\n",
       "      <td>0.135135</td>\n",
       "      <td>0.488704</td>\n",
       "      <td>0.793244</td>\n",
       "      <td>0.936017</td>\n",
       "    </tr>\n",
       "  </tbody>\n",
       "</table>\n",
       "</div>"
      ],
      "text/plain": [
       "            indices      JDk4      JDk5      JDk6      JDk7\n",
       "0  (336841, 401038)  0.066929  0.349261  0.731695  0.899329\n",
       "1  (336841, 355180)  0.063492  0.342890  0.720160  0.894974\n",
       "2  (336841, 450972)  0.055556  0.360599  0.713777  0.898187\n",
       "3  (336841, 548731)  0.063492  0.325960  0.698869  0.891235\n",
       "4  (336841, 376013)  0.135135  0.488704  0.793244  0.936017"
      ]
     },
     "execution_count": 78,
     "metadata": {},
     "output_type": "execute_result"
    }
   ],
   "source": [
    "Jdistance_sub2.head()"
   ]
  },
  {
   "cell_type": "code",
   "execution_count": 79,
   "metadata": {},
   "outputs": [
    {
     "data": {
      "text/html": [
       "<div>\n",
       "<style scoped>\n",
       "    .dataframe tbody tr th:only-of-type {\n",
       "        vertical-align: middle;\n",
       "    }\n",
       "\n",
       "    .dataframe tbody tr th {\n",
       "        vertical-align: top;\n",
       "    }\n",
       "\n",
       "    .dataframe thead th {\n",
       "        text-align: right;\n",
       "    }\n",
       "</style>\n",
       "<table border=\"1\" class=\"dataframe\">\n",
       "  <thead>\n",
       "    <tr style=\"text-align: right;\">\n",
       "      <th></th>\n",
       "      <th>indices</th>\n",
       "      <th>JDk4</th>\n",
       "      <th>JDk5</th>\n",
       "      <th>JDk6</th>\n",
       "      <th>JDk7</th>\n",
       "    </tr>\n",
       "  </thead>\n",
       "  <tbody>\n",
       "    <tr>\n",
       "      <th>19895</th>\n",
       "      <td>(172705, 236963)</td>\n",
       "      <td>0.115672</td>\n",
       "      <td>0.378652</td>\n",
       "      <td>0.750128</td>\n",
       "      <td>0.916201</td>\n",
       "    </tr>\n",
       "    <tr>\n",
       "      <th>19896</th>\n",
       "      <td>(172705, 170099)</td>\n",
       "      <td>0.131868</td>\n",
       "      <td>0.419283</td>\n",
       "      <td>0.756377</td>\n",
       "      <td>0.916667</td>\n",
       "    </tr>\n",
       "    <tr>\n",
       "      <th>19897</th>\n",
       "      <td>(8386, 236963)</td>\n",
       "      <td>0.068548</td>\n",
       "      <td>0.343075</td>\n",
       "      <td>0.578772</td>\n",
       "      <td>0.696038</td>\n",
       "    </tr>\n",
       "    <tr>\n",
       "      <th>19898</th>\n",
       "      <td>(8386, 170099)</td>\n",
       "      <td>0.124031</td>\n",
       "      <td>0.463120</td>\n",
       "      <td>0.776075</td>\n",
       "      <td>0.924017</td>\n",
       "    </tr>\n",
       "    <tr>\n",
       "      <th>19899</th>\n",
       "      <td>(236963, 170099)</td>\n",
       "      <td>0.096154</td>\n",
       "      <td>0.371332</td>\n",
       "      <td>0.719272</td>\n",
       "      <td>0.898752</td>\n",
       "    </tr>\n",
       "  </tbody>\n",
       "</table>\n",
       "</div>"
      ],
      "text/plain": [
       "                indices      JDk4      JDk5      JDk6      JDk7\n",
       "19895  (172705, 236963)  0.115672  0.378652  0.750128  0.916201\n",
       "19896  (172705, 170099)  0.131868  0.419283  0.756377  0.916667\n",
       "19897    (8386, 236963)  0.068548  0.343075  0.578772  0.696038\n",
       "19898    (8386, 170099)  0.124031  0.463120  0.776075  0.924017\n",
       "19899  (236963, 170099)  0.096154  0.371332  0.719272  0.898752"
      ]
     },
     "execution_count": 79,
     "metadata": {},
     "output_type": "execute_result"
    }
   ],
   "source": [
    "Jdistance_sub2.tail()"
   ]
  },
  {
   "cell_type": "code",
   "execution_count": 81,
   "metadata": {},
   "outputs": [
    {
     "data": {
      "text/html": [
       "<div>\n",
       "<style scoped>\n",
       "    .dataframe tbody tr th:only-of-type {\n",
       "        vertical-align: middle;\n",
       "    }\n",
       "\n",
       "    .dataframe tbody tr th {\n",
       "        vertical-align: top;\n",
       "    }\n",
       "\n",
       "    .dataframe thead th {\n",
       "        text-align: right;\n",
       "    }\n",
       "</style>\n",
       "<table border=\"1\" class=\"dataframe\">\n",
       "  <thead>\n",
       "    <tr style=\"text-align: right;\">\n",
       "      <th></th>\n",
       "      <th>indices</th>\n",
       "      <th>JDk4</th>\n",
       "      <th>JDk5</th>\n",
       "      <th>JDk6</th>\n",
       "      <th>JDk7</th>\n",
       "    </tr>\n",
       "  </thead>\n",
       "  <tbody>\n",
       "    <tr>\n",
       "      <th>12037</th>\n",
       "      <td>(288642, 412221)</td>\n",
       "      <td>0.052000</td>\n",
       "      <td>0.257485</td>\n",
       "      <td>0.484501</td>\n",
       "      <td>0.626305</td>\n",
       "    </tr>\n",
       "    <tr>\n",
       "      <th>16839</th>\n",
       "      <td>(220097, 75681)</td>\n",
       "      <td>0.075697</td>\n",
       "      <td>0.364377</td>\n",
       "      <td>0.697927</td>\n",
       "      <td>0.872753</td>\n",
       "    </tr>\n",
       "    <tr>\n",
       "      <th>19521</th>\n",
       "      <td>(361824, 170099)</td>\n",
       "      <td>0.190311</td>\n",
       "      <td>0.392739</td>\n",
       "      <td>0.732268</td>\n",
       "      <td>0.905506</td>\n",
       "    </tr>\n",
       "    <tr>\n",
       "      <th>17020</th>\n",
       "      <td>(12627, 257060)</td>\n",
       "      <td>0.078431</td>\n",
       "      <td>0.360656</td>\n",
       "      <td>0.747629</td>\n",
       "      <td>0.906570</td>\n",
       "    </tr>\n",
       "    <tr>\n",
       "      <th>6250</th>\n",
       "      <td>(1858, 296365)</td>\n",
       "      <td>0.060976</td>\n",
       "      <td>0.349288</td>\n",
       "      <td>0.598920</td>\n",
       "      <td>0.710744</td>\n",
       "    </tr>\n",
       "    <tr>\n",
       "      <th>1715</th>\n",
       "      <td>(304755, 18491)</td>\n",
       "      <td>0.116000</td>\n",
       "      <td>0.461255</td>\n",
       "      <td>0.770581</td>\n",
       "      <td>0.925518</td>\n",
       "    </tr>\n",
       "    <tr>\n",
       "      <th>7618</th>\n",
       "      <td>(43280, 352105)</td>\n",
       "      <td>0.067729</td>\n",
       "      <td>0.414545</td>\n",
       "      <td>0.761143</td>\n",
       "      <td>0.925834</td>\n",
       "    </tr>\n",
       "    <tr>\n",
       "      <th>16920</th>\n",
       "      <td>(313288, 5217)</td>\n",
       "      <td>0.075099</td>\n",
       "      <td>0.364055</td>\n",
       "      <td>0.733199</td>\n",
       "      <td>0.909830</td>\n",
       "    </tr>\n",
       "    <tr>\n",
       "      <th>7440</th>\n",
       "      <td>(305821, 442756)</td>\n",
       "      <td>0.066929</td>\n",
       "      <td>0.367442</td>\n",
       "      <td>0.710010</td>\n",
       "      <td>0.884975</td>\n",
       "    </tr>\n",
       "    <tr>\n",
       "      <th>18103</th>\n",
       "      <td>(237758, 234403)</td>\n",
       "      <td>0.067460</td>\n",
       "      <td>0.378472</td>\n",
       "      <td>0.717962</td>\n",
       "      <td>0.899217</td>\n",
       "    </tr>\n",
       "    <tr>\n",
       "      <th>14237</th>\n",
       "      <td>(372569, 202375)</td>\n",
       "      <td>0.416327</td>\n",
       "      <td>0.737997</td>\n",
       "      <td>0.901615</td>\n",
       "      <td>0.953310</td>\n",
       "    </tr>\n",
       "    <tr>\n",
       "      <th>10481</th>\n",
       "      <td>(574670, 264234)</td>\n",
       "      <td>0.063492</td>\n",
       "      <td>0.358447</td>\n",
       "      <td>0.740705</td>\n",
       "      <td>0.912867</td>\n",
       "    </tr>\n",
       "  </tbody>\n",
       "</table>\n",
       "</div>"
      ],
      "text/plain": [
       "                indices      JDk4      JDk5      JDk6      JDk7\n",
       "12037  (288642, 412221)  0.052000  0.257485  0.484501  0.626305\n",
       "16839   (220097, 75681)  0.075697  0.364377  0.697927  0.872753\n",
       "19521  (361824, 170099)  0.190311  0.392739  0.732268  0.905506\n",
       "17020   (12627, 257060)  0.078431  0.360656  0.747629  0.906570\n",
       "6250     (1858, 296365)  0.060976  0.349288  0.598920  0.710744\n",
       "1715    (304755, 18491)  0.116000  0.461255  0.770581  0.925518\n",
       "7618    (43280, 352105)  0.067729  0.414545  0.761143  0.925834\n",
       "16920    (313288, 5217)  0.075099  0.364055  0.733199  0.909830\n",
       "7440   (305821, 442756)  0.066929  0.367442  0.710010  0.884975\n",
       "18103  (237758, 234403)  0.067460  0.378472  0.717962  0.899217\n",
       "14237  (372569, 202375)  0.416327  0.737997  0.901615  0.953310\n",
       "10481  (574670, 264234)  0.063492  0.358447  0.740705  0.912867"
      ]
     },
     "execution_count": 81,
     "metadata": {},
     "output_type": "execute_result"
    }
   ],
   "source": [
    "Jdistance_sub2.sample(12)"
   ]
  },
  {
   "cell_type": "code",
   "execution_count": null,
   "metadata": {},
   "outputs": [],
   "source": []
  },
  {
   "cell_type": "code",
   "execution_count": null,
   "metadata": {},
   "outputs": [],
   "source": []
  }
 ],
 "metadata": {
  "kernelspec": {
   "display_name": "Python 3",
   "language": "python",
   "name": "python3"
  },
  "language_info": {
   "codemirror_mode": {
    "name": "ipython",
    "version": 3
   },
   "file_extension": ".py",
   "mimetype": "text/x-python",
   "name": "python",
   "nbconvert_exporter": "python",
   "pygments_lexer": "ipython3",
   "version": "3.7.1"
  }
 },
 "nbformat": 4,
 "nbformat_minor": 2
}
