{
 "cells": [
  {
   "cell_type": "markdown",
   "metadata": {},
   "source": [
    "## Minhash distances  \n",
    "Minhash version of Jaccard Distance to try to get distaces among whole data set (one gene at a time)"
   ]
  },
  {
   "cell_type": "code",
   "execution_count": 1,
   "metadata": {},
   "outputs": [],
   "source": [
    "# imports\n",
    "from Bio.SeqIO.FastaIO import SimpleFastaParser\n",
    "import pandas as pd\n",
    "import numpy as np\n",
    "import itertools as it\n",
    "import matplotlib.pyplot as plt\n",
    "plt.rcParams['figure.dpi'] = 150\n",
    "from datasketch import MinHash"
   ]
  },
  {
   "cell_type": "code",
   "execution_count": 2,
   "metadata": {},
   "outputs": [],
   "source": [
    "with open('influenza.fna') as fasta_file: \n",
    "    cgi_titles = []\n",
    "    cgi_sequences = []\n",
    "    for title, sequence in SimpleFastaParser(fasta_file):\n",
    "        cgi_titles.append(title)\n",
    "        cgi_sequences.append(sequence)\n",
    "influenza_na = pd.DataFrame(list(zip(cgi_titles, cgi_sequences)), columns=['titles','sequences'])\n",
    "uniflna = influenza_na.drop_duplicates('sequences')\n"
   ]
  },
  {
   "cell_type": "code",
   "execution_count": 31,
   "metadata": {},
   "outputs": [
    {
     "name": "stderr",
     "output_type": "stream",
     "text": [
      "/home/brian/anaconda3/lib/python3.7/site-packages/ipykernel_launcher.py:1: UserWarning: This pattern has match groups. To actually get the groups, use str.extract.\n",
      "  \"\"\"Entry point for launching an IPython kernel.\n"
     ]
    }
   ],
   "source": [
    "uniflna_HA = uniflna.loc[uniflna.iloc[:,0].str.contains(r'\\(HA\\) | hemagglutinin | (segment 4)')]"
   ]
  },
  {
   "cell_type": "code",
   "execution_count": 32,
   "metadata": {},
   "outputs": [
    {
     "data": {
      "text/plain": [
       "(102414, 2)"
      ]
     },
     "execution_count": 32,
     "metadata": {},
     "output_type": "execute_result"
    }
   ],
   "source": [
    "uniflna_HA.shape"
   ]
  },
  {
   "cell_type": "code",
   "execution_count": 25,
   "metadata": {},
   "outputs": [
    {
     "name": "stderr",
     "output_type": "stream",
     "text": [
      "/home/brian/anaconda3/lib/python3.7/site-packages/ipykernel_launcher.py:1: UserWarning: This pattern has match groups. To actually get the groups, use str.extract.\n",
      "  \"\"\"Entry point for launching an IPython kernel.\n"
     ]
    }
   ],
   "source": [
    "uniflna_NA = uniflna.loc[uniflna.iloc[:,0].str.contains(r'\\(NA\\) | neuraminidase | (segment 6)')]"
   ]
  },
  {
   "cell_type": "code",
   "execution_count": 33,
   "metadata": {},
   "outputs": [
    {
     "data": {
      "text/plain": [
       "(66339, 2)"
      ]
     },
     "execution_count": 33,
     "metadata": {},
     "output_type": "execute_result"
    }
   ],
   "source": [
    "uniflna_NA.shape"
   ]
  },
  {
   "cell_type": "code",
   "execution_count": 34,
   "metadata": {
    "scrolled": true
   },
   "outputs": [
    {
     "data": {
      "text/html": [
       "<div>\n",
       "<style scoped>\n",
       "    .dataframe tbody tr th:only-of-type {\n",
       "        vertical-align: middle;\n",
       "    }\n",
       "\n",
       "    .dataframe tbody tr th {\n",
       "        vertical-align: top;\n",
       "    }\n",
       "\n",
       "    .dataframe thead th {\n",
       "        text-align: right;\n",
       "    }\n",
       "</style>\n",
       "<table border=\"1\" class=\"dataframe\">\n",
       "  <thead>\n",
       "    <tr style=\"text-align: right;\">\n",
       "      <th></th>\n",
       "      <th>titles</th>\n",
       "      <th>sequences</th>\n",
       "    </tr>\n",
       "  </thead>\n",
       "  <tbody>\n",
       "    <tr>\n",
       "      <th>45</th>\n",
       "      <td>gi|60774|gb|X00027|Influenza A virus (A/USSR/9...</td>\n",
       "      <td>ATGAAAGCAAAACTACTGGTCCTGTTATGTGCACTTTCAGCTACAG...</td>\n",
       "    </tr>\n",
       "    <tr>\n",
       "      <th>46</th>\n",
       "      <td>gi|60775|gb|X00028|Influenza A virus (A/Brazil...</td>\n",
       "      <td>ATGAAAGCAAAACTACTGGTCCTGTTATGTGCACTTTCAGCTACAG...</td>\n",
       "    </tr>\n",
       "    <tr>\n",
       "      <th>50</th>\n",
       "      <td>gi|60779|gb|X00897|Influenza B virus (B/Singap...</td>\n",
       "      <td>AGCAGAAGCAGAGCATTTTCTAATATCCACAAAATGAAGGCAATAA...</td>\n",
       "    </tr>\n",
       "    <tr>\n",
       "      <th>60</th>\n",
       "      <td>gi|60806|gb|V01105|Influenza A virus (A/chicke...</td>\n",
       "      <td>AGCAAAAGCAGGGGTTACAAAATGAACACTCAAATCCTGGTTTTCG...</td>\n",
       "    </tr>\n",
       "    <tr>\n",
       "      <th>69</th>\n",
       "      <td>gi|62290|gb|V01088|Influenza A virus (A/PR/8/3...</td>\n",
       "      <td>AGCAAAAGCAGGGGAAAATAAAAACAACCAAAATGAAGGCAAACCT...</td>\n",
       "    </tr>\n",
       "  </tbody>\n",
       "</table>\n",
       "</div>"
      ],
      "text/plain": [
       "                                               titles  \\\n",
       "45  gi|60774|gb|X00027|Influenza A virus (A/USSR/9...   \n",
       "46  gi|60775|gb|X00028|Influenza A virus (A/Brazil...   \n",
       "50  gi|60779|gb|X00897|Influenza B virus (B/Singap...   \n",
       "60  gi|60806|gb|V01105|Influenza A virus (A/chicke...   \n",
       "69  gi|62290|gb|V01088|Influenza A virus (A/PR/8/3...   \n",
       "\n",
       "                                            sequences  \n",
       "45  ATGAAAGCAAAACTACTGGTCCTGTTATGTGCACTTTCAGCTACAG...  \n",
       "46  ATGAAAGCAAAACTACTGGTCCTGTTATGTGCACTTTCAGCTACAG...  \n",
       "50  AGCAGAAGCAGAGCATTTTCTAATATCCACAAAATGAAGGCAATAA...  \n",
       "60  AGCAAAAGCAGGGGTTACAAAATGAACACTCAAATCCTGGTTTTCG...  \n",
       "69  AGCAAAAGCAGGGGAAAATAAAAACAACCAAAATGAAGGCAAACCT...  "
      ]
     },
     "execution_count": 34,
     "metadata": {},
     "output_type": "execute_result"
    }
   ],
   "source": [
    "uniflna_HA.head()"
   ]
  },
  {
   "cell_type": "code",
   "execution_count": 38,
   "metadata": {},
   "outputs": [],
   "source": [
    "uniflna_NA_sub1 = uniflna_NA.sample(10)"
   ]
  },
  {
   "cell_type": "code",
   "execution_count": 41,
   "metadata": {
    "scrolled": true
   },
   "outputs": [
    {
     "data": {
      "text/html": [
       "<div>\n",
       "<style scoped>\n",
       "    .dataframe tbody tr th:only-of-type {\n",
       "        vertical-align: middle;\n",
       "    }\n",
       "\n",
       "    .dataframe tbody tr th {\n",
       "        vertical-align: top;\n",
       "    }\n",
       "\n",
       "    .dataframe thead th {\n",
       "        text-align: right;\n",
       "    }\n",
       "</style>\n",
       "<table border=\"1\" class=\"dataframe\">\n",
       "  <thead>\n",
       "    <tr style=\"text-align: right;\">\n",
       "      <th></th>\n",
       "      <th>titles</th>\n",
       "      <th>sequences</th>\n",
       "    </tr>\n",
       "  </thead>\n",
       "  <tbody>\n",
       "    <tr>\n",
       "      <th>278811</th>\n",
       "      <td>gi|525553048|gb|KF314378|Influenza B virus (B/...</td>\n",
       "      <td>AAAGGAAACTCAGCTCCCTTGATAATAAGGGAACCTTTTATTGCTT...</td>\n",
       "    </tr>\n",
       "    <tr>\n",
       "      <th>270763</th>\n",
       "      <td>gi|505555171|gb|KC986810|Influenza B virus (B/...</td>\n",
       "      <td>ATGCTACCTTCAACTATACAAACGTTAACCCTATTTCTCACATCAG...</td>\n",
       "    </tr>\n",
       "    <tr>\n",
       "      <th>272858</th>\n",
       "      <td>gi|511106139|gb|KF130906|Influenza A virus (A/...</td>\n",
       "      <td>ATGAATCCAAATCAAAAGATAATAACAATTGGCTCTGTTTCTCTCA...</td>\n",
       "    </tr>\n",
       "    <tr>\n",
       "      <th>12351</th>\n",
       "      <td>gi|56122827|gb|AY786079|Influenza A virus (A/T...</td>\n",
       "      <td>TGTTACAAATTGGGAACTTGATCTCAATATGGGTCAGTCATTCAAT...</td>\n",
       "    </tr>\n",
       "    <tr>\n",
       "      <th>526888</th>\n",
       "      <td>gi|1168685076|gb|CY223439|Influenza A virus (A...</td>\n",
       "      <td>AGTTTAAAATGAATCCAAACCAAAAGATAATAACCATTGGTTCGAT...</td>\n",
       "    </tr>\n",
       "    <tr>\n",
       "      <th>277613</th>\n",
       "      <td>gi|525329540|gb|KF305960|Influenza A virus (A/...</td>\n",
       "      <td>ATAACAATTGGCTCTGTTTCTCTCACTATTGCCACACTATGCCTCC...</td>\n",
       "    </tr>\n",
       "    <tr>\n",
       "      <th>239282</th>\n",
       "      <td>gi|444330612|gb|CY133334|Influenza A virus (A/...</td>\n",
       "      <td>AGTGAAAATGAATCCAAATCAGAAGATAATAACAATTGGTTCCGTC...</td>\n",
       "    </tr>\n",
       "    <tr>\n",
       "      <th>35653</th>\n",
       "      <td>gi|115521830|gb|CY016605|Influenza A virus (A/...</td>\n",
       "      <td>AAAGATGAATCCAAATCAAAAGATAATAACGATTGGCTCTGTTTCT...</td>\n",
       "    </tr>\n",
       "    <tr>\n",
       "      <th>270021</th>\n",
       "      <td>gi|498921498|gb|CY146418|Influenza A virus (A/...</td>\n",
       "      <td>GTGATTGAGAATGAATCCTAATCAAAAATTATTCGCACTCTCTGGG...</td>\n",
       "    </tr>\n",
       "    <tr>\n",
       "      <th>349784</th>\n",
       "      <td>gi|676287121|gb|KM409332|Influenza A virus (A/...</td>\n",
       "      <td>ATGAATCCAAACCAAAAGATAATAACCATTGGTTCGGTCTGTATGA...</td>\n",
       "    </tr>\n",
       "  </tbody>\n",
       "</table>\n",
       "</div>"
      ],
      "text/plain": [
       "                                                   titles  \\\n",
       "278811  gi|525553048|gb|KF314378|Influenza B virus (B/...   \n",
       "270763  gi|505555171|gb|KC986810|Influenza B virus (B/...   \n",
       "272858  gi|511106139|gb|KF130906|Influenza A virus (A/...   \n",
       "12351   gi|56122827|gb|AY786079|Influenza A virus (A/T...   \n",
       "526888  gi|1168685076|gb|CY223439|Influenza A virus (A...   \n",
       "277613  gi|525329540|gb|KF305960|Influenza A virus (A/...   \n",
       "239282  gi|444330612|gb|CY133334|Influenza A virus (A/...   \n",
       "35653   gi|115521830|gb|CY016605|Influenza A virus (A/...   \n",
       "270021  gi|498921498|gb|CY146418|Influenza A virus (A/...   \n",
       "349784  gi|676287121|gb|KM409332|Influenza A virus (A/...   \n",
       "\n",
       "                                                sequences  \n",
       "278811  AAAGGAAACTCAGCTCCCTTGATAATAAGGGAACCTTTTATTGCTT...  \n",
       "270763  ATGCTACCTTCAACTATACAAACGTTAACCCTATTTCTCACATCAG...  \n",
       "272858  ATGAATCCAAATCAAAAGATAATAACAATTGGCTCTGTTTCTCTCA...  \n",
       "12351   TGTTACAAATTGGGAACTTGATCTCAATATGGGTCAGTCATTCAAT...  \n",
       "526888  AGTTTAAAATGAATCCAAACCAAAAGATAATAACCATTGGTTCGAT...  \n",
       "277613  ATAACAATTGGCTCTGTTTCTCTCACTATTGCCACACTATGCCTCC...  \n",
       "239282  AGTGAAAATGAATCCAAATCAGAAGATAATAACAATTGGTTCCGTC...  \n",
       "35653   AAAGATGAATCCAAATCAAAAGATAATAACGATTGGCTCTGTTTCT...  \n",
       "270021  GTGATTGAGAATGAATCCTAATCAAAAATTATTCGCACTCTCTGGG...  \n",
       "349784  ATGAATCCAAACCAAAAGATAATAACCATTGGTTCGGTCTGTATGA...  "
      ]
     },
     "execution_count": 41,
     "metadata": {},
     "output_type": "execute_result"
    }
   ],
   "source": [
    "uniflna_NA_sub1"
   ]
  },
  {
   "cell_type": "code",
   "execution_count": 43,
   "metadata": {
    "collapsed": true
   },
   "outputs": [
    {
     "data": {
      "text/plain": [
       "[(278811, 270763),\n",
       " (278811, 272858),\n",
       " (278811, 12351),\n",
       " (278811, 526888),\n",
       " (278811, 277613),\n",
       " (278811, 239282),\n",
       " (278811, 35653),\n",
       " (278811, 270021),\n",
       " (278811, 349784),\n",
       " (270763, 272858),\n",
       " (270763, 12351),\n",
       " (270763, 526888),\n",
       " (270763, 277613),\n",
       " (270763, 239282),\n",
       " (270763, 35653),\n",
       " (270763, 270021),\n",
       " (270763, 349784),\n",
       " (272858, 12351),\n",
       " (272858, 526888),\n",
       " (272858, 277613),\n",
       " (272858, 239282),\n",
       " (272858, 35653),\n",
       " (272858, 270021),\n",
       " (272858, 349784),\n",
       " (12351, 526888),\n",
       " (12351, 277613),\n",
       " (12351, 239282),\n",
       " (12351, 35653),\n",
       " (12351, 270021),\n",
       " (12351, 349784),\n",
       " (526888, 277613),\n",
       " (526888, 239282),\n",
       " (526888, 35653),\n",
       " (526888, 270021),\n",
       " (526888, 349784),\n",
       " (277613, 239282),\n",
       " (277613, 35653),\n",
       " (277613, 270021),\n",
       " (277613, 349784),\n",
       " (239282, 35653),\n",
       " (239282, 270021),\n",
       " (239282, 349784),\n",
       " (35653, 270021),\n",
       " (35653, 349784),\n",
       " (270021, 349784)]"
      ]
     },
     "execution_count": 43,
     "metadata": {},
     "output_type": "execute_result"
    }
   ],
   "source": [
    "idl=list(it.combinations(list(uniflna_NA_sub1.index),2))\n",
    "idl"
   ]
  },
  {
   "cell_type": "code",
   "execution_count": 47,
   "metadata": {},
   "outputs": [],
   "source": [
    "# character kgram function\n",
    "def charkgram(text, k):\n",
    "    results=[]\n",
    "    for i in range(len(text)-k+1):\n",
    "        if text[i:i+k] not in results:\n",
    "            results.append(text[i:i+k])\n",
    "    return(results)"
   ]
  },
  {
   "cell_type": "markdown",
   "metadata": {},
   "source": [
    "#### short test with 10 seqs and JD for real"
   ]
  },
  {
   "cell_type": "code",
   "execution_count": 54,
   "metadata": {
    "collapsed": true
   },
   "outputs": [
    {
     "name": "stdout",
     "output_type": "stream",
     "text": [
      "Estimated Jaccard for data1 and data2 is 0.2109375\n",
      "Actual Jaccard for data1 and data2 is 0.21311475409836067\n",
      "Estimated Jaccard for data1 and data2 is 0.3671875\n",
      "Actual Jaccard for data1 and data2 is 0.45671267252195735\n",
      "Estimated Jaccard for data1 and data2 is 0.4453125\n",
      "Actual Jaccard for data1 and data2 is 0.5310734463276836\n",
      "Estimated Jaccard for data1 and data2 is 0.4140625\n",
      "Actual Jaccard for data1 and data2 is 0.4900990099009901\n",
      "Estimated Jaccard for data1 and data2 is 0.3671875\n",
      "Actual Jaccard for data1 and data2 is 0.46113989637305697\n",
      "Estimated Jaccard for data1 and data2 is 0.390625\n",
      "Actual Jaccard for data1 and data2 is 0.4627994955863808\n",
      "Estimated Jaccard for data1 and data2 is 0.375\n",
      "Actual Jaccard for data1 and data2 is 0.4469987228607918\n",
      "Estimated Jaccard for data1 and data2 is 0.4765625\n",
      "Actual Jaccard for data1 and data2 is 0.5043156596794081\n",
      "Estimated Jaccard for data1 and data2 is 0.4140625\n",
      "Actual Jaccard for data1 and data2 is 0.4931506849315068\n",
      "Estimated Jaccard for data1 and data2 is 0.375\n",
      "Actual Jaccard for data1 and data2 is 0.38552787663107946\n",
      "Estimated Jaccard for data1 and data2 is 0.4765625\n",
      "Actual Jaccard for data1 and data2 is 0.4870801033591732\n",
      "Estimated Jaccard for data1 and data2 is 0.3828125\n",
      "Actual Jaccard for data1 and data2 is 0.3992890995260664\n",
      "Estimated Jaccard for data1 and data2 is 0.3984375\n",
      "Actual Jaccard for data1 and data2 is 0.40314769975786924\n",
      "Estimated Jaccard for data1 and data2 is 0.3671875\n",
      "Actual Jaccard for data1 and data2 is 0.3928571428571429\n",
      "Estimated Jaccard for data1 and data2 is 0.375\n",
      "Actual Jaccard for data1 and data2 is 0.3751507840772015\n",
      "Estimated Jaccard for data1 and data2 is 0.4140625\n",
      "Actual Jaccard for data1 and data2 is 0.4299065420560748\n",
      "Estimated Jaccard for data1 and data2 is 0.40625\n",
      "Actual Jaccard for data1 and data2 is 0.4092526690391459\n",
      "Estimated Jaccard for data1 and data2 is 0.46875\n",
      "Actual Jaccard for data1 and data2 is 0.506832298136646\n",
      "Estimated Jaccard for data1 and data2 is 0.328125\n",
      "Actual Jaccard for data1 and data2 is 0.3779342723004695\n",
      "Estimated Jaccard for data1 and data2 is 0.265625\n",
      "Actual Jaccard for data1 and data2 is 0.26478149100257065\n",
      "Estimated Jaccard for data1 and data2 is 0.2734375\n",
      "Actual Jaccard for data1 and data2 is 0.3480861244019139\n",
      "Estimated Jaccard for data1 and data2 is 0.1875\n",
      "Actual Jaccard for data1 and data2 is 0.2080624187256177\n",
      "Estimated Jaccard for data1 and data2 is 0.359375\n",
      "Actual Jaccard for data1 and data2 is 0.3785377358490566\n",
      "Estimated Jaccard for data1 and data2 is 0.3359375\n",
      "Actual Jaccard for data1 and data2 is 0.3820754716981132\n",
      "Estimated Jaccard for data1 and data2 is 0.3515625\n",
      "Actual Jaccard for data1 and data2 is 0.4064171122994652\n",
      "Estimated Jaccard for data1 and data2 is 0.4453125\n",
      "Actual Jaccard for data1 and data2 is 0.4876140808344198\n",
      "Estimated Jaccard for data1 and data2 is 0.40625\n",
      "Actual Jaccard for data1 and data2 is 0.5056461731493099\n",
      "Estimated Jaccard for data1 and data2 is 0.4375\n",
      "Actual Jaccard for data1 and data2 is 0.4962025316455696\n",
      "Estimated Jaccard for data1 and data2 is 0.453125\n",
      "Actual Jaccard for data1 and data2 is 0.5094339622641509\n",
      "Estimated Jaccard for data1 and data2 is 0.3359375\n",
      "Actual Jaccard for data1 and data2 is 0.40915208613728127\n",
      "Estimated Jaccard for data1 and data2 is 0.375\n",
      "Actual Jaccard for data1 and data2 is 0.3971291866028708\n",
      "Estimated Jaccard for data1 and data2 is 0.328125\n",
      "Actual Jaccard for data1 and data2 is 0.39836448598130836\n",
      "Estimated Jaccard for data1 and data2 is 0.359375\n",
      "Actual Jaccard for data1 and data2 is 0.39247943595769685\n",
      "Estimated Jaccard for data1 and data2 is 0.40625\n",
      "Actual Jaccard for data1 and data2 is 0.42741935483870963\n",
      "Estimated Jaccard for data1 and data2 is 0.0625\n",
      "Actual Jaccard for data1 and data2 is 0.07355021216407354\n",
      "Estimated Jaccard for data1 and data2 is 0.3203125\n",
      "Actual Jaccard for data1 and data2 is 0.36906211936662603\n",
      "Estimated Jaccard for data1 and data2 is 0.21875\n",
      "Actual Jaccard for data1 and data2 is 0.23046357615894042\n",
      "Estimated Jaccard for data1 and data2 is 0.3984375\n",
      "Actual Jaccard for data1 and data2 is 0.41120381406436235\n",
      "Estimated Jaccard for data1 and data2 is 0.375\n",
      "Actual Jaccard for data1 and data2 is 0.3975903614457831\n",
      "Estimated Jaccard for data1 and data2 is 0.28125\n",
      "Actual Jaccard for data1 and data2 is 0.343030303030303\n",
      "Estimated Jaccard for data1 and data2 is 0.3125\n",
      "Actual Jaccard for data1 and data2 is 0.3915094339622641\n",
      "Estimated Jaccard for data1 and data2 is 0.359375\n",
      "Actual Jaccard for data1 and data2 is 0.3988235294117647\n",
      "Estimated Jaccard for data1 and data2 is 0.3984375\n",
      "Actual Jaccard for data1 and data2 is 0.40070505287896596\n",
      "Estimated Jaccard for data1 and data2 is 0.359375\n",
      "Actual Jaccard for data1 and data2 is 0.4023529411764706\n",
      "Estimated Jaccard for data1 and data2 is 0.40625\n",
      "Actual Jaccard for data1 and data2 is 0.4170560747663551\n"
     ]
    }
   ],
   "source": [
    "for i in idl:\n",
    "    #print(uniflna_NA_sub1.loc[[i[0]]].sequences.values[0])\n",
    "    data1 = charkgram(uniflna_NA_sub1.loc[[i[0]]].sequences.values[0],5)\n",
    "    data2 = charkgram(uniflna_NA_sub1.loc[[i[1]]].sequences.values[0],5)\n",
    "    m1, m2 = MinHash(), MinHash()\n",
    "    for d in data1:\n",
    "        m1.update(d.encode('utf8'))\n",
    "    for d in data2:\n",
    "        m2.update(d.encode('utf8'))\n",
    "    destimate=1-m1.jaccard(m2)\n",
    "    print(\"Estimated Jaccard for data1 and data2 is\", destimate)\n",
    "    s1 = set(data1)\n",
    "    s2 = set(data2)\n",
    "    actual_jaccardd = 1-(float(len(s1.intersection(s2)))/float(len(s1.union(s2))))\n",
    "    print(\"Actual Jaccard for data1 and data2 is\", actual_jaccardd)\n",
    "\n"
   ]
  },
  {
   "cell_type": "code",
   "execution_count": 55,
   "metadata": {},
   "outputs": [],
   "source": [
    "uniflna_NA_sub2 = uniflna_NA.sample(500)\n",
    "idl2=list(it.combinations(list(uniflna_NA_sub2.index),2))"
   ]
  },
  {
   "cell_type": "code",
   "execution_count": 56,
   "metadata": {},
   "outputs": [
    {
     "data": {
      "text/plain": [
       "124750"
      ]
     },
     "execution_count": 56,
     "metadata": {},
     "output_type": "execute_result"
    }
   ],
   "source": [
    "len(idl2)"
   ]
  },
  {
   "cell_type": "code",
   "execution_count": null,
   "metadata": {},
   "outputs": [],
   "source": []
  },
  {
   "cell_type": "code",
   "execution_count": 57,
   "metadata": {},
   "outputs": [],
   "source": [
    "results=[]\n",
    "for i in idl2:\n",
    "    #print(uniflna_NA_sub1.loc[[i[0]]].sequences.values[0])\n",
    "    data1 = charkgram(uniflna_NA_sub2.loc[[i[0]]].sequences.values[0],5)\n",
    "    data2 = charkgram(uniflna_NA_sub2.loc[[i[1]]].sequences.values[0],5)\n",
    "    m1, m2 = MinHash(), MinHash()\n",
    "    for d in data1:\n",
    "        m1.update(d.encode('utf8'))\n",
    "    for d in data2:\n",
    "        m2.update(d.encode('utf8'))\n",
    "    destimate=1-m1.jaccard(m2)\n",
    "    results.append(destimate)\n",
    "    #print(\"Estimated Jaccard for data1 and data2 is\", estimate)\n",
    "\n"
   ]
  },
  {
   "cell_type": "code",
   "execution_count": 58,
   "metadata": {},
   "outputs": [
    {
     "data": {
      "image/png": "[encoded data removed]",
      "text/plain": [
       "<Figure size 432x288 with 1 Axes>"
      ]
     },
     "metadata": {
      "needs_background": "light"
     },
     "output_type": "display_data"
    }
   ],
   "source": [
    "plt.hist(results, 50, range=(0,1));"
   ]
  },
  {
   "cell_type": "code",
   "execution_count": null,
   "metadata": {},
   "outputs": [],
   "source": []
  },
  {
   "cell_type": "code",
   "execution_count": 59,
   "metadata": {},
   "outputs": [],
   "source": [
    "uniflna_HA_sub1 = uniflna_HA.sample(200)\n",
    "idl3=list(it.combinations(list(uniflna_HA_sub1.index),2))"
   ]
  },
  {
   "cell_type": "code",
   "execution_count": 65,
   "metadata": {},
   "outputs": [],
   "source": [
    "results2=[]\n",
    "for i in idl3:\n",
    "    data1 = charkgram(uniflna_HA_sub1.loc[[i[0]]].sequences.values[0],5)\n",
    "    data2 = charkgram(uniflna_HA_sub1.loc[[i[1]]].sequences.values[0],5)\n",
    "    m1, m2 = MinHash(num_perm=64), MinHash(num_perm=64)\n",
    "    for d in data1:\n",
    "        m1.update(d.encode('utf8'))\n",
    "    for d in data2:\n",
    "        m2.update(d.encode('utf8'))\n",
    "    destimate=1-m1.jaccard(m2)\n",
    "    results2.append(destimate)"
   ]
  },
  {
   "cell_type": "code",
   "execution_count": 66,
   "metadata": {},
   "outputs": [
    {
     "data": {
      "image/png": "[encoded data removed]",
      "text/plain": [
       "<Figure size 432x288 with 1 Axes>"
      ]
     },
     "metadata": {
      "needs_background": "light"
     },
     "output_type": "display_data"
    }
   ],
   "source": [
    "plt.hist(results2, 50, range=(0,1));"
   ]
  },
  {
   "cell_type": "code",
   "execution_count": 62,
   "metadata": {},
   "outputs": [],
   "source": [
    "uniflna_HA_sub2 = uniflna_HA.sample(200)\n",
    "idl4=list(it.combinations(list(uniflna_HA_sub2.index),2))"
   ]
  },
  {
   "cell_type": "code",
   "execution_count": 67,
   "metadata": {},
   "outputs": [],
   "source": [
    "results3=[]\n",
    "for i in idl4:\n",
    "    data1 = charkgram(uniflna_HA_sub2.loc[[i[0]]].sequences.values[0],5)\n",
    "    data2 = charkgram(uniflna_HA_sub2.loc[[i[1]]].sequences.values[0],5)\n",
    "    m1, m2 = MinHash(num_perm=64), MinHash(num_perm=64)\n",
    "    for d in data1:\n",
    "        m1.update(d.encode('utf8'))\n",
    "    for d in data2:\n",
    "        m2.update(d.encode('utf8'))\n",
    "    destimate=1-m1.jaccard(m2)\n",
    "    results3.append(destimate)"
   ]
  },
  {
   "cell_type": "code",
   "execution_count": 69,
   "metadata": {},
   "outputs": [
    {
     "data": {
      "image/png": "[encoded data removed]",
      "text/plain": [
       "<Figure size 432x288 with 1 Axes>"
      ]
     },
     "metadata": {
      "needs_background": "light"
     },
     "output_type": "display_data"
    }
   ],
   "source": [
    "plt.hist(results3, 50, range=(0,1));"
   ]
  },
  {
   "cell_type": "code",
   "execution_count": null,
   "metadata": {},
   "outputs": [],
   "source": []
  }
 ],
 "metadata": {
  "kernelspec": {
   "display_name": "Python 3",
   "language": "python",
   "name": "python3"
  },
  "language_info": {
   "codemirror_mode": {
    "name": "ipython",
    "version": 3
   },
   "file_extension": ".py",
   "mimetype": "text/x-python",
   "name": "python",
   "nbconvert_exporter": "python",
   "pygments_lexer": "ipython3",
   "version": "3.7.1"
  }
 },
 "nbformat": 4,
 "nbformat_minor": 2
}
