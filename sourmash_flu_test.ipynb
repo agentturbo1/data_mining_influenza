{
 "cells": [
  {
   "cell_type": "code",
   "execution_count": 1,
   "metadata": {},
   "outputs": [],
   "source": [
    "from Bio.SeqIO.FastaIO import SimpleFastaParser\n",
    "from Bio import SeqIO\n",
    "import pandas as pd\n",
    "import numpy as np\n",
    "import sourmash\n",
    "import time"
   ]
  },
  {
   "cell_type": "code",
   "execution_count": 2,
   "metadata": {},
   "outputs": [
    {
     "name": "stdout",
     "output_type": "stream",
     "text": [
      "\r",
      "\u001b[Ksourmash version 2.0.0\r\n",
      "\r",
      "\u001b[K- loaded from path: /home/brian/anaconda3/lib/python3.7/site-packages/sourmash\r\n",
      "\r",
      "\u001b[K\r\n"
     ]
    }
   ],
   "source": [
    "!sourmash info"
   ]
  },
  {
   "cell_type": "code",
   "execution_count": 3,
   "metadata": {},
   "outputs": [
    {
     "name": "stderr",
     "output_type": "stream",
     "text": [
      "/home/brian/anaconda3/lib/python3.7/site-packages/ipykernel_launcher.py:9: UserWarning: This pattern has match groups. To actually get the groups, use str.extract.\n",
      "  if __name__ == '__main__':\n"
     ]
    }
   ],
   "source": [
    "with open('influenza.fna') as fasta_file: \n",
    "    cgi_titles = []\n",
    "    cgi_sequences = []\n",
    "    for title, sequence in SimpleFastaParser(fasta_file):\n",
    "        cgi_titles.append(title)\n",
    "        cgi_sequences.append(sequence)\n",
    "influenza_na = pd.DataFrame(list(zip(cgi_titles, cgi_sequences)), columns=['titles','sequences'])\n",
    "uniflna = influenza_na.drop_duplicates('sequences')\n",
    "uniflna_HA = uniflna.loc[uniflna.iloc[:,0].str.contains(r'\\(HA\\) | hemagglutinin | (segment 4)')]"
   ]
  },
  {
   "cell_type": "code",
   "execution_count": 10,
   "metadata": {},
   "outputs": [],
   "source": [
    "np.random.seed(12478)\n",
    "uniflna_HA_sub1 = uniflna_HA.sample(n=1000)"
   ]
  },
  {
   "cell_type": "code",
   "execution_count": 13,
   "metadata": {
    "scrolled": true
   },
   "outputs": [
    {
     "data": {
      "text/html": [
       "<div>\n",
       "<style scoped>\n",
       "    .dataframe tbody tr th:only-of-type {\n",
       "        vertical-align: middle;\n",
       "    }\n",
       "\n",
       "    .dataframe tbody tr th {\n",
       "        vertical-align: top;\n",
       "    }\n",
       "\n",
       "    .dataframe thead th {\n",
       "        text-align: right;\n",
       "    }\n",
       "</style>\n",
       "<table border=\"1\" class=\"dataframe\">\n",
       "  <thead>\n",
       "    <tr style=\"text-align: right;\">\n",
       "      <th></th>\n",
       "      <th>titles</th>\n",
       "      <th>sequences</th>\n",
       "    </tr>\n",
       "  </thead>\n",
       "  <tbody>\n",
       "    <tr>\n",
       "      <th>252112</th>\n",
       "      <td>gi|469936972|gb|KC738886|Influenza A virus (A/...</td>\n",
       "      <td>ACAGCTACATATGCAGACACAATATGTATAGGCTACCATGCCAACA...</td>\n",
       "    </tr>\n",
       "    <tr>\n",
       "      <th>259962</th>\n",
       "      <td>gi|484849114|gb|KC865637|Influenza A virus (A/...</td>\n",
       "      <td>AAAGCAGGGGATAATTCTATTAACCATGAAGACTATCATTGCTTTG...</td>\n",
       "    </tr>\n",
       "    <tr>\n",
       "      <th>428295</th>\n",
       "      <td>gi|984690389|gb|KU590388|Influenza A virus (A/...</td>\n",
       "      <td>ATGAAGACTATCATTGCTTTGAGCTACATTCTATGTCTGGTTTTCG...</td>\n",
       "    </tr>\n",
       "    <tr>\n",
       "      <th>628621</th>\n",
       "      <td>gi|1409674136|gb|MH540925|Influenza A virus (A...</td>\n",
       "      <td>GGATAATTCTATTAACCATGAAGACTATCATTGCTTTGAGCTACAT...</td>\n",
       "    </tr>\n",
       "    <tr>\n",
       "      <th>244546</th>\n",
       "      <td>gi|451789264|gb|KC535453|Influenza A virus (A/...</td>\n",
       "      <td>ATGAAGACTATCATTGCTTTGAGCTACATTCTATGTCTGGTTTTCG...</td>\n",
       "    </tr>\n",
       "  </tbody>\n",
       "</table>\n",
       "</div>"
      ],
      "text/plain": [
       "                                                   titles  \\\n",
       "252112  gi|469936972|gb|KC738886|Influenza A virus (A/...   \n",
       "259962  gi|484849114|gb|KC865637|Influenza A virus (A/...   \n",
       "428295  gi|984690389|gb|KU590388|Influenza A virus (A/...   \n",
       "628621  gi|1409674136|gb|MH540925|Influenza A virus (A...   \n",
       "244546  gi|451789264|gb|KC535453|Influenza A virus (A/...   \n",
       "\n",
       "                                                sequences  \n",
       "252112  ACAGCTACATATGCAGACACAATATGTATAGGCTACCATGCCAACA...  \n",
       "259962  AAAGCAGGGGATAATTCTATTAACCATGAAGACTATCATTGCTTTG...  \n",
       "428295  ATGAAGACTATCATTGCTTTGAGCTACATTCTATGTCTGGTTTTCG...  \n",
       "628621  GGATAATTCTATTAACCATGAAGACTATCATTGCTTTGAGCTACAT...  \n",
       "244546  ATGAAGACTATCATTGCTTTGAGCTACATTCTATGTCTGGTTTTCG...  "
      ]
     },
     "execution_count": 13,
     "metadata": {},
     "output_type": "execute_result"
    }
   ],
   "source": [
    "uniflna_HA_sub1.head()"
   ]
  },
  {
   "cell_type": "code",
   "execution_count": 20,
   "metadata": {},
   "outputs": [
    {
     "data": {
      "text/plain": [
       "1000"
      ]
     },
     "execution_count": 20,
     "metadata": {},
     "output_type": "execute_result"
    }
   ],
   "source": [
    "len(uniflna_HA_sub1)"
   ]
  },
  {
   "cell_type": "code",
   "execution_count": 30,
   "metadata": {},
   "outputs": [],
   "source": [
    "# make it back into text FASTA file\n",
    "with open (\"uniflna_HA_sub1.fasta\", 'w') as output:\n",
    "    for i in range(len(uniflna_HA_sub1)):\n",
    "        output.write(\">\" + list(uniflna_HA_sub1.titles.values)[i] + \"\\n\" + list(uniflna_HA_sub1.sequences.values)[i] + \"\\n\")"
   ]
  },
  {
   "cell_type": "code",
   "execution_count": 31,
   "metadata": {},
   "outputs": [
    {
     "name": "stdout",
     "output_type": "stream",
     "text": [
      "\u001b[K== This is sourmash version 2.0.0. ==\n",
      "\u001b[K== Please cite Brown and Irber (2016), doi:10.21105/joss.00027. ==\n",
      "\n",
      "\u001b[Kcomputing signatures for files: uniflna_HA_sub1.fasta\n",
      "\u001b[KComputing signature for ksizes: [5]\n",
      "\u001b[KComputing only nucleotide (and not protein) signatures.\n",
      "\u001b[KComputing a total of 1 signature(s).\n",
      "\u001b[Kcalculated 1000 signatures for 1000 sequences in uniflna_HA_sub1.fasta\n",
      "\u001b[Ksaved 1000 signature(s). Note: signature license is CC0.\n",
      "finished in 1.0879552364349365seconds\n"
     ]
    }
   ],
   "source": [
    "start = time.time()\n",
    "!sourmash compute uniflna_HA_sub1.fasta  -k 5 --singleton\n",
    "print(\"finished in \" + str(time.time()-start) + \"seconds\")"
   ]
  },
  {
   "cell_type": "code",
   "execution_count": 32,
   "metadata": {},
   "outputs": [
    {
     "name": "stdout",
     "output_type": "stream",
     "text": [
      "\u001b[K== This is sourmash version 2.0.0. ==\n",
      "\u001b[K== Please cite Brown and Irber (2016), doi:10.21105/joss.00027. ==\n",
      "\n",
      "...sig loading 999_HA_sub1.fasta.sig\n",
      "\u001b[Kloaded 1000 signatures total.                                                  \n",
      "\u001b[K\n",
      "min similarity in matrix: 0.221\n",
      "\u001b[Ksaving labels to: uniflna_HA_sub1_cmp.labels.txt\n",
      "\u001b[Ksaving distance matrix to: uniflna_HA_sub1_cmp\n",
      "finished in 63.475311279296875seconds\n"
     ]
    }
   ],
   "source": [
    "start = time.time()\n",
    "!sourmash compare uniflna_HA_sub1.fasta.sig -o uniflna_HA_sub1_cmp\n",
    "print(\"finished in \" + str(time.time()-start) + \"seconds\")"
   ]
  },
  {
   "cell_type": "code",
   "execution_count": 33,
   "metadata": {},
   "outputs": [
    {
     "name": "stdout",
     "output_type": "stream",
     "text": [
      "\u001b[K== This is sourmash version 2.0.0. ==\n",
      "\u001b[K== Please cite Brown and Irber (2016), doi:10.21105/joss.00027. ==\n",
      "\n",
      "\u001b[Kloading comparison matrix from uniflna_HA_sub1_cmp...\n",
      "\u001b[K...got 1000 x 1000 matrix.\n",
      "\u001b[Kloading labels from uniflna_HA_sub1_cmp.labels.txt\n",
      "\u001b[Ksaving histogram of matrix values => uniflna_HA_sub1_cmp.hist.png\n",
      "\u001b[Kwrote dendrogram to: uniflna_HA_sub1_cmp.dendro.png\n",
      "\u001b[Kwrote numpy distance matrix to: uniflna_HA_sub1_cmp.matrix.png\n",
      "finished in 10.18021273612976seconds\n"
     ]
    }
   ],
   "source": [
    "start = time.time()\n",
    "!sourmash plot uniflna_HA_sub1_cmp\n",
    "print(\"finished in \" + str(time.time()-start) + \"seconds\")"
   ]
  },
  {
   "cell_type": "markdown",
   "metadata": {},
   "source": [
    "tree:  \n",
    "![dendogram](uniflna_HA_sub1_cmp.dendro.png)"
   ]
  },
  {
   "cell_type": "markdown",
   "metadata": {},
   "source": [
    "matrix and heatmap:  \n",
    "![matrix](uniflna_HA_sub1_cmp.matrix.png)"
   ]
  },
  {
   "cell_type": "code",
   "execution_count": 36,
   "metadata": {},
   "outputs": [
    {
     "name": "stdout",
     "output_type": "stream",
     "text": [
      "\u001b[K== This is sourmash version 2.0.0. ==\n",
      "\u001b[K== Please cite Brown and Irber (2016), doi:10.21105/joss.00027. ==\n",
      "\n",
      "...sig loading 999_HA_sub1.fasta.sig\n",
      "\u001b[Kloaded 1000 signatures total.                                                  \n",
      "\u001b[K\n",
      "min similarity in matrix: 0.221\n",
      "finished in 67.94533371925354seconds\n"
     ]
    }
   ],
   "source": [
    "# comparison to csv for plotting in R\n",
    "start = time.time()\n",
    "!sourmash compare uniflna_HA_sub1.fasta.sig --csv uniflna_HA_sub1_cmp.csv\n",
    "print(\"finished in \" + str(time.time()-start) + \"seconds\")"
   ]
  },
  {
   "cell_type": "markdown",
   "metadata": {},
   "source": [
    "## not just HA, but all seqs..."
   ]
  },
  {
   "cell_type": "code",
   "execution_count": 4,
   "metadata": {},
   "outputs": [],
   "source": [
    "np.random.seed(8903)\n",
    "uniflna_sub1 = uniflna.sample(n=1000)"
   ]
  },
  {
   "cell_type": "code",
   "execution_count": 5,
   "metadata": {},
   "outputs": [],
   "source": [
    "# make it back into text FASTA file\n",
    "with open (\"uniflna_sub1.fasta\", 'w') as output:\n",
    "    for i in range(len(uniflna_sub1)):\n",
    "        output.write(\">\" + list(uniflna_sub1.titles.values)[i] + \"\\n\" + list(uniflna_sub1.sequences.values)[i] + \"\\n\")"
   ]
  },
  {
   "cell_type": "code",
   "execution_count": 8,
   "metadata": {},
   "outputs": [
    {
     "name": "stdout",
     "output_type": "stream",
     "text": [
      "\u001b[K== This is sourmash version 2.0.0. ==\n",
      "\u001b[K== Please cite Brown and Irber (2016), doi:10.21105/joss.00027. ==\n",
      "\n",
      "\u001b[Kcomputing signatures for files: uniflna_sub1.fasta\n",
      "\u001b[KComputing signature for ksizes: [5]\n",
      "\u001b[KComputing only nucleotide (and not protein) signatures.\n",
      "\u001b[KComputing a total of 1 signature(s).\n",
      "\u001b[Kcalculated 1000 signatures for 1000 sequences in uniflna_sub1.fasta\n",
      "\u001b[Ksaved 1000 signature(s). Note: signature license is CC0.\n",
      "finished in 1.0115101337432861seconds\n"
     ]
    }
   ],
   "source": [
    "start = time.time()\n",
    "!sourmash compute uniflna_sub1.fasta  -k 5 --singleton\n",
    "print(\"finished in \" + str(time.time()-start) + \"seconds\")"
   ]
  },
  {
   "cell_type": "code",
   "execution_count": 9,
   "metadata": {},
   "outputs": [
    {
     "name": "stdout",
     "output_type": "stream",
     "text": [
      "\u001b[K== This is sourmash version 2.0.0. ==\n",
      "\u001b[K== Please cite Brown and Irber (2016), doi:10.21105/joss.00027. ==\n",
      "\n",
      "...sig loading 999_sub1.fasta.sig\n",
      "\u001b[Kloaded 1000 signatures total.                                                  \n",
      "\u001b[K\n",
      "min similarity in matrix: 0.079\n",
      "finished in 65.50607323646545seconds\n"
     ]
    }
   ],
   "source": [
    "# comparison to csv for plotting in R\n",
    "start = time.time()\n",
    "!sourmash compare uniflna_sub1.fasta.sig --csv uniflna_sub1_cmp.csv\n",
    "print(\"finished in \" + str(time.time()-start) + \"seconds\")"
   ]
  },
  {
   "cell_type": "code",
   "execution_count": 13,
   "metadata": {},
   "outputs": [
    {
     "name": "stdout",
     "output_type": "stream",
     "text": [
      "\u001b[K== This is sourmash version 2.0.0. ==\n",
      "\u001b[K== Please cite Brown and Irber (2016), doi:10.21105/joss.00027. ==\n",
      "\n",
      "...sig loading 999_sub1.fasta.sig\n",
      "\u001b[Kloaded 1000 signatures total.                                                  \n",
      "\u001b[K\n",
      "min similarity in matrix: 0.079\n",
      "\u001b[Ksaving labels to: uniflna_sub1_cmp.labels.txt\n",
      "\u001b[Ksaving distance matrix to: uniflna_sub1_cmp\n",
      "finished in 67.71590304374695seconds\n"
     ]
    }
   ],
   "source": [
    "# comparison to matrx\n",
    "start = time.time()\n",
    "!sourmash compare uniflna_sub1.fasta.sig -o uniflna_sub1_cmp\n",
    "print(\"finished in \" + str(time.time()-start) + \"seconds\")"
   ]
  },
  {
   "cell_type": "code",
   "execution_count": 14,
   "metadata": {},
   "outputs": [
    {
     "name": "stdout",
     "output_type": "stream",
     "text": [
      "\u001b[K== This is sourmash version 2.0.0. ==\n",
      "\u001b[K== Please cite Brown and Irber (2016), doi:10.21105/joss.00027. ==\n",
      "\n",
      "\u001b[Kloading comparison matrix from uniflna_sub1_cmp...\n",
      "\u001b[K...got 1000 x 1000 matrix.\n",
      "\u001b[Kloading labels from uniflna_sub1_cmp.labels.txt\n",
      "\u001b[Ksaving histogram of matrix values => uniflna_sub1_cmp.hist.png\n",
      "\u001b[Kwrote dendrogram to: uniflna_sub1_cmp.dendro.png\n",
      "\u001b[Kwrote numpy distance matrix to: uniflna_sub1_cmp.matrix.png\n"
     ]
    }
   ],
   "source": [
    "!sourmash plot uniflna_sub1_cmp"
   ]
  },
  {
   "cell_type": "markdown",
   "metadata": {},
   "source": [
    "tree:  \n",
    "![dendogram](uniflna_sub1_cmp.dendro.png)"
   ]
  },
  {
   "cell_type": "code",
   "execution_count": 16,
   "metadata": {},
   "outputs": [
    {
     "name": "stdout",
     "output_type": "stream",
     "text": [
      "\u001b[K== This is sourmash version 2.0.0. ==\n",
      "\u001b[K== Please cite Brown and Irber (2016), doi:10.21105/joss.00027. ==\n",
      "\n",
      "\u001b[Kcomputing signatures for files: uniflna_sub1.fasta\n",
      "\u001b[KComputing signature for ksizes: [7]\n",
      "\u001b[KComputing only nucleotide (and not protein) signatures.\n",
      "\u001b[KComputing a total of 1 signature(s).\n",
      "\u001b[Kcalculated 1000 signatures for 1000 sequences in uniflna_sub1.fasta\n",
      "\u001b[Ksaved 1000 signature(s). Note: signature license is CC0.\n",
      "finished in 1.1013703346252441seconds\n"
     ]
    }
   ],
   "source": [
    "start = time.time()\n",
    "!sourmash compute uniflna_sub1.fasta  -k 7 --singleton\n",
    "print(\"finished in \" + str(time.time()-start) + \"seconds\")"
   ]
  },
  {
   "cell_type": "code",
   "execution_count": 17,
   "metadata": {},
   "outputs": [
    {
     "name": "stdout",
     "output_type": "stream",
     "text": [
      "\u001b[K== This is sourmash version 2.0.0. ==\n",
      "\u001b[K== Please cite Brown and Irber (2016), doi:10.21105/joss.00027. ==\n",
      "\n",
      "...sig loading 999_sub1.fasta.sig\n",
      "\u001b[Kloaded 1000 signatures total.                                                  \n",
      "\u001b[K\n",
      "min similarity in matrix: 0.002\n",
      "\u001b[Ksaving labels to: uniflna_sub1_k7_cmp.labels.txt\n",
      "\u001b[Ksaving distance matrix to: uniflna_sub1_k7_cmp\n",
      "finished in 57.62817907333374seconds\n"
     ]
    }
   ],
   "source": [
    "# comparison to matrx\n",
    "start = time.time()\n",
    "!sourmash compare uniflna_sub1.fasta.sig -o uniflna_sub1_k7_cmp\n",
    "print(\"finished in \" + str(time.time()-start) + \"seconds\")"
   ]
  },
  {
   "cell_type": "code",
   "execution_count": 18,
   "metadata": {},
   "outputs": [
    {
     "name": "stdout",
     "output_type": "stream",
     "text": [
      "\u001b[K== This is sourmash version 2.0.0. ==\n",
      "\u001b[K== Please cite Brown and Irber (2016), doi:10.21105/joss.00027. ==\n",
      "\n",
      "\u001b[Kloading comparison matrix from uniflna_sub1_k7_cmp...\n",
      "\u001b[K...got 1000 x 1000 matrix.\n",
      "\u001b[Kloading labels from uniflna_sub1_k7_cmp.labels.txt\n",
      "\u001b[Ksaving histogram of matrix values => uniflna_sub1_k7_cmp.hist.png\n",
      "\u001b[Kwrote dendrogram to: uniflna_sub1_k7_cmp.dendro.png\n",
      "\u001b[Kwrote numpy distance matrix to: uniflna_sub1_k7_cmp.matrix.png\n"
     ]
    }
   ],
   "source": [
    "!sourmash plot uniflna_sub1_k7_cmp"
   ]
  },
  {
   "cell_type": "markdown",
   "metadata": {},
   "source": [
    "tree:  \n",
    "![dendogram](uniflna_sub1_k7_cmp.dendro.png)"
   ]
  },
  {
   "cell_type": "code",
   "execution_count": 19,
   "metadata": {},
   "outputs": [
    {
     "name": "stdout",
     "output_type": "stream",
     "text": [
      "\u001b[K== This is sourmash version 2.0.0. ==\n",
      "\u001b[K== Please cite Brown and Irber (2016), doi:10.21105/joss.00027. ==\n",
      "\n",
      "...sig loading 999_sub1.fasta.sig\n",
      "\u001b[Kloaded 1000 signatures total.                                                  \n",
      "\u001b[K\n",
      "min similarity in matrix: 0.002\n",
      "finished in 57.83396553993225seconds\n"
     ]
    }
   ],
   "source": [
    "# comparison to csv for plotting in R\n",
    "start = time.time()\n",
    "!sourmash compare uniflna_sub1.fasta.sig --csv uniflna_sub1_k7_cmp.csv\n",
    "print(\"finished in \" + str(time.time()-start) + \"seconds\")"
   ]
  },
  {
   "cell_type": "code",
   "execution_count": null,
   "metadata": {},
   "outputs": [],
   "source": []
  }
 ],
 "metadata": {
  "kernelspec": {
   "display_name": "Python 3",
   "language": "python",
   "name": "python3"
  },
  "language_info": {
   "codemirror_mode": {
    "name": "ipython",
    "version": 3
   },
   "file_extension": ".py",
   "mimetype": "text/x-python",
   "name": "python",
   "nbconvert_exporter": "python",
   "pygments_lexer": "ipython3",
   "version": "3.7.1"
  }
 },
 "nbformat": 4,
 "nbformat_minor": 2
}
