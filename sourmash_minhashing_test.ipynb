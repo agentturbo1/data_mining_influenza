{
 "cells": [
  {
   "cell_type": "markdown",
   "metadata": {},
   "source": [
    "## Minhashing with the sourmash library  \n",
    "using: https://github.com/dib-lab/sourmash  \n",
    "specific for DNA/RNA"
   ]
  },
  {
   "cell_type": "code",
   "execution_count": 2,
   "metadata": {},
   "outputs": [],
   "source": [
    "from Bio.SeqIO.FastaIO import SimpleFastaParser\n",
    "import pandas as pd\n",
    "import numpy as np\n",
    "import itertools as it\n",
    "import matplotlib.pyplot as plt\n",
    "import multiprocessing\n",
    "import time\n",
    "import pycurl\n",
    "plt.rcParams['figure.dpi'] = 150"
   ]
  },
  {
   "cell_type": "markdown",
   "metadata": {},
   "source": [
    "tutorial from:  \n",
    "https://sourmash.readthedocs.io/en/latest/command-line.html"
   ]
  },
  {
   "cell_type": "code",
   "execution_count": 3,
   "metadata": {},
   "outputs": [
    {
     "name": "stdout",
     "output_type": "stream",
     "text": [
      "  % Total    % Received % Xferd  Average Speed   Time    Time     Time  Current\n",
      "                                 Dload  Upload   Total   Spent    Left  Speed\n",
      "100 1347k  100 1347k    0     0   716k      0  0:00:01  0:00:01 --:--:--  716k\n",
      "  % Total    % Received % Xferd  Average Speed   Time    Time     Time  Current\n",
      "                                 Dload  Upload   Total   Spent    Left  Speed\n",
      "100 1437k  100 1437k    0     0   833k      0  0:00:01  0:00:01 --:--:--  833k\n",
      "  % Total    % Received % Xferd  Average Speed   Time    Time     Time  Current\n",
      "                                 Dload  Upload   Total   Spent    Left  Speed\n",
      "100 1556k  100 1556k    0     0   866k      0  0:00:01  0:00:01 --:--:--  865k\n"
     ]
    }
   ],
   "source": [
    "# load genomes\n",
    "# only once and maybe move to diff dir \n",
    "#!curl -L -O ftp://ftp.ncbi.nlm.nih.gov/genomes/refseq/bacteria/Escherichia_coli/reference/GCF_000005845.2_ASM584v2/GCF_000005845.2_ASM584v2_genomic.fna.gz\n",
    "#!curl -L -O ftp://ftp.ncbi.nlm.nih.gov/genomes/refseq/bacteria/Salmonella_enterica/reference/GCF_000006945.2_ASM694v2/GCF_000006945.2_ASM694v2_genomic.fna.gz\n",
    "#!curl -L -O ftp://ftp.ncbi.nlm.nih.gov/genomes/refseq/bacteria/Sphingobacteriaceae_bacterium_DW12/latest_assembly_versions/GCF_000783305.1_ASM78330v1/GCF_000783305.1_ASM78330v1_genomic.fna.gz\n"
   ]
  },
  {
   "cell_type": "code",
   "execution_count": 4,
   "metadata": {},
   "outputs": [
    {
     "name": "stdout",
     "output_type": "stream",
     "text": [
      "\r",
      "\u001b[Ksourmash version 2.0.0\r\n",
      "\r",
      "\u001b[K- loaded from path: /home/brian/anaconda3/lib/python3.7/site-packages/sourmash\r\n",
      "\r",
      "\u001b[K\r\n"
     ]
    }
   ],
   "source": [
    "!sourmash info"
   ]
  },
  {
   "cell_type": "code",
   "execution_count": 18,
   "metadata": {},
   "outputs": [
    {
     "name": "stdout",
     "output_type": "stream",
     "text": [
      "\u001b[K== This is sourmash version 2.0.0. ==\n",
      "\u001b[K== Please cite Brown and Irber (2016), doi:10.21105/joss.00027. ==\n",
      "\n",
      "\u001b[Kcomputing signatures for files: sourmash_test/GCF_000005845.2_ASM584v2_genomic.fna.gz, sourmash_test/GCF_000006945.2_ASM694v2_genomic.fna.gz, sourmash_test/GCF_000783305.1_ASM78330v1_genomic.fna.gz\n",
      "\u001b[KComputing signature for ksizes: [21, 31, 51]\n",
      "\u001b[KComputing only nucleotide (and not protein) signatures.\n",
      "\u001b[KComputing a total of 3 signature(s).\n",
      "\u001b[K... reading sequences from sourmash_test/GCF_000005845.2_ASM584v2_genomic.fna.gz\n",
      "\u001b[Kcalculated 3 signatures for 1 sequences in sourmash_test/GCF_000005845.2_ASM584v2_genomic.fna.gz\n",
      "\u001b[Ksaved 3 signature(s). Note: signature license is CC0.\n",
      "\u001b[K... reading sequences from sourmash_test/GCF_000006945.2_ASM694v2_genomic.fna.gz\n",
      "\u001b[Kcalculated 3 signatures for 2 sequences in sourmash_test/GCF_000006945.2_ASM694v2_genomic.fna.gz\n",
      "\u001b[Ksaved 3 signature(s). Note: signature license is CC0.\n",
      "\u001b[K... reading sequences from sourmash_test/GCF_000783305.1_ASM78330v1_genomic.fna.gz\n",
      "\u001b[Kcalculated 3 signatures for 78 sequences in sourmash_test/GCF_000783305.1_ASM78330v1_genomic.fna.gz\n",
      "\u001b[Ksaved 3 signature(s). Note: signature license is CC0.\n"
     ]
    }
   ],
   "source": [
    "!sourmash compute *.fna.gz"
   ]
  },
  {
   "cell_type": "code",
   "execution_count": 11,
   "metadata": {},
   "outputs": [
    {
     "name": "stdout",
     "output_type": "stream",
     "text": [
      "\u001b[K== This is sourmash version 2.0.0. ==\n",
      "\u001b[K== Please cite Brown and Irber (2016), doi:10.21105/joss.00027. ==\n",
      "\n",
      "...sig loading 1,239u_test.fa.sig30v1_genomic.fna.gz.sig\n",
      "\u001b[K\n",
      "warning: no signatures loaded at given ksize/molecule type from canine_flu_test.fa.sig\n",
      "\u001b[Kloaded 3 signatures total.                                                     \n",
      "\u001b[K\n",
      "0-sourmash_test/G...\t[1.    0.008 0.   ]\n",
      "1-sourmash_test/G...\t[0.008 1.    0.   ]\n",
      "2-sourmash_test/G...\t[0. 0. 1.]\n",
      "min similarity in matrix: 0.000\n",
      "\u001b[Ksaving labels to: ecoli_test_cmp.labels.txt\n",
      "\u001b[Ksaving distance matrix to: ecoli_test_cmp\n"
     ]
    }
   ],
   "source": [
    "!sourmash compare sourmash_test/*.sig -o sourmash_test/ecoli_test_cmp -k 31"
   ]
  },
  {
   "cell_type": "code",
   "execution_count": 12,
   "metadata": {
    "scrolled": true
   },
   "outputs": [
    {
     "name": "stdout",
     "output_type": "stream",
     "text": [
      "\u001b[K== This is sourmash version 2.0.0. ==\n",
      "\u001b[K== Please cite Brown and Irber (2016), doi:10.21105/joss.00027. ==\n",
      "\n",
      "\u001b[Kloading comparison matrix from ecoli_test_cmp...\n",
      "\u001b[K...got 3 x 3 matrix.\n",
      "\u001b[Kloading labels from ecoli_test_cmp.labels.txt\n",
      "\u001b[Ksaving histogram of matrix values => ecoli_test_cmp.hist.png\n",
      "\u001b[Kwrote dendrogram to: ecoli_test_cmp.dendro.png\n",
      "\u001b[Kwrote numpy distance matrix to: ecoli_test_cmp.matrix.png\n",
      "0\tsourmash_test/GCF_000005845.2_ASM584v2_genomic.fna.gz\n",
      "1\tsourmash_test/GCF_000006945.2_ASM694v2_genomic.fna.gz\n",
      "2\tsourmash_test/GCF_000783305.1_ASM78330v1_genomic.fna.gz\n"
     ]
    }
   ],
   "source": [
    "!sourmash plot ecoli_test_cmp"
   ]
  },
  {
   "cell_type": "code",
   "execution_count": 8,
   "metadata": {},
   "outputs": [
    {
     "name": "stdout",
     "output_type": "stream",
     "text": [
      "\u001b[K== This is sourmash version 2.0.0. ==\n",
      "\u001b[K== Please cite Brown and Irber (2016), doi:10.21105/joss.00027. ==\n",
      "\n",
      "\u001b[Kcomputing signatures for files: canine_flu_test.fa\n",
      "\u001b[KComputing signature for ksizes: [5]\n",
      "\u001b[KComputing only nucleotide (and not protein) signatures.\n",
      "\u001b[KComputing a total of 1 signature(s).\n",
      "\u001b[Kskipping canine_flu_test.fa - already done\n",
      "finished in 0.3871748447418213seconds\n"
     ]
    }
   ],
   "source": [
    "start = time.time()\n",
    "!sourmash compute canine_flu_test.fa  -k 5 --singleton\n",
    "print(\"finished in \" + str(time.time()-start) + \"seconds\")"
   ]
  },
  {
   "cell_type": "code",
   "execution_count": 19,
   "metadata": {
    "scrolled": true
   },
   "outputs": [
    {
     "name": "stdout",
     "output_type": "stream",
     "text": [
      "\u001b[K== This is sourmash version 2.0.0. ==\n",
      "\u001b[K== Please cite Brown and Irber (2016), doi:10.21105/joss.00027. ==\n",
      "\n",
      "...sig loading 1,239u_test.fa.sig\n",
      "\u001b[Kloaded 1240 signatures total.                                                  \n",
      "\u001b[K\n",
      "min similarity in matrix: 0.608\n",
      "\u001b[Ksaving labels to: canine_flu_test_cmp.labels.txt\n",
      "\u001b[Ksaving distance matrix to: canine_flu_test_cmp\n",
      "finished in 100.23438167572021seconds\n"
     ]
    }
   ],
   "source": [
    "start = time.time()\n",
    "!sourmash compare canine_flu_test.fa.sig -o canine_flu_test_cmp\n",
    "print(\"finished in \" + str(time.time()-start) + \"seconds\")"
   ]
  },
  {
   "cell_type": "code",
   "execution_count": 20,
   "metadata": {},
   "outputs": [
    {
     "name": "stdout",
     "output_type": "stream",
     "text": [
      "\u001b[K== This is sourmash version 2.0.0. ==\n",
      "\u001b[K== Please cite Brown and Irber (2016), doi:10.21105/joss.00027. ==\n",
      "\n",
      "\u001b[Kloading comparison matrix from canine_flu_test_cmp...\n",
      "\u001b[K...got 1240 x 1240 matrix.\n",
      "\u001b[Kloading labels from canine_flu_test_cmp.labels.txt\n",
      "\u001b[Ksaving histogram of matrix values => canine_flu_test_cmp.hist.png\n",
      "\u001b[Kwrote dendrogram to: canine_flu_test_cmp.dendro.png\n",
      "\u001b[Kwrote numpy distance matrix to: canine_flu_test_cmp.matrix.png\n",
      "finished in 9.481667518615723seconds\n"
     ]
    }
   ],
   "source": [
    "start = time.time()\n",
    "!sourmash plot canine_flu_test_cmp\n",
    "print(\"finished in \" + str(time.time()-start) + \"seconds\")"
   ]
  },
  {
   "cell_type": "markdown",
   "metadata": {},
   "source": [
    "tree:  \n",
    "![dendogram](canine_flu_test_cmp.dendro.png)"
   ]
  },
  {
   "cell_type": "markdown",
   "metadata": {},
   "source": [
    "matrix and heatmap:  \n",
    "![matrix](canine_flu_test_cmp.matrix.png)"
   ]
  },
  {
   "cell_type": "code",
   "execution_count": null,
   "metadata": {},
   "outputs": [],
   "source": []
  }
 ],
 "metadata": {
  "kernelspec": {
   "display_name": "Python 3",
   "language": "python",
   "name": "python3"
  },
  "language_info": {
   "codemirror_mode": {
    "name": "ipython",
    "version": 3
   },
   "file_extension": ".py",
   "mimetype": "text/x-python",
   "name": "python",
   "nbconvert_exporter": "python",
   "pygments_lexer": "ipython3",
   "version": "3.7.1"
  }
 },
 "nbformat": 4,
 "nbformat_minor": 2
}
