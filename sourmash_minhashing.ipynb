{
 "cells": [
  {
   "cell_type": "markdown",
   "metadata": {},
   "source": [
    "## Minhashing with the sourmash library  \n",
    "using: https://github.com/dib-lab/sourmash  \n",
    "specific for DNA/RNA"
   ]
  },
  {
   "cell_type": "code",
   "execution_count": 4,
   "metadata": {},
   "outputs": [],
   "source": [
    "from Bio.SeqIO.FastaIO import SimpleFastaParser\n",
    "import pandas as pd\n",
    "import numpy as np\n",
    "import itertools as it\n",
    "import matplotlib.pyplot as plt\n",
    "import multiprocessing\n",
    "import time\n",
    "import pycurl\n",
    "plt.rcParams['figure.dpi'] = 150"
   ]
  },
  {
   "cell_type": "markdown",
   "metadata": {},
   "source": [
    "tutorial from:  \n",
    "https://sourmash.readthedocs.io/en/latest/command-line.html"
   ]
  },
  {
   "cell_type": "code",
   "execution_count": 9,
   "metadata": {},
   "outputs": [
    {
     "name": "stdout",
     "output_type": "stream",
     "text": [
      "  % Total    % Received % Xferd  Average Speed   Time    Time     Time  Current\n",
      "                                 Dload  Upload   Total   Spent    Left  Speed\n",
      "100 1437k  100 1437k    0     0   925k      0  0:00:01  0:00:01 --:--:--  925k\n"
     ]
    }
   ],
   "source": [
    "# load genomes\n",
    "!curl -L -O ftp://ftp.ncbi.nlm.nih.gov/genomes/refseq/bacteria/Escherichia_coli/reference/GCF_000005845.2_ASM584v2/GCF_000005845.2_ASM584v2_genomic.fna.gz\n",
    "!curl -L -O ftp://ftp.ncbi.nlm.nih.gov/genomes/refseq/bacteria/Salmonella_enterica/reference/GCF_000006945.2_ASM694v2/GCF_000006945.2_ASM694v2_genomic.fna.gz\n",
    "!curl -L -O ftp://ftp.ncbi.nlm.nih.gov/genomes/refseq/bacteria/Sphingobacteriaceae_bacterium_DW12/latest_assembly_versions/GCF_000783305.1_ASM78330v1/GCF_000783305.1_ASM78330v1_genomic.fna.gz\n"
   ]
  },
  {
   "cell_type": "code",
   "execution_count": 10,
   "metadata": {},
   "outputs": [
    {
     "name": "stdout",
     "output_type": "stream",
     "text": [
      "\r",
      "\u001b[Ksourmash version 2.0.0\r\n",
      "\r",
      "\u001b[K- loaded from path: /home/brian/anaconda3/lib/python3.7/site-packages/sourmash\r\n",
      "\r",
      "\u001b[K\r\n"
     ]
    }
   ],
   "source": [
    "!sourmash info"
   ]
  },
  {
   "cell_type": "code",
   "execution_count": 11,
   "metadata": {},
   "outputs": [
    {
     "name": "stdout",
     "output_type": "stream",
     "text": [
      "\u001b[K== This is sourmash version 2.0.0. ==\n",
      "\u001b[K== Please cite Brown and Irber (2016), doi:10.21105/joss.00027. ==\n",
      "\n",
      "\u001b[Kcomputing signatures for files: GCF_000005845.2_ASM584v2_genomic.fna.gz, GCF_000006945.2_ASM694v2_genomic.fna.gz, GCF_000783305.1_ASM78330v1_genomic.fna.gz\n",
      "\u001b[KComputing signature for ksizes: [21, 31, 51]\n",
      "\u001b[KComputing only nucleotide (and not protein) signatures.\n",
      "\u001b[KComputing a total of 3 signature(s).\n",
      "\u001b[K... reading sequences from GCF_000005845.2_ASM584v2_genomic.fna.gz\n",
      "\u001b[Kcalculated 3 signatures for 1 sequences in GCF_000005845.2_ASM584v2_genomic.fna.gz\n",
      "\u001b[Ksaved 3 signature(s). Note: signature license is CC0.\n",
      "\u001b[K... reading sequences from GCF_000006945.2_ASM694v2_genomic.fna.gz\n",
      "\u001b[Kcalculated 3 signatures for 2 sequences in GCF_000006945.2_ASM694v2_genomic.fna.gz\n",
      "\u001b[Ksaved 3 signature(s). Note: signature license is CC0.\n",
      "\u001b[K... reading sequences from GCF_000783305.1_ASM78330v1_genomic.fna.gz\n",
      "\u001b[Kcalculated 3 signatures for 78 sequences in GCF_000783305.1_ASM78330v1_genomic.fna.gz\n",
      "\u001b[Ksaved 3 signature(s). Note: signature license is CC0.\n"
     ]
    }
   ],
   "source": [
    "!sourmash compute *.fna.gz"
   ]
  },
  {
   "cell_type": "code",
   "execution_count": 14,
   "metadata": {},
   "outputs": [
    {
     "name": "stdout",
     "output_type": "stream",
     "text": [
      "\u001b[K== This is sourmash version 2.0.0. ==\n",
      "\u001b[K== Please cite Brown and Irber (2016), doi:10.21105/joss.00027. ==\n",
      "\n",
      "\u001b[Kloaded 3 signatures total.                                                     \n",
      "\u001b[K\n",
      "0-GCF_000005845.2...\t[1.    0.008 0.   ]\n",
      "1-GCF_000006945.2...\t[0.008 1.    0.   ]\n",
      "2-GCF_000783305.1...\t[0. 0. 1.]\n",
      "min similarity in matrix: 0.000\n",
      "\u001b[Ksaving labels to: cmp.labels.txt\n",
      "\u001b[Ksaving distance matrix to: cmp\n"
     ]
    }
   ],
   "source": [
    "!sourmash compare *.sig -o cmp -k 31"
   ]
  },
  {
   "cell_type": "code",
   "execution_count": 15,
   "metadata": {},
   "outputs": [
    {
     "name": "stdout",
     "output_type": "stream",
     "text": [
      "\u001b[K== This is sourmash version 2.0.0. ==\n",
      "\u001b[K== Please cite Brown and Irber (2016), doi:10.21105/joss.00027. ==\n",
      "\n",
      "\u001b[Kloading comparison matrix from cmp...\n",
      "\u001b[K...got 3 x 3 matrix.\n",
      "\u001b[Kloading labels from cmp.labels.txt\n",
      "\u001b[Ksaving histogram of matrix values => cmp.hist.png\n",
      "\u001b[Kwrote dendrogram to: cmp.dendro.png\n",
      "\u001b[Kwrote numpy distance matrix to: cmp.matrix.png\n",
      "0\tGCF_000005845.2_ASM584v2_genomic.fna.gz\n",
      "1\tGCF_000006945.2_ASM694v2_genomic.fna.gz\n",
      "2\tGCF_000783305.1_ASM78330v1_genomic.fna.gz\n"
     ]
    }
   ],
   "source": [
    "!sourmash plot cmp"
   ]
  },
  {
   "cell_type": "code",
   "execution_count": 24,
   "metadata": {},
   "outputs": [
    {
     "name": "stdout",
     "output_type": "stream",
     "text": [
      "\u001b[K== This is sourmash version 2.0.0. ==\n",
      "\u001b[K== Please cite Brown and Irber (2016), doi:10.21105/joss.00027. ==\n",
      "\n",
      "\u001b[Kcomputing signatures for files: canine_flu_test.fa\n",
      "\u001b[KComputing signature for ksizes: [5]\n",
      "\u001b[KComputing only nucleotide (and not protein) signatures.\n",
      "\u001b[KComputing a total of 1 signature(s).\n",
      "\u001b[Kcalculated 1240 signatures for 1240 sequences in canine_flu_test.fa\n",
      "\u001b[Ksaved 1240 signature(s). Note: signature license is CC0.\n"
     ]
    }
   ],
   "source": [
    "start = time.time()\n",
    "!sourmash compute canine_flu_test.fa  -k 5 --singleton\n",
    "print(\"finished in \" + str(time.time()-start) + \"seconds\")"
   ]
  },
  {
   "cell_type": "code",
   "execution_count": 25,
   "metadata": {
    "scrolled": true
   },
   "outputs": [
    {
     "name": "stdout",
     "output_type": "stream",
     "text": [
      "\u001b[K== This is sourmash version 2.0.0. ==\n",
      "\u001b[K== Please cite Brown and Irber (2016), doi:10.21105/joss.00027. ==\n",
      "\n",
      "...sig loading 1,239u_test.fa.sig\n",
      "\u001b[Kloaded 1240 signatures total.                                                  \n",
      "\u001b[K\n",
      "min similarity in matrix: 0.608\n",
      "\u001b[Ksaving labels to: cmp.labels.txt\n",
      "\u001b[Ksaving distance matrix to: cmp\n"
     ]
    }
   ],
   "source": [
    "start = time.time()\n",
    "!sourmash compare canine_flu_test.fa.sig -o cmp\n",
    "print(\"finished in \" + str(time.time()-start) + \"seconds\")"
   ]
  },
  {
   "cell_type": "code",
   "execution_count": 26,
   "metadata": {},
   "outputs": [
    {
     "name": "stdout",
     "output_type": "stream",
     "text": [
      "\u001b[K== This is sourmash version 2.0.0. ==\n",
      "\u001b[K== Please cite Brown and Irber (2016), doi:10.21105/joss.00027. ==\n",
      "\n",
      "\u001b[Kloading comparison matrix from cmp...\n",
      "\u001b[K...got 1240 x 1240 matrix.\n",
      "\u001b[Kloading labels from cmp.labels.txt\n",
      "\u001b[Ksaving histogram of matrix values => cmp.hist.png\n",
      "\u001b[Kwrote dendrogram to: cmp.dendro.png\n",
      "\u001b[Kwrote numpy distance matrix to: cmp.matrix.png\n"
     ]
    }
   ],
   "source": [
    "start = time.time()\n",
    "!sourmash plot cmp\n",
    "print(\"finished in \" + str(time.time()-start) + \"seconds\")"
   ]
  },
  {
   "cell_type": "markdown",
   "metadata": {},
   "source": [
    "tree:  \n",
    "![dendogram](cmp.dendro.png)"
   ]
  },
  {
   "cell_type": "markdown",
   "metadata": {},
   "source": [
    "matrix and heatmap:  \n",
    "![matrix](cmp.matrix.png)"
   ]
  },
  {
   "cell_type": "code",
   "execution_count": null,
   "metadata": {},
   "outputs": [],
   "source": []
  }
 ],
 "metadata": {
  "kernelspec": {
   "display_name": "Python 3",
   "language": "python",
   "name": "python3"
  },
  "language_info": {
   "codemirror_mode": {
    "name": "ipython",
    "version": 3
   },
   "file_extension": ".py",
   "mimetype": "text/x-python",
   "name": "python",
   "nbconvert_exporter": "python",
   "pygments_lexer": "ipython3",
   "version": "3.7.1"
  }
 },
 "nbformat": 4,
 "nbformat_minor": 2
}
